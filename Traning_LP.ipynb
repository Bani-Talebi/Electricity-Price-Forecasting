{
  "nbformat": 4,
  "nbformat_minor": 0,
  "metadata": {
    "colab": {
      "name": "Traning_LP.ipynb",
      "provenance": [],
      "authorship_tag": "ABX9TyNso75XfcQSU2eyhDQKf6CQ",
      "include_colab_link": true
    },
    "kernelspec": {
      "name": "python3",
      "display_name": "Python 3"
    }
  },
  "cells": [
    {
      "cell_type": "markdown",
      "metadata": {
        "id": "view-in-github",
        "colab_type": "text"
      },
      "source": [
        "<a href=\"https://colab.research.google.com/github/Bani-Talebi/Electricity-Price-Forecasting/blob/master/Traning_LP.ipynb\" target=\"_parent\"><img src=\"https://colab.research.google.com/assets/colab-badge.svg\" alt=\"Open In Colab\"/></a>"
      ]
    },
    {
      "cell_type": "code",
      "metadata": {
        "id": "O2S8hDQLIos9"
      },
      "source": [
        "import numpy as np\n",
        "import pandas as pd\n",
        "from google.colab import files\n",
        "import matplotlib.pyplot as plt"
      ],
      "execution_count": null,
      "outputs": []
    },
    {
      "cell_type": "code",
      "metadata": {
        "colab": {
          "resources": {
            "http://localhost:8080/nbextensions/google.colab/files.js": {
              "data": "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",
              "ok": true,
              "headers": [
                [
                  "content-type",
                  "application/javascript"
                ]
              ],
              "status": 200,
              "status_text": ""
            }
          },
          "base_uri": "https://localhost:8080/",
          "height": 72
        },
        "id": "JMbb334g0fch",
        "outputId": "20090acf-ce9b-46ff-d6e6-6b9faa2c5c60"
      },
      "source": [
        "up=files.upload()"
      ],
      "execution_count": null,
      "outputs": [
        {
          "output_type": "display_data",
          "data": {
            "text/html": [
              "\n",
              "     <input type=\"file\" id=\"files-43dc98c3-af0c-42c1-b0c5-b00b0f6d0e7d\" name=\"files[]\" multiple disabled\n",
              "        style=\"border:none\" />\n",
              "     <output id=\"result-43dc98c3-af0c-42c1-b0c5-b00b0f6d0e7d\">\n",
              "      Upload widget is only available when the cell has been executed in the\n",
              "      current browser session. Please rerun this cell to enable.\n",
              "      </output>\n",
              "      <script src=\"/nbextensions/google.colab/files.js\"></script> "
            ],
            "text/plain": [
              "<IPython.core.display.HTML object>"
            ]
          },
          "metadata": {
            "tags": []
          }
        },
        {
          "output_type": "stream",
          "text": [
            "Saving Quant.csv to Quant.csv\n"
          ],
          "name": "stdout"
        }
      ]
    },
    {
      "cell_type": "code",
      "metadata": {
        "colab": {
          "base_uri": "https://localhost:8080/",
          "height": 204
        },
        "id": "VgD36vYJ1dR4",
        "outputId": "73eb0682-9b83-4d88-e9a0-2be5724cb3f3"
      },
      "source": [
        "DF=pd.read_csv('Quant.csv',index_col=0,parse_dates=True)\n",
        "DF.head()"
      ],
      "execution_count": null,
      "outputs": [
        {
          "output_type": "execute_result",
          "data": {
            "text/html": [
              "<div>\n",
              "<style scoped>\n",
              "    .dataframe tbody tr th:only-of-type {\n",
              "        vertical-align: middle;\n",
              "    }\n",
              "\n",
              "    .dataframe tbody tr th {\n",
              "        vertical-align: top;\n",
              "    }\n",
              "\n",
              "    .dataframe thead th {\n",
              "        text-align: right;\n",
              "    }\n",
              "</style>\n",
              "<table border=\"1\" class=\"dataframe\">\n",
              "  <thead>\n",
              "    <tr style=\"text-align: right;\">\n",
              "      <th></th>\n",
              "      <th>label</th>\n",
              "      <th>q=0.05</th>\n",
              "      <th>q=0.1</th>\n",
              "      <th>q=0.15</th>\n",
              "      <th>q=0.2</th>\n",
              "      <th>q=0.25</th>\n",
              "      <th>q=0.3</th>\n",
              "      <th>q=0.35</th>\n",
              "      <th>q=0.4</th>\n",
              "      <th>q=0.45</th>\n",
              "      <th>q=0.5</th>\n",
              "      <th>q=0.55</th>\n",
              "      <th>q=0.6</th>\n",
              "      <th>q=0.65</th>\n",
              "      <th>q=0.7</th>\n",
              "      <th>q=0.75</th>\n",
              "      <th>q=0.8</th>\n",
              "      <th>q=0.85</th>\n",
              "      <th>q=0.9</th>\n",
              "      <th>q=0.95</th>\n",
              "    </tr>\n",
              "  </thead>\n",
              "  <tbody>\n",
              "    <tr>\n",
              "      <th>2019-01-01 00:00:00</th>\n",
              "      <td>2.881031</td>\n",
              "      <td>-3.470430</td>\n",
              "      <td>-2.997247</td>\n",
              "      <td>-1.844386</td>\n",
              "      <td>-0.829184</td>\n",
              "      <td>-0.236499</td>\n",
              "      <td>0.005226</td>\n",
              "      <td>0.006488</td>\n",
              "      <td>0.009121</td>\n",
              "      <td>0.011794</td>\n",
              "      <td>0.117657</td>\n",
              "      <td>0.588252</td>\n",
              "      <td>1.305168</td>\n",
              "      <td>2.683097</td>\n",
              "      <td>3.465385</td>\n",
              "      <td>5.366748</td>\n",
              "      <td>5.867281</td>\n",
              "      <td>7.385476</td>\n",
              "      <td>9.914421</td>\n",
              "      <td>13.094358</td>\n",
              "    </tr>\n",
              "    <tr>\n",
              "      <th>2019-01-01 01:00:00</th>\n",
              "      <td>2.741079</td>\n",
              "      <td>-3.470430</td>\n",
              "      <td>-2.997247</td>\n",
              "      <td>-1.844386</td>\n",
              "      <td>-0.829184</td>\n",
              "      <td>-0.236499</td>\n",
              "      <td>0.005226</td>\n",
              "      <td>0.006488</td>\n",
              "      <td>0.009121</td>\n",
              "      <td>0.011794</td>\n",
              "      <td>0.020166</td>\n",
              "      <td>0.209228</td>\n",
              "      <td>1.010675</td>\n",
              "      <td>2.347212</td>\n",
              "      <td>3.465385</td>\n",
              "      <td>4.758637</td>\n",
              "      <td>5.867281</td>\n",
              "      <td>7.385476</td>\n",
              "      <td>9.914421</td>\n",
              "      <td>13.094358</td>\n",
              "    </tr>\n",
              "    <tr>\n",
              "      <th>2019-01-01 02:00:00</th>\n",
              "      <td>2.422627</td>\n",
              "      <td>-3.489399</td>\n",
              "      <td>-2.997247</td>\n",
              "      <td>-1.844386</td>\n",
              "      <td>-0.856761</td>\n",
              "      <td>-0.260365</td>\n",
              "      <td>0.004776</td>\n",
              "      <td>0.006488</td>\n",
              "      <td>0.009121</td>\n",
              "      <td>0.011794</td>\n",
              "      <td>0.013406</td>\n",
              "      <td>0.017740</td>\n",
              "      <td>0.240011</td>\n",
              "      <td>1.283132</td>\n",
              "      <td>2.144162</td>\n",
              "      <td>3.035977</td>\n",
              "      <td>5.209228</td>\n",
              "      <td>6.427327</td>\n",
              "      <td>7.857094</td>\n",
              "      <td>12.025231</td>\n",
              "    </tr>\n",
              "    <tr>\n",
              "      <th>2019-01-01 03:00:00</th>\n",
              "      <td>2.702404</td>\n",
              "      <td>-3.470430</td>\n",
              "      <td>-2.997247</td>\n",
              "      <td>-1.844386</td>\n",
              "      <td>-0.829184</td>\n",
              "      <td>-0.236499</td>\n",
              "      <td>0.005226</td>\n",
              "      <td>0.006488</td>\n",
              "      <td>0.009121</td>\n",
              "      <td>0.011794</td>\n",
              "      <td>0.020166</td>\n",
              "      <td>0.242322</td>\n",
              "      <td>1.010675</td>\n",
              "      <td>2.347212</td>\n",
              "      <td>3.465385</td>\n",
              "      <td>4.758637</td>\n",
              "      <td>5.867281</td>\n",
              "      <td>7.385476</td>\n",
              "      <td>9.914421</td>\n",
              "      <td>13.133160</td>\n",
              "    </tr>\n",
              "    <tr>\n",
              "      <th>2019-01-01 04:00:00</th>\n",
              "      <td>2.498529</td>\n",
              "      <td>-3.489399</td>\n",
              "      <td>-2.997247</td>\n",
              "      <td>-1.844386</td>\n",
              "      <td>-0.856761</td>\n",
              "      <td>-0.260365</td>\n",
              "      <td>0.004776</td>\n",
              "      <td>0.006488</td>\n",
              "      <td>0.009121</td>\n",
              "      <td>0.011794</td>\n",
              "      <td>0.013406</td>\n",
              "      <td>0.024049</td>\n",
              "      <td>0.251076</td>\n",
              "      <td>1.283132</td>\n",
              "      <td>2.243162</td>\n",
              "      <td>3.600605</td>\n",
              "      <td>5.209228</td>\n",
              "      <td>6.427327</td>\n",
              "      <td>7.857094</td>\n",
              "      <td>12.082005</td>\n",
              "    </tr>\n",
              "  </tbody>\n",
              "</table>\n",
              "</div>"
            ],
            "text/plain": [
              "                        label    q=0.05  ...     q=0.9     q=0.95\n",
              "2019-01-01 00:00:00  2.881031 -3.470430  ...  9.914421  13.094358\n",
              "2019-01-01 01:00:00  2.741079 -3.470430  ...  9.914421  13.094358\n",
              "2019-01-01 02:00:00  2.422627 -3.489399  ...  7.857094  12.025231\n",
              "2019-01-01 03:00:00  2.702404 -3.470430  ...  9.914421  13.133160\n",
              "2019-01-01 04:00:00  2.498529 -3.489399  ...  7.857094  12.082005\n",
              "\n",
              "[5 rows x 20 columns]"
            ]
          },
          "metadata": {
            "tags": []
          },
          "execution_count": 26
        }
      ]
    },
    {
      "cell_type": "code",
      "metadata": {
        "colab": {
          "base_uri": "https://localhost:8080/",
          "height": 204
        },
        "id": "HyITIEie2aDi",
        "outputId": "cdb036e8-962f-4afe-d8dc-d11e2f844e85"
      },
      "source": [
        "df=DF.drop(columns='label')\n",
        "df.head()"
      ],
      "execution_count": null,
      "outputs": [
        {
          "output_type": "execute_result",
          "data": {
            "text/html": [
              "<div>\n",
              "<style scoped>\n",
              "    .dataframe tbody tr th:only-of-type {\n",
              "        vertical-align: middle;\n",
              "    }\n",
              "\n",
              "    .dataframe tbody tr th {\n",
              "        vertical-align: top;\n",
              "    }\n",
              "\n",
              "    .dataframe thead th {\n",
              "        text-align: right;\n",
              "    }\n",
              "</style>\n",
              "<table border=\"1\" class=\"dataframe\">\n",
              "  <thead>\n",
              "    <tr style=\"text-align: right;\">\n",
              "      <th></th>\n",
              "      <th>q=0.05</th>\n",
              "      <th>q=0.1</th>\n",
              "      <th>q=0.15</th>\n",
              "      <th>q=0.2</th>\n",
              "      <th>q=0.25</th>\n",
              "      <th>q=0.3</th>\n",
              "      <th>q=0.35</th>\n",
              "      <th>q=0.4</th>\n",
              "      <th>q=0.45</th>\n",
              "      <th>q=0.5</th>\n",
              "      <th>q=0.55</th>\n",
              "      <th>q=0.6</th>\n",
              "      <th>q=0.65</th>\n",
              "      <th>q=0.7</th>\n",
              "      <th>q=0.75</th>\n",
              "      <th>q=0.8</th>\n",
              "      <th>q=0.85</th>\n",
              "      <th>q=0.9</th>\n",
              "      <th>q=0.95</th>\n",
              "    </tr>\n",
              "  </thead>\n",
              "  <tbody>\n",
              "    <tr>\n",
              "      <th>2019-01-01 00:00:00</th>\n",
              "      <td>-3.470430</td>\n",
              "      <td>-2.997247</td>\n",
              "      <td>-1.844386</td>\n",
              "      <td>-0.829184</td>\n",
              "      <td>-0.236499</td>\n",
              "      <td>0.005226</td>\n",
              "      <td>0.006488</td>\n",
              "      <td>0.009121</td>\n",
              "      <td>0.011794</td>\n",
              "      <td>0.117657</td>\n",
              "      <td>0.588252</td>\n",
              "      <td>1.305168</td>\n",
              "      <td>2.683097</td>\n",
              "      <td>3.465385</td>\n",
              "      <td>5.366748</td>\n",
              "      <td>5.867281</td>\n",
              "      <td>7.385476</td>\n",
              "      <td>9.914421</td>\n",
              "      <td>13.094358</td>\n",
              "    </tr>\n",
              "    <tr>\n",
              "      <th>2019-01-01 01:00:00</th>\n",
              "      <td>-3.470430</td>\n",
              "      <td>-2.997247</td>\n",
              "      <td>-1.844386</td>\n",
              "      <td>-0.829184</td>\n",
              "      <td>-0.236499</td>\n",
              "      <td>0.005226</td>\n",
              "      <td>0.006488</td>\n",
              "      <td>0.009121</td>\n",
              "      <td>0.011794</td>\n",
              "      <td>0.020166</td>\n",
              "      <td>0.209228</td>\n",
              "      <td>1.010675</td>\n",
              "      <td>2.347212</td>\n",
              "      <td>3.465385</td>\n",
              "      <td>4.758637</td>\n",
              "      <td>5.867281</td>\n",
              "      <td>7.385476</td>\n",
              "      <td>9.914421</td>\n",
              "      <td>13.094358</td>\n",
              "    </tr>\n",
              "    <tr>\n",
              "      <th>2019-01-01 02:00:00</th>\n",
              "      <td>-3.489399</td>\n",
              "      <td>-2.997247</td>\n",
              "      <td>-1.844386</td>\n",
              "      <td>-0.856761</td>\n",
              "      <td>-0.260365</td>\n",
              "      <td>0.004776</td>\n",
              "      <td>0.006488</td>\n",
              "      <td>0.009121</td>\n",
              "      <td>0.011794</td>\n",
              "      <td>0.013406</td>\n",
              "      <td>0.017740</td>\n",
              "      <td>0.240011</td>\n",
              "      <td>1.283132</td>\n",
              "      <td>2.144162</td>\n",
              "      <td>3.035977</td>\n",
              "      <td>5.209228</td>\n",
              "      <td>6.427327</td>\n",
              "      <td>7.857094</td>\n",
              "      <td>12.025231</td>\n",
              "    </tr>\n",
              "    <tr>\n",
              "      <th>2019-01-01 03:00:00</th>\n",
              "      <td>-3.470430</td>\n",
              "      <td>-2.997247</td>\n",
              "      <td>-1.844386</td>\n",
              "      <td>-0.829184</td>\n",
              "      <td>-0.236499</td>\n",
              "      <td>0.005226</td>\n",
              "      <td>0.006488</td>\n",
              "      <td>0.009121</td>\n",
              "      <td>0.011794</td>\n",
              "      <td>0.020166</td>\n",
              "      <td>0.242322</td>\n",
              "      <td>1.010675</td>\n",
              "      <td>2.347212</td>\n",
              "      <td>3.465385</td>\n",
              "      <td>4.758637</td>\n",
              "      <td>5.867281</td>\n",
              "      <td>7.385476</td>\n",
              "      <td>9.914421</td>\n",
              "      <td>13.133160</td>\n",
              "    </tr>\n",
              "    <tr>\n",
              "      <th>2019-01-01 04:00:00</th>\n",
              "      <td>-3.489399</td>\n",
              "      <td>-2.997247</td>\n",
              "      <td>-1.844386</td>\n",
              "      <td>-0.856761</td>\n",
              "      <td>-0.260365</td>\n",
              "      <td>0.004776</td>\n",
              "      <td>0.006488</td>\n",
              "      <td>0.009121</td>\n",
              "      <td>0.011794</td>\n",
              "      <td>0.013406</td>\n",
              "      <td>0.024049</td>\n",
              "      <td>0.251076</td>\n",
              "      <td>1.283132</td>\n",
              "      <td>2.243162</td>\n",
              "      <td>3.600605</td>\n",
              "      <td>5.209228</td>\n",
              "      <td>6.427327</td>\n",
              "      <td>7.857094</td>\n",
              "      <td>12.082005</td>\n",
              "    </tr>\n",
              "  </tbody>\n",
              "</table>\n",
              "</div>"
            ],
            "text/plain": [
              "                       q=0.05     q=0.1  ...     q=0.9     q=0.95\n",
              "2019-01-01 00:00:00 -3.470430 -2.997247  ...  9.914421  13.094358\n",
              "2019-01-01 01:00:00 -3.470430 -2.997247  ...  9.914421  13.094358\n",
              "2019-01-01 02:00:00 -3.489399 -2.997247  ...  7.857094  12.025231\n",
              "2019-01-01 03:00:00 -3.470430 -2.997247  ...  9.914421  13.133160\n",
              "2019-01-01 04:00:00 -3.489399 -2.997247  ...  7.857094  12.082005\n",
              "\n",
              "[5 rows x 19 columns]"
            ]
          },
          "metadata": {
            "tags": []
          },
          "execution_count": 27
        }
      ]
    },
    {
      "cell_type": "code",
      "metadata": {
        "id": "XtaxVxTOPb_3"
      },
      "source": [
        "L=len(df)\n",
        "Q=np.arange(0.05,1,0.05)\n",
        "l=len(Q)\n",
        "n=4\n",
        "z=np.zeros(n+1)\n",
        "P=np.zeros([L,(len(z)-1)])\n",
        "X=np.zeros([L,(len(z)-1)])\n",
        "for j in range(L):\n",
        "  a=df.iloc[j]\n",
        "  d=a[-1]-a[0]\n",
        "  b=d/n\n",
        "  z=np.zeros(n+1)\n",
        "  s=0\n",
        "  c=a[0]+b\n",
        "  z[0]=0\n",
        "  i=1\n",
        "  while s<n-1:\n",
        "    if a[i]>c:\n",
        "      z[s+1]=i\n",
        "      s+=1\n",
        "      c=a[i]+b\n",
        "    i+=1\n",
        "    if i==19:\n",
        "      break\n",
        "  z[-1]=18\n",
        "  for i in range(len(z)-1):\n",
        "    k1=int(z[i])\n",
        "    k2=int(z[i+1])\n",
        "    P[j,i]=Q[k2]-Q[k1]\n",
        "    #X[j,i]=(a[k2]+a[k1])/2\n",
        "  r=np.nanargmax(P[j,:])\n",
        "  K=DF['label'].iloc[j]\n",
        "  if r==0:\n",
        "    X[j,:]=np.array([K,1.05*K,1.1*K,1.15*K])\n",
        "  elif r==1:\n",
        "    X[j,:]=np.array([0.95*K,K,1.05*K,1.1*K])\n",
        "  elif r==2:\n",
        "    X[j,:]=np.array([0.9*K,0.95*K,K,1.05*K])\n",
        "  else:\n",
        "    X[j,:]=np.array([0.85*K,0.9*K,0.95*K,K])\n",
        "\n"
      ],
      "execution_count": null,
      "outputs": []
    },
    {
      "cell_type": "code",
      "metadata": {
        "id": "yclzAUfsSL-B"
      },
      "source": [
        "for i in range(n):\n",
        "  df['P_{}'.format(i)]=P[:,i]\n",
        "for i in range(n):\n",
        "  df['X_{}'.format(i)]=X[:,i]\n"
      ],
      "execution_count": null,
      "outputs": []
    },
    {
      "cell_type": "code",
      "metadata": {
        "colab": {
          "base_uri": "https://localhost:8080/",
          "height": 17
        },
        "id": "8VaogwGQWND5",
        "outputId": "23da425f-ba8d-4b2f-c6b6-93f6b6c8e2a3"
      },
      "source": [
        "df.to_csv('PriceProbability1.csv')\n",
        "files.download('PriceProbability1.csv')"
      ],
      "execution_count": null,
      "outputs": [
        {
          "output_type": "display_data",
          "data": {
            "application/javascript": [
              "\n",
              "    async function download(id, filename, size) {\n",
              "      if (!google.colab.kernel.accessAllowed) {\n",
              "        return;\n",
              "      }\n",
              "      const div = document.createElement('div');\n",
              "      const label = document.createElement('label');\n",
              "      label.textContent = `Downloading \"${filename}\": `;\n",
              "      div.appendChild(label);\n",
              "      const progress = document.createElement('progress');\n",
              "      progress.max = size;\n",
              "      div.appendChild(progress);\n",
              "      document.body.appendChild(div);\n",
              "\n",
              "      const buffers = [];\n",
              "      let downloaded = 0;\n",
              "\n",
              "      const channel = await google.colab.kernel.comms.open(id);\n",
              "      // Send a message to notify the kernel that we're ready.\n",
              "      channel.send({})\n",
              "\n",
              "      for await (const message of channel.messages) {\n",
              "        // Send a message to notify the kernel that we're ready.\n",
              "        channel.send({})\n",
              "        if (message.buffers) {\n",
              "          for (const buffer of message.buffers) {\n",
              "            buffers.push(buffer);\n",
              "            downloaded += buffer.byteLength;\n",
              "            progress.value = downloaded;\n",
              "          }\n",
              "        }\n",
              "      }\n",
              "      const blob = new Blob(buffers, {type: 'application/binary'});\n",
              "      const a = document.createElement('a');\n",
              "      a.href = window.URL.createObjectURL(blob);\n",
              "      a.download = filename;\n",
              "      div.appendChild(a);\n",
              "      a.click();\n",
              "      div.remove();\n",
              "    }\n",
              "  "
            ],
            "text/plain": [
              "<IPython.core.display.Javascript object>"
            ]
          },
          "metadata": {
            "tags": []
          }
        },
        {
          "output_type": "display_data",
          "data": {
            "application/javascript": [
              "download(\"download_9cc838ed-0ccd-48db-8378-72febf692c51\", \"PriceProbability1.csv\", 3293899)"
            ],
            "text/plain": [
              "<IPython.core.display.Javascript object>"
            ]
          },
          "metadata": {
            "tags": []
          }
        }
      ]
    },
    {
      "cell_type": "code",
      "metadata": {
        "colab": {
          "base_uri": "https://localhost:8080/"
        },
        "id": "CbFztR-Ma3O1",
        "outputId": "384805dc-e815-4dbb-ff88-a0882aff8c64"
      },
      "source": [
        "Q=np.arange(0.05,1,0.05)\n",
        "l=len(Q)\n",
        "a=df.iloc[80]\n",
        "n=4\n",
        "d=a[-1]-a[0]\n",
        "b=d/n\n",
        "z=np.zeros(n+1)\n",
        "s=0\n",
        "c=a[0]+b\n",
        "z[0]=0\n",
        "i=1\n",
        "print(c)\n",
        "while s<n-1:\n",
        "  if a[i]>c:\n",
        "    z[s+1]=i\n",
        "    s+=1\n",
        "    c=a[i]+b\n",
        "    print(c)\n",
        "  i+=1\n",
        "z[-1]=18\n",
        "z"
      ],
      "execution_count": null,
      "outputs": [
        {
          "output_type": "stream",
          "text": [
            "3.332895436474043\n",
            "8.402426718359438\n",
            "12.44616293551349\n",
            "17.993779232583222\n"
          ],
          "name": "stdout"
        },
        {
          "output_type": "execute_result",
          "data": {
            "text/plain": [
              "array([ 0.,  9., 14., 17., 18.])"
            ]
          },
          "metadata": {
            "tags": []
          },
          "execution_count": 80
        }
      ]
    },
    {
      "cell_type": "code",
      "metadata": {
        "colab": {
          "base_uri": "https://localhost:8080/"
        },
        "id": "qSrvrifHeixL",
        "outputId": "ed21fbd8-c6bc-4140-b6a6-5f8c370eb325"
      },
      "source": [
        "P=np.zeros(len(z)-1)\n",
        "X=np.zeros(len(z)-1)\n",
        "for i in range(len(z)-1):\n",
        "  k1=int(z[i])\n",
        "  k2=int(z[i+1])\n",
        "  P[i]=Q[k2]-Q[k1]\n",
        "  X[i]=(a[k2]+a[k1])/2\n",
        "print(P)\n",
        "print(X)\n"
      ],
      "execution_count": null,
      "outputs": [
        {
          "output_type": "stream",
          "text": [
            "[0.45 0.25 0.15 0.05]\n",
            "[ 2.00316531  6.55979906 11.35547531 14.52783311]\n"
          ],
          "name": "stdout"
        }
      ]
    }
  ]
}