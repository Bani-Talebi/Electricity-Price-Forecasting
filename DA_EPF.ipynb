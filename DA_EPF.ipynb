{
  "nbformat": 4,
  "nbformat_minor": 0,
  "metadata": {
    "colab": {
      "name": "DA_EPF.ipynb",
      "provenance": [],
      "collapsed_sections": [
        "EH6uo8Ky0ll-",
        "4OWD0QaH1IHr"
      ],
      "authorship_tag": "ABX9TyNJJAjqjlMHj+K/6PvKzj7X",
      "include_colab_link": true
    },
    "kernelspec": {
      "display_name": "Python 3",
      "name": "python3"
    }
  },
  "cells": [
    {
      "cell_type": "markdown",
      "metadata": {
        "id": "view-in-github",
        "colab_type": "text"
      },
      "source": [
        "<a href=\"https://colab.research.google.com/github/Bani-Talebi/Electricity-Price-Forecasting/blob/master/DA_EPF.ipynb\" target=\"_parent\"><img src=\"https://colab.research.google.com/assets/colab-badge.svg\" alt=\"Open In Colab\"/></a>"
      ]
    },
    {
      "cell_type": "markdown",
      "metadata": {
        "id": "HGZftc1qxTEd"
      },
      "source": [
        "\n",
        "# Introduction\n",
        "In this notebook a timeseries model is developed to predict Day-Ahead electricity prices for the Ontario electricity market. The input data is taken from the IESO website and contains all hourly market clearing prices from first January 2010, until December 31, 2019. The model uses the historical timeseries data to extract common temporal patterns of electricity prices.\n",
        "\n",
        "The output prediction of the model will span all 24 hourly intervals of the next day, using only information that is available prior to Day-Ahead market closing time at 12:00 h of the current day.\n",
        "\n",
        "**Contents**\n",
        "\n",
        "*   Step 1: Preprocess the data\n",
        "*   Step 2: Set up benchmark models\n",
        "*   Step 3: Design the model architecure\n",
        "*   Step 4: Finetune the model\n",
        "\n",
        "The first step explores the dataset and, if necessary, preprocess the data to better fit our prediction model. In order to have a sufficient benchmark for all of hour modeling approaches, a benchmark solution is defined that serves as a foundation to compare our efforts against. After that, we will design and finetune a neural network to predict prices on the Day-Ahead market."
      ]
    },
    {
      "cell_type": "code",
      "metadata": {
        "id": "aLOaSNSfwVTc"
      },
      "source": [
        "import seaborn as sns\n",
        "import numpy as np\n",
        "import datetime as dt\n",
        "import matplotlib.pyplot as plt\n",
        "import pandas as pd\n",
        "from google.colab import files\n",
        "import matplotlib\n",
        "def plot_average_prices(data):\n",
        "    \n",
        "    \"\"\"Plot monthly, daily and hourly averages of input data.\"\"\"\n",
        "    plt.rcParams['font.family']='STIXGeneral'\n",
        "    plt.rcParams['font.size']=8\n",
        "    plt.rcParams['figure.autolayout']=True\n",
        "    plt.rcParams['axes.titlesize']=8\n",
        "    plt.rcParams['axes.labelsize']=6\n",
        "    plt.rcParams['lines.linewidth']=1\n",
        "    plt.rcParams['lines.markersize']=2\n",
        "    plt.rcParams['legend.fontsize']=8\n",
        "    plt.rcParams['mathtext.fontset']='stix'\n",
        "    plt.rcParams['mathtext.fontset']='custom'\n",
        "    plt.rcParams['legend.numpoints']=1\n",
        "\n",
        "    #f, (ax1, ax2, ax3) = plt.subplots(1, 3, figsize=(3.5,2.8), sharey=True)\n",
        "    \n",
        "    fig = plt.figure(figsize=(3.5,2.8))\n",
        "    #fig = plt.figure()\n",
        "    ax1 = fig.add_subplot(311)\n",
        "    ax2 = fig.add_subplot(312)\n",
        "    ax3 = fig.add_subplot(313)\n",
        "\n",
        "\n",
        "    data.groupby(data.index.month).mean().plot.bar(ax=ax1)\n",
        "    #ax1.set_title('Monthly Average')\n",
        "    ax1.set_ylabel('Price ($/MWh)')\n",
        "    ax1.set_xlabel('Month of the year')\n",
        "    data.groupby(data.index.dayofweek).mean().plot.bar(ax=ax2)\n",
        "    #ax2.set_title('Weekly Average')\n",
        "    ax2.set_ylabel('Price ($/MWh)')\n",
        "    ax2.set_xlabel('Day of the week')\n",
        "    data.groupby(data.index.hour).mean().plot.bar(ax=ax3)\n",
        "    #ax3.set_title('Hourly Average')\n",
        "    ax3.set_ylabel('Price ($/MWh)')\n",
        "    ax3.set_xlabel('Hour of the day')\n",
        "    matplotlib.rc('axes',edgecolor='black')\n",
        "\n",
        "    #plt.savefig('Time_Effect.pdf',dpi=300)\n",
        "    #files.download('Time_Effect.pdf')\n",
        "    \n",
        "def replace_outliers(data, column, tolerance):\n",
        "\n",
        "    \"\"\"Replace outliers out of 75% + tolerance * IQR or 25% - tolerance * IQR by these thresholds\"\"\"\n",
        "    \n",
        "    tol = tolerance\n",
        "    data_prep = data.copy(deep=True)\n",
        "    \n",
        "    # calculate quantiles and inter-quantile range of the data\n",
        "    q75 = data_prep[column].quantile(.75)\n",
        "    q25 = data_prep[column].quantile(.25)\n",
        "    IQR = q75 - q25\n",
        "\n",
        "    # values larger (smaller) than q75 (q25) plus 'tol' times IQR get replaced by that value\n",
        "    data_prep[column] = data_prep[column].apply(lambda x: q75 + tol * IQR if (x > q75 + tol * IQR) else x)\n",
        "    data_prep[column] = data_prep[column].apply(lambda x: q25 - tol * IQR if (x < q75 - tol * IQR) else x)\n",
        "    \n",
        "    return data_prep"
      ],
      "execution_count": null,
      "outputs": []
    },
    {
      "cell_type": "code",
      "metadata": {
        "id": "0j0iYQlkvhBD",
        "colab": {
          "base_uri": "https://localhost:8080/"
        },
        "outputId": "2e6f96ff-dca4-4942-d4e1-603eb8fe50a8"
      },
      "source": [
        "import pandas as pd\n",
        "import numpy as np\n",
        "import datetime as dt\n",
        "import matplotlib.pyplot as plt\n",
        "from sklearn.preprocessing import MinMaxScaler, StandardScaler\n",
        "from sklearn.externals import joblib\n",
        "import seaborn as sns\n",
        "sns.set_style('white')"
      ],
      "execution_count": null,
      "outputs": [
        {
          "output_type": "stream",
          "text": [
            "/usr/local/lib/python3.7/dist-packages/sklearn/externals/joblib/__init__.py:15: FutureWarning: sklearn.externals.joblib is deprecated in 0.21 and will be removed in 0.23. Please import this functionality directly from joblib, which can be installed with: pip install joblib. If this warning is raised when loading pickled models, you may need to re-serialize those models with scikit-learn 0.21+.\n",
            "  warnings.warn(msg, category=FutureWarning)\n"
          ],
          "name": "stderr"
        }
      ]
    },
    {
      "cell_type": "code",
      "metadata": {
        "colab": {
          "resources": {
            "http://localhost:8080/nbextensions/google.colab/files.js": {
              "data": "Ly8gQ29weXJpZ2h0IDIwMTcgR29vZ2xlIExMQwovLwovLyBMaWNlbnNlZCB1bmRlciB0aGUgQXBhY2hlIExpY2Vuc2UsIFZlcnNpb24gMi4wICh0aGUgIkxpY2Vuc2UiKTsKLy8geW91IG1heSBub3QgdXNlIHRoaXMgZmlsZSBleGNlcHQgaW4gY29tcGxpYW5jZSB3aXRoIHRoZSBMaWNlbnNlLgovLyBZb3UgbWF5IG9idGFpbiBhIGNvcHkgb2YgdGhlIExpY2Vuc2UgYXQKLy8KLy8gICAgICBodHRwOi8vd3d3LmFwYWNoZS5vcmcvbGljZW5zZXMvTElDRU5TRS0yLjAKLy8KLy8gVW5sZXNzIHJlcXVpcmVkIGJ5IGFwcGxpY2FibGUgbGF3IG9yIGFncmVlZCB0byBpbiB3cml0aW5nLCBzb2Z0d2FyZQovLyBkaXN0cmlidXRlZCB1bmRlciB0aGUgTGljZW5zZSBpcyBkaXN0cmlidXRlZCBvbiBhbiAiQVMgSVMiIEJBU0lTLAovLyBXSVRIT1VUIFdBUlJBTlRJRVMgT1IgQ09ORElUSU9OUyBPRiBBTlkgS0lORCwgZWl0aGVyIGV4cHJlc3Mgb3IgaW1wbGllZC4KLy8gU2VlIHRoZSBMaWNlbnNlIGZvciB0aGUgc3BlY2lmaWMgbGFuZ3VhZ2UgZ292ZXJuaW5nIHBlcm1pc3Npb25zIGFuZAovLyBsaW1pdGF0aW9ucyB1bmRlciB0aGUgTGljZW5zZS4KCi8qKgogKiBAZmlsZW92ZXJ2aWV3IEhlbHBlcnMgZm9yIGdvb2dsZS5jb2xhYiBQeXRob24gbW9kdWxlLgogKi8KKGZ1bmN0aW9uKHNjb3BlKSB7CmZ1bmN0aW9uIHNwYW4odGV4dCwgc3R5bGVBdHRyaWJ1dGVzID0ge30pIHsKICBjb25zdCBlbGVtZW50ID0gZG9jdW1lbnQuY3JlYXRlRWxlbWVudCgnc3BhbicpOwogIGVsZW1lbnQudGV4dENvbnRlbnQgPSB0ZXh0OwogIGZvciAoY29uc3Qga2V5IG9mIE9iamVjdC5rZXlzKHN0eWxlQXR0cmlidXRlcykpIHsKICAgIGVsZW1lbnQuc3R5bGVba2V5XSA9IHN0eWxlQXR0cmlidXRlc1trZXldOwogIH0KICByZXR1cm4gZWxlbWVudDsKfQoKLy8gTWF4IG51bWJlciBvZiBieXRlcyB3aGljaCB3aWxsIGJlIHVwbG9hZGVkIGF0IGEgdGltZS4KY29uc3QgTUFYX1BBWUxPQURfU0laRSA9IDEwMCAqIDEwMjQ7CgpmdW5jdGlvbiBfdXBsb2FkRmlsZXMoaW5wdXRJZCwgb3V0cHV0SWQpIHsKICBjb25zdCBzdGVwcyA9IHVwbG9hZEZpbGVzU3RlcChpbnB1dElkLCBvdXRwdXRJZCk7CiAgY29uc3Qgb3V0cHV0RWxlbWVudCA9IGRvY3VtZW50LmdldEVsZW1lbnRCeUlkKG91dHB1dElkKTsKICAvLyBDYWNoZSBzdGVwcyBvbiB0aGUgb3V0cHV0RWxlbWVudCB0byBtYWtlIGl0IGF2YWlsYWJsZSBmb3IgdGhlIG5leHQgY2FsbAogIC8vIHRvIHVwbG9hZEZpbGVzQ29udGludWUgZnJvbSBQeXRob24uCiAgb3V0cHV0RWxlbWVudC5zdGVwcyA9IHN0ZXBzOwoKICByZXR1cm4gX3VwbG9hZEZpbGVzQ29udGludWUob3V0cHV0SWQpOwp9CgovLyBUaGlzIGlzIHJvdWdobHkgYW4gYXN5bmMgZ2VuZXJhdG9yIChub3Qgc3VwcG9ydGVkIGluIHRoZSBicm93c2VyIHlldCksCi8vIHdoZXJlIHRoZXJlIGFyZSBtdWx0aXBsZSBhc3luY2hyb25vdXMgc3RlcHMgYW5kIHRoZSBQeXRob24gc2lkZSBpcyBnb2luZwovLyB0byBwb2xsIGZvciBjb21wbGV0aW9uIG9mIGVhY2ggc3RlcC4KLy8gVGhpcyB1c2VzIGEgUHJvbWlzZSB0byBibG9jayB0aGUgcHl0aG9uIHNpZGUgb24gY29tcGxldGlvbiBvZiBlYWNoIHN0ZXAsCi8vIHRoZW4gcGFzc2VzIHRoZSByZXN1bHQgb2YgdGhlIHByZXZpb3VzIHN0ZXAgYXMgdGhlIGlucHV0IHRvIHRoZSBuZXh0IHN0ZXAuCmZ1bmN0aW9uIF91cGxvYWRGaWxlc0NvbnRpbnVlKG91dHB1dElkKSB7CiAgY29uc3Qgb3V0cHV0RWxlbWVudCA9IGRvY3VtZW50LmdldEVsZW1lbnRCeUlkKG91dHB1dElkKTsKICBjb25zdCBzdGVwcyA9IG91dHB1dEVsZW1lbnQuc3RlcHM7CgogIGNvbnN0IG5leHQgPSBzdGVwcy5uZXh0KG91dHB1dEVsZW1lbnQubGFzdFByb21pc2VWYWx1ZSk7CiAgcmV0dXJuIFByb21pc2UucmVzb2x2ZShuZXh0LnZhbHVlLnByb21pc2UpLnRoZW4oKHZhbHVlKSA9PiB7CiAgICAvLyBDYWNoZSB0aGUgbGFzdCBwcm9taXNlIHZhbHVlIHRvIG1ha2UgaXQgYXZhaWxhYmxlIHRvIHRoZSBuZXh0CiAgICAvLyBzdGVwIG9mIHRoZSBnZW5lcmF0b3IuCiAgICBvdXRwdXRFbGVtZW50Lmxhc3RQcm9taXNlVmFsdWUgPSB2YWx1ZTsKICAgIHJldHVybiBuZXh0LnZhbHVlLnJlc3BvbnNlOwogIH0pOwp9CgovKioKICogR2VuZXJhdG9yIGZ1bmN0aW9uIHdoaWNoIGlzIGNhbGxlZCBiZXR3ZWVuIGVhY2ggYXN5bmMgc3RlcCBvZiB0aGUgdXBsb2FkCiAqIHByb2Nlc3MuCiAqIEBwYXJhbSB7c3RyaW5nfSBpbnB1dElkIEVsZW1lbnQgSUQgb2YgdGhlIGlucHV0IGZpbGUgcGlja2VyIGVsZW1lbnQuCiAqIEBwYXJhbSB7c3RyaW5nfSBvdXRwdXRJZCBFbGVtZW50IElEIG9mIHRoZSBvdXRwdXQgZGlzcGxheS4KICogQHJldHVybiB7IUl0ZXJhYmxlPCFPYmplY3Q+fSBJdGVyYWJsZSBvZiBuZXh0IHN0ZXBzLgogKi8KZnVuY3Rpb24qIHVwbG9hZEZpbGVzU3RlcChpbnB1dElkLCBvdXRwdXRJZCkgewogIGNvbnN0IGlucHV0RWxlbWVudCA9IGRvY3VtZW50LmdldEVsZW1lbnRCeUlkKGlucHV0SWQpOwogIGlucHV0RWxlbWVudC5kaXNhYmxlZCA9IGZhbHNlOwoKICBjb25zdCBvdXRwdXRFbGVtZW50ID0gZG9jdW1lbnQuZ2V0RWxlbWVudEJ5SWQob3V0cHV0SWQpOwogIG91dHB1dEVsZW1lbnQuaW5uZXJIVE1MID0gJyc7CgogIGNvbnN0IHBpY2tlZFByb21pc2UgPSBuZXcgUHJvbWlzZSgocmVzb2x2ZSkgPT4gewogICAgaW5wdXRFbGVtZW50LmFkZEV2ZW50TGlzdGVuZXIoJ2NoYW5nZScsIChlKSA9PiB7CiAgICAgIHJlc29sdmUoZS50YXJnZXQuZmlsZXMpOwogICAgfSk7CiAgfSk7CgogIGNvbnN0IGNhbmNlbCA9IGRvY3VtZW50LmNyZWF0ZUVsZW1lbnQoJ2J1dHRvbicpOwogIGlucHV0RWxlbWVudC5wYXJlbnRFbGVtZW50LmFwcGVuZENoaWxkKGNhbmNlbCk7CiAgY2FuY2VsLnRleHRDb250ZW50ID0gJ0NhbmNlbCB1cGxvYWQnOwogIGNvbnN0IGNhbmNlbFByb21pc2UgPSBuZXcgUHJvbWlzZSgocmVzb2x2ZSkgPT4gewogICAgY2FuY2VsLm9uY2xpY2sgPSAoKSA9PiB7CiAgICAgIHJlc29sdmUobnVsbCk7CiAgICB9OwogIH0pOwoKICAvLyBXYWl0IGZvciB0aGUgdXNlciB0byBwaWNrIHRoZSBmaWxlcy4KICBjb25zdCBmaWxlcyA9IHlpZWxkIHsKICAgIHByb21pc2U6IFByb21pc2UucmFjZShbcGlja2VkUHJvbWlzZSwgY2FuY2VsUHJvbWlzZV0pLAogICAgcmVzcG9uc2U6IHsKICAgICAgYWN0aW9uOiAnc3RhcnRpbmcnLAogICAgfQogIH07CgogIGNhbmNlbC5yZW1vdmUoKTsKCiAgLy8gRGlzYWJsZSB0aGUgaW5wdXQgZWxlbWVudCBzaW5jZSBmdXJ0aGVyIHBpY2tzIGFyZSBub3QgYWxsb3dlZC4KICBpbnB1dEVsZW1lbnQuZGlzYWJsZWQgPSB0cnVlOwoKICBpZiAoIWZpbGVzKSB7CiAgICByZXR1cm4gewogICAgICByZXNwb25zZTogewogICAgICAgIGFjdGlvbjogJ2NvbXBsZXRlJywKICAgICAgfQogICAgfTsKICB9CgogIGZvciAoY29uc3QgZmlsZSBvZiBmaWxlcykgewogICAgY29uc3QgbGkgPSBkb2N1bWVudC5jcmVhdGVFbGVtZW50KCdsaScpOwogICAgbGkuYXBwZW5kKHNwYW4oZmlsZS5uYW1lLCB7Zm9udFdlaWdodDogJ2JvbGQnfSkpOwogICAgbGkuYXBwZW5kKHNwYW4oCiAgICAgICAgYCgke2ZpbGUudHlwZSB8fCAnbi9hJ30pIC0gJHtmaWxlLnNpemV9IGJ5dGVzLCBgICsKICAgICAgICBgbGFzdCBtb2RpZmllZDogJHsKICAgICAgICAgICAgZmlsZS5sYXN0TW9kaWZpZWREYXRlID8gZmlsZS5sYXN0TW9kaWZpZWREYXRlLnRvTG9jYWxlRGF0ZVN0cmluZygpIDoKICAgICAgICAgICAgICAgICAgICAgICAgICAgICAgICAgICAgJ24vYSd9IC0gYCkpOwogICAgY29uc3QgcGVyY2VudCA9IHNwYW4oJzAlIGRvbmUnKTsKICAgIGxpLmFwcGVuZENoaWxkKHBlcmNlbnQpOwoKICAgIG91dHB1dEVsZW1lbnQuYXBwZW5kQ2hpbGQobGkpOwoKICAgIGNvbnN0IGZpbGVEYXRhUHJvbWlzZSA9IG5ldyBQcm9taXNlKChyZXNvbHZlKSA9PiB7CiAgICAgIGNvbnN0IHJlYWRlciA9IG5ldyBGaWxlUmVhZGVyKCk7CiAgICAgIHJlYWRlci5vbmxvYWQgPSAoZSkgPT4gewogICAgICAgIHJlc29sdmUoZS50YXJnZXQucmVzdWx0KTsKICAgICAgfTsKICAgICAgcmVhZGVyLnJlYWRBc0FycmF5QnVmZmVyKGZpbGUpOwogICAgfSk7CiAgICAvLyBXYWl0IGZvciB0aGUgZGF0YSB0byBiZSByZWFkeS4KICAgIGxldCBmaWxlRGF0YSA9IHlpZWxkIHsKICAgICAgcHJvbWlzZTogZmlsZURhdGFQcm9taXNlLAogICAgICByZXNwb25zZTogewogICAgICAgIGFjdGlvbjogJ2NvbnRpbnVlJywKICAgICAgfQogICAgfTsKCiAgICAvLyBVc2UgYSBjaHVua2VkIHNlbmRpbmcgdG8gYXZvaWQgbWVzc2FnZSBzaXplIGxpbWl0cy4gU2VlIGIvNjIxMTU2NjAuCiAgICBsZXQgcG9zaXRpb24gPSAwOwogICAgd2hpbGUgKHBvc2l0aW9uIDwgZmlsZURhdGEuYnl0ZUxlbmd0aCkgewogICAgICBjb25zdCBsZW5ndGggPSBNYXRoLm1pbihmaWxlRGF0YS5ieXRlTGVuZ3RoIC0gcG9zaXRpb24sIE1BWF9QQVlMT0FEX1NJWkUpOwogICAgICBjb25zdCBjaHVuayA9IG5ldyBVaW50OEFycmF5KGZpbGVEYXRhLCBwb3NpdGlvbiwgbGVuZ3RoKTsKICAgICAgcG9zaXRpb24gKz0gbGVuZ3RoOwoKICAgICAgY29uc3QgYmFzZTY0ID0gYnRvYShTdHJpbmcuZnJvbUNoYXJDb2RlLmFwcGx5KG51bGwsIGNodW5rKSk7CiAgICAgIHlpZWxkIHsKICAgICAgICByZXNwb25zZTogewogICAgICAgICAgYWN0aW9uOiAnYXBwZW5kJywKICAgICAgICAgIGZpbGU6IGZpbGUubmFtZSwKICAgICAgICAgIGRhdGE6IGJhc2U2NCwKICAgICAgICB9LAogICAgICB9OwogICAgICBwZXJjZW50LnRleHRDb250ZW50ID0KICAgICAgICAgIGAke01hdGgucm91bmQoKHBvc2l0aW9uIC8gZmlsZURhdGEuYnl0ZUxlbmd0aCkgKiAxMDApfSUgZG9uZWA7CiAgICB9CiAgfQoKICAvLyBBbGwgZG9uZS4KICB5aWVsZCB7CiAgICByZXNwb25zZTogewogICAgICBhY3Rpb246ICdjb21wbGV0ZScsCiAgICB9CiAgfTsKfQoKc2NvcGUuZ29vZ2xlID0gc2NvcGUuZ29vZ2xlIHx8IHt9OwpzY29wZS5nb29nbGUuY29sYWIgPSBzY29wZS5nb29nbGUuY29sYWIgfHwge307CnNjb3BlLmdvb2dsZS5jb2xhYi5fZmlsZXMgPSB7CiAgX3VwbG9hZEZpbGVzLAogIF91cGxvYWRGaWxlc0NvbnRpbnVlLAp9Owp9KShzZWxmKTsK",
              "ok": true,
              "headers": [
                [
                  "content-type",
                  "application/javascript"
                ]
              ],
              "status": 200,
              "status_text": ""
            }
          },
          "base_uri": "https://localhost:8080/",
          "height": 72
        },
        "id": "UWHmf7_QwgcD",
        "outputId": "ed705ceb-7f22-472a-e368-bf33f30759ea"
      },
      "source": [
        "\n",
        "up=files.upload()\n",
        "\n"
      ],
      "execution_count": null,
      "outputs": [
        {
          "output_type": "display_data",
          "data": {
            "text/html": [
              "\n",
              "     <input type=\"file\" id=\"files-d9780474-f2f9-44b8-96f1-8a79643bbc49\" name=\"files[]\" multiple disabled\n",
              "        style=\"border:none\" />\n",
              "     <output id=\"result-d9780474-f2f9-44b8-96f1-8a79643bbc49\">\n",
              "      Upload widget is only available when the cell has been executed in the\n",
              "      current browser session. Please rerun this cell to enable.\n",
              "      </output>\n",
              "      <script src=\"/nbextensions/google.colab/files.js\"></script> "
            ],
            "text/plain": [
              "<IPython.core.display.HTML object>"
            ]
          },
          "metadata": {
            "tags": []
          }
        },
        {
          "output_type": "stream",
          "text": [
            "Saving HOEP.csv to HOEP.csv\n"
          ],
          "name": "stdout"
        }
      ]
    },
    {
      "cell_type": "code",
      "metadata": {
        "colab": {
          "base_uri": "https://localhost:8080/",
          "height": 204
        },
        "id": "ez1DOZpBHGFE",
        "outputId": "6e727ed8-3ac8-472c-8545-c5f109203f54"
      },
      "source": [
        "# load the historical Day-Ahead price data\n",
        "df = pd.read_csv('HOEP.csv',index_col=0, parse_dates=True)\n",
        "df.index=pd.date_range('2010-01-01',periods=87648,freq='H')\n",
        "df.drop(columns=['Hour'],inplace=True)\n",
        "df.head()"
      ],
      "execution_count": null,
      "outputs": [
        {
          "output_type": "execute_result",
          "data": {
            "text/html": [
              "<div>\n",
              "<style scoped>\n",
              "    .dataframe tbody tr th:only-of-type {\n",
              "        vertical-align: middle;\n",
              "    }\n",
              "\n",
              "    .dataframe tbody tr th {\n",
              "        vertical-align: top;\n",
              "    }\n",
              "\n",
              "    .dataframe thead th {\n",
              "        text-align: right;\n",
              "    }\n",
              "</style>\n",
              "<table border=\"1\" class=\"dataframe\">\n",
              "  <thead>\n",
              "    <tr style=\"text-align: right;\">\n",
              "      <th></th>\n",
              "      <th>HOEP</th>\n",
              "    </tr>\n",
              "  </thead>\n",
              "  <tbody>\n",
              "    <tr>\n",
              "      <th>2010-01-01 00:00:00</th>\n",
              "      <td>33.83</td>\n",
              "    </tr>\n",
              "    <tr>\n",
              "      <th>2010-01-01 01:00:00</th>\n",
              "      <td>27.49</td>\n",
              "    </tr>\n",
              "    <tr>\n",
              "      <th>2010-01-01 02:00:00</th>\n",
              "      <td>25.96</td>\n",
              "    </tr>\n",
              "    <tr>\n",
              "      <th>2010-01-01 03:00:00</th>\n",
              "      <td>27.20</td>\n",
              "    </tr>\n",
              "    <tr>\n",
              "      <th>2010-01-01 04:00:00</th>\n",
              "      <td>28.50</td>\n",
              "    </tr>\n",
              "  </tbody>\n",
              "</table>\n",
              "</div>"
            ],
            "text/plain": [
              "                      HOEP\n",
              "2010-01-01 00:00:00  33.83\n",
              "2010-01-01 01:00:00  27.49\n",
              "2010-01-01 02:00:00  25.96\n",
              "2010-01-01 03:00:00  27.20\n",
              "2010-01-01 04:00:00  28.50"
            ]
          },
          "metadata": {
            "tags": []
          },
          "execution_count": 4
        }
      ]
    },
    {
      "cell_type": "code",
      "metadata": {
        "colab": {
          "base_uri": "https://localhost:8080/",
          "height": 204
        },
        "id": "LECSXlZNhYBh",
        "outputId": "b828a45c-9cd6-4b4b-fa73-4ae0af6182ef"
      },
      "source": [
        "df.tail()"
      ],
      "execution_count": null,
      "outputs": [
        {
          "output_type": "execute_result",
          "data": {
            "text/html": [
              "<div>\n",
              "<style scoped>\n",
              "    .dataframe tbody tr th:only-of-type {\n",
              "        vertical-align: middle;\n",
              "    }\n",
              "\n",
              "    .dataframe tbody tr th {\n",
              "        vertical-align: top;\n",
              "    }\n",
              "\n",
              "    .dataframe thead th {\n",
              "        text-align: right;\n",
              "    }\n",
              "</style>\n",
              "<table border=\"1\" class=\"dataframe\">\n",
              "  <thead>\n",
              "    <tr style=\"text-align: right;\">\n",
              "      <th></th>\n",
              "      <th>HOEP</th>\n",
              "    </tr>\n",
              "  </thead>\n",
              "  <tbody>\n",
              "    <tr>\n",
              "      <th>2019-12-31 19:00:00</th>\n",
              "      <td>0.00</td>\n",
              "    </tr>\n",
              "    <tr>\n",
              "      <th>2019-12-31 20:00:00</th>\n",
              "      <td>0.00</td>\n",
              "    </tr>\n",
              "    <tr>\n",
              "      <th>2019-12-31 21:00:00</th>\n",
              "      <td>-0.05</td>\n",
              "    </tr>\n",
              "    <tr>\n",
              "      <th>2019-12-31 22:00:00</th>\n",
              "      <td>-0.04</td>\n",
              "    </tr>\n",
              "    <tr>\n",
              "      <th>2019-12-31 23:00:00</th>\n",
              "      <td>-0.02</td>\n",
              "    </tr>\n",
              "  </tbody>\n",
              "</table>\n",
              "</div>"
            ],
            "text/plain": [
              "                     HOEP\n",
              "2019-12-31 19:00:00  0.00\n",
              "2019-12-31 20:00:00  0.00\n",
              "2019-12-31 21:00:00 -0.05\n",
              "2019-12-31 22:00:00 -0.04\n",
              "2019-12-31 23:00:00 -0.02"
            ]
          },
          "metadata": {
            "tags": []
          },
          "execution_count": 5
        }
      ]
    },
    {
      "cell_type": "markdown",
      "metadata": {
        "id": "w0NIRuOsx5mX"
      },
      "source": [
        "\n",
        "# **1. Preprocess the data**"
      ]
    },
    {
      "cell_type": "code",
      "metadata": {
        "colab": {
          "base_uri": "https://localhost:8080/"
        },
        "id": "CVWGY-eqx8au",
        "outputId": "e9ff0f05-f862-4eb7-c0fd-b758775dfed7"
      },
      "source": [
        "da_raw=df\n",
        "# check if their are any gaps within the data\n",
        "any(da_raw.dropna().index.to_series().diff() > pd.Timedelta('01:00:00'))"
      ],
      "execution_count": null,
      "outputs": [
        {
          "output_type": "execute_result",
          "data": {
            "text/plain": [
              "False"
            ]
          },
          "metadata": {
            "tags": []
          },
          "execution_count": 6
        }
      ]
    },
    {
      "cell_type": "code",
      "metadata": {
        "colab": {
          "base_uri": "https://localhost:8080/"
        },
        "id": "Fn9szsfRy8Xe",
        "outputId": "81a44658-3c12-4eac-8b34-3927346f7556"
      },
      "source": [
        "A=da_raw.describe()\n",
        "Q3=A['HOEP']['75%']\n",
        "Q1=A['HOEP']['25%']\n",
        "IQR=Q3-Q1\n",
        "d1=Q1-1.7*IQR\n",
        "d2=Q3+1.7*IQR\n",
        "s=0\n",
        "for i in range(len(da_raw)):\n",
        "  if da_raw['HOEP'].iloc[i]<d1 or da_raw['HOEP'].iloc[i]>d2:\n",
        "    s+=1\n",
        "s/len(da_raw)*100"
      ],
      "execution_count": null,
      "outputs": [
        {
          "output_type": "execute_result",
          "data": {
            "text/plain": [
              "2.943592552026287"
            ]
          },
          "metadata": {
            "tags": []
          },
          "execution_count": 7
        }
      ]
    },
    {
      "cell_type": "code",
      "metadata": {
        "colab": {
          "base_uri": "https://localhost:8080/",
          "height": 297
        },
        "id": "nDvedZnRfc8J",
        "outputId": "01c116dc-0607-4bfa-d1a7-9b741af7f761"
      },
      "source": [
        "A"
      ],
      "execution_count": null,
      "outputs": [
        {
          "output_type": "execute_result",
          "data": {
            "text/html": [
              "<div>\n",
              "<style scoped>\n",
              "    .dataframe tbody tr th:only-of-type {\n",
              "        vertical-align: middle;\n",
              "    }\n",
              "\n",
              "    .dataframe tbody tr th {\n",
              "        vertical-align: top;\n",
              "    }\n",
              "\n",
              "    .dataframe thead th {\n",
              "        text-align: right;\n",
              "    }\n",
              "</style>\n",
              "<table border=\"1\" class=\"dataframe\">\n",
              "  <thead>\n",
              "    <tr style=\"text-align: right;\">\n",
              "      <th></th>\n",
              "      <th>HOEP</th>\n",
              "    </tr>\n",
              "  </thead>\n",
              "  <tbody>\n",
              "    <tr>\n",
              "      <th>count</th>\n",
              "      <td>87648.000000</td>\n",
              "    </tr>\n",
              "    <tr>\n",
              "      <th>mean</th>\n",
              "      <td>23.641280</td>\n",
              "    </tr>\n",
              "    <tr>\n",
              "      <th>std</th>\n",
              "      <td>29.923413</td>\n",
              "    </tr>\n",
              "    <tr>\n",
              "      <th>min</th>\n",
              "      <td>-138.790000</td>\n",
              "    </tr>\n",
              "    <tr>\n",
              "      <th>25%</th>\n",
              "      <td>10.160000</td>\n",
              "    </tr>\n",
              "    <tr>\n",
              "      <th>50%</th>\n",
              "      <td>21.880000</td>\n",
              "    </tr>\n",
              "    <tr>\n",
              "      <th>75%</th>\n",
              "      <td>32.430000</td>\n",
              "    </tr>\n",
              "    <tr>\n",
              "      <th>max</th>\n",
              "      <td>1822.950000</td>\n",
              "    </tr>\n",
              "  </tbody>\n",
              "</table>\n",
              "</div>"
            ],
            "text/plain": [
              "               HOEP\n",
              "count  87648.000000\n",
              "mean      23.641280\n",
              "std       29.923413\n",
              "min     -138.790000\n",
              "25%       10.160000\n",
              "50%       21.880000\n",
              "75%       32.430000\n",
              "max     1822.950000"
            ]
          },
          "metadata": {
            "tags": []
          },
          "execution_count": 8
        }
      ]
    },
    {
      "cell_type": "markdown",
      "metadata": {
        "id": "4Tc7tLUAzBN8"
      },
      "source": [
        "\n",
        "**Outliers**\n",
        "\n",
        "While the majority of the price data seems lies within a price range of 11 - 33 CAD/MWh, the maximum and minimum prices of 1822.95 CAD/MWh and -138.79 CAD/MWh constitute significant outliers. Since we are mainly interested to find out a general temporal pattern, these outliers are really undesirable. Moreover, they will screw up each attempt of min-max scaling the data. The outliers will determine the 0- and 1-equivalents of the new scale while most of the data corpus will lie within a very small range without much variation in between 'common' samples as a result.\n",
        "\n",
        "We can see that there are extreme price peaks in the historical data. These extreme prices should be removed to avoid problems when scaling the data to a range between 0 and 1. Scaling is essential for the purpose of this work which plans on using a neural network for prediction. Neural networks generally benefit from feature scaling."
      ]
    },
    {
      "cell_type": "code",
      "metadata": {
        "colab": {
          "base_uri": "https://localhost:8080/",
          "height": 215
        },
        "id": "SyEA5GqYzD_r",
        "outputId": "80866a54-78c9-4cdc-d871-4701dd4d1f2e"
      },
      "source": [
        "# plot the price full price data set\n",
        "plt.rcParams['font.family']='STIXGeneral'\n",
        "plt.rcParams['font.size']=8\n",
        "plt.rcParams['figure.autolayout']=True\n",
        "plt.rcParams['axes.titlesize']=8\n",
        "plt.rcParams['axes.labelsize']=6\n",
        "plt.rcParams['lines.linewidth']=1\n",
        "plt.rcParams['lines.markersize']=2\n",
        "plt.rcParams['legend.fontsize']=8\n",
        "plt.rcParams['mathtext.fontset']='stix'\n",
        "plt.rcParams['mathtext.fontset']='custom'\n",
        "plt.rcParams['legend.numpoints']=1\n",
        "\n",
        "ax = da_raw['HOEP'][:'2018'].plot(figsize=(3.5, 2.8), color='blue', label='Training Data')\n",
        "ax = da_raw['HOEP']['2019'].plot(figsize=(3.5, 2.8),color='red', label='Testing Data')\n",
        "ax.legend()\n",
        "ax.set_ylabel('Electricity Price CAD/MWh')\n",
        "ax.set_title('Day-Ahead Prices in the Ontario Market')\n",
        "ax.set_xlabel('Year');\n",
        "#plt.savefig('HOEP.pdf',dpi=300)\n",
        "#files.download('HOEP.pdf')"
      ],
      "execution_count": null,
      "outputs": [
        {
          "output_type": "display_data",
          "data": {
            "image/png": "[encoded data removed]",
            "text/plain": [
              "<Figure size 252x201.6 with 1 Axes>"
            ]
          },
          "metadata": {
            "tags": []
          }
        }
      ]
    },
    {
      "cell_type": "markdown",
      "metadata": {
        "id": "-aZfu2xzzOJd"
      },
      "source": [
        "**Time and Date Effect**\n",
        "\n",
        "Before actually preprocessing the data, let's have a quick look at the general distribution of the data, especially with respect to any patterns that are identifiable with pure visualization. Followings are the plots of average price for all months, weekdays and hours in the dataset.\n",
        "\n",
        "It seems that electricity price has some very obvious temporal patterns. Electricity is cheaper in summer than in winter. While electricity costs most during workdays, it drops towards the weekend with lowest prices on Sunday. Over the course of a day, electricity is cheapest after midnight, peaks in the morning and evening hours and is a little lower during working hours. Those are very superficial analyses of temporal patterns, but it is obvious that there are some patterns available, that we should be able to extract from the data.\n",
        "\n",
        "In the next steps, I will preprocess the data for training. Since we need real, unprocessed data as a sufficient baseline for evaluating the model performance, I keep an untouched copy of data (all prices of 2019) as a test set for evaluation purposes"
      ]
    },
    {
      "cell_type": "code",
      "metadata": {
        "colab": {
          "base_uri": "https://localhost:8080/",
          "height": 216
        },
        "id": "CfyLE1uYzRfc",
        "outputId": "ec423171-7052-4027-e02c-1a0bb6fb21bc"
      },
      "source": [
        "# aggregate and average dat with respect to filter criterion and plot results\n",
        "plot_average_prices(da_raw['HOEP']);\n",
        "plt.savefig('Time_Effect.png',dpi=300)\n",
        "files.download('Time_Effect.png')"
      ],
      "execution_count": null,
      "outputs": [
        {
          "output_type": "display_data",
          "data": {
            "application/javascript": [
              "\n",
              "    async function download(id, filename, size) {\n",
              "      if (!google.colab.kernel.accessAllowed) {\n",
              "        return;\n",
              "      }\n",
              "      const div = document.createElement('div');\n",
              "      const label = document.createElement('label');\n",
              "      label.textContent = `Downloading \"${filename}\": `;\n",
              "      div.appendChild(label);\n",
              "      const progress = document.createElement('progress');\n",
              "      progress.max = size;\n",
              "      div.appendChild(progress);\n",
              "      document.body.appendChild(div);\n",
              "\n",
              "      const buffers = [];\n",
              "      let downloaded = 0;\n",
              "\n",
              "      const channel = await google.colab.kernel.comms.open(id);\n",
              "      // Send a message to notify the kernel that we're ready.\n",
              "      channel.send({})\n",
              "\n",
              "      for await (const message of channel.messages) {\n",
              "        // Send a message to notify the kernel that we're ready.\n",
              "        channel.send({})\n",
              "        if (message.buffers) {\n",
              "          for (const buffer of message.buffers) {\n",
              "            buffers.push(buffer);\n",
              "            downloaded += buffer.byteLength;\n",
              "            progress.value = downloaded;\n",
              "          }\n",
              "        }\n",
              "      }\n",
              "      const blob = new Blob(buffers, {type: 'application/binary'});\n",
              "      const a = document.createElement('a');\n",
              "      a.href = window.URL.createObjectURL(blob);\n",
              "      a.download = filename;\n",
              "      div.appendChild(a);\n",
              "      a.click();\n",
              "      div.remove();\n",
              "    }\n",
              "  "
            ],
            "text/plain": [
              "<IPython.core.display.Javascript object>"
            ]
          },
          "metadata": {
            "tags": []
          }
        },
        {
          "output_type": "display_data",
          "data": {
            "application/javascript": [
              "download(\"download_ae8772cf-7255-4851-95d5-322e92e105ba\", \"Time_Effect.png\", 61149)"
            ],
            "text/plain": [
              "<IPython.core.display.Javascript object>"
            ]
          },
          "metadata": {
            "tags": []
          }
        },
        {
          "output_type": "display_data",
          "data": {
            "image/png": "[encoded data removed]",
            "text/plain": [
              "<Figure size 252x201.6 with 3 Axes>"
            ]
          },
          "metadata": {
            "tags": []
          }
        }
      ]
    },
    {
      "cell_type": "code",
      "metadata": {
        "id": "htdlf53gz4PM"
      },
      "source": [
        "# keep raw data of the test set for model evaluation\n",
        "test_raw = da_raw['2019']"
      ],
      "execution_count": null,
      "outputs": []
    },
    {
      "cell_type": "markdown",
      "metadata": {
        "id": "EH6uo8Ky0ll-"
      },
      "source": [
        "\n",
        "# **1.1 Remove outliers**\n",
        "As shown above, our data includes some significant outliers that might be detrimental for our intentions. We will apply a quite aggressive outlier removal and replace values that are outside the 2 x interquartile range of the 25% and 75% quantiles with the respective quantiles."
      ]
    },
    {
      "cell_type": "code",
      "metadata": {
        "id": "qy9tMX__0H4k"
      },
      "source": [
        "# replace outliers by outlier threshold\n",
        "da_prep = replace_outliers(da_raw, 'HOEP', 1.7)\n"
      ],
      "execution_count": null,
      "outputs": []
    },
    {
      "cell_type": "code",
      "metadata": {
        "colab": {
          "base_uri": "https://localhost:8080/",
          "height": 446
        },
        "id": "gtxQrWtH0wKc",
        "outputId": "2bb90f7d-2462-4c51-ee6b-7e6116bac6ab"
      },
      "source": [
        "\n",
        "# plot the results\n",
        "ax = da_prep['HOEP'].plot(figsize=(15, 6))\n",
        "ax.set_ylabel('Market clearing prices in CAD/MWh', fontsize=14)\n",
        "ax.set_xlabel('Year', fontsize=14)\n",
        "ax.set_title('Preprocessed Day-Ahead Electricity Prices for Ontario', fontsize=14)\n",
        "ax.set_ylim((-60, 110));"
      ],
      "execution_count": null,
      "outputs": [
        {
          "output_type": "display_data",
          "data": {
            "image/png": "[encoded data removed]",
            "text/plain": [
              "<Figure size 1080x432 with 1 Axes>"
            ]
          },
          "metadata": {
            "tags": []
          }
        }
      ]
    },
    {
      "cell_type": "markdown",
      "metadata": {
        "id": "j4flYblA01zU"
      },
      "source": [
        "\n",
        "**Preprocessed Data**\n",
        "\n",
        "The range of the prices now looks much more appropriate to be scaled to 0-1 values. When scaling, the data will now be much more spread out instead of concentrating around some median value, as it would have been the case when the outliers would not have been removed. The histogram below shows the distribution of prices for which outliers have been replaced."
      ]
    },
    {
      "cell_type": "code",
      "metadata": {
        "colab": {
          "base_uri": "https://localhost:8080/",
          "height": 319
        },
        "id": "WYj4qsum01YL",
        "outputId": "3267edbf-72de-44f3-848f-fe83f4c58aee"
      },
      "source": [
        "f, (ax1,ax2) = plt.subplots(1,2)\n",
        "da_raw['HOEP'].hist(bins=50,ax=ax1)\n",
        "ax1.set_title('Histogram of Filtered HOEP Before Removing Outliers')\n",
        "ax1.set_ylabel('Number of Observations')\n",
        "ax1.set_xlabel('Electricity Price CAD/MWh')\n",
        "\n",
        "da_prep['HOEP'].hist(bins=50,ax=ax2)\n",
        "ax2.set_title('Histogram of Filtered HOEP After Removing Outliers')\n",
        "ax2.set_ylabel('Number of Observations')\n",
        "ax2.set_xlabel('Electricity Price CAD/MWh')\n",
        "#plt.savefig('PriceHistogram.png',dpi=300)\n",
        "#files.download('PriceHistogram.png')"
      ],
      "execution_count": null,
      "outputs": [
        {
          "output_type": "execute_result",
          "data": {
            "text/plain": [
              "Text(0.5, 0, 'Electricity Price CAD/MWh')"
            ]
          },
          "metadata": {
            "tags": []
          },
          "execution_count": 52
        },
        {
          "output_type": "display_data",
          "data": {
            "image/png": "[encoded data removed]",
            "text/plain": [
              "<Figure size 432x288 with 2 Axes>"
            ]
          },
          "metadata": {
            "tags": []
          }
        }
      ]
    },
    {
      "cell_type": "markdown",
      "metadata": {
        "id": "4OWD0QaH1IHr"
      },
      "source": [
        "# **1.2 Scaling and rearranging the data**\n",
        "I use a sklearn.MinMaxScaler to scale the data to a range of 0-1"
      ]
    },
    {
      "cell_type": "code",
      "metadata": {
        "id": "0PocIwbM1L_7"
      },
      "source": [
        "# scale data to range between 0 and 1\n",
        "da_scaler = MinMaxScaler()\n",
        "da_prep['HOEP'] = da_scaler.fit_transform(da_prep['HOEP'].values.reshape(-1, 1))"
      ],
      "execution_count": null,
      "outputs": []
    },
    {
      "cell_type": "markdown",
      "metadata": {
        "id": "FFr30nEN1S9s"
      },
      "source": [
        "\n",
        "**Explanation**\n",
        "\n",
        "The model is fed with historical timeseries data. In order to predict the next 24 hours of a single day, it requires historical price values for the last $n$ hours prior to this day. This logic has to be represented by the strucutre of the data we feed into the model. For a better intuitive understanding, see the figure below. The blue part of the data will serve as input, a set of features, for predicting the red part of the line. The input is a vector of historical prices, the output a vector of prices for the upcoming day, one entry per hour."
      ]
    },
    {
      "cell_type": "code",
      "metadata": {
        "colab": {
          "base_uri": "https://localhost:8080/",
          "height": 446
        },
        "id": "MfdJ88R_1ZB0",
        "outputId": "f038e2bd-dcd9-4b2a-f72a-305c09601c67"
      },
      "source": [
        "feature_data = da_prep.loc['2018-06-12':'2018-06-18', 'HOEP']\n",
        "feature_data.columns = ['input data']\n",
        "label_data = da_prep.loc['2018-06-18', 'HOEP']\n",
        "label_data.columns = ['data to predict']\n",
        "f, ax = plt.subplots(figsize=(10, 6))\n",
        "feature_data.plot(ax=ax)\n",
        "label_data.plot(ax=ax, color='red')\n",
        "ax.set_ylabel('Scaled Electricity Prices', fontsize=14)\n",
        "ax.set_xlabel('Date', fontsize=14)\n",
        "ax.set_title('Timeseries Model Data Structure', fontsize=14);"
      ],
      "execution_count": null,
      "outputs": [
        {
          "output_type": "display_data",
          "data": {
            "image/png": "[encoded data removed]",
            "text/plain": [
              "<Figure size 720x432 with 1 Axes>"
            ]
          },
          "metadata": {
            "tags": []
          }
        }
      ]
    },
    {
      "cell_type": "markdown",
      "metadata": {
        "id": "TAgCjhyb1c_9"
      },
      "source": [
        "\n",
        "In order to achieve that structure the data has to be 'lagged'. This can be achieved by adding columns to every row of the input data, one column for each lagged value. In order to use the last week hourly price data, we have to lag for 7x24=168 hours."
      ]
    },
    {
      "cell_type": "code",
      "metadata": {
        "id": "YePQDXFG1twb"
      },
      "source": [
        "# include time lags of timeseries data for 1 week = 7 * 24h = 168h\n",
        "lags = 168\n",
        "for l in range(1, lags+1):\n",
        "    da_prep['l_{}'.format(l)] = da_prep['HOEP'].shift(l)"
      ],
      "execution_count": null,
      "outputs": []
    },
    {
      "cell_type": "code",
      "metadata": {
        "colab": {
          "base_uri": "https://localhost:8080/",
          "height": 423
        },
        "id": "LHabV9NX17Ds",
        "outputId": "6ae94f13-68a2-4469-e3ab-ff62e61669a0"
      },
      "source": [
        "# drop missing data entries that result from the lagging step (no lagged data available for first 168 days of year)\n",
        "da_prep.dropna(inplace=True)\n",
        "da_prep.head(n=5)"
      ],
      "execution_count": null,
      "outputs": [
        {
          "output_type": "execute_result",
          "data": {
            "text/html": [
              "<div>\n",
              "<style scoped>\n",
              "    .dataframe tbody tr th:only-of-type {\n",
              "        vertical-align: middle;\n",
              "    }\n",
              "\n",
              "    .dataframe tbody tr th {\n",
              "        vertical-align: top;\n",
              "    }\n",
              "\n",
              "    .dataframe thead th {\n",
              "        text-align: right;\n",
              "    }\n",
              "</style>\n",
              "<table border=\"1\" class=\"dataframe\">\n",
              "  <thead>\n",
              "    <tr style=\"text-align: right;\">\n",
              "      <th></th>\n",
              "      <th>HOEP</th>\n",
              "      <th>l_1</th>\n",
              "      <th>l_2</th>\n",
              "      <th>l_3</th>\n",
              "      <th>l_4</th>\n",
              "      <th>l_5</th>\n",
              "      <th>l_6</th>\n",
              "      <th>l_7</th>\n",
              "      <th>l_8</th>\n",
              "      <th>l_9</th>\n",
              "      <th>l_10</th>\n",
              "      <th>l_11</th>\n",
              "      <th>l_12</th>\n",
              "      <th>l_13</th>\n",
              "      <th>l_14</th>\n",
              "      <th>l_15</th>\n",
              "      <th>l_16</th>\n",
              "      <th>l_17</th>\n",
              "      <th>l_18</th>\n",
              "      <th>l_19</th>\n",
              "      <th>l_20</th>\n",
              "      <th>l_21</th>\n",
              "      <th>l_22</th>\n",
              "      <th>l_23</th>\n",
              "      <th>l_24</th>\n",
              "      <th>l_25</th>\n",
              "      <th>l_26</th>\n",
              "      <th>l_27</th>\n",
              "      <th>l_28</th>\n",
              "      <th>l_29</th>\n",
              "      <th>l_30</th>\n",
              "      <th>l_31</th>\n",
              "      <th>l_32</th>\n",
              "      <th>l_33</th>\n",
              "      <th>l_34</th>\n",
              "      <th>l_35</th>\n",
              "      <th>l_36</th>\n",
              "      <th>l_37</th>\n",
              "      <th>l_38</th>\n",
              "      <th>l_39</th>\n",
              "      <th>...</th>\n",
              "      <th>l_129</th>\n",
              "      <th>l_130</th>\n",
              "      <th>l_131</th>\n",
              "      <th>l_132</th>\n",
              "      <th>l_133</th>\n",
              "      <th>l_134</th>\n",
              "      <th>l_135</th>\n",
              "      <th>l_136</th>\n",
              "      <th>l_137</th>\n",
              "      <th>l_138</th>\n",
              "      <th>l_139</th>\n",
              "      <th>l_140</th>\n",
              "      <th>l_141</th>\n",
              "      <th>l_142</th>\n",
              "      <th>l_143</th>\n",
              "      <th>l_144</th>\n",
              "      <th>l_145</th>\n",
              "      <th>l_146</th>\n",
              "      <th>l_147</th>\n",
              "      <th>l_148</th>\n",
              "      <th>l_149</th>\n",
              "      <th>l_150</th>\n",
              "      <th>l_151</th>\n",
              "      <th>l_152</th>\n",
              "      <th>l_153</th>\n",
              "      <th>l_154</th>\n",
              "      <th>l_155</th>\n",
              "      <th>l_156</th>\n",
              "      <th>l_157</th>\n",
              "      <th>l_158</th>\n",
              "      <th>l_159</th>\n",
              "      <th>l_160</th>\n",
              "      <th>l_161</th>\n",
              "      <th>l_162</th>\n",
              "      <th>l_163</th>\n",
              "      <th>l_164</th>\n",
              "      <th>l_165</th>\n",
              "      <th>l_166</th>\n",
              "      <th>l_167</th>\n",
              "      <th>l_168</th>\n",
              "    </tr>\n",
              "  </thead>\n",
              "  <tbody>\n",
              "    <tr>\n",
              "      <th>2010-01-08 00:00:00</th>\n",
              "      <td>0.589654</td>\n",
              "      <td>0.611289</td>\n",
              "      <td>0.635986</td>\n",
              "      <td>0.685482</td>\n",
              "      <td>0.737427</td>\n",
              "      <td>0.741509</td>\n",
              "      <td>0.700280</td>\n",
              "      <td>0.724977</td>\n",
              "      <td>0.618025</td>\n",
              "      <td>0.622719</td>\n",
              "      <td>0.658948</td>\n",
              "      <td>0.682318</td>\n",
              "      <td>0.729875</td>\n",
              "      <td>0.619658</td>\n",
              "      <td>0.633026</td>\n",
              "      <td>0.625270</td>\n",
              "      <td>0.728344</td>\n",
              "      <td>0.767635</td>\n",
              "      <td>0.639252</td>\n",
              "      <td>0.614147</td>\n",
              "      <td>0.601798</td>\n",
              "      <td>0.591797</td>\n",
              "      <td>0.591491</td>\n",
              "      <td>0.596696</td>\n",
              "      <td>0.606493</td>\n",
              "      <td>0.633129</td>\n",
              "      <td>0.671092</td>\n",
              "      <td>0.709566</td>\n",
              "      <td>0.728344</td>\n",
              "      <td>0.808048</td>\n",
              "      <td>0.956944</td>\n",
              "      <td>0.902039</td>\n",
              "      <td>0.751919</td>\n",
              "      <td>0.668541</td>\n",
              "      <td>0.646906</td>\n",
              "      <td>0.630883</td>\n",
              "      <td>0.604350</td>\n",
              "      <td>0.623229</td>\n",
              "      <td>0.601492</td>\n",
              "      <td>0.638537</td>\n",
              "      <td>...</td>\n",
              "      <td>0.734059</td>\n",
              "      <td>0.611085</td>\n",
              "      <td>0.665888</td>\n",
              "      <td>0.666602</td>\n",
              "      <td>0.659050</td>\n",
              "      <td>0.708240</td>\n",
              "      <td>0.605472</td>\n",
              "      <td>0.581796</td>\n",
              "      <td>0.597308</td>\n",
              "      <td>0.572305</td>\n",
              "      <td>0.540566</td>\n",
              "      <td>0.578938</td>\n",
              "      <td>0.542709</td>\n",
              "      <td>0.527912</td>\n",
              "      <td>0.530769</td>\n",
              "      <td>0.587817</td>\n",
              "      <td>0.578530</td>\n",
              "      <td>0.609554</td>\n",
              "      <td>0.568835</td>\n",
              "      <td>0.606186</td>\n",
              "      <td>0.601594</td>\n",
              "      <td>0.736611</td>\n",
              "      <td>0.515461</td>\n",
              "      <td>0.359320</td>\n",
              "      <td>0.359217</td>\n",
              "      <td>0.544138</td>\n",
              "      <td>0.527605</td>\n",
              "      <td>0.542301</td>\n",
              "      <td>0.487192</td>\n",
              "      <td>0.559548</td>\n",
              "      <td>0.470558</td>\n",
              "      <td>0.370035</td>\n",
              "      <td>0.477191</td>\n",
              "      <td>0.453311</td>\n",
              "      <td>0.554445</td>\n",
              "      <td>0.573529</td>\n",
              "      <td>0.560262</td>\n",
              "      <td>0.547608</td>\n",
              "      <td>0.563222</td>\n",
              "      <td>0.627924</td>\n",
              "    </tr>\n",
              "    <tr>\n",
              "      <th>2010-01-08 01:00:00</th>\n",
              "      <td>0.589654</td>\n",
              "      <td>0.589654</td>\n",
              "      <td>0.611289</td>\n",
              "      <td>0.635986</td>\n",
              "      <td>0.685482</td>\n",
              "      <td>0.737427</td>\n",
              "      <td>0.741509</td>\n",
              "      <td>0.700280</td>\n",
              "      <td>0.724977</td>\n",
              "      <td>0.618025</td>\n",
              "      <td>0.622719</td>\n",
              "      <td>0.658948</td>\n",
              "      <td>0.682318</td>\n",
              "      <td>0.729875</td>\n",
              "      <td>0.619658</td>\n",
              "      <td>0.633026</td>\n",
              "      <td>0.625270</td>\n",
              "      <td>0.728344</td>\n",
              "      <td>0.767635</td>\n",
              "      <td>0.639252</td>\n",
              "      <td>0.614147</td>\n",
              "      <td>0.601798</td>\n",
              "      <td>0.591797</td>\n",
              "      <td>0.591491</td>\n",
              "      <td>0.596696</td>\n",
              "      <td>0.606493</td>\n",
              "      <td>0.633129</td>\n",
              "      <td>0.671092</td>\n",
              "      <td>0.709566</td>\n",
              "      <td>0.728344</td>\n",
              "      <td>0.808048</td>\n",
              "      <td>0.956944</td>\n",
              "      <td>0.902039</td>\n",
              "      <td>0.751919</td>\n",
              "      <td>0.668541</td>\n",
              "      <td>0.646906</td>\n",
              "      <td>0.630883</td>\n",
              "      <td>0.604350</td>\n",
              "      <td>0.623229</td>\n",
              "      <td>0.601492</td>\n",
              "      <td>...</td>\n",
              "      <td>0.616188</td>\n",
              "      <td>0.734059</td>\n",
              "      <td>0.611085</td>\n",
              "      <td>0.665888</td>\n",
              "      <td>0.666602</td>\n",
              "      <td>0.659050</td>\n",
              "      <td>0.708240</td>\n",
              "      <td>0.605472</td>\n",
              "      <td>0.581796</td>\n",
              "      <td>0.597308</td>\n",
              "      <td>0.572305</td>\n",
              "      <td>0.540566</td>\n",
              "      <td>0.578938</td>\n",
              "      <td>0.542709</td>\n",
              "      <td>0.527912</td>\n",
              "      <td>0.530769</td>\n",
              "      <td>0.587817</td>\n",
              "      <td>0.578530</td>\n",
              "      <td>0.609554</td>\n",
              "      <td>0.568835</td>\n",
              "      <td>0.606186</td>\n",
              "      <td>0.601594</td>\n",
              "      <td>0.736611</td>\n",
              "      <td>0.515461</td>\n",
              "      <td>0.359320</td>\n",
              "      <td>0.359217</td>\n",
              "      <td>0.544138</td>\n",
              "      <td>0.527605</td>\n",
              "      <td>0.542301</td>\n",
              "      <td>0.487192</td>\n",
              "      <td>0.559548</td>\n",
              "      <td>0.470558</td>\n",
              "      <td>0.370035</td>\n",
              "      <td>0.477191</td>\n",
              "      <td>0.453311</td>\n",
              "      <td>0.554445</td>\n",
              "      <td>0.573529</td>\n",
              "      <td>0.560262</td>\n",
              "      <td>0.547608</td>\n",
              "      <td>0.563222</td>\n",
              "    </tr>\n",
              "    <tr>\n",
              "      <th>2010-01-08 02:00:00</th>\n",
              "      <td>0.588633</td>\n",
              "      <td>0.589654</td>\n",
              "      <td>0.589654</td>\n",
              "      <td>0.611289</td>\n",
              "      <td>0.635986</td>\n",
              "      <td>0.685482</td>\n",
              "      <td>0.737427</td>\n",
              "      <td>0.741509</td>\n",
              "      <td>0.700280</td>\n",
              "      <td>0.724977</td>\n",
              "      <td>0.618025</td>\n",
              "      <td>0.622719</td>\n",
              "      <td>0.658948</td>\n",
              "      <td>0.682318</td>\n",
              "      <td>0.729875</td>\n",
              "      <td>0.619658</td>\n",
              "      <td>0.633026</td>\n",
              "      <td>0.625270</td>\n",
              "      <td>0.728344</td>\n",
              "      <td>0.767635</td>\n",
              "      <td>0.639252</td>\n",
              "      <td>0.614147</td>\n",
              "      <td>0.601798</td>\n",
              "      <td>0.591797</td>\n",
              "      <td>0.591491</td>\n",
              "      <td>0.596696</td>\n",
              "      <td>0.606493</td>\n",
              "      <td>0.633129</td>\n",
              "      <td>0.671092</td>\n",
              "      <td>0.709566</td>\n",
              "      <td>0.728344</td>\n",
              "      <td>0.808048</td>\n",
              "      <td>0.956944</td>\n",
              "      <td>0.902039</td>\n",
              "      <td>0.751919</td>\n",
              "      <td>0.668541</td>\n",
              "      <td>0.646906</td>\n",
              "      <td>0.630883</td>\n",
              "      <td>0.604350</td>\n",
              "      <td>0.623229</td>\n",
              "      <td>...</td>\n",
              "      <td>1.000000</td>\n",
              "      <td>0.616188</td>\n",
              "      <td>0.734059</td>\n",
              "      <td>0.611085</td>\n",
              "      <td>0.665888</td>\n",
              "      <td>0.666602</td>\n",
              "      <td>0.659050</td>\n",
              "      <td>0.708240</td>\n",
              "      <td>0.605472</td>\n",
              "      <td>0.581796</td>\n",
              "      <td>0.597308</td>\n",
              "      <td>0.572305</td>\n",
              "      <td>0.540566</td>\n",
              "      <td>0.578938</td>\n",
              "      <td>0.542709</td>\n",
              "      <td>0.527912</td>\n",
              "      <td>0.530769</td>\n",
              "      <td>0.587817</td>\n",
              "      <td>0.578530</td>\n",
              "      <td>0.609554</td>\n",
              "      <td>0.568835</td>\n",
              "      <td>0.606186</td>\n",
              "      <td>0.601594</td>\n",
              "      <td>0.736611</td>\n",
              "      <td>0.515461</td>\n",
              "      <td>0.359320</td>\n",
              "      <td>0.359217</td>\n",
              "      <td>0.544138</td>\n",
              "      <td>0.527605</td>\n",
              "      <td>0.542301</td>\n",
              "      <td>0.487192</td>\n",
              "      <td>0.559548</td>\n",
              "      <td>0.470558</td>\n",
              "      <td>0.370035</td>\n",
              "      <td>0.477191</td>\n",
              "      <td>0.453311</td>\n",
              "      <td>0.554445</td>\n",
              "      <td>0.573529</td>\n",
              "      <td>0.560262</td>\n",
              "      <td>0.547608</td>\n",
              "    </tr>\n",
              "    <tr>\n",
              "      <th>2010-01-08 03:00:00</th>\n",
              "      <td>0.585878</td>\n",
              "      <td>0.588633</td>\n",
              "      <td>0.589654</td>\n",
              "      <td>0.589654</td>\n",
              "      <td>0.611289</td>\n",
              "      <td>0.635986</td>\n",
              "      <td>0.685482</td>\n",
              "      <td>0.737427</td>\n",
              "      <td>0.741509</td>\n",
              "      <td>0.700280</td>\n",
              "      <td>0.724977</td>\n",
              "      <td>0.618025</td>\n",
              "      <td>0.622719</td>\n",
              "      <td>0.658948</td>\n",
              "      <td>0.682318</td>\n",
              "      <td>0.729875</td>\n",
              "      <td>0.619658</td>\n",
              "      <td>0.633026</td>\n",
              "      <td>0.625270</td>\n",
              "      <td>0.728344</td>\n",
              "      <td>0.767635</td>\n",
              "      <td>0.639252</td>\n",
              "      <td>0.614147</td>\n",
              "      <td>0.601798</td>\n",
              "      <td>0.591797</td>\n",
              "      <td>0.591491</td>\n",
              "      <td>0.596696</td>\n",
              "      <td>0.606493</td>\n",
              "      <td>0.633129</td>\n",
              "      <td>0.671092</td>\n",
              "      <td>0.709566</td>\n",
              "      <td>0.728344</td>\n",
              "      <td>0.808048</td>\n",
              "      <td>0.956944</td>\n",
              "      <td>0.902039</td>\n",
              "      <td>0.751919</td>\n",
              "      <td>0.668541</td>\n",
              "      <td>0.646906</td>\n",
              "      <td>0.630883</td>\n",
              "      <td>0.604350</td>\n",
              "      <td>...</td>\n",
              "      <td>1.000000</td>\n",
              "      <td>1.000000</td>\n",
              "      <td>0.616188</td>\n",
              "      <td>0.734059</td>\n",
              "      <td>0.611085</td>\n",
              "      <td>0.665888</td>\n",
              "      <td>0.666602</td>\n",
              "      <td>0.659050</td>\n",
              "      <td>0.708240</td>\n",
              "      <td>0.605472</td>\n",
              "      <td>0.581796</td>\n",
              "      <td>0.597308</td>\n",
              "      <td>0.572305</td>\n",
              "      <td>0.540566</td>\n",
              "      <td>0.578938</td>\n",
              "      <td>0.542709</td>\n",
              "      <td>0.527912</td>\n",
              "      <td>0.530769</td>\n",
              "      <td>0.587817</td>\n",
              "      <td>0.578530</td>\n",
              "      <td>0.609554</td>\n",
              "      <td>0.568835</td>\n",
              "      <td>0.606186</td>\n",
              "      <td>0.601594</td>\n",
              "      <td>0.736611</td>\n",
              "      <td>0.515461</td>\n",
              "      <td>0.359320</td>\n",
              "      <td>0.359217</td>\n",
              "      <td>0.544138</td>\n",
              "      <td>0.527605</td>\n",
              "      <td>0.542301</td>\n",
              "      <td>0.487192</td>\n",
              "      <td>0.559548</td>\n",
              "      <td>0.470558</td>\n",
              "      <td>0.370035</td>\n",
              "      <td>0.477191</td>\n",
              "      <td>0.453311</td>\n",
              "      <td>0.554445</td>\n",
              "      <td>0.573529</td>\n",
              "      <td>0.560262</td>\n",
              "    </tr>\n",
              "    <tr>\n",
              "      <th>2010-01-08 04:00:00</th>\n",
              "      <td>0.585980</td>\n",
              "      <td>0.585878</td>\n",
              "      <td>0.588633</td>\n",
              "      <td>0.589654</td>\n",
              "      <td>0.589654</td>\n",
              "      <td>0.611289</td>\n",
              "      <td>0.635986</td>\n",
              "      <td>0.685482</td>\n",
              "      <td>0.737427</td>\n",
              "      <td>0.741509</td>\n",
              "      <td>0.700280</td>\n",
              "      <td>0.724977</td>\n",
              "      <td>0.618025</td>\n",
              "      <td>0.622719</td>\n",
              "      <td>0.658948</td>\n",
              "      <td>0.682318</td>\n",
              "      <td>0.729875</td>\n",
              "      <td>0.619658</td>\n",
              "      <td>0.633026</td>\n",
              "      <td>0.625270</td>\n",
              "      <td>0.728344</td>\n",
              "      <td>0.767635</td>\n",
              "      <td>0.639252</td>\n",
              "      <td>0.614147</td>\n",
              "      <td>0.601798</td>\n",
              "      <td>0.591797</td>\n",
              "      <td>0.591491</td>\n",
              "      <td>0.596696</td>\n",
              "      <td>0.606493</td>\n",
              "      <td>0.633129</td>\n",
              "      <td>0.671092</td>\n",
              "      <td>0.709566</td>\n",
              "      <td>0.728344</td>\n",
              "      <td>0.808048</td>\n",
              "      <td>0.956944</td>\n",
              "      <td>0.902039</td>\n",
              "      <td>0.751919</td>\n",
              "      <td>0.668541</td>\n",
              "      <td>0.646906</td>\n",
              "      <td>0.630883</td>\n",
              "      <td>...</td>\n",
              "      <td>0.971129</td>\n",
              "      <td>1.000000</td>\n",
              "      <td>1.000000</td>\n",
              "      <td>0.616188</td>\n",
              "      <td>0.734059</td>\n",
              "      <td>0.611085</td>\n",
              "      <td>0.665888</td>\n",
              "      <td>0.666602</td>\n",
              "      <td>0.659050</td>\n",
              "      <td>0.708240</td>\n",
              "      <td>0.605472</td>\n",
              "      <td>0.581796</td>\n",
              "      <td>0.597308</td>\n",
              "      <td>0.572305</td>\n",
              "      <td>0.540566</td>\n",
              "      <td>0.578938</td>\n",
              "      <td>0.542709</td>\n",
              "      <td>0.527912</td>\n",
              "      <td>0.530769</td>\n",
              "      <td>0.587817</td>\n",
              "      <td>0.578530</td>\n",
              "      <td>0.609554</td>\n",
              "      <td>0.568835</td>\n",
              "      <td>0.606186</td>\n",
              "      <td>0.601594</td>\n",
              "      <td>0.736611</td>\n",
              "      <td>0.515461</td>\n",
              "      <td>0.359320</td>\n",
              "      <td>0.359217</td>\n",
              "      <td>0.544138</td>\n",
              "      <td>0.527605</td>\n",
              "      <td>0.542301</td>\n",
              "      <td>0.487192</td>\n",
              "      <td>0.559548</td>\n",
              "      <td>0.470558</td>\n",
              "      <td>0.370035</td>\n",
              "      <td>0.477191</td>\n",
              "      <td>0.453311</td>\n",
              "      <td>0.554445</td>\n",
              "      <td>0.573529</td>\n",
              "    </tr>\n",
              "  </tbody>\n",
              "</table>\n",
              "<p>5 rows × 169 columns</p>\n",
              "</div>"
            ],
            "text/plain": [
              "                         HOEP       l_1       l_2  ...     l_166     l_167     l_168\n",
              "2010-01-08 00:00:00  0.589654  0.611289  0.635986  ...  0.547608  0.563222  0.627924\n",
              "2010-01-08 01:00:00  0.589654  0.589654  0.611289  ...  0.560262  0.547608  0.563222\n",
              "2010-01-08 02:00:00  0.588633  0.589654  0.589654  ...  0.573529  0.560262  0.547608\n",
              "2010-01-08 03:00:00  0.585878  0.588633  0.589654  ...  0.554445  0.573529  0.560262\n",
              "2010-01-08 04:00:00  0.585980  0.585878  0.588633  ...  0.453311  0.554445  0.573529\n",
              "\n",
              "[5 rows x 169 columns]"
            ]
          },
          "metadata": {
            "tags": []
          },
          "execution_count": 56
        }
      ]
    },
    {
      "cell_type": "markdown",
      "metadata": {
        "id": "IsvWb58U2L4s"
      },
      "source": [
        "**Explanation**\n",
        "\n",
        "One sample, representing one hour, now contains the true price for that hour as well as hourly prices of the last 168 hours prior to that hour.\n",
        "\n",
        "Since we want to predict for all hours of a full day at once, the lagged data has to be split into chunks of 24 hours in order for a feature-label combination to represent a full day. A sample output ('label') will be a vector of length 24, one entry for each hour of the prediction day. The sample features will be a vector of length 168, one entry for every lagged hour of the prior week.\n",
        "\n",
        "We will use all data prior to 2019 as training data and all data from 2019 as test data. We do not pick test samples randomly, since we are interested in the performance of our model on the most recent data.\n",
        "\n",
        "Then, the input to the model is a feature tensor of shape (samples, lags, features) and the output a tensor of shape (samples, hours_of_next_day). Note that we only have one kind of feature, the historical prices."
      ]
    },
    {
      "cell_type": "code",
      "metadata": {
        "id": "wDcehClp4Udt"
      },
      "source": [
        "\n",
        "# create feature and label dataframes\n",
        "prelim_features = da_prep.drop('HOEP', axis=1)\n",
        "prelim_labels = pd.DataFrame(da_prep['HOEP'])\n",
        "\n",
        "# format labels to 24 hour output range\n",
        "for i in range(0, 24):\n",
        "    prelim_labels['t_{}'.format(i)] = prelim_labels['HOEP'].shift(-i)\n",
        "prelim_labels.drop('HOEP', axis=1, inplace=True)\n",
        "\n",
        "# apply one-day discretization to the data\n",
        "labels = prelim_labels[prelim_labels.index.hour == 0]\n",
        "features = prelim_features[prelim_features.index.hour == 0]\n",
        "\n",
        "features_train = features[:'2018']\n",
        "features_test = features['2019']\n",
        "labels_train = labels[:'2018']\n",
        "\n",
        "samples_train = len(features_train)\n",
        "samples_test = len(features_test)\n",
        "timesteps = 168\n"
      ],
      "execution_count": null,
      "outputs": []
    },
    {
      "cell_type": "code",
      "metadata": {
        "colab": {
          "base_uri": "https://localhost:8080/"
        },
        "id": "TaAujKgM5LFO",
        "outputId": "4ad09a16-a1c3-4cd2-b067-8858819ece76"
      },
      "source": [
        "# convert pandas data frames to numpy ndarrays\n",
        "features_train = features_train.values.reshape(samples_train, timesteps, 1)\n",
        "features_test = features_test.values.reshape(samples_test, timesteps, 1)\n",
        "labels_train = labels_train.values\n",
        "\n",
        "# check for correct data shape\n",
        "features_train.shape, labels_train.shape"
      ],
      "execution_count": null,
      "outputs": [
        {
          "output_type": "execute_result",
          "data": {
            "text/plain": [
              "((3280, 168, 1), (3280, 24))"
            ]
          },
          "metadata": {
            "tags": []
          },
          "execution_count": 58
        }
      ]
    },
    {
      "cell_type": "markdown",
      "metadata": {
        "id": "vcIjxZ4P5pt_"
      },
      "source": [
        "Now that we have organized and preprocessed the data for our task, we split it into a training and a validation set. The validation set will serve as pseudo-unseen data for model for parameter selection during the training process. The final evaluation however will be conducted with the truly unseen test set that has remained untouched."
      ]
    },
    {
      "cell_type": "markdown",
      "metadata": {
        "id": "Yu4jHam75uBC"
      },
      "source": [
        "# **2. Set up the benchmark model¶**\n"
      ]
    },
    {
      "cell_type": "code",
      "metadata": {
        "id": "MPmMUmFB5rQL"
      },
      "source": [
        "from keras.models import Model, load_model\n",
        "from keras.layers import Input, Add\n",
        "from keras.layers.core import Dense, Activation, Dropout\n",
        "from keras.layers.recurrent import LSTM\n",
        "from keras.layers.convolutional import Conv1D\n",
        "from keras.callbacks import ModelCheckpoint\n",
        "from keras.regularizers import l1_l2\n",
        "\n",
        "from sklearn.model_selection import train_test_split\n",
        "from sklearn.metrics import mean_absolute_error, r2_score, mean_squared_error\n",
        "import json"
      ],
      "execution_count": null,
      "outputs": []
    },
    {
      "cell_type": "markdown",
      "metadata": {
        "id": "8Dir2IZA53hE"
      },
      "source": [
        "A benchmark model has to be set up in order to evaluate how well we are performing with the different modeling approaches. This benchmark model has to be some kind of 'best guess' that one could expect to be able to make without much modeling effort. In this case simple averages of reference points are used as benchmarks. In total four naive benchmarks are used here:\n",
        "\n",
        "1. The price of the same hour the day before as a prediction.\n",
        "2. The price of the same hour of the same day the week before as a prediction.\n",
        "3. The average of the same hour of every day during the last two weeks as a prediction.\n",
        "4. The average of the same hour of every day during the last four weeks as a prediction.\n",
        "\n",
        "The primary goal for the timeseries model is to beat these benchmark results by a fair margin. The test set is used as actual benchmarking data."
      ]
    },
    {
      "cell_type": "code",
      "metadata": {
        "id": "bR8CasYs6HS2"
      },
      "source": [
        "# calculate benchmarks for test set and save them to dataframe\n",
        "benchmark_results = pd.DataFrame(index=test_raw.index)\n",
        "\n",
        "benchmark_results['last_day'] = da_raw.shift(24)['2019']\n",
        "benchmark_results['last_week'] = da_raw.shift(24*7)['2019']\n",
        "benchmark_results['2_week_average'] = pd.concat([da_raw.shift(24 * w) for w in range(1, 3)], axis=1).mean(axis=1)['2019']\n",
        "benchmark_results['4_week_average'] = pd.concat([da_raw.shift(24 * w) for w in range(1, 5)], axis=1).mean(axis=1)['2019']"
      ],
      "execution_count": null,
      "outputs": []
    },
    {
      "cell_type": "code",
      "metadata": {
        "colab": {
          "base_uri": "https://localhost:8080/"
        },
        "id": "f_ZR5JZj6LGz",
        "outputId": "487dad69-a3e9-4baf-bcfd-78ff24867607"
      },
      "source": [
        "# calculate mean absolute errors for benchmark models\n",
        "for col in benchmark_results.columns:\n",
        "    pred = benchmark_results[col].values\n",
        "    true = test_raw.HOEP.values\n",
        "    #print('RMSE of {} benchmark model: '.format(col), np.sqrt(mean_squared_error(y_pred=pred, y_true=true)))\n",
        "    print('MAE of {} benchmark model: '.format(col), mean_absolute_error(y_pred=pred, y_true=true))\n",
        "    #print('R_Squared of {} benchmark model: '.format(col), r2_score(y_pred=pred, y_true=true))"
      ],
      "execution_count": null,
      "outputs": [
        {
          "output_type": "stream",
          "text": [
            "MAE of last_day benchmark model:  11.263183789954338\n",
            "MAE of last_week benchmark model:  12.881907534246576\n",
            "MAE of 2_week_average benchmark model:  10.822270547945205\n",
            "MAE of 4_week_average benchmark model:  10.295400970319633\n"
          ],
          "name": "stdout"
        }
      ]
    },
    {
      "cell_type": "markdown",
      "metadata": {
        "id": "_6nXRt1y5tn8"
      },
      "source": [
        "\n",
        "We can see that on average the benchmark model misses the true prices of the next day by roughly 11 CAD per MWh. "
      ]
    },
    {
      "cell_type": "markdown",
      "metadata": {
        "id": "jiEZwKmR7CL-"
      },
      "source": [
        "\n",
        "# **3. Design the model architecture**\n",
        "Before training a model, the data is split into a training and a validation set. The validation set serves as a model selection criterion during training. Since a good performance on a training set might as well result from overfitting the model, a validation set is needed as a first estimation about the ability of the model to generalize."
      ]
    },
    {
      "cell_type": "code",
      "metadata": {
        "id": "3maigfUB7Ayp"
      },
      "source": [
        "# split into training and validation data\n",
        "X_train, X_valid, y_train, y_valid = train_test_split(features_train, labels_train, test_size=0.2, random_state=7)"
      ],
      "execution_count": null,
      "outputs": []
    },
    {
      "cell_type": "code",
      "metadata": {
        "id": "qagABEjS7byN"
      },
      "source": [
        "from keras.callbacks import EarlyStopping, ReduceLROnPlateau, ModelCheckpoint, TensorBoard\n",
        "es = EarlyStopping(monitor='val_loss', min_delta=1e-10, patience=10, verbose=1)\n",
        "rlr = ReduceLROnPlateau(monitor='val_loss', factor=0.5, patience=10, verbose=1)\n",
        "mcp = ModelCheckpoint(filepath='weights.h5', monitor='val_loss', verbose=1, save_best_only=True, save_weights_only=True)\n",
        "tb = TensorBoard('logs')\n",
        "def train_predict_evaluate(model, X_train, X_valid, y_train, y_valid, X_test, y_test, test_index, scaler, batch_size, epochs, verbose=0):\n",
        "    \n",
        "    \"\"\"Fit model to training data. Use best performant on validation data to predict for the test set. \n",
        "    Evaluate on the test set and return results as dataframes\"\"\"\n",
        "    \n",
        "    # train model, save best keep best performer on validation set\n",
        "    hist = model.fit(X_train, y_train, validation_data=(X_valid, y_valid), epochs=epochs, shuffle=True, callbacks=[es, rlr, mcp, tb], verbose=verbose,batch_size=batch_size)\n",
        "    # predict for test set\n",
        "    pred = model.predict(features_test)\n",
        "    # transform back to original data scale\n",
        "    pred = da_scaler.inverse_transform(pred.flatten().reshape(-1, 1))\n",
        "    y_test=test_raw.values.flatten()\n",
        "    results = pd.DataFrame({'prediction':pred.flatten(), 'true values':y_test}, index=test_raw.index)\n",
        "\n",
        "    return results, hist"
      ],
      "execution_count": null,
      "outputs": []
    },
    {
      "cell_type": "markdown",
      "metadata": {
        "id": "zxfb3_Vt7kqz"
      },
      "source": [
        "# **3.1 First model architecture**\n",
        "The modeling approach below makes use of convolutional and recurrent neural networks. \n",
        "The first model approach is a hybrid neural network with a one-dimensional convolutional layer, a recurrent layer of Long Short Term Memory (LSTM) cells and a densely connected layer. The dense layer serves as the output layer. Its size is fixed to 24 cells, one for each hour of the day to predict prices for.\n",
        "\n",
        "The idea behind the combination of the convolutional and the recurrent layer is to cover short- and long-term patterns in the data. The convolutional layer has a kernel size and a stride of 24. Hence, in one convolutional step 24 hours of historical data will be covered. This results in an convolutional output of length 7 per feature map, which spans exactly the one week of historical data we covered as an input. Each entry in this vector is a representation of all prices (aggregated by the weights in the filter) of one single day within the range of input features.\n",
        "\n",
        "The LSTM cells in the recurrent layer are able to 'memorize' previous information. The output of a LSTM cell not only depends on its current input, but also on inputs received in previous sequence entries. In our case, the sequence is the output of the convolutional layer, containing 7 whole-day representation per feature map in the convolutional layer. The LSTM might use these 7 entries to infer a long term trend from the data. As we have seen, electricity prices follow a clear weekly pattern. Referencing a sequence of 7 days spans a whole week of data. Thus, the LSTM layer should be able to 'realize' the current weekday due to its ability to memorize outputs in previous sequence entries.\n",
        "\n",
        "The reason we do not feed all 168 timesteps to the LSTM layer is quite simple: Feature dimensionality. 168 features are quite hard for a LSTM to 'keep in memory' due to the sheer size of the feature space.\n",
        "\n",
        "The dimensions for the different layers are picked rather randomly after a few trials and errors of what works and what not."
      ]
    },
    {
      "cell_type": "code",
      "metadata": {
        "id": "WZ6IjTNglmTH"
      },
      "source": [
        "import tensorflow as tf\n",
        "from tensorflow.keras.layers import Dropout\n",
        "from keras.layers.convolutional import MaxPooling1D\n",
        "from keras.layers import Flatten, GRU, SimpleRNN\n",
        "from keras.layers import RepeatVector"
      ],
      "execution_count": null,
      "outputs": []
    },
    {
      "cell_type": "code",
      "metadata": {
        "colab": {
          "base_uri": "https://localhost:8080/"
        },
        "id": "V45SJys97x-z",
        "outputId": "e45a44bc-9cf7-4223-dbfa-3e735f3af6fd"
      },
      "source": [
        "# design the neural network architecture with the keras functional API\n",
        "np.random.seed(7)\n",
        "tf.random.set_seed(7)\n",
        "input_layer = Input(shape=(X_train.shape[1], X_train.shape[2]))\n",
        "x = Conv1D(256, kernel_size=24, strides=24, padding='valid')(input_layer)\n",
        "#x = MaxPooling1D(pool_size=2)(x)\n",
        "#x=Flatten()(x)\n",
        "#x=RepeatVector(1)(x)\n",
        "#x = SimpleRNN(256)(x)\n",
        "#x = GRU(256, recurrent_activation='relu')(x)\n",
        "x = LSTM(256, recurrent_activation='relu')(x)\n",
        "x=Dropout(.1)(x)\n",
        "output_layer = Dense(24)(x)\n",
        "model = Model(inputs=[input_layer], outputs=[output_layer])\n",
        "model.compile(loss='mse', optimizer='adam')\n",
        "model.summary()"
      ],
      "execution_count": null,
      "outputs": [
        {
          "output_type": "stream",
          "text": [
            "Model: \"model_4\"\n",
            "_________________________________________________________________\n",
            "Layer (type)                 Output Shape              Param #   \n",
            "=================================================================\n",
            "input_5 (InputLayer)         [(None, 168, 1)]          0         \n",
            "_________________________________________________________________\n",
            "conv1d_4 (Conv1D)            (None, 7, 256)            6400      \n",
            "_________________________________________________________________\n",
            "lstm_1 (LSTM)                (None, 256)               525312    \n",
            "_________________________________________________________________\n",
            "dropout_4 (Dropout)          (None, 256)               0         \n",
            "_________________________________________________________________\n",
            "dense_4 (Dense)              (None, 24)                6168      \n",
            "=================================================================\n",
            "Total params: 537,880\n",
            "Trainable params: 537,880\n",
            "Non-trainable params: 0\n",
            "_________________________________________________________________\n"
          ],
          "name": "stdout"
        }
      ]
    },
    {
      "cell_type": "code",
      "metadata": {
        "colab": {
          "base_uri": "https://localhost:8080/"
        },
        "id": "r2dM57R372JM",
        "outputId": "014f4765-cc57-4e8d-fb13-cc28d56bd5a2"
      },
      "source": [
        "\n",
        "# train the model and calculate the performance on the test set\n",
        "results, hist = train_predict_evaluate(model, X_train, X_valid, y_train, y_valid, features_test,test_raw.values.flatten(), test_raw.index, da_scaler, 80, 200, verbose=1)"
      ],
      "execution_count": null,
      "outputs": [
        {
          "output_type": "stream",
          "text": [
            "Epoch 1/200\n",
            "33/33 [==============================] - 5s 98ms/step - loss: 0.1987 - val_loss: 0.0239\n",
            "\n",
            "Epoch 00001: val_loss did not improve from 0.01381\n",
            "Epoch 2/200\n",
            "33/33 [==============================] - 3s 81ms/step - loss: 0.0304 - val_loss: 0.0204\n",
            "\n",
            "Epoch 00002: val_loss did not improve from 0.01381\n",
            "Epoch 3/200\n",
            "33/33 [==============================] - 3s 82ms/step - loss: 0.0257 - val_loss: 0.0196\n",
            "\n",
            "Epoch 00003: val_loss did not improve from 0.01381\n",
            "Epoch 4/200\n",
            "33/33 [==============================] - 3s 83ms/step - loss: 0.0237 - val_loss: 0.0195\n",
            "\n",
            "Epoch 00004: val_loss did not improve from 0.01381\n",
            "Epoch 5/200\n",
            "33/33 [==============================] - 3s 82ms/step - loss: 0.0219 - val_loss: 0.0204\n",
            "\n",
            "Epoch 00005: val_loss did not improve from 0.01381\n",
            "Epoch 6/200\n",
            "33/33 [==============================] - 3s 81ms/step - loss: 0.0227 - val_loss: 0.0176\n",
            "\n",
            "Epoch 00006: val_loss did not improve from 0.01381\n",
            "Epoch 7/200\n",
            "33/33 [==============================] - 3s 80ms/step - loss: 0.0211 - val_loss: 0.0193\n",
            "\n",
            "Epoch 00007: val_loss did not improve from 0.01381\n",
            "Epoch 8/200\n",
            "33/33 [==============================] - 3s 82ms/step - loss: 0.0204 - val_loss: 0.0167\n",
            "\n",
            "Epoch 00008: val_loss did not improve from 0.01381\n",
            "Epoch 9/200\n",
            "33/33 [==============================] - 3s 82ms/step - loss: 0.0187 - val_loss: 0.0175\n",
            "\n",
            "Epoch 00009: val_loss did not improve from 0.01381\n",
            "Epoch 10/200\n",
            "33/33 [==============================] - 3s 82ms/step - loss: 0.0188 - val_loss: 0.0162\n",
            "\n",
            "Epoch 00010: val_loss did not improve from 0.01381\n",
            "Epoch 11/200\n",
            "33/33 [==============================] - 3s 81ms/step - loss: 0.0179 - val_loss: 0.0166\n",
            "\n",
            "Epoch 00011: val_loss did not improve from 0.01381\n",
            "Epoch 12/200\n",
            "33/33 [==============================] - 3s 84ms/step - loss: 0.0179 - val_loss: 0.0155\n",
            "\n",
            "Epoch 00012: val_loss did not improve from 0.01381\n",
            "Epoch 13/200\n",
            "33/33 [==============================] - 3s 81ms/step - loss: 0.0184 - val_loss: 0.0157\n",
            "\n",
            "Epoch 00013: val_loss did not improve from 0.01381\n",
            "Epoch 14/200\n",
            "33/33 [==============================] - 3s 83ms/step - loss: 0.0171 - val_loss: 0.0173\n",
            "\n",
            "Epoch 00014: val_loss did not improve from 0.01381\n",
            "Epoch 15/200\n",
            "33/33 [==============================] - 3s 83ms/step - loss: 0.0180 - val_loss: 0.0157\n",
            "\n",
            "Epoch 00015: val_loss did not improve from 0.01381\n",
            "Epoch 16/200\n",
            "33/33 [==============================] - 3s 82ms/step - loss: 0.0176 - val_loss: 0.0156\n",
            "\n",
            "Epoch 00016: val_loss did not improve from 0.01381\n",
            "Epoch 17/200\n",
            "33/33 [==============================] - 3s 81ms/step - loss: 0.0167 - val_loss: 0.0151\n",
            "\n",
            "Epoch 00017: val_loss did not improve from 0.01381\n",
            "Epoch 18/200\n",
            "33/33 [==============================] - 3s 82ms/step - loss: 0.0169 - val_loss: 0.0160\n",
            "\n",
            "Epoch 00018: val_loss did not improve from 0.01381\n",
            "Epoch 19/200\n",
            "33/33 [==============================] - 3s 81ms/step - loss: 0.0167 - val_loss: 0.0163\n",
            "\n",
            "Epoch 00019: val_loss did not improve from 0.01381\n",
            "Epoch 20/200\n",
            "33/33 [==============================] - 3s 80ms/step - loss: 0.0164 - val_loss: 0.0154\n",
            "\n",
            "Epoch 00020: val_loss did not improve from 0.01381\n",
            "Epoch 21/200\n",
            "33/33 [==============================] - 3s 82ms/step - loss: 0.0166 - val_loss: 0.0147\n",
            "\n",
            "Epoch 00021: val_loss did not improve from 0.01381\n",
            "Epoch 22/200\n",
            "33/33 [==============================] - 3s 91ms/step - loss: 0.0160 - val_loss: 0.0155\n",
            "\n",
            "Epoch 00022: val_loss did not improve from 0.01381\n",
            "Epoch 23/200\n",
            "33/33 [==============================] - 3s 80ms/step - loss: 0.0161 - val_loss: 0.0147\n",
            "\n",
            "Epoch 00023: val_loss did not improve from 0.01381\n",
            "Epoch 24/200\n",
            "33/33 [==============================] - 3s 80ms/step - loss: 0.0154 - val_loss: 0.0159\n",
            "\n",
            "Epoch 00024: val_loss did not improve from 0.01381\n",
            "Epoch 25/200\n",
            "33/33 [==============================] - 3s 82ms/step - loss: 0.0167 - val_loss: 0.0148\n",
            "\n",
            "Epoch 00025: val_loss did not improve from 0.01381\n",
            "Epoch 26/200\n",
            "33/33 [==============================] - 3s 80ms/step - loss: 0.0164 - val_loss: 0.0146\n",
            "\n",
            "Epoch 00026: val_loss did not improve from 0.01381\n",
            "Epoch 27/200\n",
            "33/33 [==============================] - 3s 80ms/step - loss: 0.0158 - val_loss: 0.0152\n",
            "\n",
            "Epoch 00027: val_loss did not improve from 0.01381\n",
            "Epoch 28/200\n",
            "33/33 [==============================] - 3s 79ms/step - loss: 0.0161 - val_loss: 0.0145\n",
            "\n",
            "Epoch 00028: val_loss did not improve from 0.01381\n",
            "Epoch 29/200\n",
            "33/33 [==============================] - 3s 78ms/step - loss: 0.0154 - val_loss: 0.0156\n",
            "\n",
            "Epoch 00029: val_loss did not improve from 0.01381\n",
            "Epoch 30/200\n",
            "33/33 [==============================] - 3s 80ms/step - loss: 0.0159 - val_loss: 0.0145\n",
            "\n",
            "Epoch 00030: val_loss did not improve from 0.01381\n",
            "Epoch 31/200\n",
            "33/33 [==============================] - 3s 78ms/step - loss: 0.0157 - val_loss: 0.0146\n",
            "\n",
            "Epoch 00031: val_loss did not improve from 0.01381\n",
            "Epoch 32/200\n",
            "33/33 [==============================] - 3s 80ms/step - loss: 0.0157 - val_loss: 0.0154\n",
            "\n",
            "Epoch 00032: val_loss did not improve from 0.01381\n",
            "Epoch 33/200\n",
            "33/33 [==============================] - 3s 80ms/step - loss: 0.0155 - val_loss: 0.0145\n",
            "\n",
            "Epoch 00033: val_loss did not improve from 0.01381\n",
            "Epoch 34/200\n",
            "33/33 [==============================] - 3s 81ms/step - loss: 0.0159 - val_loss: 0.0148\n",
            "\n",
            "Epoch 00034: val_loss did not improve from 0.01381\n",
            "Epoch 35/200\n",
            "33/33 [==============================] - 3s 82ms/step - loss: 0.0155 - val_loss: 0.0144\n",
            "\n",
            "Epoch 00035: val_loss did not improve from 0.01381\n",
            "Epoch 36/200\n",
            "33/33 [==============================] - 3s 78ms/step - loss: 0.0150 - val_loss: 0.0148\n",
            "\n",
            "Epoch 00036: val_loss did not improve from 0.01381\n",
            "Epoch 37/200\n",
            "33/33 [==============================] - 3s 80ms/step - loss: 0.0153 - val_loss: 0.0143\n",
            "\n",
            "Epoch 00037: val_loss did not improve from 0.01381\n",
            "Epoch 38/200\n",
            "33/33 [==============================] - 3s 81ms/step - loss: 0.0153 - val_loss: 0.0149\n",
            "\n",
            "Epoch 00038: val_loss did not improve from 0.01381\n",
            "Epoch 39/200\n",
            "33/33 [==============================] - 3s 78ms/step - loss: 0.0152 - val_loss: 0.0142\n",
            "\n",
            "Epoch 00039: val_loss did not improve from 0.01381\n",
            "Epoch 40/200\n",
            "33/33 [==============================] - 3s 82ms/step - loss: 0.0150 - val_loss: 0.0144\n",
            "\n",
            "Epoch 00040: val_loss did not improve from 0.01381\n",
            "Epoch 41/200\n",
            "33/33 [==============================] - 3s 80ms/step - loss: 0.0149 - val_loss: 0.0143\n",
            "\n",
            "Epoch 00041: val_loss did not improve from 0.01381\n",
            "Epoch 42/200\n",
            "33/33 [==============================] - 3s 78ms/step - loss: 0.0152 - val_loss: 0.0144\n",
            "\n",
            "Epoch 00042: val_loss did not improve from 0.01381\n",
            "Epoch 43/200\n",
            "33/33 [==============================] - 3s 78ms/step - loss: 0.0148 - val_loss: 0.0143\n",
            "\n",
            "Epoch 00043: val_loss did not improve from 0.01381\n",
            "Epoch 44/200\n",
            "33/33 [==============================] - 3s 79ms/step - loss: 0.0148 - val_loss: 0.0141\n",
            "\n",
            "Epoch 00044: val_loss did not improve from 0.01381\n",
            "Epoch 45/200\n",
            "33/33 [==============================] - 3s 79ms/step - loss: 0.0151 - val_loss: 0.0141\n",
            "\n",
            "Epoch 00045: val_loss did not improve from 0.01381\n",
            "Epoch 46/200\n",
            "33/33 [==============================] - 3s 79ms/step - loss: 0.0149 - val_loss: 0.0141\n",
            "\n",
            "Epoch 00046: val_loss did not improve from 0.01381\n",
            "Epoch 47/200\n",
            "33/33 [==============================] - 3s 80ms/step - loss: 0.0145 - val_loss: 0.0144\n",
            "\n",
            "Epoch 00047: val_loss did not improve from 0.01381\n",
            "Epoch 48/200\n",
            "33/33 [==============================] - 3s 80ms/step - loss: 0.0147 - val_loss: 0.0144\n",
            "\n",
            "Epoch 00048: val_loss did not improve from 0.01381\n",
            "Epoch 49/200\n",
            "33/33 [==============================] - 3s 80ms/step - loss: 0.0149 - val_loss: 0.0141\n",
            "\n",
            "Epoch 00049: val_loss did not improve from 0.01381\n",
            "Epoch 50/200\n",
            "33/33 [==============================] - 3s 79ms/step - loss: 0.0148 - val_loss: 0.0141\n",
            "\n",
            "Epoch 00050: val_loss did not improve from 0.01381\n",
            "Epoch 51/200\n",
            "33/33 [==============================] - 3s 78ms/step - loss: 0.0149 - val_loss: 0.0142\n",
            "\n",
            "Epoch 00051: val_loss did not improve from 0.01381\n",
            "Epoch 52/200\n",
            "33/33 [==============================] - 3s 80ms/step - loss: 0.0150 - val_loss: 0.0148\n",
            "\n",
            "Epoch 00052: val_loss did not improve from 0.01381\n",
            "Epoch 53/200\n",
            "33/33 [==============================] - 3s 81ms/step - loss: 0.0148 - val_loss: 0.0142\n",
            "\n",
            "Epoch 00053: val_loss did not improve from 0.01381\n",
            "Epoch 54/200\n",
            "33/33 [==============================] - 3s 81ms/step - loss: 0.0149 - val_loss: 0.0142\n",
            "\n",
            "Epoch 00054: ReduceLROnPlateau reducing learning rate to 0.0005000000237487257.\n",
            "\n",
            "Epoch 00054: val_loss did not improve from 0.01381\n",
            "Epoch 55/200\n",
            "33/33 [==============================] - 3s 80ms/step - loss: 0.0143 - val_loss: 0.0140\n",
            "\n",
            "Epoch 00055: val_loss did not improve from 0.01381\n",
            "Epoch 56/200\n",
            "33/33 [==============================] - 3s 78ms/step - loss: 0.0146 - val_loss: 0.0145\n",
            "\n",
            "Epoch 00056: val_loss did not improve from 0.01381\n",
            "Epoch 57/200\n",
            "33/33 [==============================] - 3s 87ms/step - loss: 0.0147 - val_loss: 0.0141\n",
            "\n",
            "Epoch 00057: val_loss did not improve from 0.01381\n",
            "Epoch 58/200\n",
            "33/33 [==============================] - 3s 82ms/step - loss: 0.0142 - val_loss: 0.0143\n",
            "\n",
            "Epoch 00058: val_loss did not improve from 0.01381\n",
            "Epoch 59/200\n",
            "33/33 [==============================] - 3s 81ms/step - loss: 0.0140 - val_loss: 0.0141\n",
            "\n",
            "Epoch 00059: val_loss did not improve from 0.01381\n",
            "Epoch 60/200\n",
            "33/33 [==============================] - 3s 81ms/step - loss: 0.0143 - val_loss: 0.0142\n",
            "\n",
            "Epoch 00060: val_loss did not improve from 0.01381\n",
            "Epoch 61/200\n",
            "33/33 [==============================] - 3s 81ms/step - loss: 0.0143 - val_loss: 0.0140\n",
            "\n",
            "Epoch 00061: val_loss did not improve from 0.01381\n",
            "Epoch 62/200\n",
            "33/33 [==============================] - 3s 79ms/step - loss: 0.0142 - val_loss: 0.0141\n",
            "\n",
            "Epoch 00062: val_loss did not improve from 0.01381\n",
            "Epoch 63/200\n",
            "33/33 [==============================] - 3s 80ms/step - loss: 0.0146 - val_loss: 0.0141\n",
            "\n",
            "Epoch 00063: val_loss did not improve from 0.01381\n",
            "Epoch 64/200\n",
            "33/33 [==============================] - 3s 80ms/step - loss: 0.0137 - val_loss: 0.0140\n",
            "\n",
            "Epoch 00064: val_loss did not improve from 0.01381\n",
            "Epoch 65/200\n",
            "33/33 [==============================] - 3s 81ms/step - loss: 0.0143 - val_loss: 0.0140\n",
            "\n",
            "Epoch 00065: val_loss did not improve from 0.01381\n",
            "Epoch 66/200\n",
            "33/33 [==============================] - 3s 80ms/step - loss: 0.0143 - val_loss: 0.0140\n",
            "\n",
            "Epoch 00066: val_loss did not improve from 0.01381\n",
            "Epoch 67/200\n",
            "33/33 [==============================] - 3s 79ms/step - loss: 0.0142 - val_loss: 0.0141\n",
            "\n",
            "Epoch 00067: val_loss did not improve from 0.01381\n",
            "Epoch 68/200\n",
            "33/33 [==============================] - 3s 81ms/step - loss: 0.0146 - val_loss: 0.0140\n",
            "\n",
            "Epoch 00068: val_loss did not improve from 0.01381\n",
            "Epoch 69/200\n",
            "33/33 [==============================] - 3s 80ms/step - loss: 0.0138 - val_loss: 0.0140\n",
            "\n",
            "Epoch 00069: val_loss did not improve from 0.01381\n",
            "Epoch 70/200\n",
            "33/33 [==============================] - 3s 82ms/step - loss: 0.0142 - val_loss: 0.0140\n",
            "\n",
            "Epoch 00070: val_loss did not improve from 0.01381\n",
            "Epoch 71/200\n",
            "33/33 [==============================] - 3s 82ms/step - loss: 0.0139 - val_loss: 0.0140\n",
            "\n",
            "Epoch 00071: val_loss did not improve from 0.01381\n",
            "Epoch 72/200\n",
            "33/33 [==============================] - 3s 81ms/step - loss: 0.0138 - val_loss: 0.0143\n",
            "\n",
            "Epoch 00072: val_loss did not improve from 0.01381\n",
            "Epoch 73/200\n",
            "33/33 [==============================] - 3s 80ms/step - loss: 0.0140 - val_loss: 0.0140\n",
            "\n",
            "Epoch 00073: val_loss did not improve from 0.01381\n",
            "Epoch 74/200\n",
            "33/33 [==============================] - 3s 81ms/step - loss: 0.0142 - val_loss: 0.0140\n",
            "\n",
            "Epoch 00074: ReduceLROnPlateau reducing learning rate to 0.0002500000118743628.\n",
            "\n",
            "Epoch 00074: val_loss did not improve from 0.01381\n",
            "Epoch 00074: early stopping\n"
          ],
          "name": "stdout"
        }
      ]
    },
    {
      "cell_type": "code",
      "metadata": {
        "colab": {
          "base_uri": "https://localhost:8080/"
        },
        "id": "NnriTHUx_DO8",
        "outputId": "8bcd3e4c-46f8-4181-c246-e98f0e15b4af"
      },
      "source": [
        "print('MAE: ', mean_absolute_error(y_pred=results['prediction'], y_true=results['true values']))\n",
        "print('r2score: ', r2_score(y_pred=results['prediction'], y_true=results['true values']))\n",
        "print('RMSE: ', np.sqrt(mean_squared_error(y_pred=results['prediction'], y_true=results['true values'])))"
      ],
      "execution_count": null,
      "outputs": [
        {
          "output_type": "stream",
          "text": [
            "MAE:  8.41400768709226\n",
            "r2score:  0.20337325667897566\n",
            "RMSE:  21.01865367958975\n"
          ],
          "name": "stdout"
        }
      ]
    },
    {
      "cell_type": "markdown",
      "metadata": {
        "id": "3jLPcebRM7fn"
      },
      "source": [
        "RNN\n",
        "\n",
        "MAE:  8.642171708884126\n",
        "\n",
        "r2score:  0.17878022698562812\n",
        "\n",
        "RMSE:  21.340625880334347\n",
        "\n",
        "LSTM\n",
        "\n",
        "MAE:  8.37614424678541\n",
        "\n",
        "r2score:  0.20020083132782895\n",
        "\n",
        "RMSE:  21.06046363434815\n",
        "\n",
        "GRU\n",
        "\n",
        "MAE:  8.22016909158148\n",
        "\n",
        "r2score:  0.2022176998715498\n",
        "\n",
        "RMSE:  21.033892589796668"
      ]
    },
    {
      "cell_type": "markdown",
      "metadata": {
        "id": "9d3dEyVecmsl"
      },
      "source": [
        "The performance of this first model is clearly superior to the benchmark results, beating the best benchmark mean absolute error by about 2 CAD per MWh. Next, we will explore what an abstract error metrics means visually."
      ]
    },
    {
      "cell_type": "code",
      "metadata": {
        "colab": {
          "base_uri": "https://localhost:8080/",
          "height": 446
        },
        "id": "uW0NF5Fbcmbl",
        "outputId": "8b576c5f-f026-4fa6-ab61-b690a09f12c2"
      },
      "source": [
        "f, ax = plt.subplots(figsize=(12, 6))\n",
        "results.plot(ax=ax)\n",
        "ax.set_ylabel('Day-Ahead price in CAD/MWh', fontsize=14)\n",
        "ax.set_xlabel('Date', fontsize=14)\n",
        "ax.set_title('Long Term Predictive Performance', fontsize=14);"
      ],
      "execution_count": null,
      "outputs": [
        {
          "output_type": "display_data",
          "data": {
            "image/png": "[encoded data removed]",
            "text/plain": [
              "<Figure size 864x432 with 1 Axes>"
            ]
          },
          "metadata": {
            "tags": []
          }
        }
      ]
    },
    {
      "cell_type": "code",
      "metadata": {
        "colab": {
          "base_uri": "https://localhost:8080/",
          "height": 463
        },
        "id": "R8kqplHNcw18",
        "outputId": "554368f7-6165-42c2-bd2c-f31ed510fec5"
      },
      "source": [
        "\n",
        "f, ax = plt.subplots(figsize=(12, 6))\n",
        "results.loc['2019-05':'2019-05-2'].plot(ax=ax,fontsize=14)\n",
        "ax.set_ylabel('Day-Ahead price in CAD/MWh', fontsize=14)\n",
        "ax.set_xlabel('Date', fontsize=14)\n",
        "ax.set_title('Short Term predictive Performance', fontsize=14);\n",
        "ax.legend(fontsize=14)"
      ],
      "execution_count": null,
      "outputs": [
        {
          "output_type": "execute_result",
          "data": {
            "text/plain": [
              "<matplotlib.legend.Legend at 0x7fe12b1914a8>"
            ]
          },
          "metadata": {
            "tags": []
          },
          "execution_count": 89
        },
        {
          "output_type": "display_data",
          "data": {
            "image/png": "[encoded data removed]",
            "text/plain": [
              "<Figure size 864x432 with 1 Axes>"
            ]
          },
          "metadata": {
            "tags": []
          }
        }
      ]
    },
    {
      "cell_type": "code",
      "metadata": {
        "colab": {
          "base_uri": "https://localhost:8080/",
          "height": 302
        },
        "id": "CiAsNpEuc5ol",
        "outputId": "cd240e60-c301-4aa6-c277-035d7ec12960"
      },
      "source": [
        "f, (ax1,ax2) = plt.subplots(1,2)\n",
        "ax1.plot(hist.history['loss'], label='Training Loss')\n",
        "ax1.plot(hist.history['val_loss'], label='Validation Loss')\n",
        "\n",
        "#ax1.set_ylim([0, 0.0150])\n",
        "ax1.set_ylabel('Mean Squared Error')\n",
        "ax1.set_xlabel('Training Epoch');\n",
        "ax1.legend()\n",
        "\n",
        "ax2.plot(hist.history['lr'],label='Learning Rate')\n",
        "ax2.set_xlabel('Training Epoch')\n",
        "ax2.set_ylabel('Learning Rate')\n",
        "ax2.legend()\n",
        "plt.savefig('HOEPTrainingLoss.png',dpi=300)\n",
        "files.download('HOEPTrainingLoss.png')"
      ],
      "execution_count": null,
      "outputs": [
        {
          "output_type": "display_data",
          "data": {
            "application/javascript": [
              "\n",
              "    async function download(id, filename, size) {\n",
              "      if (!google.colab.kernel.accessAllowed) {\n",
              "        return;\n",
              "      }\n",
              "      const div = document.createElement('div');\n",
              "      const label = document.createElement('label');\n",
              "      label.textContent = `Downloading \"${filename}\": `;\n",
              "      div.appendChild(label);\n",
              "      const progress = document.createElement('progress');\n",
              "      progress.max = size;\n",
              "      div.appendChild(progress);\n",
              "      document.body.appendChild(div);\n",
              "\n",
              "      const buffers = [];\n",
              "      let downloaded = 0;\n",
              "\n",
              "      const channel = await google.colab.kernel.comms.open(id);\n",
              "      // Send a message to notify the kernel that we're ready.\n",
              "      channel.send({})\n",
              "\n",
              "      for await (const message of channel.messages) {\n",
              "        // Send a message to notify the kernel that we're ready.\n",
              "        channel.send({})\n",
              "        if (message.buffers) {\n",
              "          for (const buffer of message.buffers) {\n",
              "            buffers.push(buffer);\n",
              "            downloaded += buffer.byteLength;\n",
              "            progress.value = downloaded;\n",
              "          }\n",
              "        }\n",
              "      }\n",
              "      const blob = new Blob(buffers, {type: 'application/binary'});\n",
              "      const a = document.createElement('a');\n",
              "      a.href = window.URL.createObjectURL(blob);\n",
              "      a.download = filename;\n",
              "      div.appendChild(a);\n",
              "      a.click();\n",
              "      div.remove();\n",
              "    }\n",
              "  "
            ],
            "text/plain": [
              "<IPython.core.display.Javascript object>"
            ]
          },
          "metadata": {
            "tags": []
          }
        },
        {
          "output_type": "display_data",
          "data": {
            "application/javascript": [
              "download(\"download_e14d23cc-c66a-4599-96f2-fbfd7afa785c\", \"HOEPTrainingLoss.png\", 94468)"
            ],
            "text/plain": [
              "<IPython.core.display.Javascript object>"
            ]
          },
          "metadata": {
            "tags": []
          }
        },
        {
          "output_type": "display_data",
          "data": {
            "image/png": "[encoded data removed]",
            "text/plain": [
              "<Figure size 432x288 with 2 Axes>"
            ]
          },
          "metadata": {
            "tags": []
          }
        }
      ]
    },
    {
      "cell_type": "code",
      "metadata": {
        "colab": {
          "resources": {
            "http://localhost:8080/nbextensions/google.colab/files.js": {
              "data": "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",
              "ok": true,
              "headers": [
                [
                  "content-type",
                  "application/javascript"
                ]
              ],
              "status": 200,
              "status_text": ""
            }
          },
          "base_uri": "https://localhost:8080/",
          "height": 72
        },
        "id": "qUOR3O8pi_mL",
        "outputId": "cc98207e-20dd-457c-d3d5-08badd55c457"
      },
      "source": [
        "up=files.upload()"
      ],
      "execution_count": null,
      "outputs": [
        {
          "output_type": "display_data",
          "data": {
            "text/html": [
              "\n",
              "     <input type=\"file\" id=\"files-5c3a4dc9-8f23-48f3-b62a-14d81ef9e714\" name=\"files[]\" multiple disabled\n",
              "        style=\"border:none\" />\n",
              "     <output id=\"result-5c3a4dc9-8f23-48f3-b62a-14d81ef9e714\">\n",
              "      Upload widget is only available when the cell has been executed in the\n",
              "      current browser session. Please rerun this cell to enable.\n",
              "      </output>\n",
              "      <script src=\"/nbextensions/google.colab/files.js\"></script> "
            ],
            "text/plain": [
              "<IPython.core.display.HTML object>"
            ]
          },
          "metadata": {
            "tags": []
          }
        },
        {
          "output_type": "stream",
          "text": [
            "Saving ANNHOEP.csv to ANNHOEP.csv\n"
          ],
          "name": "stdout"
        }
      ]
    },
    {
      "cell_type": "code",
      "metadata": {
        "id": "K876GUqTgn5h"
      },
      "source": [
        "Ph1=pd.read_csv('ANNHOEP.csv',parse_dates=True,index_col=0)"
      ],
      "execution_count": null,
      "outputs": []
    },
    {
      "cell_type": "code",
      "metadata": {
        "colab": {
          "base_uri": "https://localhost:8080/",
          "height": 215
        },
        "id": "58c-71mngpSR",
        "outputId": "ed8b5b60-cd33-441d-a791-f675094a63b7"
      },
      "source": [
        "Ph=Ph1\n",
        "Ph['ConvGRU']['2019-05-10':'2019-05-17'].plot(ls='--',color='red',label='ConvGRU',figsize=(3.5,2.8))\n",
        "Ph['ConvLSTM']['2019-05-10':'2019-05-17'].plot(ls=':',color='green',label='ConvLSTM',figsize=(3.5,2.8))\n",
        "Ph['ConvRNN']['2019-5-10':'2019-05-17'].plot(ls='-.',color='black',label='ConvRNN',figsize=(3.5,2.8))\n",
        "Ph['Actual Prices']['2019-05-10':'2019-05-17'].plot(color='blue',label='Actual Prices',figsize=(3.5,2.8))\n",
        "plt.ylabel('Electricity Prices (CAD/MWh)')\n",
        "plt.legend()\n",
        "plt.savefig('HOEPANNForecasts.png',dpi=300)\n",
        "files.download('HOEPANNForecasts.png')"
      ],
      "execution_count": null,
      "outputs": [
        {
          "output_type": "display_data",
          "data": {
            "application/javascript": [
              "\n",
              "    async function download(id, filename, size) {\n",
              "      if (!google.colab.kernel.accessAllowed) {\n",
              "        return;\n",
              "      }\n",
              "      const div = document.createElement('div');\n",
              "      const label = document.createElement('label');\n",
              "      label.textContent = `Downloading \"${filename}\": `;\n",
              "      div.appendChild(label);\n",
              "      const progress = document.createElement('progress');\n",
              "      progress.max = size;\n",
              "      div.appendChild(progress);\n",
              "      document.body.appendChild(div);\n",
              "\n",
              "      const buffers = [];\n",
              "      let downloaded = 0;\n",
              "\n",
              "      const channel = await google.colab.kernel.comms.open(id);\n",
              "      // Send a message to notify the kernel that we're ready.\n",
              "      channel.send({})\n",
              "\n",
              "      for await (const message of channel.messages) {\n",
              "        // Send a message to notify the kernel that we're ready.\n",
              "        channel.send({})\n",
              "        if (message.buffers) {\n",
              "          for (const buffer of message.buffers) {\n",
              "            buffers.push(buffer);\n",
              "            downloaded += buffer.byteLength;\n",
              "            progress.value = downloaded;\n",
              "          }\n",
              "        }\n",
              "      }\n",
              "      const blob = new Blob(buffers, {type: 'application/binary'});\n",
              "      const a = document.createElement('a');\n",
              "      a.href = window.URL.createObjectURL(blob);\n",
              "      a.download = filename;\n",
              "      div.appendChild(a);\n",
              "      a.click();\n",
              "      div.remove();\n",
              "    }\n",
              "  "
            ],
            "text/plain": [
              "<IPython.core.display.Javascript object>"
            ]
          },
          "metadata": {
            "tags": []
          }
        },
        {
          "output_type": "display_data",
          "data": {
            "application/javascript": [
              "download(\"download_46ce25f4-7d58-452e-80d6-678ef55dfed4\", \"HOEPANNForecasts.png\", 196061)"
            ],
            "text/plain": [
              "<IPython.core.display.Javascript object>"
            ]
          },
          "metadata": {
            "tags": []
          }
        },
        {
          "output_type": "display_data",
          "data": {
            "image/png": "[encoded data removed]",
            "text/plain": [
              "<Figure size 252x201.6 with 1 Axes>"
            ]
          },
          "metadata": {
            "tags": []
          }
        }
      ]
    },
    {
      "cell_type": "code",
      "metadata": {
        "id": "w6UaJCNGmM2U"
      },
      "source": [
        "Ygru=Ph1['ConvGRU'].values.reshape(365,24)\n",
        "Ylstm=Ph1['ConvLSTM'].values.reshape(365,24)\n",
        "Yrnn=Ph1['ConvRNN'].values.reshape(365,24)\n",
        "Yt=Ph1['Actual Prices'].values.reshape(365,24)\n",
        "MAE_GRU=np.zeros(24)\n",
        "MAE_LSTM=np.zeros(24)\n",
        "MAE_RNN=np.zeros(24)\n",
        "\n",
        "for i in range(24):\n",
        "  MAE_GRU[i]=mean_absolute_error(Yt[:,i],Ygru[:,i])\n",
        "  MAE_LSTM[i]=mean_absolute_error(Yt[:,i],Ylstm[:,i])\n",
        "  MAE_RNN[i]=mean_absolute_error(Yt[:,i],Yrnn[:,i])"
      ],
      "execution_count": null,
      "outputs": []
    },
    {
      "cell_type": "code",
      "metadata": {
        "colab": {
          "base_uri": "https://localhost:8080/",
          "height": 215
        },
        "id": "b6OKhq_MmPtK",
        "outputId": "9ff9b511-a7ed-462f-819e-4ab5f69b75d8"
      },
      "source": [
        "hour=np.arange(1,25)\n",
        "MAE_DF=pd.DataFrame({'Hour':hour,'ConvGRU':MAE_GRU,'ConvLSTM':MAE_LSTM,'ConvRNN':MAE_RNN})\n",
        "MAE_DF.index=MAE_DF.Hour\n",
        "MAE_DF.drop(columns='Hour',inplace=True)\n",
        "\n",
        "\n",
        "MAE_DF.plot.bar(grid=False,color={'ConvGRU':'red','ConvLSTM':'green','ConvRNN':'blue'},figsize=(3.5,2.8),width=.8)\n",
        "plt.title('Hourly MAE of ANN HOEP Forecasting Model')\n",
        "plt.ylabel('MAE')\n",
        "\n",
        "plt.savefig('ANNHOEPResults.pdf',dpi=300)\n",
        "files.download('ANNHOEPResults.pdf')"
      ],
      "execution_count": null,
      "outputs": [
        {
          "output_type": "display_data",
          "data": {
            "application/javascript": [
              "\n",
              "    async function download(id, filename, size) {\n",
              "      if (!google.colab.kernel.accessAllowed) {\n",
              "        return;\n",
              "      }\n",
              "      const div = document.createElement('div');\n",
              "      const label = document.createElement('label');\n",
              "      label.textContent = `Downloading \"${filename}\": `;\n",
              "      div.appendChild(label);\n",
              "      const progress = document.createElement('progress');\n",
              "      progress.max = size;\n",
              "      div.appendChild(progress);\n",
              "      document.body.appendChild(div);\n",
              "\n",
              "      const buffers = [];\n",
              "      let downloaded = 0;\n",
              "\n",
              "      const channel = await google.colab.kernel.comms.open(id);\n",
              "      // Send a message to notify the kernel that we're ready.\n",
              "      channel.send({})\n",
              "\n",
              "      for await (const message of channel.messages) {\n",
              "        // Send a message to notify the kernel that we're ready.\n",
              "        channel.send({})\n",
              "        if (message.buffers) {\n",
              "          for (const buffer of message.buffers) {\n",
              "            buffers.push(buffer);\n",
              "            downloaded += buffer.byteLength;\n",
              "            progress.value = downloaded;\n",
              "          }\n",
              "        }\n",
              "      }\n",
              "      const blob = new Blob(buffers, {type: 'application/binary'});\n",
              "      const a = document.createElement('a');\n",
              "      a.href = window.URL.createObjectURL(blob);\n",
              "      a.download = filename;\n",
              "      div.appendChild(a);\n",
              "      a.click();\n",
              "      div.remove();\n",
              "    }\n",
              "  "
            ],
            "text/plain": [
              "<IPython.core.display.Javascript object>"
            ]
          },
          "metadata": {
            "tags": []
          }
        },
        {
          "output_type": "display_data",
          "data": {
            "application/javascript": [
              "download(\"download_3d170406-76f5-4581-8f93-b2e7fccd043e\", \"ANNHOEPResults.pdf\", 21402)"
            ],
            "text/plain": [
              "<IPython.core.display.Javascript object>"
            ]
          },
          "metadata": {
            "tags": []
          }
        },
        {
          "output_type": "display_data",
          "data": {
            "image/png": "[encoded data removed]",
            "text/plain": [
              "<Figure size 252x201.6 with 1 Axes>"
            ]
          },
          "metadata": {
            "tags": []
          }
        }
      ]
    },
    {
      "cell_type": "markdown",
      "metadata": {
        "id": "ISOUjVEV9yU2"
      },
      "source": [
        "**Adding More Features**\n",
        "\n",
        "In the following we are going to add more features to the model in order to decrease the level of forecasting error."
      ]
    },
    {
      "cell_type": "code",
      "metadata": {
        "colab": {
          "base_uri": "https://localhost:8080/"
        },
        "id": "zJyIeLRS4cwk",
        "outputId": "87a1da64-da0c-4cda-878c-a0ee33133d65"
      },
      "source": [
        "Features=features.values.reshape(len(features),timesteps,1)\n",
        "Features.shape"
      ],
      "execution_count": null,
      "outputs": [
        {
          "output_type": "execute_result",
          "data": {
            "text/plain": [
              "(3645, 168, 1)"
            ]
          },
          "metadata": {
            "tags": []
          },
          "execution_count": 112
        }
      ]
    },
    {
      "cell_type": "code",
      "metadata": {
        "id": "umGAgJRh7kLm"
      },
      "source": [
        "Pred=model.predict(Features)\n",
        "Y=da_scaler.inverse_transform(Pred.reshape(-1,1))"
      ],
      "execution_count": null,
      "outputs": []
    },
    {
      "cell_type": "code",
      "metadata": {
        "id": "ypf68fbv8lVb"
      },
      "source": [
        "Y=Y.flatten()"
      ],
      "execution_count": null,
      "outputs": []
    },
    {
      "cell_type": "code",
      "metadata": {
        "colab": {
          "base_uri": "https://localhost:8080/"
        },
        "id": "jF2pYI4W87Ue",
        "outputId": "9f42fbe2-dd1b-43d3-b605-0d0fcaabccf6"
      },
      "source": [
        "DF=df.iloc[168:]\n",
        "DF['Prediction']=Y"
      ],
      "execution_count": null,
      "outputs": [
        {
          "output_type": "stream",
          "text": [
            "/usr/local/lib/python3.6/dist-packages/ipykernel_launcher.py:2: SettingWithCopyWarning: \n",
            "A value is trying to be set on a copy of a slice from a DataFrame.\n",
            "Try using .loc[row_indexer,col_indexer] = value instead\n",
            "\n",
            "See the caveats in the documentation: https://pandas.pydata.org/pandas-docs/stable/user_guide/indexing.html#returning-a-view-versus-a-copy\n",
            "  \n"
          ],
          "name": "stderr"
        }
      ]
    },
    {
      "cell_type": "markdown",
      "metadata": {
        "id": "M2U2pnR80vTp"
      },
      "source": [
        "**Adding hour of the day, day of the week, and month of the year to the model**"
      ]
    },
    {
      "cell_type": "code",
      "metadata": {
        "colab": {
          "base_uri": "https://localhost:8080/",
          "height": 510
        },
        "id": "13R081or98IZ",
        "outputId": "989110dd-e5f3-4782-8da4-209632320288"
      },
      "source": [
        "DF['Month']=DF.index.month\n",
        "DF['Day']=DF.index.dayofweek\n",
        "DF['Hour']=DF.index.hour\n",
        "DF.head()"
      ],
      "execution_count": null,
      "outputs": [
        {
          "output_type": "stream",
          "text": [
            "/usr/local/lib/python3.6/dist-packages/ipykernel_launcher.py:1: SettingWithCopyWarning: \n",
            "A value is trying to be set on a copy of a slice from a DataFrame.\n",
            "Try using .loc[row_indexer,col_indexer] = value instead\n",
            "\n",
            "See the caveats in the documentation: https://pandas.pydata.org/pandas-docs/stable/user_guide/indexing.html#returning-a-view-versus-a-copy\n",
            "  \"\"\"Entry point for launching an IPython kernel.\n",
            "/usr/local/lib/python3.6/dist-packages/ipykernel_launcher.py:2: SettingWithCopyWarning: \n",
            "A value is trying to be set on a copy of a slice from a DataFrame.\n",
            "Try using .loc[row_indexer,col_indexer] = value instead\n",
            "\n",
            "See the caveats in the documentation: https://pandas.pydata.org/pandas-docs/stable/user_guide/indexing.html#returning-a-view-versus-a-copy\n",
            "  \n",
            "/usr/local/lib/python3.6/dist-packages/ipykernel_launcher.py:3: SettingWithCopyWarning: \n",
            "A value is trying to be set on a copy of a slice from a DataFrame.\n",
            "Try using .loc[row_indexer,col_indexer] = value instead\n",
            "\n",
            "See the caveats in the documentation: https://pandas.pydata.org/pandas-docs/stable/user_guide/indexing.html#returning-a-view-versus-a-copy\n",
            "  This is separate from the ipykernel package so we can avoid doing imports until\n"
          ],
          "name": "stderr"
        },
        {
          "output_type": "execute_result",
          "data": {
            "text/html": [
              "<div>\n",
              "<style scoped>\n",
              "    .dataframe tbody tr th:only-of-type {\n",
              "        vertical-align: middle;\n",
              "    }\n",
              "\n",
              "    .dataframe tbody tr th {\n",
              "        vertical-align: top;\n",
              "    }\n",
              "\n",
              "    .dataframe thead th {\n",
              "        text-align: right;\n",
              "    }\n",
              "</style>\n",
              "<table border=\"1\" class=\"dataframe\">\n",
              "  <thead>\n",
              "    <tr style=\"text-align: right;\">\n",
              "      <th></th>\n",
              "      <th>HOEP</th>\n",
              "      <th>Prediction</th>\n",
              "      <th>Month</th>\n",
              "      <th>Day</th>\n",
              "      <th>Hour</th>\n",
              "    </tr>\n",
              "  </thead>\n",
              "  <tbody>\n",
              "    <tr>\n",
              "      <th>2010-01-08 00:00:00</th>\n",
              "      <td>30.08</td>\n",
              "      <td>31.570770</td>\n",
              "      <td>1</td>\n",
              "      <td>4</td>\n",
              "      <td>0</td>\n",
              "    </tr>\n",
              "    <tr>\n",
              "      <th>2010-01-08 01:00:00</th>\n",
              "      <td>30.08</td>\n",
              "      <td>27.087173</td>\n",
              "      <td>1</td>\n",
              "      <td>4</td>\n",
              "      <td>1</td>\n",
              "    </tr>\n",
              "    <tr>\n",
              "      <th>2010-01-08 02:00:00</th>\n",
              "      <td>29.98</td>\n",
              "      <td>25.042501</td>\n",
              "      <td>1</td>\n",
              "      <td>4</td>\n",
              "      <td>2</td>\n",
              "    </tr>\n",
              "    <tr>\n",
              "      <th>2010-01-08 03:00:00</th>\n",
              "      <td>29.71</td>\n",
              "      <td>24.092222</td>\n",
              "      <td>1</td>\n",
              "      <td>4</td>\n",
              "      <td>3</td>\n",
              "    </tr>\n",
              "    <tr>\n",
              "      <th>2010-01-08 04:00:00</th>\n",
              "      <td>29.72</td>\n",
              "      <td>23.866840</td>\n",
              "      <td>1</td>\n",
              "      <td>4</td>\n",
              "      <td>4</td>\n",
              "    </tr>\n",
              "  </tbody>\n",
              "</table>\n",
              "</div>"
            ],
            "text/plain": [
              "                      HOEP  Prediction  Month  Day  Hour\n",
              "2010-01-08 00:00:00  30.08   31.570770      1    4     0\n",
              "2010-01-08 01:00:00  30.08   27.087173      1    4     1\n",
              "2010-01-08 02:00:00  29.98   25.042501      1    4     2\n",
              "2010-01-08 03:00:00  29.71   24.092222      1    4     3\n",
              "2010-01-08 04:00:00  29.72   23.866840      1    4     4"
            ]
          },
          "metadata": {
            "tags": []
          },
          "execution_count": 116
        }
      ]
    },
    {
      "cell_type": "code",
      "metadata": {
        "colab": {
          "base_uri": "https://localhost:8080/"
        },
        "id": "-_WhNRPqDyrv",
        "outputId": "deb27f87-e591-4498-f8bd-1d47899c6cab"
      },
      "source": [
        "\n",
        "#Y=df['2019'].values.reshape(365,24)\n",
        "Y=DF['HOEP']\n",
        "Y=Y.values.reshape(int(len(Y)/24),24)\n",
        "DF['Returns Volatility']=Y.reshape(-1,1)\n",
        "DF['Price Volatility']=0"
      ],
      "execution_count": null,
      "outputs": [
        {
          "output_type": "stream",
          "text": [
            "/usr/local/lib/python3.6/dist-packages/ipykernel_launcher.py:5: SettingWithCopyWarning: \n",
            "A value is trying to be set on a copy of a slice from a DataFrame.\n",
            "Try using .loc[row_indexer,col_indexer] = value instead\n",
            "\n",
            "See the caveats in the documentation: https://pandas.pydata.org/pandas-docs/stable/user_guide/indexing.html#returning-a-view-versus-a-copy\n",
            "  \"\"\"\n",
            "/usr/local/lib/python3.6/dist-packages/ipykernel_launcher.py:6: SettingWithCopyWarning: \n",
            "A value is trying to be set on a copy of a slice from a DataFrame.\n",
            "Try using .loc[row_indexer,col_indexer] = value instead\n",
            "\n",
            "See the caveats in the documentation: https://pandas.pydata.org/pandas-docs/stable/user_guide/indexing.html#returning-a-view-versus-a-copy\n",
            "  \n"
          ],
          "name": "stderr"
        }
      ]
    },
    {
      "cell_type": "code",
      "metadata": {
        "colab": {
          "base_uri": "https://localhost:8080/"
        },
        "id": "2Sxi7XPmj0Uw",
        "outputId": "aaf3c2e3-37a3-48c4-af47-bfde965c003b"
      },
      "source": [
        "Vol=np.zeros(24)\n",
        "Vol_Price=Vol\n",
        "for i in range(24):\n",
        "  p=Y[:,i]\n",
        "  p_bar=p.mean()\n",
        "  z1=p-p_bar\n",
        "  z2=np.sign(z1)\n",
        "  rho_p=np.corrcoef(z1,z2)[0,1]\n",
        "  t=np.abs(z1)/rho_p\n",
        "  Vol_Price[i]=t.mean()\n",
        "  r=p[1:]-p[:-1]\n",
        "  r_bar=r.mean()\n",
        "  x1=r-r_bar\n",
        "  x2=np.sign(x1)\n",
        "  rho=np.corrcoef(x1,x2)[0,1]\n",
        "  s=np.abs(x1)/rho\n",
        "  Vol[i]=s.mean()\n",
        "  l1=len(s)\n",
        "  l2=len(t)\n",
        "  DF['Returns Volatility'].iloc[i*l1:(i+1)*l1]=s\n",
        "  DF['Price Volatility'].iloc[i*l2:(i+1)*l2]=t"
      ],
      "execution_count": null,
      "outputs": [
        {
          "output_type": "stream",
          "text": [
            "/usr/local/lib/python3.6/dist-packages/pandas/core/indexing.py:670: SettingWithCopyWarning: \n",
            "A value is trying to be set on a copy of a slice from a DataFrame\n",
            "\n",
            "See the caveats in the documentation: https://pandas.pydata.org/pandas-docs/stable/user_guide/indexing.html#returning-a-view-versus-a-copy\n",
            "  iloc._setitem_with_indexer(indexer, value)\n",
            "/usr/local/lib/python3.6/dist-packages/ipykernel_launcher.py:20: SettingWithCopyWarning: \n",
            "A value is trying to be set on a copy of a slice from a DataFrame\n",
            "\n",
            "See the caveats in the documentation: https://pandas.pydata.org/pandas-docs/stable/user_guide/indexing.html#returning-a-view-versus-a-copy\n",
            "/usr/local/lib/python3.6/dist-packages/ipykernel_launcher.py:21: SettingWithCopyWarning: \n",
            "A value is trying to be set on a copy of a slice from a DataFrame\n",
            "\n",
            "See the caveats in the documentation: https://pandas.pydata.org/pandas-docs/stable/user_guide/indexing.html#returning-a-view-versus-a-copy\n"
          ],
          "name": "stderr"
        }
      ]
    },
    {
      "cell_type": "code",
      "metadata": {
        "colab": {
          "base_uri": "https://localhost:8080/",
          "height": 419
        },
        "id": "NKzl3x38Kfcd",
        "outputId": "c7dbba97-430c-4f68-9210-9b6344150667"
      },
      "source": [
        "DF"
      ],
      "execution_count": null,
      "outputs": [
        {
          "output_type": "execute_result",
          "data": {
            "text/html": [
              "<div>\n",
              "<style scoped>\n",
              "    .dataframe tbody tr th:only-of-type {\n",
              "        vertical-align: middle;\n",
              "    }\n",
              "\n",
              "    .dataframe tbody tr th {\n",
              "        vertical-align: top;\n",
              "    }\n",
              "\n",
              "    .dataframe thead th {\n",
              "        text-align: right;\n",
              "    }\n",
              "</style>\n",
              "<table border=\"1\" class=\"dataframe\">\n",
              "  <thead>\n",
              "    <tr style=\"text-align: right;\">\n",
              "      <th></th>\n",
              "      <th>HOEP</th>\n",
              "      <th>Prediction</th>\n",
              "      <th>Month</th>\n",
              "      <th>Day</th>\n",
              "      <th>Hour</th>\n",
              "      <th>H_Vol</th>\n",
              "      <th>Returns  Volatility</th>\n",
              "      <th>Returns Volatility</th>\n",
              "      <th>Price Volatility</th>\n",
              "    </tr>\n",
              "  </thead>\n",
              "  <tbody>\n",
              "    <tr>\n",
              "      <th>2010-01-08 00:00:00</th>\n",
              "      <td>30.08</td>\n",
              "      <td>31.570770</td>\n",
              "      <td>1</td>\n",
              "      <td>4</td>\n",
              "      <td>0</td>\n",
              "      <td>30.08</td>\n",
              "      <td>30.08</td>\n",
              "      <td>8.166751</td>\n",
              "      <td>20.794798</td>\n",
              "    </tr>\n",
              "    <tr>\n",
              "      <th>2010-01-08 01:00:00</th>\n",
              "      <td>30.08</td>\n",
              "      <td>27.087173</td>\n",
              "      <td>1</td>\n",
              "      <td>4</td>\n",
              "      <td>1</td>\n",
              "      <td>30.08</td>\n",
              "      <td>30.08</td>\n",
              "      <td>2.915773</td>\n",
              "      <td>27.316704</td>\n",
              "    </tr>\n",
              "    <tr>\n",
              "      <th>2010-01-08 02:00:00</th>\n",
              "      <td>29.98</td>\n",
              "      <td>25.042501</td>\n",
              "      <td>1</td>\n",
              "      <td>4</td>\n",
              "      <td>2</td>\n",
              "      <td>29.98</td>\n",
              "      <td>29.98</td>\n",
              "      <td>4.182887</td>\n",
              "      <td>24.971239</td>\n",
              "    </tr>\n",
              "    <tr>\n",
              "      <th>2010-01-08 03:00:00</th>\n",
              "      <td>29.71</td>\n",
              "      <td>24.092222</td>\n",
              "      <td>1</td>\n",
              "      <td>4</td>\n",
              "      <td>3</td>\n",
              "      <td>29.71</td>\n",
              "      <td>29.71</td>\n",
              "      <td>1.471847</td>\n",
              "      <td>21.611928</td>\n",
              "    </tr>\n",
              "    <tr>\n",
              "      <th>2010-01-08 04:00:00</th>\n",
              "      <td>29.72</td>\n",
              "      <td>23.866840</td>\n",
              "      <td>1</td>\n",
              "      <td>4</td>\n",
              "      <td>4</td>\n",
              "      <td>29.72</td>\n",
              "      <td>29.72</td>\n",
              "      <td>4.693515</td>\n",
              "      <td>22.777094</td>\n",
              "    </tr>\n",
              "    <tr>\n",
              "      <th>...</th>\n",
              "      <td>...</td>\n",
              "      <td>...</td>\n",
              "      <td>...</td>\n",
              "      <td>...</td>\n",
              "      <td>...</td>\n",
              "      <td>...</td>\n",
              "      <td>...</td>\n",
              "      <td>...</td>\n",
              "      <td>...</td>\n",
              "    </tr>\n",
              "    <tr>\n",
              "      <th>2019-12-31 19:00:00</th>\n",
              "      <td>0.00</td>\n",
              "      <td>15.908401</td>\n",
              "      <td>12</td>\n",
              "      <td>1</td>\n",
              "      <td>19</td>\n",
              "      <td>0.00</td>\n",
              "      <td>0.00</td>\n",
              "      <td>0.000000</td>\n",
              "      <td>1.770071</td>\n",
              "    </tr>\n",
              "    <tr>\n",
              "      <th>2019-12-31 20:00:00</th>\n",
              "      <td>0.00</td>\n",
              "      <td>12.820686</td>\n",
              "      <td>12</td>\n",
              "      <td>1</td>\n",
              "      <td>20</td>\n",
              "      <td>0.00</td>\n",
              "      <td>0.00</td>\n",
              "      <td>0.000000</td>\n",
              "      <td>4.910051</td>\n",
              "    </tr>\n",
              "    <tr>\n",
              "      <th>2019-12-31 21:00:00</th>\n",
              "      <td>-0.05</td>\n",
              "      <td>11.875637</td>\n",
              "      <td>12</td>\n",
              "      <td>1</td>\n",
              "      <td>21</td>\n",
              "      <td>-0.05</td>\n",
              "      <td>-0.05</td>\n",
              "      <td>-0.050000</td>\n",
              "      <td>21.437904</td>\n",
              "    </tr>\n",
              "    <tr>\n",
              "      <th>2019-12-31 22:00:00</th>\n",
              "      <td>-0.04</td>\n",
              "      <td>7.416037</td>\n",
              "      <td>12</td>\n",
              "      <td>1</td>\n",
              "      <td>22</td>\n",
              "      <td>-0.04</td>\n",
              "      <td>-0.04</td>\n",
              "      <td>-0.040000</td>\n",
              "      <td>27.202345</td>\n",
              "    </tr>\n",
              "    <tr>\n",
              "      <th>2019-12-31 23:00:00</th>\n",
              "      <td>-0.02</td>\n",
              "      <td>5.607050</td>\n",
              "      <td>12</td>\n",
              "      <td>1</td>\n",
              "      <td>23</td>\n",
              "      <td>-0.02</td>\n",
              "      <td>-0.02</td>\n",
              "      <td>-0.020000</td>\n",
              "      <td>27.186723</td>\n",
              "    </tr>\n",
              "  </tbody>\n",
              "</table>\n",
              "<p>87480 rows × 9 columns</p>\n",
              "</div>"
            ],
            "text/plain": [
              "                      HOEP  Prediction  ...  Returns Volatility  Price Volatility\n",
              "2010-01-08 00:00:00  30.08   31.570770  ...            8.166751         20.794798\n",
              "2010-01-08 01:00:00  30.08   27.087173  ...            2.915773         27.316704\n",
              "2010-01-08 02:00:00  29.98   25.042501  ...            4.182887         24.971239\n",
              "2010-01-08 03:00:00  29.71   24.092222  ...            1.471847         21.611928\n",
              "2010-01-08 04:00:00  29.72   23.866840  ...            4.693515         22.777094\n",
              "...                    ...         ...  ...                 ...               ...\n",
              "2019-12-31 19:00:00   0.00   15.908401  ...            0.000000          1.770071\n",
              "2019-12-31 20:00:00   0.00   12.820686  ...            0.000000          4.910051\n",
              "2019-12-31 21:00:00  -0.05   11.875637  ...           -0.050000         21.437904\n",
              "2019-12-31 22:00:00  -0.04    7.416037  ...           -0.040000         27.202345\n",
              "2019-12-31 23:00:00  -0.02    5.607050  ...           -0.020000         27.186723\n",
              "\n",
              "[87480 rows x 9 columns]"
            ]
          },
          "metadata": {
            "tags": []
          },
          "execution_count": 127
        }
      ]
    },
    {
      "cell_type": "code",
      "metadata": {
        "colab": {
          "base_uri": "https://localhost:8080/"
        },
        "id": "60ybDtp69JDr",
        "outputId": "1914e10b-c2a8-4c19-a96d-ad789a9cb850"
      },
      "source": [
        "volatility=np.zeros(int(len(df['2015':])))\n",
        "l=len(df['2015':])/24\n",
        "l=int(l)\n",
        "for i in range(l):\n",
        "  a=i*24\n",
        "  b=(i+1)*24\n",
        "  volatility[a:b]=Vol\n",
        "len(volatility)\n"
      ],
      "execution_count": null,
      "outputs": [
        {
          "output_type": "execute_result",
          "data": {
            "text/plain": [
              "43824"
            ]
          },
          "metadata": {
            "tags": []
          },
          "execution_count": 128
        }
      ]
    },
    {
      "cell_type": "code",
      "metadata": {
        "id": "yWhXqfG6kMAT"
      },
      "source": [
        "DF_prep=DF"
      ],
      "execution_count": null,
      "outputs": []
    },
    {
      "cell_type": "code",
      "metadata": {
        "colab": {
          "resources": {
            "http://localhost:8080/nbextensions/google.colab/files.js": {
              "data": "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",
              "ok": true,
              "headers": [
                [
                  "content-type",
                  "application/javascript"
                ]
              ],
              "status": 200,
              "status_text": ""
            }
          },
          "base_uri": "https://localhost:8080/",
          "height": 72
        },
        "id": "3_T-6GHbowaC",
        "outputId": "54e40dc9-fd21-4eaa-a29b-5a3345778dd8"
      },
      "source": [
        "up=files.upload()"
      ],
      "execution_count": null,
      "outputs": [
        {
          "output_type": "display_data",
          "data": {
            "text/html": [
              "\n",
              "     <input type=\"file\" id=\"files-df4b31d9-6dea-4b4c-85fa-fc66bffb5e38\" name=\"files[]\" multiple disabled\n",
              "        style=\"border:none\" />\n",
              "     <output id=\"result-df4b31d9-6dea-4b4c-85fa-fc66bffb5e38\">\n",
              "      Upload widget is only available when the cell has been executed in the\n",
              "      current browser session. Please rerun this cell to enable.\n",
              "      </output>\n",
              "      <script src=\"/nbextensions/google.colab/files.js\"></script> "
            ],
            "text/plain": [
              "<IPython.core.display.HTML object>"
            ]
          },
          "metadata": {
            "tags": []
          }
        },
        {
          "output_type": "stream",
          "text": [
            "Saving Generation.csv to Generation.csv\n"
          ],
          "name": "stdout"
        }
      ]
    },
    {
      "cell_type": "code",
      "metadata": {
        "colab": {
          "base_uri": "https://localhost:8080/",
          "height": 204
        },
        "id": "HdqXgO1DpBeP",
        "outputId": "0ee4e93a-8f51-491a-91d6-ea43a4539da5"
      },
      "source": [
        "DF_Gen=pd.read_csv('Generation.csv')\n",
        "DF_Gen.head()"
      ],
      "execution_count": null,
      "outputs": [
        {
          "output_type": "execute_result",
          "data": {
            "text/html": [
              "<div>\n",
              "<style scoped>\n",
              "    .dataframe tbody tr th:only-of-type {\n",
              "        vertical-align: middle;\n",
              "    }\n",
              "\n",
              "    .dataframe tbody tr th {\n",
              "        vertical-align: top;\n",
              "    }\n",
              "\n",
              "    .dataframe thead th {\n",
              "        text-align: right;\n",
              "    }\n",
              "</style>\n",
              "<table border=\"1\" class=\"dataframe\">\n",
              "  <thead>\n",
              "    <tr style=\"text-align: right;\">\n",
              "      <th></th>\n",
              "      <th>Date</th>\n",
              "      <th>Hour</th>\n",
              "      <th>NUCLEAR</th>\n",
              "      <th>GAS</th>\n",
              "      <th>HYDRO</th>\n",
              "      <th>WIND</th>\n",
              "      <th>SOLAR</th>\n",
              "      <th>BIOFUEL</th>\n",
              "      <th>Total Output</th>\n",
              "    </tr>\n",
              "  </thead>\n",
              "  <tbody>\n",
              "    <tr>\n",
              "      <th>0</th>\n",
              "      <td>1/1/2015</td>\n",
              "      <td>1</td>\n",
              "      <td>11564</td>\n",
              "      <td>957</td>\n",
              "      <td>3173</td>\n",
              "      <td>2504</td>\n",
              "      <td>0.0</td>\n",
              "      <td>20</td>\n",
              "      <td>18218</td>\n",
              "    </tr>\n",
              "    <tr>\n",
              "      <th>1</th>\n",
              "      <td>1/1/2015</td>\n",
              "      <td>2</td>\n",
              "      <td>11560</td>\n",
              "      <td>946</td>\n",
              "      <td>3100</td>\n",
              "      <td>2262</td>\n",
              "      <td>0.0</td>\n",
              "      <td>20</td>\n",
              "      <td>17888</td>\n",
              "    </tr>\n",
              "    <tr>\n",
              "      <th>2</th>\n",
              "      <td>1/1/2015</td>\n",
              "      <td>3</td>\n",
              "      <td>11560</td>\n",
              "      <td>947</td>\n",
              "      <td>3051</td>\n",
              "      <td>2025</td>\n",
              "      <td>0.0</td>\n",
              "      <td>20</td>\n",
              "      <td>17603</td>\n",
              "    </tr>\n",
              "    <tr>\n",
              "      <th>3</th>\n",
              "      <td>1/1/2015</td>\n",
              "      <td>4</td>\n",
              "      <td>11444</td>\n",
              "      <td>949</td>\n",
              "      <td>3086</td>\n",
              "      <td>1950</td>\n",
              "      <td>0.0</td>\n",
              "      <td>22</td>\n",
              "      <td>17451</td>\n",
              "    </tr>\n",
              "    <tr>\n",
              "      <th>4</th>\n",
              "      <td>1/1/2015</td>\n",
              "      <td>5</td>\n",
              "      <td>11174</td>\n",
              "      <td>946</td>\n",
              "      <td>3131</td>\n",
              "      <td>2015</td>\n",
              "      <td>0.0</td>\n",
              "      <td>21</td>\n",
              "      <td>17287</td>\n",
              "    </tr>\n",
              "  </tbody>\n",
              "</table>\n",
              "</div>"
            ],
            "text/plain": [
              "       Date  Hour  NUCLEAR  GAS  HYDRO  WIND  SOLAR  BIOFUEL  Total Output\n",
              "0  1/1/2015     1    11564  957   3173  2504    0.0       20         18218\n",
              "1  1/1/2015     2    11560  946   3100  2262    0.0       20         17888\n",
              "2  1/1/2015     3    11560  947   3051  2025    0.0       20         17603\n",
              "3  1/1/2015     4    11444  949   3086  1950    0.0       22         17451\n",
              "4  1/1/2015     5    11174  946   3131  2015    0.0       21         17287"
            ]
          },
          "metadata": {
            "tags": []
          },
          "execution_count": 45
        }
      ]
    },
    {
      "cell_type": "code",
      "metadata": {
        "colab": {
          "base_uri": "https://localhost:8080/"
        },
        "id": "pXzZUHIuqRTl",
        "outputId": "4960b53e-c57c-4915-b93d-2b16c1b495a1"
      },
      "source": [
        "DF_Gen['WIND'].values"
      ],
      "execution_count": null,
      "outputs": [
        {
          "output_type": "execute_result",
          "data": {
            "text/plain": [
              "array([2504, 2262, 2025, ..., 1260, 1142, 1463])"
            ]
          },
          "metadata": {
            "tags": []
          },
          "execution_count": 46
        }
      ]
    },
    {
      "cell_type": "code",
      "metadata": {
        "colab": {
          "resources": {
            "http://localhost:8080/nbextensions/google.colab/files.js": {
              "data": "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",
              "ok": true,
              "headers": [
                [
                  "content-type",
                  "application/javascript"
                ]
              ],
              "status": 200,
              "status_text": ""
            }
          },
          "base_uri": "https://localhost:8080/",
          "height": 72
        },
        "id": "PBzq8vYw_s5z",
        "outputId": "2170bf0d-f9a0-48cc-8e34-e945864f9b3e"
      },
      "source": [
        "up=files.upload()"
      ],
      "execution_count": null,
      "outputs": [
        {
          "output_type": "display_data",
          "data": {
            "text/html": [
              "\n",
              "     <input type=\"file\" id=\"files-72654f09-329c-4012-aee4-2f55377e16da\" name=\"files[]\" multiple disabled\n",
              "        style=\"border:none\" />\n",
              "     <output id=\"result-72654f09-329c-4012-aee4-2f55377e16da\">\n",
              "      Upload widget is only available when the cell has been executed in the\n",
              "      current browser session. Please rerun this cell to enable.\n",
              "      </output>\n",
              "      <script src=\"/nbextensions/google.colab/files.js\"></script> "
            ],
            "text/plain": [
              "<IPython.core.display.HTML object>"
            ]
          },
          "metadata": {
            "tags": []
          }
        },
        {
          "output_type": "stream",
          "text": [
            "Saving Load.csv to Load.csv\n"
          ],
          "name": "stdout"
        }
      ]
    },
    {
      "cell_type": "code",
      "metadata": {
        "colab": {
          "base_uri": "https://localhost:8080/",
          "height": 419
        },
        "id": "hnloE2Qo_y6-",
        "outputId": "e535e260-7a3a-4117-ac4d-8ec4ae4f35c8"
      },
      "source": [
        "DF_Met=pd.read_csv('Load.csv')\n",
        "DF_Met.index=pd.date_range('2015-01-01',periods=len(DF_Met),freq='H')\n",
        "DF_Met.drop(columns='time',inplace=True)\n",
        "DF_Met"
      ],
      "execution_count": null,
      "outputs": [
        {
          "output_type": "execute_result",
          "data": {
            "text/html": [
              "<div>\n",
              "<style scoped>\n",
              "    .dataframe tbody tr th:only-of-type {\n",
              "        vertical-align: middle;\n",
              "    }\n",
              "\n",
              "    .dataframe tbody tr th {\n",
              "        vertical-align: top;\n",
              "    }\n",
              "\n",
              "    .dataframe thead th {\n",
              "        text-align: right;\n",
              "    }\n",
              "</style>\n",
              "<table border=\"1\" class=\"dataframe\">\n",
              "  <thead>\n",
              "    <tr style=\"text-align: right;\">\n",
              "      <th></th>\n",
              "      <th>precipitation</th>\n",
              "      <th>temperature</th>\n",
              "      <th>irradiance_surface</th>\n",
              "      <th>irradiance_toa</th>\n",
              "      <th>snowfall</th>\n",
              "      <th>snow_mass</th>\n",
              "      <th>cloud_cover</th>\n",
              "      <th>air_density</th>\n",
              "      <th>Ontario Demand</th>\n",
              "    </tr>\n",
              "  </thead>\n",
              "  <tbody>\n",
              "    <tr>\n",
              "      <th>2015-01-01 00:00:00</th>\n",
              "      <td>0.0106</td>\n",
              "      <td>-7.234</td>\n",
              "      <td>0.0000</td>\n",
              "      <td>0.0000</td>\n",
              "      <td>0.0106</td>\n",
              "      <td>2.8822</td>\n",
              "      <td>0.9042</td>\n",
              "      <td>1.3015</td>\n",
              "      <td>14960</td>\n",
              "    </tr>\n",
              "    <tr>\n",
              "      <th>2015-01-01 01:00:00</th>\n",
              "      <td>0.0087</td>\n",
              "      <td>-7.308</td>\n",
              "      <td>0.0000</td>\n",
              "      <td>0.0000</td>\n",
              "      <td>0.0087</td>\n",
              "      <td>2.8862</td>\n",
              "      <td>0.8513</td>\n",
              "      <td>1.3005</td>\n",
              "      <td>14476</td>\n",
              "    </tr>\n",
              "    <tr>\n",
              "      <th>2015-01-01 02:00:00</th>\n",
              "      <td>0.0083</td>\n",
              "      <td>-7.518</td>\n",
              "      <td>0.0000</td>\n",
              "      <td>0.0000</td>\n",
              "      <td>0.0083</td>\n",
              "      <td>2.8897</td>\n",
              "      <td>0.8154</td>\n",
              "      <td>1.3004</td>\n",
              "      <td>13979</td>\n",
              "    </tr>\n",
              "    <tr>\n",
              "      <th>2015-01-01 03:00:00</th>\n",
              "      <td>0.0095</td>\n",
              "      <td>-7.774</td>\n",
              "      <td>0.0000</td>\n",
              "      <td>0.0000</td>\n",
              "      <td>0.0095</td>\n",
              "      <td>2.8943</td>\n",
              "      <td>0.7639</td>\n",
              "      <td>1.3009</td>\n",
              "      <td>13670</td>\n",
              "    </tr>\n",
              "    <tr>\n",
              "      <th>2015-01-01 04:00:00</th>\n",
              "      <td>0.0103</td>\n",
              "      <td>-7.918</td>\n",
              "      <td>0.0000</td>\n",
              "      <td>0.0000</td>\n",
              "      <td>0.0103</td>\n",
              "      <td>2.9005</td>\n",
              "      <td>0.7003</td>\n",
              "      <td>1.3010</td>\n",
              "      <td>13567</td>\n",
              "    </tr>\n",
              "    <tr>\n",
              "      <th>...</th>\n",
              "      <td>...</td>\n",
              "      <td>...</td>\n",
              "      <td>...</td>\n",
              "      <td>...</td>\n",
              "      <td>...</td>\n",
              "      <td>...</td>\n",
              "      <td>...</td>\n",
              "      <td>...</td>\n",
              "      <td>...</td>\n",
              "    </tr>\n",
              "    <tr>\n",
              "      <th>2019-12-31 19:00:00</th>\n",
              "      <td>0.1723</td>\n",
              "      <td>-0.600</td>\n",
              "      <td>74.7493</td>\n",
              "      <td>393.6194</td>\n",
              "      <td>0.1477</td>\n",
              "      <td>7.3994</td>\n",
              "      <td>0.8581</td>\n",
              "      <td>1.2457</td>\n",
              "      <td>15909</td>\n",
              "    </tr>\n",
              "    <tr>\n",
              "      <th>2019-12-31 20:00:00</th>\n",
              "      <td>0.1430</td>\n",
              "      <td>-0.730</td>\n",
              "      <td>45.3361</td>\n",
              "      <td>236.8590</td>\n",
              "      <td>0.1181</td>\n",
              "      <td>7.5188</td>\n",
              "      <td>0.8028</td>\n",
              "      <td>1.2463</td>\n",
              "      <td>15198</td>\n",
              "    </tr>\n",
              "    <tr>\n",
              "      <th>2019-12-31 21:00:00</th>\n",
              "      <td>0.1234</td>\n",
              "      <td>-0.999</td>\n",
              "      <td>9.4692</td>\n",
              "      <td>52.2036</td>\n",
              "      <td>0.1065</td>\n",
              "      <td>7.6262</td>\n",
              "      <td>0.7567</td>\n",
              "      <td>1.2471</td>\n",
              "      <td>14678</td>\n",
              "    </tr>\n",
              "    <tr>\n",
              "      <th>2019-12-31 22:00:00</th>\n",
              "      <td>0.0986</td>\n",
              "      <td>-1.262</td>\n",
              "      <td>0.0079</td>\n",
              "      <td>0.0352</td>\n",
              "      <td>0.0839</td>\n",
              "      <td>7.7194</td>\n",
              "      <td>0.6732</td>\n",
              "      <td>1.2485</td>\n",
              "      <td>14136</td>\n",
              "    </tr>\n",
              "    <tr>\n",
              "      <th>2019-12-31 23:00:00</th>\n",
              "      <td>0.0625</td>\n",
              "      <td>-1.481</td>\n",
              "      <td>0.0000</td>\n",
              "      <td>0.0000</td>\n",
              "      <td>0.0539</td>\n",
              "      <td>7.7858</td>\n",
              "      <td>0.5703</td>\n",
              "      <td>1.2501</td>\n",
              "      <td>13578</td>\n",
              "    </tr>\n",
              "  </tbody>\n",
              "</table>\n",
              "<p>43824 rows × 9 columns</p>\n",
              "</div>"
            ],
            "text/plain": [
              "                     precipitation  temperature  ...  air_density  Ontario Demand\n",
              "2015-01-01 00:00:00         0.0106       -7.234  ...       1.3015           14960\n",
              "2015-01-01 01:00:00         0.0087       -7.308  ...       1.3005           14476\n",
              "2015-01-01 02:00:00         0.0083       -7.518  ...       1.3004           13979\n",
              "2015-01-01 03:00:00         0.0095       -7.774  ...       1.3009           13670\n",
              "2015-01-01 04:00:00         0.0103       -7.918  ...       1.3010           13567\n",
              "...                            ...          ...  ...          ...             ...\n",
              "2019-12-31 19:00:00         0.1723       -0.600  ...       1.2457           15909\n",
              "2019-12-31 20:00:00         0.1430       -0.730  ...       1.2463           15198\n",
              "2019-12-31 21:00:00         0.1234       -0.999  ...       1.2471           14678\n",
              "2019-12-31 22:00:00         0.0986       -1.262  ...       1.2485           14136\n",
              "2019-12-31 23:00:00         0.0625       -1.481  ...       1.2501           13578\n",
              "\n",
              "[43824 rows x 9 columns]"
            ]
          },
          "metadata": {
            "tags": []
          },
          "execution_count": 58
        }
      ]
    },
    {
      "cell_type": "code",
      "metadata": {
        "colab": {
          "resources": {
            "http://localhost:8080/nbextensions/google.colab/files.js": {
              "data": "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",
              "ok": true,
              "headers": [
                [
                  "content-type",
                  "application/javascript"
                ]
              ],
              "status": 200,
              "status_text": ""
            }
          },
          "base_uri": "https://localhost:8080/",
          "height": 72
        },
        "id": "bX2yuNzytS-p",
        "outputId": "e3d65642-c351-4bb9-fd60-86e8ab886572"
      },
      "source": [
        "up=files.upload()"
      ],
      "execution_count": null,
      "outputs": [
        {
          "output_type": "display_data",
          "data": {
            "text/html": [
              "\n",
              "     <input type=\"file\" id=\"files-28283830-169b-4fb9-b19a-16af0edafbc0\" name=\"files[]\" multiple disabled\n",
              "        style=\"border:none\" />\n",
              "     <output id=\"result-28283830-169b-4fb9-b19a-16af0edafbc0\">\n",
              "      Upload widget is only available when the cell has been executed in the\n",
              "      current browser session. Please rerun this cell to enable.\n",
              "      </output>\n",
              "      <script src=\"/nbextensions/google.colab/files.js\"></script> "
            ],
            "text/plain": [
              "<IPython.core.display.HTML object>"
            ]
          },
          "metadata": {
            "tags": []
          }
        },
        {
          "output_type": "stream",
          "text": [
            "Saving Demand.csv to Demand.csv\n"
          ],
          "name": "stdout"
        }
      ]
    },
    {
      "cell_type": "code",
      "metadata": {
        "colab": {
          "base_uri": "https://localhost:8080/"
        },
        "id": "ianXPcmsBoWV",
        "outputId": "084b1e6e-3912-499b-bb4d-c96773c65c8e"
      },
      "source": [
        "pd.read_csv('Demand.csv').columns"
      ],
      "execution_count": null,
      "outputs": [
        {
          "output_type": "execute_result",
          "data": {
            "text/plain": [
              "Index(['Date', 'Hour', 'Market Demand', 'Ontario Demand'], dtype='object')"
            ]
          },
          "metadata": {
            "tags": []
          },
          "execution_count": 48
        }
      ]
    },
    {
      "cell_type": "code",
      "metadata": {
        "colab": {
          "base_uri": "https://localhost:8080/",
          "height": 204
        },
        "id": "oo6fbGlhtdGY",
        "outputId": "23944814-e43e-4fec-bdfc-c0cf8bff7714"
      },
      "source": [
        "DF_Load=pd.read_csv('Demand.csv')\n",
        "DF_Load.index=pd.date_range(start='2010-01-01',periods=len(DF_Load),freq='H')\n",
        "DF_Load.drop(columns=['Date','Hour'],inplace=True)\n",
        "DF_Load=DF_Load['2015':]\n",
        "DF_Load.head()"
      ],
      "execution_count": null,
      "outputs": [
        {
          "output_type": "execute_result",
          "data": {
            "text/html": [
              "<div>\n",
              "<style scoped>\n",
              "    .dataframe tbody tr th:only-of-type {\n",
              "        vertical-align: middle;\n",
              "    }\n",
              "\n",
              "    .dataframe tbody tr th {\n",
              "        vertical-align: top;\n",
              "    }\n",
              "\n",
              "    .dataframe thead th {\n",
              "        text-align: right;\n",
              "    }\n",
              "</style>\n",
              "<table border=\"1\" class=\"dataframe\">\n",
              "  <thead>\n",
              "    <tr style=\"text-align: right;\">\n",
              "      <th></th>\n",
              "      <th>Market Demand</th>\n",
              "      <th>Ontario Demand</th>\n",
              "    </tr>\n",
              "  </thead>\n",
              "  <tbody>\n",
              "    <tr>\n",
              "      <th>2015-01-01 00:00:00</th>\n",
              "      <td>18358</td>\n",
              "      <td>14960</td>\n",
              "    </tr>\n",
              "    <tr>\n",
              "      <th>2015-01-01 01:00:00</th>\n",
              "      <td>18012</td>\n",
              "      <td>14476</td>\n",
              "    </tr>\n",
              "    <tr>\n",
              "      <th>2015-01-01 02:00:00</th>\n",
              "      <td>17795</td>\n",
              "      <td>13979</td>\n",
              "    </tr>\n",
              "    <tr>\n",
              "      <th>2015-01-01 03:00:00</th>\n",
              "      <td>17559</td>\n",
              "      <td>13670</td>\n",
              "    </tr>\n",
              "    <tr>\n",
              "      <th>2015-01-01 04:00:00</th>\n",
              "      <td>17402</td>\n",
              "      <td>13567</td>\n",
              "    </tr>\n",
              "  </tbody>\n",
              "</table>\n",
              "</div>"
            ],
            "text/plain": [
              "                     Market Demand  Ontario Demand\n",
              "2015-01-01 00:00:00          18358           14960\n",
              "2015-01-01 01:00:00          18012           14476\n",
              "2015-01-01 02:00:00          17795           13979\n",
              "2015-01-01 03:00:00          17559           13670\n",
              "2015-01-01 04:00:00          17402           13567"
            ]
          },
          "metadata": {
            "tags": []
          },
          "execution_count": 49
        }
      ]
    },
    {
      "cell_type": "markdown",
      "metadata": {
        "id": "NZok3rxq1VrA"
      },
      "source": [
        "**Adding day-ahead forecasts of renewable power plants generation as well as electricity demand to the model.**"
      ]
    },
    {
      "cell_type": "code",
      "metadata": {
        "colab": {
          "base_uri": "https://localhost:8080/",
          "height": 921
        },
        "id": "SyAc27bopdK1",
        "outputId": "f60df919-82d7-40fa-b701-5581c727a9df"
      },
      "source": [
        "cols=DF_Met.columns\n",
        "DF[cols]=DF_Met\n",
        "DF=DF['2015':]\n",
        "DF['Wind']=DF_Gen['WIND'].values\n",
        "DF['Solar']=DF_Gen['SOLAR'].values\n",
        "DF['Load']=DF_Load['Market Demand'].values\n",
        "DF['Average Volatility']=volatility\n",
        "DF.head()"
      ],
      "execution_count": null,
      "outputs": [
        {
          "output_type": "stream",
          "text": [
            "/usr/local/lib/python3.6/dist-packages/pandas/core/frame.py:3069: SettingWithCopyWarning: \n",
            "A value is trying to be set on a copy of a slice from a DataFrame.\n",
            "Try using .loc[row_indexer,col_indexer] = value instead\n",
            "\n",
            "See the caveats in the documentation: https://pandas.pydata.org/pandas-docs/stable/user_guide/indexing.html#returning-a-view-versus-a-copy\n",
            "  self[k1] = value[k2]\n",
            "/usr/local/lib/python3.6/dist-packages/ipykernel_launcher.py:4: SettingWithCopyWarning: \n",
            "A value is trying to be set on a copy of a slice from a DataFrame.\n",
            "Try using .loc[row_indexer,col_indexer] = value instead\n",
            "\n",
            "See the caveats in the documentation: https://pandas.pydata.org/pandas-docs/stable/user_guide/indexing.html#returning-a-view-versus-a-copy\n",
            "  after removing the cwd from sys.path.\n",
            "/usr/local/lib/python3.6/dist-packages/ipykernel_launcher.py:5: SettingWithCopyWarning: \n",
            "A value is trying to be set on a copy of a slice from a DataFrame.\n",
            "Try using .loc[row_indexer,col_indexer] = value instead\n",
            "\n",
            "See the caveats in the documentation: https://pandas.pydata.org/pandas-docs/stable/user_guide/indexing.html#returning-a-view-versus-a-copy\n",
            "  \"\"\"\n",
            "/usr/local/lib/python3.6/dist-packages/ipykernel_launcher.py:6: SettingWithCopyWarning: \n",
            "A value is trying to be set on a copy of a slice from a DataFrame.\n",
            "Try using .loc[row_indexer,col_indexer] = value instead\n",
            "\n",
            "See the caveats in the documentation: https://pandas.pydata.org/pandas-docs/stable/user_guide/indexing.html#returning-a-view-versus-a-copy\n",
            "  \n",
            "/usr/local/lib/python3.6/dist-packages/ipykernel_launcher.py:7: SettingWithCopyWarning: \n",
            "A value is trying to be set on a copy of a slice from a DataFrame.\n",
            "Try using .loc[row_indexer,col_indexer] = value instead\n",
            "\n",
            "See the caveats in the documentation: https://pandas.pydata.org/pandas-docs/stable/user_guide/indexing.html#returning-a-view-versus-a-copy\n",
            "  import sys\n"
          ],
          "name": "stderr"
        },
        {
          "output_type": "execute_result",
          "data": {
            "text/html": [
              "<div>\n",
              "<style scoped>\n",
              "    .dataframe tbody tr th:only-of-type {\n",
              "        vertical-align: middle;\n",
              "    }\n",
              "\n",
              "    .dataframe tbody tr th {\n",
              "        vertical-align: top;\n",
              "    }\n",
              "\n",
              "    .dataframe thead th {\n",
              "        text-align: right;\n",
              "    }\n",
              "</style>\n",
              "<table border=\"1\" class=\"dataframe\">\n",
              "  <thead>\n",
              "    <tr style=\"text-align: right;\">\n",
              "      <th></th>\n",
              "      <th>HOEP</th>\n",
              "      <th>Prediction</th>\n",
              "      <th>Month</th>\n",
              "      <th>Day</th>\n",
              "      <th>Hour</th>\n",
              "      <th>H_Vol</th>\n",
              "      <th>Returns  Volatility</th>\n",
              "      <th>Returns Volatility</th>\n",
              "      <th>Price Volatility</th>\n",
              "      <th>precipitation</th>\n",
              "      <th>temperature</th>\n",
              "      <th>irradiance_surface</th>\n",
              "      <th>irradiance_toa</th>\n",
              "      <th>snowfall</th>\n",
              "      <th>snow_mass</th>\n",
              "      <th>cloud_cover</th>\n",
              "      <th>air_density</th>\n",
              "      <th>Ontario Demand</th>\n",
              "      <th>Wind</th>\n",
              "      <th>Solar</th>\n",
              "      <th>Load</th>\n",
              "      <th>Average Volatility</th>\n",
              "    </tr>\n",
              "  </thead>\n",
              "  <tbody>\n",
              "    <tr>\n",
              "      <th>2015-01-01 00:00:00</th>\n",
              "      <td>3.28</td>\n",
              "      <td>-0.573912</td>\n",
              "      <td>1</td>\n",
              "      <td>3</td>\n",
              "      <td>0</td>\n",
              "      <td>3.28</td>\n",
              "      <td>3.28</td>\n",
              "      <td>12.320235</td>\n",
              "      <td>37.671862</td>\n",
              "      <td>0.0106</td>\n",
              "      <td>-7.234</td>\n",
              "      <td>0.0</td>\n",
              "      <td>0.0</td>\n",
              "      <td>0.0106</td>\n",
              "      <td>2.8822</td>\n",
              "      <td>0.9042</td>\n",
              "      <td>1.3015</td>\n",
              "      <td>14960.0</td>\n",
              "      <td>2504</td>\n",
              "      <td>0.0</td>\n",
              "      <td>18358</td>\n",
              "      <td>21.889208</td>\n",
              "    </tr>\n",
              "    <tr>\n",
              "      <th>2015-01-01 01:00:00</th>\n",
              "      <td>0.00</td>\n",
              "      <td>-3.105544</td>\n",
              "      <td>1</td>\n",
              "      <td>3</td>\n",
              "      <td>1</td>\n",
              "      <td>0.00</td>\n",
              "      <td>0.00</td>\n",
              "      <td>0.253091</td>\n",
              "      <td>44.389161</td>\n",
              "      <td>0.0087</td>\n",
              "      <td>-7.308</td>\n",
              "      <td>0.0</td>\n",
              "      <td>0.0</td>\n",
              "      <td>0.0087</td>\n",
              "      <td>2.8862</td>\n",
              "      <td>0.8513</td>\n",
              "      <td>1.3005</td>\n",
              "      <td>14476.0</td>\n",
              "      <td>2262</td>\n",
              "      <td>0.0</td>\n",
              "      <td>18012</td>\n",
              "      <td>20.950494</td>\n",
              "    </tr>\n",
              "    <tr>\n",
              "      <th>2015-01-01 02:00:00</th>\n",
              "      <td>0.00</td>\n",
              "      <td>-1.568600</td>\n",
              "      <td>1</td>\n",
              "      <td>3</td>\n",
              "      <td>2</td>\n",
              "      <td>0.00</td>\n",
              "      <td>0.00</td>\n",
              "      <td>2.362836</td>\n",
              "      <td>44.389161</td>\n",
              "      <td>0.0083</td>\n",
              "      <td>-7.518</td>\n",
              "      <td>0.0</td>\n",
              "      <td>0.0</td>\n",
              "      <td>0.0083</td>\n",
              "      <td>2.8897</td>\n",
              "      <td>0.8154</td>\n",
              "      <td>1.3004</td>\n",
              "      <td>13979.0</td>\n",
              "      <td>2025</td>\n",
              "      <td>0.0</td>\n",
              "      <td>17795</td>\n",
              "      <td>20.232901</td>\n",
              "    </tr>\n",
              "    <tr>\n",
              "      <th>2015-01-01 03:00:00</th>\n",
              "      <td>0.00</td>\n",
              "      <td>-4.166168</td>\n",
              "      <td>1</td>\n",
              "      <td>3</td>\n",
              "      <td>3</td>\n",
              "      <td>0.00</td>\n",
              "      <td>0.00</td>\n",
              "      <td>2.404901</td>\n",
              "      <td>44.389161</td>\n",
              "      <td>0.0095</td>\n",
              "      <td>-7.774</td>\n",
              "      <td>0.0</td>\n",
              "      <td>0.0</td>\n",
              "      <td>0.0095</td>\n",
              "      <td>2.8943</td>\n",
              "      <td>0.7639</td>\n",
              "      <td>1.3009</td>\n",
              "      <td>13670.0</td>\n",
              "      <td>1950</td>\n",
              "      <td>0.0</td>\n",
              "      <td>17559</td>\n",
              "      <td>19.325505</td>\n",
              "    </tr>\n",
              "    <tr>\n",
              "      <th>2015-01-01 04:00:00</th>\n",
              "      <td>0.00</td>\n",
              "      <td>-3.559283</td>\n",
              "      <td>1</td>\n",
              "      <td>3</td>\n",
              "      <td>4</td>\n",
              "      <td>0.00</td>\n",
              "      <td>0.00</td>\n",
              "      <td>30.315152</td>\n",
              "      <td>49.340488</td>\n",
              "      <td>0.0103</td>\n",
              "      <td>-7.918</td>\n",
              "      <td>0.0</td>\n",
              "      <td>0.0</td>\n",
              "      <td>0.0103</td>\n",
              "      <td>2.9005</td>\n",
              "      <td>0.7003</td>\n",
              "      <td>1.3010</td>\n",
              "      <td>13567.0</td>\n",
              "      <td>2015</td>\n",
              "      <td>0.0</td>\n",
              "      <td>17402</td>\n",
              "      <td>18.104492</td>\n",
              "    </tr>\n",
              "  </tbody>\n",
              "</table>\n",
              "</div>"
            ],
            "text/plain": [
              "                     HOEP  Prediction  Month  ...  Solar   Load  Average Volatility\n",
              "2015-01-01 00:00:00  3.28   -0.573912      1  ...    0.0  18358           21.889208\n",
              "2015-01-01 01:00:00  0.00   -3.105544      1  ...    0.0  18012           20.950494\n",
              "2015-01-01 02:00:00  0.00   -1.568600      1  ...    0.0  17795           20.232901\n",
              "2015-01-01 03:00:00  0.00   -4.166168      1  ...    0.0  17559           19.325505\n",
              "2015-01-01 04:00:00  0.00   -3.559283      1  ...    0.0  17402           18.104492\n",
              "\n",
              "[5 rows x 22 columns]"
            ]
          },
          "metadata": {
            "tags": []
          },
          "execution_count": 130
        }
      ]
    },
    {
      "cell_type": "code",
      "metadata": {
        "id": "N60qUcxY-RtG",
        "colab": {
          "base_uri": "https://localhost:8080/",
          "height": 163
        },
        "outputId": "883028c3-e5fc-406e-cdf3-9028f065ec84"
      },
      "source": [
        "DF.to_csv('XGBFeatures.csv')"
      ],
      "execution_count": null,
      "outputs": [
        {
          "output_type": "error",
          "ename": "NameError",
          "evalue": "ignored",
          "traceback": [
            "\u001b[0;31m---------------------------------------------------------------------------\u001b[0m",
            "\u001b[0;31mNameError\u001b[0m                                 Traceback (most recent call last)",
            "\u001b[0;32m<ipython-input-21-5b92062a45da>\u001b[0m in \u001b[0;36m<module>\u001b[0;34m()\u001b[0m\n\u001b[0;32m----> 1\u001b[0;31m \u001b[0mDF\u001b[0m\u001b[0;34m.\u001b[0m\u001b[0mto_csv\u001b[0m\u001b[0;34m(\u001b[0m\u001b[0;34m'XGBFeatures.csv'\u001b[0m\u001b[0;34m)\u001b[0m\u001b[0;34m\u001b[0m\u001b[0;34m\u001b[0m\u001b[0m\n\u001b[0m",
            "\u001b[0;31mNameError\u001b[0m: name 'DF' is not defined"
          ]
        }
      ]
    },
    {
      "cell_type": "code",
      "metadata": {
        "colab": {
          "base_uri": "https://localhost:8080/",
          "height": 17
        },
        "id": "Lp3oIB5hLKq2",
        "outputId": "349c1a0b-d73d-45e7-f560-5e5e11283b3e"
      },
      "source": [
        "files.download('XGBFeatures.csv')"
      ],
      "execution_count": null,
      "outputs": [
        {
          "output_type": "display_data",
          "data": {
            "application/javascript": [
              "\n",
              "    async function download(id, filename, size) {\n",
              "      if (!google.colab.kernel.accessAllowed) {\n",
              "        return;\n",
              "      }\n",
              "      const div = document.createElement('div');\n",
              "      const label = document.createElement('label');\n",
              "      label.textContent = `Downloading \"${filename}\": `;\n",
              "      div.appendChild(label);\n",
              "      const progress = document.createElement('progress');\n",
              "      progress.max = size;\n",
              "      div.appendChild(progress);\n",
              "      document.body.appendChild(div);\n",
              "\n",
              "      const buffers = [];\n",
              "      let downloaded = 0;\n",
              "\n",
              "      const channel = await google.colab.kernel.comms.open(id);\n",
              "      // Send a message to notify the kernel that we're ready.\n",
              "      channel.send({})\n",
              "\n",
              "      for await (const message of channel.messages) {\n",
              "        // Send a message to notify the kernel that we're ready.\n",
              "        channel.send({})\n",
              "        if (message.buffers) {\n",
              "          for (const buffer of message.buffers) {\n",
              "            buffers.push(buffer);\n",
              "            downloaded += buffer.byteLength;\n",
              "            progress.value = downloaded;\n",
              "          }\n",
              "        }\n",
              "      }\n",
              "      const blob = new Blob(buffers, {type: 'application/binary'});\n",
              "      const a = document.createElement('a');\n",
              "      a.href = window.URL.createObjectURL(blob);\n",
              "      a.download = filename;\n",
              "      div.appendChild(a);\n",
              "      a.click();\n",
              "      div.remove();\n",
              "    }\n",
              "  "
            ],
            "text/plain": [
              "<IPython.core.display.Javascript object>"
            ]
          },
          "metadata": {
            "tags": []
          }
        },
        {
          "output_type": "display_data",
          "data": {
            "application/javascript": [
              "download(\"download_3a924357-4590-41d1-8821-825572f37c64\", \"XGBFeatures.csv\", 8269223)"
            ],
            "text/plain": [
              "<IPython.core.display.Javascript object>"
            ]
          },
          "metadata": {
            "tags": []
          }
        }
      ]
    },
    {
      "cell_type": "markdown",
      "metadata": {
        "id": "VyVOnlgf2MY7"
      },
      "source": [
        "# **Extreme Gradient Boosting Trees for Final Forecasts of Electricity Prices** "
      ]
    },
    {
      "cell_type": "code",
      "metadata": {
        "colab": {
          "resources": {
            "http://localhost:8080/nbextensions/google.colab/files.js": {
              "data": "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",
              "ok": true,
              "headers": [
                [
                  "content-type",
                  "application/javascript"
                ]
              ],
              "status": 200,
              "status_text": ""
            }
          },
          "base_uri": "https://localhost:8080/",
          "height": 72
        },
        "id": "_eQbbpgsy7ut",
        "outputId": "8560791e-0678-4bee-f315-931311e88be4"
      },
      "source": [
        "up=files.upload()\n"
      ],
      "execution_count": null,
      "outputs": [
        {
          "output_type": "display_data",
          "data": {
            "text/html": [
              "\n",
              "     <input type=\"file\" id=\"files-27cc4be3-5f27-435c-ad79-febf87cbbd07\" name=\"files[]\" multiple disabled\n",
              "        style=\"border:none\" />\n",
              "     <output id=\"result-27cc4be3-5f27-435c-ad79-febf87cbbd07\">\n",
              "      Upload widget is only available when the cell has been executed in the\n",
              "      current browser session. Please rerun this cell to enable.\n",
              "      </output>\n",
              "      <script src=\"/nbextensions/google.colab/files.js\"></script> "
            ],
            "text/plain": [
              "<IPython.core.display.HTML object>"
            ]
          },
          "metadata": {
            "tags": []
          }
        },
        {
          "output_type": "stream",
          "text": [
            "Saving XGBFeatures.csv to XGBFeatures.csv\n"
          ],
          "name": "stdout"
        }
      ]
    },
    {
      "cell_type": "code",
      "metadata": {
        "id": "cqhB6GRwzLOJ"
      },
      "source": [
        "DF=pd.read_csv('XGBFeatures.csv',index_col=0,parse_dates=True)\n",
        "DF.drop(columns=['H_Vol','Price Volatility'],inplace=True)"
      ],
      "execution_count": null,
      "outputs": []
    },
    {
      "cell_type": "code",
      "metadata": {
        "id": "kUfE0T6rCxjF"
      },
      "source": [
        "import xgboost as xgb\n",
        "from xgboost import plot_importance, plot_tree\n",
        "from sklearn.model_selection import GridSearchCV\n",
        "from sklearn.ensemble import GradientBoostingRegressor"
      ],
      "execution_count": null,
      "outputs": []
    },
    {
      "cell_type": "code",
      "metadata": {
        "id": "jpD4j-RWvSoN"
      },
      "source": [
        "DF_prep = replace_outliers(DF, 'HOEP', 1.7)\n",
        "X=DF.drop(columns=['HOEP','Solar'])\n",
        "Y=DF_prep['HOEP']\n",
        "Y=pd.DataFrame(Y,index=DF.index)"
      ],
      "execution_count": null,
      "outputs": []
    },
    {
      "cell_type": "code",
      "metadata": {
        "colab": {
          "base_uri": "https://localhost:8080/",
          "height": 306
        },
        "id": "Lv73np_eZk4x",
        "outputId": "65bb07cb-11bc-42e5-83f2-3a831c5179de"
      },
      "source": [
        "DF.head()"
      ],
      "execution_count": null,
      "outputs": [
        {
          "output_type": "execute_result",
          "data": {
            "text/html": [
              "<div>\n",
              "<style scoped>\n",
              "    .dataframe tbody tr th:only-of-type {\n",
              "        vertical-align: middle;\n",
              "    }\n",
              "\n",
              "    .dataframe tbody tr th {\n",
              "        vertical-align: top;\n",
              "    }\n",
              "\n",
              "    .dataframe thead th {\n",
              "        text-align: right;\n",
              "    }\n",
              "</style>\n",
              "<table border=\"1\" class=\"dataframe\">\n",
              "  <thead>\n",
              "    <tr style=\"text-align: right;\">\n",
              "      <th></th>\n",
              "      <th>HOEP</th>\n",
              "      <th>Prediction</th>\n",
              "      <th>Month</th>\n",
              "      <th>Day</th>\n",
              "      <th>Hour</th>\n",
              "      <th>Returns Volatility</th>\n",
              "      <th>precipitation</th>\n",
              "      <th>temperature</th>\n",
              "      <th>irradiance_surface</th>\n",
              "      <th>irradiance_toa</th>\n",
              "      <th>snowfall</th>\n",
              "      <th>snow_mass</th>\n",
              "      <th>cloud_cover</th>\n",
              "      <th>air_density</th>\n",
              "      <th>Ontario Demand</th>\n",
              "      <th>Wind</th>\n",
              "      <th>Solar</th>\n",
              "      <th>Load</th>\n",
              "      <th>Average Volatility</th>\n",
              "      <th>TES</th>\n",
              "    </tr>\n",
              "  </thead>\n",
              "  <tbody>\n",
              "    <tr>\n",
              "      <th>2015-01-01 00:00:00</th>\n",
              "      <td>3.28</td>\n",
              "      <td>-0.573912</td>\n",
              "      <td>1</td>\n",
              "      <td>3</td>\n",
              "      <td>0</td>\n",
              "      <td>12.320235</td>\n",
              "      <td>0.0106</td>\n",
              "      <td>-7.234</td>\n",
              "      <td>0.0</td>\n",
              "      <td>0.0</td>\n",
              "      <td>0.0106</td>\n",
              "      <td>2.8822</td>\n",
              "      <td>0.9042</td>\n",
              "      <td>1.3015</td>\n",
              "      <td>14960</td>\n",
              "      <td>2504</td>\n",
              "      <td>0.0</td>\n",
              "      <td>18358</td>\n",
              "      <td>21.889208</td>\n",
              "      <td>4.086928</td>\n",
              "    </tr>\n",
              "    <tr>\n",
              "      <th>2015-01-01 01:00:00</th>\n",
              "      <td>0.00</td>\n",
              "      <td>-3.105544</td>\n",
              "      <td>1</td>\n",
              "      <td>3</td>\n",
              "      <td>1</td>\n",
              "      <td>0.253091</td>\n",
              "      <td>0.0087</td>\n",
              "      <td>-7.308</td>\n",
              "      <td>0.0</td>\n",
              "      <td>0.0</td>\n",
              "      <td>0.0087</td>\n",
              "      <td>2.8862</td>\n",
              "      <td>0.8513</td>\n",
              "      <td>1.3005</td>\n",
              "      <td>14476</td>\n",
              "      <td>2262</td>\n",
              "      <td>0.0</td>\n",
              "      <td>18012</td>\n",
              "      <td>20.950494</td>\n",
              "      <td>1.137845</td>\n",
              "    </tr>\n",
              "    <tr>\n",
              "      <th>2015-01-01 02:00:00</th>\n",
              "      <td>0.00</td>\n",
              "      <td>-1.568600</td>\n",
              "      <td>1</td>\n",
              "      <td>3</td>\n",
              "      <td>2</td>\n",
              "      <td>2.362836</td>\n",
              "      <td>0.0083</td>\n",
              "      <td>-7.518</td>\n",
              "      <td>0.0</td>\n",
              "      <td>0.0</td>\n",
              "      <td>0.0083</td>\n",
              "      <td>2.8897</td>\n",
              "      <td>0.8154</td>\n",
              "      <td>1.3004</td>\n",
              "      <td>13979</td>\n",
              "      <td>2025</td>\n",
              "      <td>0.0</td>\n",
              "      <td>17795</td>\n",
              "      <td>20.232901</td>\n",
              "      <td>0.530279</td>\n",
              "    </tr>\n",
              "    <tr>\n",
              "      <th>2015-01-01 03:00:00</th>\n",
              "      <td>0.00</td>\n",
              "      <td>-4.166168</td>\n",
              "      <td>1</td>\n",
              "      <td>3</td>\n",
              "      <td>3</td>\n",
              "      <td>2.404901</td>\n",
              "      <td>0.0095</td>\n",
              "      <td>-7.774</td>\n",
              "      <td>0.0</td>\n",
              "      <td>0.0</td>\n",
              "      <td>0.0095</td>\n",
              "      <td>2.8943</td>\n",
              "      <td>0.7639</td>\n",
              "      <td>1.3009</td>\n",
              "      <td>13670</td>\n",
              "      <td>1950</td>\n",
              "      <td>0.0</td>\n",
              "      <td>17559</td>\n",
              "      <td>19.325505</td>\n",
              "      <td>1.366963</td>\n",
              "    </tr>\n",
              "    <tr>\n",
              "      <th>2015-01-01 04:00:00</th>\n",
              "      <td>0.00</td>\n",
              "      <td>-3.559283</td>\n",
              "      <td>1</td>\n",
              "      <td>3</td>\n",
              "      <td>4</td>\n",
              "      <td>30.315152</td>\n",
              "      <td>0.0103</td>\n",
              "      <td>-7.918</td>\n",
              "      <td>0.0</td>\n",
              "      <td>0.0</td>\n",
              "      <td>0.0103</td>\n",
              "      <td>2.9005</td>\n",
              "      <td>0.7003</td>\n",
              "      <td>1.3010</td>\n",
              "      <td>13567</td>\n",
              "      <td>2015</td>\n",
              "      <td>0.0</td>\n",
              "      <td>17402</td>\n",
              "      <td>18.104492</td>\n",
              "      <td>2.798498</td>\n",
              "    </tr>\n",
              "  </tbody>\n",
              "</table>\n",
              "</div>"
            ],
            "text/plain": [
              "                     HOEP  Prediction  ...  Average Volatility       TES\n",
              "2015-01-01 00:00:00  3.28   -0.573912  ...           21.889208  4.086928\n",
              "2015-01-01 01:00:00  0.00   -3.105544  ...           20.950494  1.137845\n",
              "2015-01-01 02:00:00  0.00   -1.568600  ...           20.232901  0.530279\n",
              "2015-01-01 03:00:00  0.00   -4.166168  ...           19.325505  1.366963\n",
              "2015-01-01 04:00:00  0.00   -3.559283  ...           18.104492  2.798498\n",
              "\n",
              "[5 rows x 20 columns]"
            ]
          },
          "metadata": {
            "tags": []
          },
          "execution_count": 22
        }
      ]
    },
    {
      "cell_type": "code",
      "metadata": {
        "id": "D-VsLThsve1u"
      },
      "source": [
        "X_Scaler=MinMaxScaler()\n",
        "Xscaled=X_Scaler.fit_transform(X)\n",
        "Temp=pd.DataFrame(Xscaled,columns=X.columns,index=X.index)\n",
        "Xtrain=Temp['2015':'2018']\n",
        "Xtest=Temp['2019']\n",
        "\n",
        "Y_Scaler=MinMaxScaler()\n",
        "Yscaled=Y_Scaler.fit_transform(Y.values.reshape(-1,1))\n",
        "Y['Scaled HOEP']=Yscaled\n",
        "Ytrain=Y['Scaled HOEP']['2015':'2018']\n",
        "Ytest=DF['HOEP']['2019']"
      ],
      "execution_count": null,
      "outputs": []
    },
    {
      "cell_type": "code",
      "metadata": {
        "colab": {
          "base_uri": "https://localhost:8080/"
        },
        "id": "sx73eXpRa1HR",
        "outputId": "68029d9a-cea4-4c4c-bc5c-c78bf97ac7b3"
      },
      "source": [
        "print('MAE: ', mean_absolute_error(DF['TES']['2019'],Ytest))\n",
        "\n",
        "print('RMSE: ', np.sqrt(mean_squared_error(DF['TES']['2019'],Ytest)))\n",
        "\n",
        "print('R Squared: ', r2_score(DF['TES']['2019'],Ytest))"
      ],
      "execution_count": null,
      "outputs": [
        {
          "output_type": "stream",
          "text": [
            "MAE:  9.350230516070777\n",
            "RMSE:  21.621686168421203\n",
            "R Squared:  -2.7685652586376395\n"
          ],
          "name": "stdout"
        }
      ]
    },
    {
      "cell_type": "code",
      "metadata": {
        "id": "QFjJ6p9IEkSi"
      },
      "source": [
        "xgb1 = xgb.XGBRegressor()\n",
        "parameters = { #when use hyperthread, xgboost may become slower\n",
        "              'objective':['reg:linear'],\n",
        "              'learning_rate': [.03, 0.05, .07], #so called `eta` value\n",
        "              'max_depth': [5, 6, 7],\n",
        "              'min_child_weight': [4],\n",
        "              'silent': [1],\n",
        "              'subsample': [0.7],\n",
        "              'colsample_bytree': [0.7],\n",
        "              'n_estimators': [100,500, 1000],\n",
        "             'n_jobs' : [-1]}\n",
        "\n",
        "xgb_grid = GridSearchCV(xgb1,\n",
        "                        parameters,\n",
        "                        cv = 5,\n",
        "                        n_jobs = -1,\n",
        "                        verbose=True)\n",
        "\n",
        "xgb_grid.fit(Xtrain,Ytrain)\n",
        "\n",
        "print(xgb_grid.best_score_)\n",
        "print(xgb_grid.best_params_)"
      ],
      "execution_count": null,
      "outputs": []
    },
    {
      "cell_type": "code",
      "metadata": {
        "colab": {
          "base_uri": "https://localhost:8080/"
        },
        "id": "sostnG18OmjI",
        "outputId": "04deb4a8-aff6-4c5e-ee62-8fbb2649446b"
      },
      "source": [
        "#xgbbest = xgb.XGBRegressor(colsample_bytree= 0.7, learning_rate= 0.07, max_depth= 5, min_child_weight= 4, n_estimators= 100, n_jobs= -1, objective= 'reg:linear', silent= 1, subsample= 0.7) #Without Volatility and With Spikes\n",
        "#xgbbest = xgb.XGBRegressor(colsample_bytree= 0.7, learning_rate= 0.05, max_depth= 5, min_child_weight= 4, n_estimators= 100, n_jobs= -1, objective= 'reg:linear', silent= 1, subsample= 0.7) #Without Volatility and Without Spikes\n",
        "xgbbest = xgb.XGBRegressor(colsample_bytree= 0.45, learning_rate= 0.045, max_depth= 5, min_child_weight= 2, n_estimators= 150, n_jobs= -1, objective= 'reg:linear', silent= 1, subsample= 0.8) #With Volatility and Spikes. With Mean Volatility\n",
        "\n",
        "xgbbest.fit(Xtrain,Ytrain)"
      ],
      "execution_count": null,
      "outputs": [
        {
          "output_type": "execute_result",
          "data": {
            "text/plain": [
              "XGBRegressor(base_score=0.5, booster='gbtree', colsample_bylevel=1,\n",
              "             colsample_bynode=1, colsample_bytree=0.45, gamma=0,\n",
              "             importance_type='gain', learning_rate=0.045, max_delta_step=0,\n",
              "             max_depth=5, min_child_weight=2, missing=None, n_estimators=150,\n",
              "             n_jobs=-1, nthread=None, objective='reg:linear', random_state=0,\n",
              "             reg_alpha=0, reg_lambda=1, scale_pos_weight=1, seed=None, silent=1,\n",
              "             subsample=0.8, verbosity=1)"
            ]
          },
          "metadata": {
            "tags": []
          },
          "execution_count": 11
        }
      ]
    },
    {
      "cell_type": "code",
      "metadata": {
        "colab": {
          "base_uri": "https://localhost:8080/"
        },
        "id": "8q81h7zEYAZs",
        "outputId": "cba1d779-370f-48f8-8e9c-f655fb3ddae1"
      },
      "source": [
        "from sklearn.ensemble import GradientBoostingRegressor\n",
        "gb=GradientBoostingRegressor(learning_rate=0.045,n_estimators=150,subsample=0.8,max_depth=5)\n",
        "gb.fit(Xtrain,Ytrain)\n",
        "Yscaled_Pred=gb.predict(Xtest)\n",
        "Ypred=Y_Scaler.inverse_transform(Yscaled_Pred.reshape(-1,1))\n",
        "print('MAE: ', mean_absolute_error(Ypred,Ytest))\n",
        "\n",
        "print('RMSE: ', np.sqrt(mean_squared_error(Ypred,Ytest)))\n",
        "\n",
        "print('R Squared: ', r2_score(Ypred,Ytest))"
      ],
      "execution_count": null,
      "outputs": [
        {
          "output_type": "stream",
          "text": [
            "MAE:  7.170277028377792\n",
            "RMSE:  20.048226571187733\n",
            "R Squared:  -1.681347564692579\n"
          ],
          "name": "stdout"
        }
      ]
    },
    {
      "cell_type": "code",
      "metadata": {
        "colab": {
          "base_uri": "https://localhost:8080/"
        },
        "id": "-T8tk5i8PDsh",
        "outputId": "7dc7f97b-3939-48e5-95e2-7ed7d8f65bc0"
      },
      "source": [
        "Yscaled_Pred=xgbbest.predict(Xtest)\n",
        "Ypred=Y_Scaler.inverse_transform(Yscaled_Pred.reshape(-1,1))\n",
        "print('MAE: ', mean_absolute_error(Ypred,Ytest))\n",
        "\n",
        "print('RMSE: ', np.sqrt(mean_squared_error(Ypred,Ytest)))\n",
        "\n",
        "print('R Squared: ', r2_score(Ypred,Ytest))"
      ],
      "execution_count": null,
      "outputs": [
        {
          "output_type": "stream",
          "text": [
            "MAE:  7.06610502827813\n",
            "RMSE:  20.023493727436318\n",
            "R Squared:  -1.8065697224025663\n"
          ],
          "name": "stdout"
        }
      ]
    },
    {
      "cell_type": "code",
      "metadata": {
        "id": "2aawLU-iTbs7"
      },
      "source": [
        "HOEP_Scaled_XGB=xgbbest.predict(Temp)\n",
        "HOEP_XGB=Y_Scaler.inverse_transform(HOEP_Scaled_XGB.reshape(-1,1))\n",
        "DF['XGB']=HOEP_XGB\n",
        "#DF.to_csv('PF_Input.csv')\n",
        "#files.download('PF_Input.csv')"
      ],
      "execution_count": null,
      "outputs": []
    },
    {
      "cell_type": "code",
      "metadata": {
        "colab": {
          "base_uri": "https://localhost:8080/",
          "height": 419
        },
        "id": "GgyKGsoQwuS2",
        "outputId": "0a3570e1-1737-4196-f8ca-f5b8d45523a1"
      },
      "source": [
        "Results=pd.DataFrame(Ytest)\n",
        "Results['XGB Prediction']=Ypred\n",
        "Results"
      ],
      "execution_count": null,
      "outputs": [
        {
          "output_type": "execute_result",
          "data": {
            "text/html": [
              "<div>\n",
              "<style scoped>\n",
              "    .dataframe tbody tr th:only-of-type {\n",
              "        vertical-align: middle;\n",
              "    }\n",
              "\n",
              "    .dataframe tbody tr th {\n",
              "        vertical-align: top;\n",
              "    }\n",
              "\n",
              "    .dataframe thead th {\n",
              "        text-align: right;\n",
              "    }\n",
              "</style>\n",
              "<table border=\"1\" class=\"dataframe\">\n",
              "  <thead>\n",
              "    <tr style=\"text-align: right;\">\n",
              "      <th></th>\n",
              "      <th>HOEP</th>\n",
              "      <th>XGB Prediction</th>\n",
              "    </tr>\n",
              "  </thead>\n",
              "  <tbody>\n",
              "    <tr>\n",
              "      <th>2019-01-01 00:00:00</th>\n",
              "      <td>0.00</td>\n",
              "      <td>2.881031</td>\n",
              "    </tr>\n",
              "    <tr>\n",
              "      <th>2019-01-01 01:00:00</th>\n",
              "      <td>0.00</td>\n",
              "      <td>2.741079</td>\n",
              "    </tr>\n",
              "    <tr>\n",
              "      <th>2019-01-01 02:00:00</th>\n",
              "      <td>-0.11</td>\n",
              "      <td>2.422627</td>\n",
              "    </tr>\n",
              "    <tr>\n",
              "      <th>2019-01-01 03:00:00</th>\n",
              "      <td>-1.84</td>\n",
              "      <td>2.702404</td>\n",
              "    </tr>\n",
              "    <tr>\n",
              "      <th>2019-01-01 04:00:00</th>\n",
              "      <td>-0.47</td>\n",
              "      <td>2.498529</td>\n",
              "    </tr>\n",
              "    <tr>\n",
              "      <th>...</th>\n",
              "      <td>...</td>\n",
              "      <td>...</td>\n",
              "    </tr>\n",
              "    <tr>\n",
              "      <th>2019-12-31 19:00:00</th>\n",
              "      <td>0.00</td>\n",
              "      <td>5.715855</td>\n",
              "    </tr>\n",
              "    <tr>\n",
              "      <th>2019-12-31 20:00:00</th>\n",
              "      <td>0.00</td>\n",
              "      <td>5.512359</td>\n",
              "    </tr>\n",
              "    <tr>\n",
              "      <th>2019-12-31 21:00:00</th>\n",
              "      <td>-0.05</td>\n",
              "      <td>9.082147</td>\n",
              "    </tr>\n",
              "    <tr>\n",
              "      <th>2019-12-31 22:00:00</th>\n",
              "      <td>-0.04</td>\n",
              "      <td>6.849336</td>\n",
              "    </tr>\n",
              "    <tr>\n",
              "      <th>2019-12-31 23:00:00</th>\n",
              "      <td>-0.02</td>\n",
              "      <td>3.591773</td>\n",
              "    </tr>\n",
              "  </tbody>\n",
              "</table>\n",
              "<p>8760 rows × 2 columns</p>\n",
              "</div>"
            ],
            "text/plain": [
              "                     HOEP  XGB Prediction\n",
              "2019-01-01 00:00:00  0.00        2.881031\n",
              "2019-01-01 01:00:00  0.00        2.741079\n",
              "2019-01-01 02:00:00 -0.11        2.422627\n",
              "2019-01-01 03:00:00 -1.84        2.702404\n",
              "2019-01-01 04:00:00 -0.47        2.498529\n",
              "...                   ...             ...\n",
              "2019-12-31 19:00:00  0.00        5.715855\n",
              "2019-12-31 20:00:00  0.00        5.512359\n",
              "2019-12-31 21:00:00 -0.05        9.082147\n",
              "2019-12-31 22:00:00 -0.04        6.849336\n",
              "2019-12-31 23:00:00 -0.02        3.591773\n",
              "\n",
              "[8760 rows x 2 columns]"
            ]
          },
          "metadata": {
            "tags": []
          },
          "execution_count": 14
        }
      ]
    },
    {
      "cell_type": "code",
      "metadata": {
        "colab": {
          "base_uri": "https://localhost:8080/",
          "height": 306
        },
        "id": "1TqX5B7mGYnx",
        "outputId": "53c93966-47ac-4042-a3a0-26eb80857f68"
      },
      "source": [
        "Results['2019-08-08':'2019-08-10'].plot()"
      ],
      "execution_count": null,
      "outputs": [
        {
          "output_type": "execute_result",
          "data": {
            "text/plain": [
              "<matplotlib.axes._subplots.AxesSubplot at 0x7f555e0a3860>"
            ]
          },
          "metadata": {
            "tags": []
          },
          "execution_count": 15
        },
        {
          "output_type": "display_data",
          "data": {
            "image/png": "[encoded data removed]",
            "text/plain": [
              "<Figure size 432x288 with 1 Axes>"
            ]
          },
          "metadata": {
            "tags": []
          }
        }
      ]
    },
    {
      "cell_type": "code",
      "metadata": {
        "id": "p_Bi0uHmI1z7"
      },
      "source": [
        "Ytes=DF['TES']['2019'].values.reshape(365,24)\n",
        "Ynn=DF['Prediction']['2019'].values.reshape(365,24)\n",
        "Yt=Ytest.values.reshape(365,24)\n",
        "Yp=Ypred.reshape(365,24)\n",
        "MAE_Hourly_XGB=np.zeros(24)\n",
        "MAE_Hourly_NN=np.zeros(24)\n",
        "MAE_Hourly_TES=np.zeros(24)\n",
        "\n",
        "for i in range(24):\n",
        "  MAE_Hourly_XGB[i]=mean_absolute_error(Yt[:,i],Yp[:,i])\n",
        "  MAE_Hourly_TES[i]=mean_absolute_error(Yt[:,i],Ytes[:,i])\n",
        "  MAE_Hourly_NN[i]=mean_absolute_error(Yt[:,i],Ynn[:,i])\n"
      ],
      "execution_count": null,
      "outputs": []
    },
    {
      "cell_type": "code",
      "metadata": {
        "colab": {
          "base_uri": "https://localhost:8080/",
          "height": 300
        },
        "id": "6kXR-rF2KB0T",
        "outputId": "77565fb1-9bde-49fd-dab3-8aeb1bacc58f"
      },
      "source": [
        "plt.figsize=(12,10)\n",
        "plt.plot(MAE_Hourly_XGB,ls='--',label='XGB')\n",
        "plt.plot(MAE_Hourly_NN,ls='-',label='NN')\n",
        "plt.plot(MAE_Hourly_TES,ls=':',label='TES')\n",
        "plt.legend()\n",
        "plt.ylabel('Mean Absolute Error',fontsize=14)\n",
        "plt.xlabel('Hour',fontsize=14)"
      ],
      "execution_count": null,
      "outputs": [
        {
          "output_type": "execute_result",
          "data": {
            "text/plain": [
              "Text(0.5, 0, 'Hour')"
            ]
          },
          "metadata": {
            "tags": []
          },
          "execution_count": 17
        },
        {
          "output_type": "display_data",
          "data": {
            "image/png": "[encoded data removed]",
            "text/plain": [
              "<Figure size 432x288 with 1 Axes>"
            ]
          },
          "metadata": {
            "tags": []
          }
        }
      ]
    },
    {
      "cell_type": "code",
      "metadata": {
        "id": "4BdddDN5yq6b"
      },
      "source": [
        "hour=np.arange(1,25)\n",
        "MAE_DF=pd.DataFrame({'Hour':hour,'XGB':MAE_Hourly_XGB,'ConvGRU':MAE_Hourly_NN,'TES':MAE_Hourly_TES})\n",
        "MAE_DF.index=MAE_DF.Hour\n",
        "MAE_DF.drop(columns='Hour',inplace=True)\n"
      ],
      "execution_count": null,
      "outputs": []
    },
    {
      "cell_type": "code",
      "metadata": {
        "colab": {
          "base_uri": "https://localhost:8080/",
          "height": 215
        },
        "id": "lghkHUapw8ar",
        "outputId": "7ad6d266-18a5-4ca3-fd33-45c13f84ad4c"
      },
      "source": [
        "#sns.set_style('dark')\n",
        "MAE_DF.plot.bar(grid=False,color={'XGB':'red','ConvGRU':'green','TES':'blue'},figsize=(3.5,2.8),width=.8)\n",
        "plt.title('Hourly MAE of Point forecasting Methods')\n",
        "plt.rcParams['font.family']='STIXGeneral'\n",
        "plt.rcParams['font.size']=8\n",
        "plt.rcParams['figure.autolayout']=True\n",
        "plt.rcParams['axes.titlesize']=8\n",
        "plt.rcParams['axes.labelsize']=8\n",
        "plt.rcParams['lines.linewidth']=1\n",
        "plt.rcParams['lines.markersize']=2\n",
        "plt.rcParams['legend.fontsize']=8\n",
        "plt.rcParams['mathtext.fontset']='stix'\n",
        "plt.rcParams['mathtext.fontset']='custom'\n",
        "plt.rcParams['legend.numpoints']=1\n",
        "plt.ylabel('MAE')\n",
        "\n",
        "plt.savefig('PointForecasts.pdf',dpi=300)\n",
        "files.download('PointForecasts.pdf')"
      ],
      "execution_count": null,
      "outputs": [
        {
          "output_type": "display_data",
          "data": {
            "application/javascript": [
              "\n",
              "    async function download(id, filename, size) {\n",
              "      if (!google.colab.kernel.accessAllowed) {\n",
              "        return;\n",
              "      }\n",
              "      const div = document.createElement('div');\n",
              "      const label = document.createElement('label');\n",
              "      label.textContent = `Downloading \"${filename}\": `;\n",
              "      div.appendChild(label);\n",
              "      const progress = document.createElement('progress');\n",
              "      progress.max = size;\n",
              "      div.appendChild(progress);\n",
              "      document.body.appendChild(div);\n",
              "\n",
              "      const buffers = [];\n",
              "      let downloaded = 0;\n",
              "\n",
              "      const channel = await google.colab.kernel.comms.open(id);\n",
              "      // Send a message to notify the kernel that we're ready.\n",
              "      channel.send({})\n",
              "\n",
              "      for await (const message of channel.messages) {\n",
              "        // Send a message to notify the kernel that we're ready.\n",
              "        channel.send({})\n",
              "        if (message.buffers) {\n",
              "          for (const buffer of message.buffers) {\n",
              "            buffers.push(buffer);\n",
              "            downloaded += buffer.byteLength;\n",
              "            progress.value = downloaded;\n",
              "          }\n",
              "        }\n",
              "      }\n",
              "      const blob = new Blob(buffers, {type: 'application/binary'});\n",
              "      const a = document.createElement('a');\n",
              "      a.href = window.URL.createObjectURL(blob);\n",
              "      a.download = filename;\n",
              "      div.appendChild(a);\n",
              "      a.click();\n",
              "      div.remove();\n",
              "    }\n",
              "  "
            ],
            "text/plain": [
              "<IPython.core.display.Javascript object>"
            ]
          },
          "metadata": {
            "tags": []
          }
        },
        {
          "output_type": "display_data",
          "data": {
            "application/javascript": [
              "download(\"download_9b08c350-c7b1-4ddd-99ab-9ea71d2ebb14\", \"PointForecasts.pdf\", 21481)"
            ],
            "text/plain": [
              "<IPython.core.display.Javascript object>"
            ]
          },
          "metadata": {
            "tags": []
          }
        },
        {
          "output_type": "display_data",
          "data": {
            "image/png": "[encoded data removed]",
            "text/plain": [
              "<Figure size 252x201.6 with 1 Axes>"
            ]
          },
          "metadata": {
            "tags": []
          }
        }
      ]
    }
  ]
}