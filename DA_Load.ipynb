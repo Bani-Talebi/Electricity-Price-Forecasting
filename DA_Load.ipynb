{
  "nbformat": 4,
  "nbformat_minor": 0,
  "metadata": {
    "colab": {
      "name": "DA_Load.ipynb",
      "provenance": [],
      "authorship_tag": "ABX9TyNSJz5J42OCUPuLLJmAvcio",
      "include_colab_link": true
    },
    "kernelspec": {
      "name": "python3",
      "display_name": "Python 3"
    }
  },
  "cells": [
    {
      "cell_type": "markdown",
      "metadata": {
        "id": "view-in-github",
        "colab_type": "text"
      },
      "source": [
        "<a href=\"https://colab.research.google.com/github/Bani-Talebi/Electricity-Price-Forecasting/blob/master/DA_Load.ipynb\" target=\"_parent\"><img src=\"https://colab.research.google.com/assets/colab-badge.svg\" alt=\"Open In Colab\"/></a>"
      ]
    },
    {
      "cell_type": "code",
      "metadata": {
        "id": "N7PCWFwEcubT"
      },
      "source": [
        "import numpy as np\n",
        "import pandas as pd\n",
        "import matplotlib.pyplot as plt\n",
        "from google.colab import files\n",
        "import matplotlib"
      ],
      "execution_count": null,
      "outputs": []
    },
    {
      "cell_type": "code",
      "metadata": {
        "colab": {
          "resources": {
            "http://localhost:8080/nbextensions/google.colab/files.js": {
              "data": "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",
              "ok": true,
              "headers": [
                [
                  "content-type",
                  "application/javascript"
                ]
              ],
              "status": 200,
              "status_text": ""
            }
          },
          "base_uri": "https://localhost:8080/",
          "height": 72
        },
        "id": "DejqDwkoqEtj",
        "outputId": "514ce48d-c754-4253-f29d-a64aca38a933"
      },
      "source": [
        "up=files.upload()"
      ],
      "execution_count": null,
      "outputs": [
        {
          "output_type": "display_data",
          "data": {
            "text/html": [
              "\n",
              "     <input type=\"file\" id=\"files-0f34cea3-2c28-4ee7-848f-7472c16f64c2\" name=\"files[]\" multiple disabled\n",
              "        style=\"border:none\" />\n",
              "     <output id=\"result-0f34cea3-2c28-4ee7-848f-7472c16f64c2\">\n",
              "      Upload widget is only available when the cell has been executed in the\n",
              "      current browser session. Please rerun this cell to enable.\n",
              "      </output>\n",
              "      <script src=\"/nbextensions/google.colab/files.js\"></script> "
            ],
            "text/plain": [
              "<IPython.core.display.HTML object>"
            ]
          },
          "metadata": {
            "tags": []
          }
        },
        {
          "output_type": "stream",
          "text": [
            "Saving Load.csv to Load.csv\n"
          ],
          "name": "stdout"
        }
      ]
    },
    {
      "cell_type": "code",
      "metadata": {
        "colab": {
          "base_uri": "https://localhost:8080/",
          "height": 204
        },
        "id": "yHNpSpW2sWeP",
        "outputId": "c9ac8017-32ff-4da8-fb42-9e9c6318782b"
      },
      "source": [
        "df=pd.read_csv('Load.csv')\n",
        "df.index=pd.date_range(start='01-01-2015',periods=len(df),freq='H')\n",
        "df.drop(columns='time',inplace=True)\n",
        "df.dropna(inplace=True)\n",
        "df.head()"
      ],
      "execution_count": null,
      "outputs": [
        {
          "output_type": "execute_result",
          "data": {
            "text/html": [
              "<div>\n",
              "<style scoped>\n",
              "    .dataframe tbody tr th:only-of-type {\n",
              "        vertical-align: middle;\n",
              "    }\n",
              "\n",
              "    .dataframe tbody tr th {\n",
              "        vertical-align: top;\n",
              "    }\n",
              "\n",
              "    .dataframe thead th {\n",
              "        text-align: right;\n",
              "    }\n",
              "</style>\n",
              "<table border=\"1\" class=\"dataframe\">\n",
              "  <thead>\n",
              "    <tr style=\"text-align: right;\">\n",
              "      <th></th>\n",
              "      <th>precipitation</th>\n",
              "      <th>temperature</th>\n",
              "      <th>irradiance_surface</th>\n",
              "      <th>irradiance_toa</th>\n",
              "      <th>snowfall</th>\n",
              "      <th>snow_mass</th>\n",
              "      <th>cloud_cover</th>\n",
              "      <th>air_density</th>\n",
              "      <th>Ontario Demand</th>\n",
              "    </tr>\n",
              "  </thead>\n",
              "  <tbody>\n",
              "    <tr>\n",
              "      <th>2015-01-01 00:00:00</th>\n",
              "      <td>0.0106</td>\n",
              "      <td>-7.234</td>\n",
              "      <td>0.0</td>\n",
              "      <td>0.0</td>\n",
              "      <td>0.0106</td>\n",
              "      <td>2.8822</td>\n",
              "      <td>0.9042</td>\n",
              "      <td>1.3015</td>\n",
              "      <td>14960</td>\n",
              "    </tr>\n",
              "    <tr>\n",
              "      <th>2015-01-01 01:00:00</th>\n",
              "      <td>0.0087</td>\n",
              "      <td>-7.308</td>\n",
              "      <td>0.0</td>\n",
              "      <td>0.0</td>\n",
              "      <td>0.0087</td>\n",
              "      <td>2.8862</td>\n",
              "      <td>0.8513</td>\n",
              "      <td>1.3005</td>\n",
              "      <td>14476</td>\n",
              "    </tr>\n",
              "    <tr>\n",
              "      <th>2015-01-01 02:00:00</th>\n",
              "      <td>0.0083</td>\n",
              "      <td>-7.518</td>\n",
              "      <td>0.0</td>\n",
              "      <td>0.0</td>\n",
              "      <td>0.0083</td>\n",
              "      <td>2.8897</td>\n",
              "      <td>0.8154</td>\n",
              "      <td>1.3004</td>\n",
              "      <td>13979</td>\n",
              "    </tr>\n",
              "    <tr>\n",
              "      <th>2015-01-01 03:00:00</th>\n",
              "      <td>0.0095</td>\n",
              "      <td>-7.774</td>\n",
              "      <td>0.0</td>\n",
              "      <td>0.0</td>\n",
              "      <td>0.0095</td>\n",
              "      <td>2.8943</td>\n",
              "      <td>0.7639</td>\n",
              "      <td>1.3009</td>\n",
              "      <td>13670</td>\n",
              "    </tr>\n",
              "    <tr>\n",
              "      <th>2015-01-01 04:00:00</th>\n",
              "      <td>0.0103</td>\n",
              "      <td>-7.918</td>\n",
              "      <td>0.0</td>\n",
              "      <td>0.0</td>\n",
              "      <td>0.0103</td>\n",
              "      <td>2.9005</td>\n",
              "      <td>0.7003</td>\n",
              "      <td>1.3010</td>\n",
              "      <td>13567</td>\n",
              "    </tr>\n",
              "  </tbody>\n",
              "</table>\n",
              "</div>"
            ],
            "text/plain": [
              "                     precipitation  temperature  ...  air_density  Ontario Demand\n",
              "2015-01-01 00:00:00         0.0106       -7.234  ...       1.3015           14960\n",
              "2015-01-01 01:00:00         0.0087       -7.308  ...       1.3005           14476\n",
              "2015-01-01 02:00:00         0.0083       -7.518  ...       1.3004           13979\n",
              "2015-01-01 03:00:00         0.0095       -7.774  ...       1.3009           13670\n",
              "2015-01-01 04:00:00         0.0103       -7.918  ...       1.3010           13567\n",
              "\n",
              "[5 rows x 9 columns]"
            ]
          },
          "metadata": {
            "tags": []
          },
          "execution_count": 56
        }
      ]
    },
    {
      "cell_type": "code",
      "metadata": {
        "colab": {
          "base_uri": "https://localhost:8080/",
          "height": 244
        },
        "id": "AvwfrabrvEWj",
        "outputId": "0c0aef97-1c32-483b-b8b9-85a9926782ea"
      },
      "source": [
        "plt.figure(figsize=(3.5,2.8))\n",
        "plt.rcParams['font.family']='STIXGeneral'\n",
        "plt.rcParams['font.size']=8\n",
        "plt.rcParams['figure.autolayout']=True\n",
        "plt.rcParams['axes.titlesize']=8\n",
        "plt.rcParams['axes.labelsize']=8\n",
        "plt.rcParams['lines.linewidth']=1\n",
        "plt.rcParams['lines.markersize']=2\n",
        "plt.rcParams['legend.fontsize']=8\n",
        "plt.rcParams['mathtext.fontset']='stix'\n",
        "plt.rcParams['mathtext.fontset']='custom'\n",
        "plt.rcParams['legend.numpoints']=1\n",
        "plt.scatter(df['temperature'],df['Ontario Demand'],alpha=0.4)\n",
        "plt.xlabel('Temperature ($^\\circ$C)')\n",
        "plt.ylabel('Electricity Demand (MW)')\n",
        "plt.title('Ontario Electricity Demand vs Weather Temperature')\n",
        "#plt.savefig('Temperature.png',dpi=300)\n",
        "#dl=files.download('Temperature.png')"
      ],
      "execution_count": null,
      "outputs": [
        {
          "output_type": "execute_result",
          "data": {
            "text/plain": [
              "Text(0.5, 1.0, 'Ontario Electricity Demand vs Weather Temperature')"
            ]
          },
          "metadata": {
            "tags": []
          },
          "execution_count": 57
        },
        {
          "output_type": "stream",
          "text": [
            "findfont: Font family ['cursive'] not found. Falling back to DejaVu Sans.\n"
          ],
          "name": "stderr"
        },
        {
          "output_type": "display_data",
          "data": {
            "image/png": "[encoded data removed]",
            "text/plain": [
              "<Figure size 252x201.6 with 1 Axes>"
            ]
          },
          "metadata": {
            "tags": [],
            "needs_background": "light"
          }
        }
      ]
    },
    {
      "cell_type": "code",
      "metadata": {
        "id": "LqlKttT-_r9s"
      },
      "source": [
        "y=df['Ontario Demand']['01-01-2015':'31-01-2015']\n",
        "y=df['Ontario Demand']['01-01-2015':'31-01-2015'].values.reshape(31,24)"
      ],
      "execution_count": null,
      "outputs": []
    },
    {
      "cell_type": "code",
      "metadata": {
        "colab": {
          "base_uri": "https://localhost:8080/",
          "height": 232
        },
        "id": "TesN0F8vB0Qx",
        "outputId": "f54ac1c2-5759-44a0-ba1c-1782c3172369"
      },
      "source": [
        "fig, ax = plt.subplots(figsize=(3.5,2.8))\n",
        "\n",
        "\n",
        "ax.set_aspect('equal')\n",
        "cf = ax.contourf(y)\n",
        "fig.colorbar(cf, ax=ax)\n",
        "ax.set_xlabel('Hours')\n",
        "ax.set_ylabel('Days')\n",
        "#plt.savefig('WeekDayLoad.pdf',dpi=300)\n",
        "#dl=files.download('WeekDayLoad.pdf')"
      ],
      "execution_count": null,
      "outputs": [
        {
          "output_type": "execute_result",
          "data": {
            "text/plain": [
              "Text(0, 0.5, 'Days')"
            ]
          },
          "metadata": {
            "tags": []
          },
          "execution_count": 59
        },
        {
          "output_type": "display_data",
          "data": {
            "image/png": "[encoded data removed]",
            "text/plain": [
              "<Figure size 252x201.6 with 2 Axes>"
            ]
          },
          "metadata": {
            "tags": [],
            "needs_background": "light"
          }
        }
      ]
    },
    {
      "cell_type": "code",
      "metadata": {
        "colab": {
          "base_uri": "https://localhost:8080/",
          "height": 232
        },
        "id": "uN8HmhTp7If3",
        "outputId": "e011e5cb-1bb3-41e7-d567-3ff453300114"
      },
      "source": [
        "fig, ax = plt.subplots(figsize=(3.5,2.8))\n",
        "\n",
        "x=np.arange(24)\n",
        "for i in range(24):\n",
        "  plt.plot(x,y[i,:])\n",
        "\n",
        "plt.xlabel('Hours')\n",
        "plt.ylabel('Electricity Demand (MW)')\n",
        "\n",
        "#plt.savefig('HourlyLoad.png',dpi=300)\n",
        "#dl=files.download('HourlyLoad.png')"
      ],
      "execution_count": null,
      "outputs": [
        {
          "output_type": "execute_result",
          "data": {
            "text/plain": [
              "Text(0, 0.5, 'Electricity Demand (MW)')"
            ]
          },
          "metadata": {
            "tags": []
          },
          "execution_count": 60
        },
        {
          "output_type": "display_data",
          "data": {
            "image/png": "[encoded data removed]",
            "text/plain": [
              "<Figure size 252x201.6 with 1 Axes>"
            ]
          },
          "metadata": {
            "tags": [],
            "needs_background": "light"
          }
        }
      ]
    },
    {
      "cell_type": "code",
      "metadata": {
        "id": "PEpwC73mvZHy"
      },
      "source": [
        "def plot_average_prices(data):\n",
        "    \n",
        "    \"\"\"Plot monthly, daily and hourly averages of input data.\"\"\"\n",
        "    \n",
        "    fig = plt.figure(figsize=(3.5,2.8))\n",
        "    #fig = plt.figure()\n",
        "    ax1 = fig.add_subplot(311)\n",
        "    ax2 = fig.add_subplot(312)\n",
        "    ax3 = fig.add_subplot(313)\n",
        "\n",
        "    data.groupby(data.index.month).mean().plot.bar(ax=ax1)\n",
        "    #ax1.set_title('Monthly Average')\n",
        "    ax1.set_ylabel('Load (MW)')\n",
        "    ax1.set_xlabel('Month of the year')\n",
        "    data.groupby(data.index.dayofweek).mean().plot.bar(ax=ax2)\n",
        "    #ax2.set_title('Weekly Average')\n",
        "    ax2.set_ylabel('Load (MW)')\n",
        "    ax2.set_xlabel('Day of the week')\n",
        "    data.groupby(data.index.hour).mean().plot.bar(ax=ax3)\n",
        "    #ax3.set_title('Hourly Average')\n",
        "    ax3.set_ylabel('Load (MW)')\n",
        "    ax3.set_xlabel('Hour of the day')\n",
        "    matplotlib.rc('axes',edgecolor='black')\n",
        "\n",
        "    #plt.savefig('TimeLoad.png',dpi=300)\n",
        "    #files.download('TimeLoad.png')"
      ],
      "execution_count": null,
      "outputs": []
    },
    {
      "cell_type": "code",
      "metadata": {
        "colab": {
          "resources": {
            "http://localhost:8080/nbextensions/google.colab/files.js": {
              "data": "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",
              "ok": true,
              "headers": [
                [
                  "content-type",
                  "application/javascript"
                ]
              ],
              "status": 200,
              "status_text": ""
            }
          },
          "base_uri": "https://localhost:8080/",
          "height": 72
        },
        "id": "Wwuoeymjv1I5",
        "outputId": "e4152ecb-2c0d-4ba9-9fe8-66dba48c197b"
      },
      "source": [
        "up=files.upload()"
      ],
      "execution_count": null,
      "outputs": [
        {
          "output_type": "display_data",
          "data": {
            "text/html": [
              "\n",
              "     <input type=\"file\" id=\"files-fb79b91f-4f64-449a-9eb9-dec94a69a4f5\" name=\"files[]\" multiple disabled\n",
              "        style=\"border:none\" />\n",
              "     <output id=\"result-fb79b91f-4f64-449a-9eb9-dec94a69a4f5\">\n",
              "      Upload widget is only available when the cell has been executed in the\n",
              "      current browser session. Please rerun this cell to enable.\n",
              "      </output>\n",
              "      <script src=\"/nbextensions/google.colab/files.js\"></script> "
            ],
            "text/plain": [
              "<IPython.core.display.HTML object>"
            ]
          },
          "metadata": {
            "tags": []
          }
        },
        {
          "output_type": "stream",
          "text": [
            "Saving Demand.csv to Demand.csv\n"
          ],
          "name": "stdout"
        }
      ]
    },
    {
      "cell_type": "code",
      "metadata": {
        "colab": {
          "base_uri": "https://localhost:8080/",
          "height": 204
        },
        "id": "Vus5BRW1v-9g",
        "outputId": "ee5bd0d3-8392-486c-864e-801bc22f6bbc"
      },
      "source": [
        "DF=pd.read_csv('Demand.csv')\n",
        "DF.index=pd.date_range(start='01-01-2010',periods=len(DF),freq='H')\n",
        "DF.drop(columns=['Date','Hour','Market Demand'],inplace=True)\n",
        "DF.head()\n"
      ],
      "execution_count": null,
      "outputs": [
        {
          "output_type": "execute_result",
          "data": {
            "text/html": [
              "<div>\n",
              "<style scoped>\n",
              "    .dataframe tbody tr th:only-of-type {\n",
              "        vertical-align: middle;\n",
              "    }\n",
              "\n",
              "    .dataframe tbody tr th {\n",
              "        vertical-align: top;\n",
              "    }\n",
              "\n",
              "    .dataframe thead th {\n",
              "        text-align: right;\n",
              "    }\n",
              "</style>\n",
              "<table border=\"1\" class=\"dataframe\">\n",
              "  <thead>\n",
              "    <tr style=\"text-align: right;\">\n",
              "      <th></th>\n",
              "      <th>Ontario Demand</th>\n",
              "    </tr>\n",
              "  </thead>\n",
              "  <tbody>\n",
              "    <tr>\n",
              "      <th>2010-01-01 00:00:00</th>\n",
              "      <td>14403</td>\n",
              "    </tr>\n",
              "    <tr>\n",
              "      <th>2010-01-01 01:00:00</th>\n",
              "      <td>13814</td>\n",
              "    </tr>\n",
              "    <tr>\n",
              "      <th>2010-01-01 02:00:00</th>\n",
              "      <td>13366</td>\n",
              "    </tr>\n",
              "    <tr>\n",
              "      <th>2010-01-01 03:00:00</th>\n",
              "      <td>13120</td>\n",
              "    </tr>\n",
              "    <tr>\n",
              "      <th>2010-01-01 04:00:00</th>\n",
              "      <td>13075</td>\n",
              "    </tr>\n",
              "  </tbody>\n",
              "</table>\n",
              "</div>"
            ],
            "text/plain": [
              "                     Ontario Demand\n",
              "2010-01-01 00:00:00           14403\n",
              "2010-01-01 01:00:00           13814\n",
              "2010-01-01 02:00:00           13366\n",
              "2010-01-01 03:00:00           13120\n",
              "2010-01-01 04:00:00           13075"
            ]
          },
          "metadata": {
            "tags": []
          },
          "execution_count": 62
        }
      ]
    },
    {
      "cell_type": "code",
      "metadata": {
        "colab": {
          "base_uri": "https://localhost:8080/",
          "height": 297
        },
        "id": "KCDXYN9Aq7Se",
        "outputId": "dfd265f2-593d-47d2-d6c7-796d008e7a2a"
      },
      "source": [
        "YY=DF['2015':]\n",
        "DF.describe()\n"
      ],
      "execution_count": null,
      "outputs": [
        {
          "output_type": "execute_result",
          "data": {
            "text/html": [
              "<div>\n",
              "<style scoped>\n",
              "    .dataframe tbody tr th:only-of-type {\n",
              "        vertical-align: middle;\n",
              "    }\n",
              "\n",
              "    .dataframe tbody tr th {\n",
              "        vertical-align: top;\n",
              "    }\n",
              "\n",
              "    .dataframe thead th {\n",
              "        text-align: right;\n",
              "    }\n",
              "</style>\n",
              "<table border=\"1\" class=\"dataframe\">\n",
              "  <thead>\n",
              "    <tr style=\"text-align: right;\">\n",
              "      <th></th>\n",
              "      <th>Ontario Demand</th>\n",
              "    </tr>\n",
              "  </thead>\n",
              "  <tbody>\n",
              "    <tr>\n",
              "      <th>count</th>\n",
              "      <td>87648.000000</td>\n",
              "    </tr>\n",
              "    <tr>\n",
              "      <th>mean</th>\n",
              "      <td>15791.854281</td>\n",
              "    </tr>\n",
              "    <tr>\n",
              "      <th>std</th>\n",
              "      <td>2397.117051</td>\n",
              "    </tr>\n",
              "    <tr>\n",
              "      <th>min</th>\n",
              "      <td>10167.000000</td>\n",
              "    </tr>\n",
              "    <tr>\n",
              "      <th>25%</th>\n",
              "      <td>14017.000000</td>\n",
              "    </tr>\n",
              "    <tr>\n",
              "      <th>50%</th>\n",
              "      <td>15757.000000</td>\n",
              "    </tr>\n",
              "    <tr>\n",
              "      <th>75%</th>\n",
              "      <td>17387.000000</td>\n",
              "    </tr>\n",
              "    <tr>\n",
              "      <th>max</th>\n",
              "      <td>25450.000000</td>\n",
              "    </tr>\n",
              "  </tbody>\n",
              "</table>\n",
              "</div>"
            ],
            "text/plain": [
              "       Ontario Demand\n",
              "count    87648.000000\n",
              "mean     15791.854281\n",
              "std       2397.117051\n",
              "min      10167.000000\n",
              "25%      14017.000000\n",
              "50%      15757.000000\n",
              "75%      17387.000000\n",
              "max      25450.000000"
            ]
          },
          "metadata": {
            "tags": []
          },
          "execution_count": 63
        }
      ]
    },
    {
      "cell_type": "markdown",
      "metadata": {
        "id": "w8c0LooFAh_b"
      },
      "source": [
        "Time and Date Effect\n",
        "\n",
        "Before actually preprocessing the data, let's have a quick look at the general distribution of the data, especially with respect to any patterns that are identifiable with pure visualization. Followings are the plots of average price for all months, weekdays and hours in the dataset.\n",
        "\n",
        "It seems that electricity price has some very obvious temporal patterns. Electricity is cheaper in summer than in winter. While electricity costs most during workdays, it drops towards the weekend with lowest prices on Sunday. Over the course of a day, electricity is cheapest after midnight, peaks in the morning and evening hours and is a little lower during working hours. Those are very superficial analyses of temporal patterns, but it is obvious that there are some patterns available, that we should be able to extract from the data.\n",
        "\n",
        "In the next steps, I will preprocess the data for training. Since we need real, unprocessed data as a sufficient baseline for evaluating the model performance, I keep an untouched copy of data (all prices of 2019) as a test set for evaluation purposes"
      ]
    },
    {
      "cell_type": "code",
      "metadata": {
        "colab": {
          "base_uri": "https://localhost:8080/",
          "height": 218
        },
        "id": "urtvBzSZ07H3",
        "outputId": "8d2b4b7c-c2e1-491f-fab8-504189eb7a34"
      },
      "source": [
        "plot_average_prices(DF['Ontario Demand'])"
      ],
      "execution_count": null,
      "outputs": [
        {
          "output_type": "display_data",
          "data": {
            "image/png": "[encoded data removed]",
            "text/plain": [
              "<Figure size 252x201.6 with 3 Axes>"
            ]
          },
          "metadata": {
            "tags": [],
            "needs_background": "light"
          }
        }
      ]
    },
    {
      "cell_type": "code",
      "metadata": {
        "id": "WJKIULW_1y1F"
      },
      "source": [
        "# keep raw data of the test set for model evaluation\n",
        "test_raw = DF['2019']"
      ],
      "execution_count": null,
      "outputs": []
    },
    {
      "cell_type": "markdown",
      "metadata": {
        "id": "0dR4s5hNAbJT"
      },
      "source": [
        "The range of the prices now looks much more appropriate to be scaled to 0-1 values. When scaling, the data will now be much more spread out instead of concentrating around some median value, as it would have been the case when the outliers would not have been removed. The histogram below shows the distribution of prices for which outliers have been replaced."
      ]
    },
    {
      "cell_type": "code",
      "metadata": {
        "colab": {
          "base_uri": "https://localhost:8080/",
          "height": 232
        },
        "id": "05h-3SVU2FTh",
        "outputId": "31122050-327e-452d-d7e7-8318f545eecd"
      },
      "source": [
        "f, ax = plt.subplots(figsize=(3.5,2.8))\n",
        "DF['Ontario Demand'].hist(bins=50, ax=ax)\n",
        "ax.set_title('Distribution of Ontario Electricity Demand')\n",
        "ax.set_xlabel('Electricity Demand (MW)')\n",
        "#plt.savefig('HistLoad.pdf',dpi=300)\n",
        "#files.download('HistLoad.pdf')"
      ],
      "execution_count": null,
      "outputs": [
        {
          "output_type": "execute_result",
          "data": {
            "text/plain": [
              "Text(0.5, 0, 'Electricity Demand (MW)')"
            ]
          },
          "metadata": {
            "tags": []
          },
          "execution_count": 66
        },
        {
          "output_type": "display_data",
          "data": {
            "image/png": "[encoded data removed]",
            "text/plain": [
              "<Figure size 252x201.6 with 1 Axes>"
            ]
          },
          "metadata": {
            "tags": [],
            "needs_background": "light"
          }
        }
      ]
    },
    {
      "cell_type": "code",
      "metadata": {
        "id": "Rg5kOzqH2hXR"
      },
      "source": [
        "# scale data to range between 0 and 1\n",
        "from sklearn.preprocessing import MinMaxScaler\n",
        "da_scaler = MinMaxScaler()\n",
        "DF['Ontario Demand'] = da_scaler.fit_transform(DF['Ontario Demand'].values.reshape(-1, 1))"
      ],
      "execution_count": null,
      "outputs": []
    },
    {
      "cell_type": "code",
      "metadata": {
        "colab": {
          "base_uri": "https://localhost:8080/",
          "height": 215
        },
        "id": "rfAA9pcu_2YC",
        "outputId": "8b607930-c400-4173-c47f-985c92465cb5"
      },
      "source": [
        "feature_data = DF.loc['2018-06-11':'2018-06-18', 'Ontario Demand']\n",
        "feature_data.columns = ['input data']\n",
        "label_data = DF.loc['2018-06-18', 'Ontario Demand']\n",
        "label_data.columns = ['data to predict']\n",
        "f, ax = plt.subplots(figsize=(3.5,2.8))\n",
        "feature_data.plot(ax=ax)\n",
        "label_data.plot(ax=ax, color='red')\n",
        "ax.set_ylabel('Scaled Electricity Demand')\n",
        "ax.set_xlabel('Date')\n",
        "ax.set_title('Lagged Data Structure');\n",
        "#plt.savefig('LaggedLoad.png',dpi=300)\n",
        "#files.download('LaggedLoad.png')"
      ],
      "execution_count": null,
      "outputs": [
        {
          "output_type": "display_data",
          "data": {
            "image/png": "[encoded data removed]",
            "text/plain": [
              "<Figure size 252x201.6 with 1 Axes>"
            ]
          },
          "metadata": {
            "tags": [],
            "needs_background": "light"
          }
        }
      ]
    },
    {
      "cell_type": "markdown",
      "metadata": {
        "id": "jlN07vj9BqYv"
      },
      "source": [
        "In order to achieve that structure the data has to be 'lagged'. This can be achieved by adding columns to every row of the input data, one column for each lagged value. In order to use the last week hourly price data, we have to lag for 7x24=168 hours."
      ]
    },
    {
      "cell_type": "code",
      "metadata": {
        "colab": {
          "base_uri": "https://localhost:8080/",
          "height": 440
        },
        "id": "mgWFDA9NASVd",
        "outputId": "b553f34e-2b39-4124-bec8-c2fe233230b4"
      },
      "source": [
        "# include time lags of timeseries data for 1 week = 7 * 24h = 168h\n",
        "lags = 168\n",
        "for l in range(1, lags+1):\n",
        "    DF['l_{}'.format(l)] = DF['Ontario Demand'].shift(l)\n",
        "# drop missing data entries that result from the lagging step (no lagged data available for first 168 days of year)\n",
        "DF.dropna(inplace=True)\n",
        "DF.head(n=5)"
      ],
      "execution_count": null,
      "outputs": [
        {
          "output_type": "execute_result",
          "data": {
            "text/html": [
              "<div>\n",
              "<style scoped>\n",
              "    .dataframe tbody tr th:only-of-type {\n",
              "        vertical-align: middle;\n",
              "    }\n",
              "\n",
              "    .dataframe tbody tr th {\n",
              "        vertical-align: top;\n",
              "    }\n",
              "\n",
              "    .dataframe thead th {\n",
              "        text-align: right;\n",
              "    }\n",
              "</style>\n",
              "<table border=\"1\" class=\"dataframe\">\n",
              "  <thead>\n",
              "    <tr style=\"text-align: right;\">\n",
              "      <th></th>\n",
              "      <th>Ontario Demand</th>\n",
              "      <th>l_1</th>\n",
              "      <th>l_2</th>\n",
              "      <th>l_3</th>\n",
              "      <th>l_4</th>\n",
              "      <th>l_5</th>\n",
              "      <th>l_6</th>\n",
              "      <th>l_7</th>\n",
              "      <th>l_8</th>\n",
              "      <th>l_9</th>\n",
              "      <th>l_10</th>\n",
              "      <th>l_11</th>\n",
              "      <th>l_12</th>\n",
              "      <th>l_13</th>\n",
              "      <th>l_14</th>\n",
              "      <th>l_15</th>\n",
              "      <th>l_16</th>\n",
              "      <th>l_17</th>\n",
              "      <th>l_18</th>\n",
              "      <th>l_19</th>\n",
              "      <th>l_20</th>\n",
              "      <th>l_21</th>\n",
              "      <th>l_22</th>\n",
              "      <th>l_23</th>\n",
              "      <th>l_24</th>\n",
              "      <th>l_25</th>\n",
              "      <th>l_26</th>\n",
              "      <th>l_27</th>\n",
              "      <th>l_28</th>\n",
              "      <th>l_29</th>\n",
              "      <th>l_30</th>\n",
              "      <th>l_31</th>\n",
              "      <th>l_32</th>\n",
              "      <th>l_33</th>\n",
              "      <th>l_34</th>\n",
              "      <th>l_35</th>\n",
              "      <th>l_36</th>\n",
              "      <th>l_37</th>\n",
              "      <th>l_38</th>\n",
              "      <th>l_39</th>\n",
              "      <th>...</th>\n",
              "      <th>l_129</th>\n",
              "      <th>l_130</th>\n",
              "      <th>l_131</th>\n",
              "      <th>l_132</th>\n",
              "      <th>l_133</th>\n",
              "      <th>l_134</th>\n",
              "      <th>l_135</th>\n",
              "      <th>l_136</th>\n",
              "      <th>l_137</th>\n",
              "      <th>l_138</th>\n",
              "      <th>l_139</th>\n",
              "      <th>l_140</th>\n",
              "      <th>l_141</th>\n",
              "      <th>l_142</th>\n",
              "      <th>l_143</th>\n",
              "      <th>l_144</th>\n",
              "      <th>l_145</th>\n",
              "      <th>l_146</th>\n",
              "      <th>l_147</th>\n",
              "      <th>l_148</th>\n",
              "      <th>l_149</th>\n",
              "      <th>l_150</th>\n",
              "      <th>l_151</th>\n",
              "      <th>l_152</th>\n",
              "      <th>l_153</th>\n",
              "      <th>l_154</th>\n",
              "      <th>l_155</th>\n",
              "      <th>l_156</th>\n",
              "      <th>l_157</th>\n",
              "      <th>l_158</th>\n",
              "      <th>l_159</th>\n",
              "      <th>l_160</th>\n",
              "      <th>l_161</th>\n",
              "      <th>l_162</th>\n",
              "      <th>l_163</th>\n",
              "      <th>l_164</th>\n",
              "      <th>l_165</th>\n",
              "      <th>l_166</th>\n",
              "      <th>l_167</th>\n",
              "      <th>l_168</th>\n",
              "    </tr>\n",
              "  </thead>\n",
              "  <tbody>\n",
              "    <tr>\n",
              "      <th>2010-01-08 00:00:00</th>\n",
              "      <td>0.376758</td>\n",
              "      <td>0.441144</td>\n",
              "      <td>0.533534</td>\n",
              "      <td>0.613950</td>\n",
              "      <td>0.664202</td>\n",
              "      <td>0.693974</td>\n",
              "      <td>0.723549</td>\n",
              "      <td>0.713931</td>\n",
              "      <td>0.637506</td>\n",
              "      <td>0.584178</td>\n",
              "      <td>0.576130</td>\n",
              "      <td>0.588562</td>\n",
              "      <td>0.598574</td>\n",
              "      <td>0.615455</td>\n",
              "      <td>0.616567</td>\n",
              "      <td>0.610548</td>\n",
              "      <td>0.611006</td>\n",
              "      <td>0.573055</td>\n",
              "      <td>0.467447</td>\n",
              "      <td>0.383760</td>\n",
              "      <td>0.336518</td>\n",
              "      <td>0.318720</td>\n",
              "      <td>0.328142</td>\n",
              "      <td>0.338677</td>\n",
              "      <td>0.372636</td>\n",
              "      <td>0.438396</td>\n",
              "      <td>0.536282</td>\n",
              "      <td>0.612903</td>\n",
              "      <td>0.669764</td>\n",
              "      <td>0.706864</td>\n",
              "      <td>0.741870</td>\n",
              "      <td>0.747366</td>\n",
              "      <td>0.663221</td>\n",
              "      <td>0.608781</td>\n",
              "      <td>0.597134</td>\n",
              "      <td>0.600602</td>\n",
              "      <td>0.607669</td>\n",
              "      <td>0.620559</td>\n",
              "      <td>0.625204</td>\n",
              "      <td>0.625597</td>\n",
              "      <td>...</td>\n",
              "      <td>0.487666</td>\n",
              "      <td>0.485180</td>\n",
              "      <td>0.491003</td>\n",
              "      <td>0.496827</td>\n",
              "      <td>0.491592</td>\n",
              "      <td>0.475299</td>\n",
              "      <td>0.441209</td>\n",
              "      <td>0.396519</td>\n",
              "      <td>0.356540</td>\n",
              "      <td>0.319440</td>\n",
              "      <td>0.284499</td>\n",
              "      <td>0.259242</td>\n",
              "      <td>0.261336</td>\n",
              "      <td>0.259504</td>\n",
              "      <td>0.271871</td>\n",
              "      <td>0.299549</td>\n",
              "      <td>0.345678</td>\n",
              "      <td>0.395276</td>\n",
              "      <td>0.436040</td>\n",
              "      <td>0.468429</td>\n",
              "      <td>0.483217</td>\n",
              "      <td>0.506969</td>\n",
              "      <td>0.504090</td>\n",
              "      <td>0.432703</td>\n",
              "      <td>0.378329</td>\n",
              "      <td>0.365112</td>\n",
              "      <td>0.359354</td>\n",
              "      <td>0.355428</td>\n",
              "      <td>0.340116</td>\n",
              "      <td>0.306942</td>\n",
              "      <td>0.268665</td>\n",
              "      <td>0.238631</td>\n",
              "      <td>0.231041</td>\n",
              "      <td>0.220310</td>\n",
              "      <td>0.200680</td>\n",
              "      <td>0.190277</td>\n",
              "      <td>0.193221</td>\n",
              "      <td>0.209318</td>\n",
              "      <td>0.238631</td>\n",
              "      <td>0.277171</td>\n",
              "    </tr>\n",
              "    <tr>\n",
              "      <th>2010-01-08 01:00:00</th>\n",
              "      <td>0.350258</td>\n",
              "      <td>0.376758</td>\n",
              "      <td>0.441144</td>\n",
              "      <td>0.533534</td>\n",
              "      <td>0.613950</td>\n",
              "      <td>0.664202</td>\n",
              "      <td>0.693974</td>\n",
              "      <td>0.723549</td>\n",
              "      <td>0.713931</td>\n",
              "      <td>0.637506</td>\n",
              "      <td>0.584178</td>\n",
              "      <td>0.576130</td>\n",
              "      <td>0.588562</td>\n",
              "      <td>0.598574</td>\n",
              "      <td>0.615455</td>\n",
              "      <td>0.616567</td>\n",
              "      <td>0.610548</td>\n",
              "      <td>0.611006</td>\n",
              "      <td>0.573055</td>\n",
              "      <td>0.467447</td>\n",
              "      <td>0.383760</td>\n",
              "      <td>0.336518</td>\n",
              "      <td>0.318720</td>\n",
              "      <td>0.328142</td>\n",
              "      <td>0.338677</td>\n",
              "      <td>0.372636</td>\n",
              "      <td>0.438396</td>\n",
              "      <td>0.536282</td>\n",
              "      <td>0.612903</td>\n",
              "      <td>0.669764</td>\n",
              "      <td>0.706864</td>\n",
              "      <td>0.741870</td>\n",
              "      <td>0.747366</td>\n",
              "      <td>0.663221</td>\n",
              "      <td>0.608781</td>\n",
              "      <td>0.597134</td>\n",
              "      <td>0.600602</td>\n",
              "      <td>0.607669</td>\n",
              "      <td>0.620559</td>\n",
              "      <td>0.625204</td>\n",
              "      <td>...</td>\n",
              "      <td>0.548387</td>\n",
              "      <td>0.487666</td>\n",
              "      <td>0.485180</td>\n",
              "      <td>0.491003</td>\n",
              "      <td>0.496827</td>\n",
              "      <td>0.491592</td>\n",
              "      <td>0.475299</td>\n",
              "      <td>0.441209</td>\n",
              "      <td>0.396519</td>\n",
              "      <td>0.356540</td>\n",
              "      <td>0.319440</td>\n",
              "      <td>0.284499</td>\n",
              "      <td>0.259242</td>\n",
              "      <td>0.261336</td>\n",
              "      <td>0.259504</td>\n",
              "      <td>0.271871</td>\n",
              "      <td>0.299549</td>\n",
              "      <td>0.345678</td>\n",
              "      <td>0.395276</td>\n",
              "      <td>0.436040</td>\n",
              "      <td>0.468429</td>\n",
              "      <td>0.483217</td>\n",
              "      <td>0.506969</td>\n",
              "      <td>0.504090</td>\n",
              "      <td>0.432703</td>\n",
              "      <td>0.378329</td>\n",
              "      <td>0.365112</td>\n",
              "      <td>0.359354</td>\n",
              "      <td>0.355428</td>\n",
              "      <td>0.340116</td>\n",
              "      <td>0.306942</td>\n",
              "      <td>0.268665</td>\n",
              "      <td>0.238631</td>\n",
              "      <td>0.231041</td>\n",
              "      <td>0.220310</td>\n",
              "      <td>0.200680</td>\n",
              "      <td>0.190277</td>\n",
              "      <td>0.193221</td>\n",
              "      <td>0.209318</td>\n",
              "      <td>0.238631</td>\n",
              "    </tr>\n",
              "    <tr>\n",
              "      <th>2010-01-08 02:00:00</th>\n",
              "      <td>0.335078</td>\n",
              "      <td>0.350258</td>\n",
              "      <td>0.376758</td>\n",
              "      <td>0.441144</td>\n",
              "      <td>0.533534</td>\n",
              "      <td>0.613950</td>\n",
              "      <td>0.664202</td>\n",
              "      <td>0.693974</td>\n",
              "      <td>0.723549</td>\n",
              "      <td>0.713931</td>\n",
              "      <td>0.637506</td>\n",
              "      <td>0.584178</td>\n",
              "      <td>0.576130</td>\n",
              "      <td>0.588562</td>\n",
              "      <td>0.598574</td>\n",
              "      <td>0.615455</td>\n",
              "      <td>0.616567</td>\n",
              "      <td>0.610548</td>\n",
              "      <td>0.611006</td>\n",
              "      <td>0.573055</td>\n",
              "      <td>0.467447</td>\n",
              "      <td>0.383760</td>\n",
              "      <td>0.336518</td>\n",
              "      <td>0.318720</td>\n",
              "      <td>0.328142</td>\n",
              "      <td>0.338677</td>\n",
              "      <td>0.372636</td>\n",
              "      <td>0.438396</td>\n",
              "      <td>0.536282</td>\n",
              "      <td>0.612903</td>\n",
              "      <td>0.669764</td>\n",
              "      <td>0.706864</td>\n",
              "      <td>0.741870</td>\n",
              "      <td>0.747366</td>\n",
              "      <td>0.663221</td>\n",
              "      <td>0.608781</td>\n",
              "      <td>0.597134</td>\n",
              "      <td>0.600602</td>\n",
              "      <td>0.607669</td>\n",
              "      <td>0.620559</td>\n",
              "      <td>...</td>\n",
              "      <td>0.647909</td>\n",
              "      <td>0.548387</td>\n",
              "      <td>0.487666</td>\n",
              "      <td>0.485180</td>\n",
              "      <td>0.491003</td>\n",
              "      <td>0.496827</td>\n",
              "      <td>0.491592</td>\n",
              "      <td>0.475299</td>\n",
              "      <td>0.441209</td>\n",
              "      <td>0.396519</td>\n",
              "      <td>0.356540</td>\n",
              "      <td>0.319440</td>\n",
              "      <td>0.284499</td>\n",
              "      <td>0.259242</td>\n",
              "      <td>0.261336</td>\n",
              "      <td>0.259504</td>\n",
              "      <td>0.271871</td>\n",
              "      <td>0.299549</td>\n",
              "      <td>0.345678</td>\n",
              "      <td>0.395276</td>\n",
              "      <td>0.436040</td>\n",
              "      <td>0.468429</td>\n",
              "      <td>0.483217</td>\n",
              "      <td>0.506969</td>\n",
              "      <td>0.504090</td>\n",
              "      <td>0.432703</td>\n",
              "      <td>0.378329</td>\n",
              "      <td>0.365112</td>\n",
              "      <td>0.359354</td>\n",
              "      <td>0.355428</td>\n",
              "      <td>0.340116</td>\n",
              "      <td>0.306942</td>\n",
              "      <td>0.268665</td>\n",
              "      <td>0.238631</td>\n",
              "      <td>0.231041</td>\n",
              "      <td>0.220310</td>\n",
              "      <td>0.200680</td>\n",
              "      <td>0.190277</td>\n",
              "      <td>0.193221</td>\n",
              "      <td>0.209318</td>\n",
              "    </tr>\n",
              "    <tr>\n",
              "      <th>2010-01-08 03:00:00</th>\n",
              "      <td>0.334882</td>\n",
              "      <td>0.335078</td>\n",
              "      <td>0.350258</td>\n",
              "      <td>0.376758</td>\n",
              "      <td>0.441144</td>\n",
              "      <td>0.533534</td>\n",
              "      <td>0.613950</td>\n",
              "      <td>0.664202</td>\n",
              "      <td>0.693974</td>\n",
              "      <td>0.723549</td>\n",
              "      <td>0.713931</td>\n",
              "      <td>0.637506</td>\n",
              "      <td>0.584178</td>\n",
              "      <td>0.576130</td>\n",
              "      <td>0.588562</td>\n",
              "      <td>0.598574</td>\n",
              "      <td>0.615455</td>\n",
              "      <td>0.616567</td>\n",
              "      <td>0.610548</td>\n",
              "      <td>0.611006</td>\n",
              "      <td>0.573055</td>\n",
              "      <td>0.467447</td>\n",
              "      <td>0.383760</td>\n",
              "      <td>0.336518</td>\n",
              "      <td>0.318720</td>\n",
              "      <td>0.328142</td>\n",
              "      <td>0.338677</td>\n",
              "      <td>0.372636</td>\n",
              "      <td>0.438396</td>\n",
              "      <td>0.536282</td>\n",
              "      <td>0.612903</td>\n",
              "      <td>0.669764</td>\n",
              "      <td>0.706864</td>\n",
              "      <td>0.741870</td>\n",
              "      <td>0.747366</td>\n",
              "      <td>0.663221</td>\n",
              "      <td>0.608781</td>\n",
              "      <td>0.597134</td>\n",
              "      <td>0.600602</td>\n",
              "      <td>0.607669</td>\n",
              "      <td>...</td>\n",
              "      <td>0.651443</td>\n",
              "      <td>0.647909</td>\n",
              "      <td>0.548387</td>\n",
              "      <td>0.487666</td>\n",
              "      <td>0.485180</td>\n",
              "      <td>0.491003</td>\n",
              "      <td>0.496827</td>\n",
              "      <td>0.491592</td>\n",
              "      <td>0.475299</td>\n",
              "      <td>0.441209</td>\n",
              "      <td>0.396519</td>\n",
              "      <td>0.356540</td>\n",
              "      <td>0.319440</td>\n",
              "      <td>0.284499</td>\n",
              "      <td>0.259242</td>\n",
              "      <td>0.261336</td>\n",
              "      <td>0.259504</td>\n",
              "      <td>0.271871</td>\n",
              "      <td>0.299549</td>\n",
              "      <td>0.345678</td>\n",
              "      <td>0.395276</td>\n",
              "      <td>0.436040</td>\n",
              "      <td>0.468429</td>\n",
              "      <td>0.483217</td>\n",
              "      <td>0.506969</td>\n",
              "      <td>0.504090</td>\n",
              "      <td>0.432703</td>\n",
              "      <td>0.378329</td>\n",
              "      <td>0.365112</td>\n",
              "      <td>0.359354</td>\n",
              "      <td>0.355428</td>\n",
              "      <td>0.340116</td>\n",
              "      <td>0.306942</td>\n",
              "      <td>0.268665</td>\n",
              "      <td>0.238631</td>\n",
              "      <td>0.231041</td>\n",
              "      <td>0.220310</td>\n",
              "      <td>0.200680</td>\n",
              "      <td>0.190277</td>\n",
              "      <td>0.193221</td>\n",
              "    </tr>\n",
              "    <tr>\n",
              "      <th>2010-01-08 04:00:00</th>\n",
              "      <td>0.342145</td>\n",
              "      <td>0.334882</td>\n",
              "      <td>0.335078</td>\n",
              "      <td>0.350258</td>\n",
              "      <td>0.376758</td>\n",
              "      <td>0.441144</td>\n",
              "      <td>0.533534</td>\n",
              "      <td>0.613950</td>\n",
              "      <td>0.664202</td>\n",
              "      <td>0.693974</td>\n",
              "      <td>0.723549</td>\n",
              "      <td>0.713931</td>\n",
              "      <td>0.637506</td>\n",
              "      <td>0.584178</td>\n",
              "      <td>0.576130</td>\n",
              "      <td>0.588562</td>\n",
              "      <td>0.598574</td>\n",
              "      <td>0.615455</td>\n",
              "      <td>0.616567</td>\n",
              "      <td>0.610548</td>\n",
              "      <td>0.611006</td>\n",
              "      <td>0.573055</td>\n",
              "      <td>0.467447</td>\n",
              "      <td>0.383760</td>\n",
              "      <td>0.336518</td>\n",
              "      <td>0.318720</td>\n",
              "      <td>0.328142</td>\n",
              "      <td>0.338677</td>\n",
              "      <td>0.372636</td>\n",
              "      <td>0.438396</td>\n",
              "      <td>0.536282</td>\n",
              "      <td>0.612903</td>\n",
              "      <td>0.669764</td>\n",
              "      <td>0.706864</td>\n",
              "      <td>0.741870</td>\n",
              "      <td>0.747366</td>\n",
              "      <td>0.663221</td>\n",
              "      <td>0.608781</td>\n",
              "      <td>0.597134</td>\n",
              "      <td>0.600602</td>\n",
              "      <td>...</td>\n",
              "      <td>0.611071</td>\n",
              "      <td>0.651443</td>\n",
              "      <td>0.647909</td>\n",
              "      <td>0.548387</td>\n",
              "      <td>0.487666</td>\n",
              "      <td>0.485180</td>\n",
              "      <td>0.491003</td>\n",
              "      <td>0.496827</td>\n",
              "      <td>0.491592</td>\n",
              "      <td>0.475299</td>\n",
              "      <td>0.441209</td>\n",
              "      <td>0.396519</td>\n",
              "      <td>0.356540</td>\n",
              "      <td>0.319440</td>\n",
              "      <td>0.284499</td>\n",
              "      <td>0.259242</td>\n",
              "      <td>0.261336</td>\n",
              "      <td>0.259504</td>\n",
              "      <td>0.271871</td>\n",
              "      <td>0.299549</td>\n",
              "      <td>0.345678</td>\n",
              "      <td>0.395276</td>\n",
              "      <td>0.436040</td>\n",
              "      <td>0.468429</td>\n",
              "      <td>0.483217</td>\n",
              "      <td>0.506969</td>\n",
              "      <td>0.504090</td>\n",
              "      <td>0.432703</td>\n",
              "      <td>0.378329</td>\n",
              "      <td>0.365112</td>\n",
              "      <td>0.359354</td>\n",
              "      <td>0.355428</td>\n",
              "      <td>0.340116</td>\n",
              "      <td>0.306942</td>\n",
              "      <td>0.268665</td>\n",
              "      <td>0.238631</td>\n",
              "      <td>0.231041</td>\n",
              "      <td>0.220310</td>\n",
              "      <td>0.200680</td>\n",
              "      <td>0.190277</td>\n",
              "    </tr>\n",
              "  </tbody>\n",
              "</table>\n",
              "<p>5 rows × 169 columns</p>\n",
              "</div>"
            ],
            "text/plain": [
              "                     Ontario Demand       l_1  ...     l_167     l_168\n",
              "2010-01-08 00:00:00        0.376758  0.441144  ...  0.238631  0.277171\n",
              "2010-01-08 01:00:00        0.350258  0.376758  ...  0.209318  0.238631\n",
              "2010-01-08 02:00:00        0.335078  0.350258  ...  0.193221  0.209318\n",
              "2010-01-08 03:00:00        0.334882  0.335078  ...  0.190277  0.193221\n",
              "2010-01-08 04:00:00        0.342145  0.334882  ...  0.200680  0.190277\n",
              "\n",
              "[5 rows x 169 columns]"
            ]
          },
          "metadata": {
            "tags": []
          },
          "execution_count": 69
        }
      ]
    },
    {
      "cell_type": "markdown",
      "metadata": {
        "id": "EijcG0aRCOvH"
      },
      "source": [
        "Explanation\n",
        "\n",
        "One sample, representing one hour, now contains the true price for that hour as well as hourly prices of the last 168 hours prior to that hour.\n",
        "\n",
        "Since we want to predict for all hours of a full day at once, the lagged data has to be split into chunks of 24 hours in order for a feature-label combination to represent a full day. A sample output ('label') will be a vector of length 24, one entry for each hour of the prediction day. The sample features will be a vector of length 168, one entry for every lagged hour of the prior week.\n",
        "\n",
        "We will use all data prior to 2019 as training data and all data from 2019 as test data. We do not pick test samples randomly, since we are interested in the performance of our model on the most recent data.\n",
        "\n",
        "Then, the input to the model is a feature tensor of shape (samples, lags, features) and the output a tensor of shape (samples, hours_of_next_day). Note that we only have one kind of feature, the historical prices."
      ]
    },
    {
      "cell_type": "code",
      "metadata": {
        "id": "RGhxpu_NCP5t"
      },
      "source": [
        "# create feature and label dataframes\n",
        "prelim_features = DF.drop('Ontario Demand', axis=1)\n",
        "prelim_labels = pd.DataFrame(DF['Ontario Demand'])\n",
        "\n",
        "# format labels to 24 hour output range\n",
        "for i in range(0, 24):\n",
        "    prelim_labels['t_{}'.format(i)] = prelim_labels['Ontario Demand'].shift(-i)\n",
        "prelim_labels.drop('Ontario Demand', axis=1, inplace=True)\n",
        "\n",
        "# apply one-day discretization to the data\n",
        "labels = prelim_labels[prelim_labels.index.hour == 0]\n",
        "features = prelim_features[prelim_features.index.hour == 0]\n",
        "\n",
        "features_train = features[:'2018']\n",
        "features_test = features['2019']\n",
        "labels_train = labels[:'2018']\n",
        "XX=features['2015':]\n",
        "\n",
        "samples_train = len(features_train)\n",
        "samples_test = len(features_test)\n",
        "timesteps = 168"
      ],
      "execution_count": null,
      "outputs": []
    },
    {
      "cell_type": "code",
      "metadata": {
        "colab": {
          "base_uri": "https://localhost:8080/"
        },
        "id": "8gtL66CBCoJn",
        "outputId": "eb68ab9a-4c50-434e-e19f-83855af5a849"
      },
      "source": [
        "# convert pandas data frames to numpy ndarrays\n",
        "features_train = features_train.values.reshape(samples_train, timesteps, 1)\n",
        "features_test = features_test.values.reshape(samples_test, timesteps, 1)\n",
        "labels_train = labels_train.values\n",
        "\n",
        "# check for correct data shape\n",
        "features_train.shape, labels_train.shape"
      ],
      "execution_count": null,
      "outputs": [
        {
          "output_type": "execute_result",
          "data": {
            "text/plain": [
              "((3280, 168, 1), (3280, 24))"
            ]
          },
          "metadata": {
            "tags": []
          },
          "execution_count": 71
        }
      ]
    },
    {
      "cell_type": "markdown",
      "metadata": {
        "id": "2n8E7udUCx0t"
      },
      "source": [
        "Now that we have organized and preprocessed the data for our task, we split it into a training and a validation set. The validation set will serve as pseudo-unseen data for model for parameter selection during the training process. The final evaluation however will be conducted with the truly unseen test set that has remained untouched."
      ]
    },
    {
      "cell_type": "code",
      "metadata": {
        "id": "u5Nb-gooCy1t"
      },
      "source": [
        "from keras.models import Model, load_model\n",
        "from keras.layers import Input, Add\n",
        "from keras.layers.core import Dense, Activation, Dropout\n",
        "from keras.layers.recurrent import LSTM\n",
        "from keras.layers.convolutional import Conv1D\n",
        "from keras.callbacks import ModelCheckpoint\n",
        "from keras.regularizers import l1_l2\n",
        "\n",
        "from sklearn.model_selection import train_test_split\n",
        "from sklearn.metrics import mean_absolute_error, r2_score, mean_squared_error\n",
        "import json"
      ],
      "execution_count": null,
      "outputs": []
    },
    {
      "cell_type": "markdown",
      "metadata": {
        "id": "R4vYtRQpC4Cs"
      },
      "source": [
        "A benchmark model has to be set up in order to evaluate how well we are performing with the different modeling approaches. This benchmark model has to be some kind of 'best guess' that one could expect to be able to make without much modeling effort. In this case simple averages of reference points are used as benchmarks. In total four naive benchmarks are used here:\n",
        "\n",
        "The price of the same hour the day before as a prediction.\n",
        "The price of the same hour of the same day the week before as a prediction.\n",
        "The average of the same hour of every day during the last two weeks as a prediction.\n",
        "The average of the same hour of every day during the last four weeks as a prediction.\n",
        "The primary goal for the timeseries model is to beat these benchmark results by a fair margin. The test set is used as actual benchmarking data."
      ]
    },
    {
      "cell_type": "code",
      "metadata": {
        "id": "_t2oxXzQC3tW"
      },
      "source": [
        "# calculate benchmarks for test set and save them to dataframe\n",
        "benchmark_results = pd.DataFrame(index=test_raw.index)\n",
        "\n",
        "benchmark_results['last_day'] = test_raw.shift(24)['2019']\n",
        "benchmark_results['last_week'] = test_raw.shift(24*7)['2019']\n",
        "benchmark_results['2_week_average'] = pd.concat([test_raw.shift(24 * w) for w in range(1, 3)], axis=1).mean(axis=1)['2019']\n",
        "benchmark_results['4_week_average'] = pd.concat([test_raw.shift(24 * w) for w in range(1, 5)], axis=1).mean(axis=1)['2019']"
      ],
      "execution_count": null,
      "outputs": []
    },
    {
      "cell_type": "code",
      "metadata": {
        "colab": {
          "base_uri": "https://localhost:8080/"
        },
        "id": "pE1mh78rDFry",
        "outputId": "aef53b8d-f14e-45ec-91a4-37dc09499462"
      },
      "source": [
        "# calculate mean absolute errors for benchmark models\n",
        "for col in benchmark_results.columns:\n",
        "    pred = benchmark_results[col].values\n",
        "    true = test_raw['Ontario Demand'].values\n",
        "    #print('RMSE of {} benchmark model: '.format(col), np.sqrt(mean_squared_error(y_pred=pred, y_true=true)))\n",
        "    print('MAE of {} benchmark model: '.format(col), mean_absolute_error(y_pred=pred[168:], y_true=true[168:]))\n",
        "    #print('R_Squared of {} benchmark model: '.format(col), r2_score(y_pred=pred, y_true=true))"
      ],
      "execution_count": null,
      "outputs": [
        {
          "output_type": "stream",
          "text": [
            "MAE of last_day benchmark model:  783.1135940409683\n",
            "MAE of last_week benchmark model:  953.5822858472998\n",
            "MAE of 2_week_average benchmark model:  886.78125\n",
            "MAE of 4_week_average benchmark model:  957.3046729515829\n"
          ],
          "name": "stdout"
        }
      ]
    },
    {
      "cell_type": "markdown",
      "metadata": {
        "id": "JRU6iJaIaZzH"
      },
      "source": [
        "Design the model architecture\n",
        "\n",
        "Before training a model, the data is split into a training and a validation set. The validation set serves as a model selection criterion during training. Since a good performance on a training set might as well result from overfitting the model, a validation set is needed as a first estimation about the ability of the model to generalize."
      ]
    },
    {
      "cell_type": "code",
      "metadata": {
        "id": "MIF2nuuwaZgZ"
      },
      "source": [
        "# split into training and validation data\n",
        "X_train, X_valid, y_train, y_valid = train_test_split(features_train, labels_train, test_size=0.2, random_state=7)\n"
      ],
      "execution_count": null,
      "outputs": []
    },
    {
      "cell_type": "code",
      "metadata": {
        "id": "JG8X4b_oamrq"
      },
      "source": [
        "from keras.callbacks import EarlyStopping, ReduceLROnPlateau, ModelCheckpoint, TensorBoard\n",
        "es = EarlyStopping(monitor='val_loss', min_delta=1e-10, patience=10, verbose=1)\n",
        "rlr = ReduceLROnPlateau(monitor='val_loss', factor=0.5, patience=10, verbose=1)\n",
        "mcp = ModelCheckpoint(filepath='weights.h5', monitor='val_loss', verbose=1, save_best_only=True, save_weights_only=True)\n",
        "tb = TensorBoard('logs')\n",
        "def train_predict_evaluate(model, X_train, X_valid, y_train, y_valid, X_test, y_test, test_index, scaler, batch_size, epochs, verbose=0):\n",
        "    \n",
        "    \"\"\"Fit model to training data. Use best performant on validation data to predict for the test set. \n",
        "    Evaluate on the test set and return results as dataframes\"\"\"\n",
        "    \n",
        "    # train model, save best keep best performer on validation set\n",
        "    hist = model.fit(X_train, y_train, validation_data=(X_valid, y_valid), epochs=epochs, shuffle=True, callbacks=[es, rlr, mcp, tb], verbose=verbose,batch_size=batch_size)\n",
        "    # predict for test set\n",
        "    pred = model.predict(features_test)\n",
        "    # transform back to original data scale\n",
        "    pred = da_scaler.inverse_transform(pred.flatten().reshape(-1, 1))\n",
        "    y_test=test_raw.values.flatten()\n",
        "    results = pd.DataFrame({'prediction':pred.flatten(), 'true values':y_test}, index=test_raw.index)\n",
        "\n",
        "    return results, hist"
      ],
      "execution_count": null,
      "outputs": []
    },
    {
      "cell_type": "markdown",
      "metadata": {
        "id": "tWZZxZ_yatgB"
      },
      "source": [
        "First model architecture\n",
        "\n",
        "The modeling approach below makes use of convolutional and recurrent neural networks. The first model approach is a hybrid neural network with a one-dimensional convolutional layer, a recurrent layer of Long Short Term Memory (LSTM) cells and a densely connected layer. The dense layer serves as the output layer. Its size is fixed to 24 cells, one for each hour of the day to predict prices for.\n",
        "\n",
        "The idea behind the combination of the convolutional and the recurrent layer is to cover short- and long-term patterns in the data. The convolutional layer has a kernel size and a stride of 24. Hence, in one convolutional step 24 hours of historical data will be covered. This results in an convolutional output of length 7 per feature map, which spans exactly the one week of historical data we covered as an input. Each entry in this vector is a representation of all prices (aggregated by the weights in the filter) of one single day within the range of input features.\n",
        "\n",
        "The LSTM cells in the recurrent layer are able to 'memorize' previous information. The output of a LSTM cell not only depends on its current input, but also on inputs received in previous sequence entries. In our case, the sequence is the output of the convolutional layer, containing 7 whole-day representation per feature map in the convolutional layer. The LSTM might use these 7 entries to infer a long term trend from the data. As we have seen, electricity prices follow a clear weekly pattern. Referencing a sequence of 7 days spans a whole week of data. Thus, the LSTM layer should be able to 'realize' the current weekday due to its ability to memorize outputs in previous sequence entries.\n",
        "\n",
        "The reason we do not feed all 168 timesteps to the LSTM layer is quite simple: Feature dimensionality. 168 features are quite hard for a LSTM to 'keep in memory' due to the sheer size of the feature space.\n",
        "\n",
        "The dimensions for the different layers are picked rather randomly after a few trials and errors of what works and what not."
      ]
    },
    {
      "cell_type": "code",
      "metadata": {
        "id": "uAwW5g37aokj"
      },
      "source": [
        "import tensorflow as tf\n",
        "from tensorflow.keras.layers import Dropout\n",
        "from keras.layers.convolutional import MaxPooling1D\n",
        "from keras.layers import Flatten, GRU, SimpleRNN\n",
        "from keras.layers import RepeatVector"
      ],
      "execution_count": null,
      "outputs": []
    },
    {
      "cell_type": "code",
      "metadata": {
        "colab": {
          "base_uri": "https://localhost:8080/"
        },
        "id": "CFSvL0Rda22V",
        "outputId": "55a6eab3-dd64-4aae-82ae-fc34f452f287"
      },
      "source": [
        "# design the neural network architecture with the keras functional API\n",
        "np.random.seed(7)\n",
        "tf.random.set_seed(7)\n",
        "input_layer = Input(shape=(X_train.shape[1], X_train.shape[2]))\n",
        "x = Conv1D(256, kernel_size=24, strides=24, padding='valid')(input_layer)\n",
        "#x = MaxPooling1D(pool_size=2)(x)\n",
        "#x=Flatten()(x)\n",
        "#x=RepeatVector(1)(x)\n",
        "#x = SimpleRNN(256)(x)\n",
        "x = GRU(256, recurrent_activation='relu')(x)\n",
        "#x = LSTM(256, recurrent_activation='relu')(x)\n",
        "x=Dropout(.1)(x)\n",
        "output_layer = Dense(24)(x)\n",
        "model = Model(inputs=[input_layer], outputs=[output_layer])\n",
        "model.compile(loss='mse', optimizer='adam')\n",
        "model.summary()"
      ],
      "execution_count": null,
      "outputs": [
        {
          "output_type": "stream",
          "text": [
            "Model: \"model_1\"\n",
            "_________________________________________________________________\n",
            "Layer (type)                 Output Shape              Param #   \n",
            "=================================================================\n",
            "input_2 (InputLayer)         [(None, 168, 1)]          0         \n",
            "_________________________________________________________________\n",
            "conv1d_1 (Conv1D)            (None, 7, 256)            6400      \n",
            "_________________________________________________________________\n",
            "gru_1 (GRU)                  (None, 256)               394752    \n",
            "_________________________________________________________________\n",
            "dropout_1 (Dropout)          (None, 256)               0         \n",
            "_________________________________________________________________\n",
            "dense_1 (Dense)              (None, 24)                6168      \n",
            "=================================================================\n",
            "Total params: 407,320\n",
            "Trainable params: 407,320\n",
            "Non-trainable params: 0\n",
            "_________________________________________________________________\n"
          ],
          "name": "stdout"
        }
      ]
    },
    {
      "cell_type": "code",
      "metadata": {
        "colab": {
          "base_uri": "https://localhost:8080/"
        },
        "id": "HumRJe7Aa-Ul",
        "outputId": "b6c7d5ce-4947-4805-bf17-4c6aa5374089"
      },
      "source": [
        "\n",
        "# train the model and calculate the performance on the test set\n",
        "results, hist = train_predict_evaluate(model, X_train, X_valid, y_train, y_valid, features_test,test_raw.values.flatten(), test_raw.index, da_scaler, 80, 200, verbose=1)"
      ],
      "execution_count": null,
      "outputs": [
        {
          "output_type": "stream",
          "text": [
            "Epoch 1/200\n",
            "33/33 [==============================] - 4s 69ms/step - loss: 0.0538 - val_loss: 0.0094\n",
            "\n",
            "Epoch 00001: val_loss improved from inf to 0.00943, saving model to weights.h5\n",
            "Epoch 2/200\n",
            "33/33 [==============================] - 2s 55ms/step - loss: 0.0107 - val_loss: 0.0080\n",
            "\n",
            "Epoch 00002: val_loss improved from 0.00943 to 0.00796, saving model to weights.h5\n",
            "Epoch 3/200\n",
            "33/33 [==============================] - 2s 56ms/step - loss: 0.0090 - val_loss: 0.0070\n",
            "\n",
            "Epoch 00003: val_loss improved from 0.00796 to 0.00700, saving model to weights.h5\n",
            "Epoch 4/200\n",
            "33/33 [==============================] - 2s 57ms/step - loss: 0.0076 - val_loss: 0.0058\n",
            "\n",
            "Epoch 00004: val_loss improved from 0.00700 to 0.00575, saving model to weights.h5\n",
            "Epoch 5/200\n",
            "33/33 [==============================] - 2s 56ms/step - loss: 0.0068 - val_loss: 0.0067\n",
            "\n",
            "Epoch 00005: val_loss did not improve from 0.00575\n",
            "Epoch 6/200\n",
            "33/33 [==============================] - 2s 56ms/step - loss: 0.0065 - val_loss: 0.0048\n",
            "\n",
            "Epoch 00006: val_loss improved from 0.00575 to 0.00477, saving model to weights.h5\n",
            "Epoch 7/200\n",
            "33/33 [==============================] - 2s 57ms/step - loss: 0.0051 - val_loss: 0.0033\n",
            "\n",
            "Epoch 00007: val_loss improved from 0.00477 to 0.00331, saving model to weights.h5\n",
            "Epoch 8/200\n",
            "33/33 [==============================] - 2s 56ms/step - loss: 0.0040 - val_loss: 0.0030\n",
            "\n",
            "Epoch 00008: val_loss improved from 0.00331 to 0.00297, saving model to weights.h5\n",
            "Epoch 9/200\n",
            "33/33 [==============================] - 2s 56ms/step - loss: 0.0038 - val_loss: 0.0029\n",
            "\n",
            "Epoch 00009: val_loss improved from 0.00297 to 0.00294, saving model to weights.h5\n",
            "Epoch 10/200\n",
            "33/33 [==============================] - 2s 57ms/step - loss: 0.0036 - val_loss: 0.0026\n",
            "\n",
            "Epoch 00010: val_loss improved from 0.00294 to 0.00265, saving model to weights.h5\n",
            "Epoch 11/200\n",
            "33/33 [==============================] - 2s 56ms/step - loss: 0.0033 - val_loss: 0.0028\n",
            "\n",
            "Epoch 00011: val_loss did not improve from 0.00265\n",
            "Epoch 12/200\n",
            "33/33 [==============================] - 2s 56ms/step - loss: 0.0032 - val_loss: 0.0026\n",
            "\n",
            "Epoch 00012: val_loss improved from 0.00265 to 0.00256, saving model to weights.h5\n",
            "Epoch 13/200\n",
            "33/33 [==============================] - 2s 56ms/step - loss: 0.0032 - val_loss: 0.0024\n",
            "\n",
            "Epoch 00013: val_loss improved from 0.00256 to 0.00237, saving model to weights.h5\n",
            "Epoch 14/200\n",
            "33/33 [==============================] - 2s 56ms/step - loss: 0.0030 - val_loss: 0.0024\n",
            "\n",
            "Epoch 00014: val_loss did not improve from 0.00237\n",
            "Epoch 15/200\n",
            "33/33 [==============================] - 2s 56ms/step - loss: 0.0030 - val_loss: 0.0024\n",
            "\n",
            "Epoch 00015: val_loss did not improve from 0.00237\n",
            "Epoch 16/200\n",
            "33/33 [==============================] - 2s 56ms/step - loss: 0.0029 - val_loss: 0.0027\n",
            "\n",
            "Epoch 00016: val_loss did not improve from 0.00237\n",
            "Epoch 17/200\n",
            "33/33 [==============================] - 2s 55ms/step - loss: 0.0029 - val_loss: 0.0022\n",
            "\n",
            "Epoch 00017: val_loss improved from 0.00237 to 0.00220, saving model to weights.h5\n",
            "Epoch 18/200\n",
            "33/33 [==============================] - 2s 57ms/step - loss: 0.0029 - val_loss: 0.0022\n",
            "\n",
            "Epoch 00018: val_loss improved from 0.00220 to 0.00219, saving model to weights.h5\n",
            "Epoch 19/200\n",
            "33/33 [==============================] - 2s 57ms/step - loss: 0.0028 - val_loss: 0.0021\n",
            "\n",
            "Epoch 00019: val_loss improved from 0.00219 to 0.00211, saving model to weights.h5\n",
            "Epoch 20/200\n",
            "33/33 [==============================] - 2s 57ms/step - loss: 0.0028 - val_loss: 0.0022\n",
            "\n",
            "Epoch 00020: val_loss did not improve from 0.00211\n",
            "Epoch 21/200\n",
            "33/33 [==============================] - 2s 57ms/step - loss: 0.0026 - val_loss: 0.0024\n",
            "\n",
            "Epoch 00021: val_loss did not improve from 0.00211\n",
            "Epoch 22/200\n",
            "33/33 [==============================] - 2s 56ms/step - loss: 0.0026 - val_loss: 0.0021\n",
            "\n",
            "Epoch 00022: val_loss improved from 0.00211 to 0.00210, saving model to weights.h5\n",
            "Epoch 23/200\n",
            "33/33 [==============================] - 2s 56ms/step - loss: 0.0025 - val_loss: 0.0021\n",
            "\n",
            "Epoch 00023: val_loss improved from 0.00210 to 0.00207, saving model to weights.h5\n",
            "Epoch 24/200\n",
            "33/33 [==============================] - 2s 56ms/step - loss: 0.0024 - val_loss: 0.0024\n",
            "\n",
            "Epoch 00024: val_loss did not improve from 0.00207\n",
            "Epoch 25/200\n",
            "33/33 [==============================] - 2s 56ms/step - loss: 0.0026 - val_loss: 0.0021\n",
            "\n",
            "Epoch 00025: val_loss did not improve from 0.00207\n",
            "Epoch 26/200\n",
            "33/33 [==============================] - 2s 57ms/step - loss: 0.0023 - val_loss: 0.0021\n",
            "\n",
            "Epoch 00026: val_loss did not improve from 0.00207\n",
            "Epoch 27/200\n",
            "33/33 [==============================] - 2s 56ms/step - loss: 0.0025 - val_loss: 0.0021\n",
            "\n",
            "Epoch 00027: val_loss did not improve from 0.00207\n",
            "Epoch 28/200\n",
            "33/33 [==============================] - 2s 56ms/step - loss: 0.0023 - val_loss: 0.0020\n",
            "\n",
            "Epoch 00028: val_loss improved from 0.00207 to 0.00204, saving model to weights.h5\n",
            "Epoch 29/200\n",
            "33/33 [==============================] - 2s 57ms/step - loss: 0.0023 - val_loss: 0.0022\n",
            "\n",
            "Epoch 00029: val_loss did not improve from 0.00204\n",
            "Epoch 30/200\n",
            "33/33 [==============================] - 2s 56ms/step - loss: 0.0025 - val_loss: 0.0020\n",
            "\n",
            "Epoch 00030: val_loss improved from 0.00204 to 0.00202, saving model to weights.h5\n",
            "Epoch 31/200\n",
            "33/33 [==============================] - 2s 56ms/step - loss: 0.0021 - val_loss: 0.0019\n",
            "\n",
            "Epoch 00031: val_loss improved from 0.00202 to 0.00191, saving model to weights.h5\n",
            "Epoch 32/200\n",
            "33/33 [==============================] - 2s 58ms/step - loss: 0.0021 - val_loss: 0.0020\n",
            "\n",
            "Epoch 00032: val_loss did not improve from 0.00191\n",
            "Epoch 33/200\n",
            "33/33 [==============================] - 2s 57ms/step - loss: 0.0021 - val_loss: 0.0020\n",
            "\n",
            "Epoch 00033: val_loss did not improve from 0.00191\n",
            "Epoch 34/200\n",
            "33/33 [==============================] - 2s 58ms/step - loss: 0.0022 - val_loss: 0.0020\n",
            "\n",
            "Epoch 00034: val_loss did not improve from 0.00191\n",
            "Epoch 35/200\n",
            "33/33 [==============================] - 2s 57ms/step - loss: 0.0022 - val_loss: 0.0019\n",
            "\n",
            "Epoch 00035: val_loss improved from 0.00191 to 0.00186, saving model to weights.h5\n",
            "Epoch 36/200\n",
            "33/33 [==============================] - 2s 55ms/step - loss: 0.0022 - val_loss: 0.0019\n",
            "\n",
            "Epoch 00036: val_loss did not improve from 0.00186\n",
            "Epoch 37/200\n",
            "33/33 [==============================] - 2s 55ms/step - loss: 0.0020 - val_loss: 0.0020\n",
            "\n",
            "Epoch 00037: val_loss did not improve from 0.00186\n",
            "Epoch 38/200\n",
            "33/33 [==============================] - 2s 56ms/step - loss: 0.0022 - val_loss: 0.0019\n",
            "\n",
            "Epoch 00038: val_loss did not improve from 0.00186\n",
            "Epoch 39/200\n",
            "33/33 [==============================] - 2s 57ms/step - loss: 0.0022 - val_loss: 0.0020\n",
            "\n",
            "Epoch 00039: val_loss did not improve from 0.00186\n",
            "Epoch 40/200\n",
            "33/33 [==============================] - 2s 58ms/step - loss: 0.0022 - val_loss: 0.0020\n",
            "\n",
            "Epoch 00040: val_loss did not improve from 0.00186\n",
            "Epoch 41/200\n",
            "33/33 [==============================] - 2s 56ms/step - loss: 0.0021 - val_loss: 0.0018\n",
            "\n",
            "Epoch 00041: ReduceLROnPlateau reducing learning rate to 0.0005000000237487257.\n",
            "\n",
            "Epoch 00041: val_loss improved from 0.00186 to 0.00184, saving model to weights.h5\n",
            "Epoch 42/200\n",
            "33/33 [==============================] - 2s 57ms/step - loss: 0.0021 - val_loss: 0.0018\n",
            "\n",
            "Epoch 00042: val_loss improved from 0.00184 to 0.00180, saving model to weights.h5\n",
            "Epoch 43/200\n",
            "33/33 [==============================] - 2s 58ms/step - loss: 0.0020 - val_loss: 0.0018\n",
            "\n",
            "Epoch 00043: val_loss improved from 0.00180 to 0.00179, saving model to weights.h5\n",
            "Epoch 44/200\n",
            "33/33 [==============================] - 2s 56ms/step - loss: 0.0020 - val_loss: 0.0020\n",
            "\n",
            "Epoch 00044: val_loss did not improve from 0.00179\n",
            "Epoch 45/200\n",
            "33/33 [==============================] - 2s 58ms/step - loss: 0.0021 - val_loss: 0.0018\n",
            "\n",
            "Epoch 00045: val_loss did not improve from 0.00179\n",
            "Epoch 46/200\n",
            "33/33 [==============================] - 2s 57ms/step - loss: 0.0019 - val_loss: 0.0018\n",
            "\n",
            "Epoch 00046: val_loss did not improve from 0.00179\n",
            "Epoch 47/200\n",
            "33/33 [==============================] - 2s 57ms/step - loss: 0.0020 - val_loss: 0.0018\n",
            "\n",
            "Epoch 00047: val_loss improved from 0.00179 to 0.00176, saving model to weights.h5\n",
            "Epoch 48/200\n",
            "33/33 [==============================] - 2s 56ms/step - loss: 0.0020 - val_loss: 0.0018\n",
            "\n",
            "Epoch 00048: val_loss did not improve from 0.00176\n",
            "Epoch 49/200\n",
            "33/33 [==============================] - 2s 56ms/step - loss: 0.0021 - val_loss: 0.0018\n",
            "\n",
            "Epoch 00049: val_loss improved from 0.00176 to 0.00175, saving model to weights.h5\n",
            "Epoch 50/200\n",
            "33/33 [==============================] - 2s 56ms/step - loss: 0.0019 - val_loss: 0.0018\n",
            "\n",
            "Epoch 00050: val_loss did not improve from 0.00175\n",
            "Epoch 51/200\n",
            "33/33 [==============================] - 2s 59ms/step - loss: 0.0020 - val_loss: 0.0018\n",
            "\n",
            "Epoch 00051: val_loss did not improve from 0.00175\n",
            "Epoch 52/200\n",
            "33/33 [==============================] - 2s 58ms/step - loss: 0.0019 - val_loss: 0.0018\n",
            "\n",
            "Epoch 00052: ReduceLROnPlateau reducing learning rate to 0.0002500000118743628.\n",
            "\n",
            "Epoch 00052: val_loss did not improve from 0.00175\n",
            "Epoch 53/200\n",
            "33/33 [==============================] - 2s 57ms/step - loss: 0.0021 - val_loss: 0.0018\n",
            "\n",
            "Epoch 00053: val_loss did not improve from 0.00175\n",
            "Epoch 54/200\n",
            "33/33 [==============================] - 2s 57ms/step - loss: 0.0019 - val_loss: 0.0017\n",
            "\n",
            "Epoch 00054: val_loss improved from 0.00175 to 0.00174, saving model to weights.h5\n",
            "Epoch 55/200\n",
            "33/33 [==============================] - 2s 57ms/step - loss: 0.0018 - val_loss: 0.0018\n",
            "\n",
            "Epoch 00055: val_loss did not improve from 0.00174\n",
            "Epoch 56/200\n",
            "33/33 [==============================] - 2s 57ms/step - loss: 0.0019 - val_loss: 0.0017\n",
            "\n",
            "Epoch 00056: val_loss did not improve from 0.00174\n",
            "Epoch 57/200\n",
            "33/33 [==============================] - 2s 56ms/step - loss: 0.0019 - val_loss: 0.0017\n",
            "\n",
            "Epoch 00057: val_loss improved from 0.00174 to 0.00173, saving model to weights.h5\n",
            "Epoch 58/200\n",
            "33/33 [==============================] - 2s 58ms/step - loss: 0.0019 - val_loss: 0.0017\n",
            "\n",
            "Epoch 00058: val_loss did not improve from 0.00173\n",
            "Epoch 59/200\n",
            "33/33 [==============================] - 2s 57ms/step - loss: 0.0018 - val_loss: 0.0017\n",
            "\n",
            "Epoch 00059: val_loss did not improve from 0.00173\n",
            "Epoch 60/200\n",
            "33/33 [==============================] - 2s 56ms/step - loss: 0.0019 - val_loss: 0.0018\n",
            "\n",
            "Epoch 00060: val_loss did not improve from 0.00173\n",
            "Epoch 61/200\n",
            "33/33 [==============================] - 2s 59ms/step - loss: 0.0019 - val_loss: 0.0018\n",
            "\n",
            "Epoch 00061: val_loss did not improve from 0.00173\n",
            "Epoch 62/200\n",
            "33/33 [==============================] - 2s 60ms/step - loss: 0.0019 - val_loss: 0.0017\n",
            "\n",
            "Epoch 00062: ReduceLROnPlateau reducing learning rate to 0.0001250000059371814.\n",
            "\n",
            "Epoch 00062: val_loss did not improve from 0.00173\n",
            "Epoch 63/200\n",
            "33/33 [==============================] - 2s 58ms/step - loss: 0.0018 - val_loss: 0.0017\n",
            "\n",
            "Epoch 00063: val_loss improved from 0.00173 to 0.00172, saving model to weights.h5\n",
            "Epoch 64/200\n",
            "33/33 [==============================] - 2s 58ms/step - loss: 0.0018 - val_loss: 0.0017\n",
            "\n",
            "Epoch 00064: val_loss improved from 0.00172 to 0.00171, saving model to weights.h5\n",
            "Epoch 65/200\n",
            "33/33 [==============================] - 2s 58ms/step - loss: 0.0018 - val_loss: 0.0017\n",
            "\n",
            "Epoch 00065: val_loss did not improve from 0.00171\n",
            "Epoch 66/200\n",
            "33/33 [==============================] - 2s 59ms/step - loss: 0.0018 - val_loss: 0.0018\n",
            "\n",
            "Epoch 00066: val_loss did not improve from 0.00171\n",
            "Epoch 67/200\n",
            "33/33 [==============================] - 2s 58ms/step - loss: 0.0018 - val_loss: 0.0017\n",
            "\n",
            "Epoch 00067: val_loss did not improve from 0.00171\n",
            "Epoch 68/200\n",
            "33/33 [==============================] - 2s 59ms/step - loss: 0.0018 - val_loss: 0.0017\n",
            "\n",
            "Epoch 00068: val_loss did not improve from 0.00171\n",
            "Epoch 69/200\n",
            "33/33 [==============================] - 2s 59ms/step - loss: 0.0019 - val_loss: 0.0017\n",
            "\n",
            "Epoch 00069: val_loss improved from 0.00171 to 0.00170, saving model to weights.h5\n",
            "Epoch 70/200\n",
            "33/33 [==============================] - 2s 59ms/step - loss: 0.0018 - val_loss: 0.0017\n",
            "\n",
            "Epoch 00070: val_loss did not improve from 0.00170\n",
            "Epoch 71/200\n",
            "33/33 [==============================] - 2s 58ms/step - loss: 0.0018 - val_loss: 0.0017\n",
            "\n",
            "Epoch 00071: val_loss did not improve from 0.00170\n",
            "Epoch 72/200\n",
            "33/33 [==============================] - 2s 56ms/step - loss: 0.0018 - val_loss: 0.0018\n",
            "\n",
            "Epoch 00072: ReduceLROnPlateau reducing learning rate to 6.25000029685907e-05.\n",
            "\n",
            "Epoch 00072: val_loss did not improve from 0.00170\n",
            "Epoch 73/200\n",
            "33/33 [==============================] - 2s 55ms/step - loss: 0.0019 - val_loss: 0.0017\n",
            "\n",
            "Epoch 00073: val_loss did not improve from 0.00170\n",
            "Epoch 74/200\n",
            "33/33 [==============================] - 2s 58ms/step - loss: 0.0018 - val_loss: 0.0017\n",
            "\n",
            "Epoch 00074: val_loss improved from 0.00170 to 0.00170, saving model to weights.h5\n",
            "Epoch 75/200\n",
            "33/33 [==============================] - 2s 56ms/step - loss: 0.0018 - val_loss: 0.0017\n",
            "\n",
            "Epoch 00075: val_loss improved from 0.00170 to 0.00170, saving model to weights.h5\n",
            "Epoch 76/200\n",
            "33/33 [==============================] - 2s 57ms/step - loss: 0.0018 - val_loss: 0.0017\n",
            "\n",
            "Epoch 00076: val_loss did not improve from 0.00170\n",
            "Epoch 77/200\n",
            "33/33 [==============================] - 2s 58ms/step - loss: 0.0018 - val_loss: 0.0017\n",
            "\n",
            "Epoch 00077: val_loss did not improve from 0.00170\n",
            "Epoch 78/200\n",
            "33/33 [==============================] - 2s 57ms/step - loss: 0.0019 - val_loss: 0.0017\n",
            "\n",
            "Epoch 00078: val_loss did not improve from 0.00170\n",
            "Epoch 79/200\n",
            "33/33 [==============================] - 2s 56ms/step - loss: 0.0017 - val_loss: 0.0017\n",
            "\n",
            "Epoch 00079: val_loss did not improve from 0.00170\n",
            "Epoch 80/200\n",
            "33/33 [==============================] - 2s 57ms/step - loss: 0.0020 - val_loss: 0.0017\n",
            "\n",
            "Epoch 00080: val_loss improved from 0.00170 to 0.00170, saving model to weights.h5\n",
            "Epoch 81/200\n",
            "33/33 [==============================] - 2s 57ms/step - loss: 0.0019 - val_loss: 0.0017\n",
            "\n",
            "Epoch 00081: val_loss did not improve from 0.00170\n",
            "Epoch 82/200\n",
            "33/33 [==============================] - 2s 57ms/step - loss: 0.0017 - val_loss: 0.0017\n",
            "\n",
            "Epoch 00082: val_loss improved from 0.00170 to 0.00170, saving model to weights.h5\n",
            "Epoch 83/200\n",
            "33/33 [==============================] - 2s 57ms/step - loss: 0.0018 - val_loss: 0.0017\n",
            "\n",
            "Epoch 00083: val_loss did not improve from 0.00170\n",
            "Epoch 84/200\n",
            "33/33 [==============================] - 2s 57ms/step - loss: 0.0018 - val_loss: 0.0017\n",
            "\n",
            "Epoch 00084: val_loss did not improve from 0.00170\n",
            "Epoch 85/200\n",
            "33/33 [==============================] - 2s 58ms/step - loss: 0.0017 - val_loss: 0.0017\n",
            "\n",
            "Epoch 00085: ReduceLROnPlateau reducing learning rate to 3.125000148429535e-05.\n",
            "\n",
            "Epoch 00085: val_loss did not improve from 0.00170\n",
            "Epoch 86/200\n",
            "33/33 [==============================] - 2s 58ms/step - loss: 0.0018 - val_loss: 0.0017\n",
            "\n",
            "Epoch 00086: val_loss improved from 0.00170 to 0.00170, saving model to weights.h5\n",
            "Epoch 87/200\n",
            "33/33 [==============================] - 2s 57ms/step - loss: 0.0018 - val_loss: 0.0017\n",
            "\n",
            "Epoch 00087: val_loss improved from 0.00170 to 0.00169, saving model to weights.h5\n",
            "Epoch 88/200\n",
            "33/33 [==============================] - 2s 57ms/step - loss: 0.0018 - val_loss: 0.0017\n",
            "\n",
            "Epoch 00088: val_loss did not improve from 0.00169\n",
            "Epoch 89/200\n",
            "33/33 [==============================] - 2s 58ms/step - loss: 0.0019 - val_loss: 0.0017\n",
            "\n",
            "Epoch 00089: val_loss improved from 0.00169 to 0.00169, saving model to weights.h5\n",
            "Epoch 90/200\n",
            "33/33 [==============================] - 2s 59ms/step - loss: 0.0018 - val_loss: 0.0017\n",
            "\n",
            "Epoch 00090: val_loss did not improve from 0.00169\n",
            "Epoch 91/200\n",
            "33/33 [==============================] - 2s 59ms/step - loss: 0.0017 - val_loss: 0.0017\n",
            "\n",
            "Epoch 00091: val_loss did not improve from 0.00169\n",
            "Epoch 92/200\n",
            "33/33 [==============================] - 2s 58ms/step - loss: 0.0018 - val_loss: 0.0017\n",
            "\n",
            "Epoch 00092: val_loss did not improve from 0.00169\n",
            "Epoch 93/200\n",
            "33/33 [==============================] - 2s 59ms/step - loss: 0.0018 - val_loss: 0.0017\n",
            "\n",
            "Epoch 00093: val_loss improved from 0.00169 to 0.00169, saving model to weights.h5\n",
            "Epoch 94/200\n",
            "33/33 [==============================] - 2s 59ms/step - loss: 0.0018 - val_loss: 0.0017\n",
            "\n",
            "Epoch 00094: val_loss did not improve from 0.00169\n",
            "Epoch 95/200\n",
            "33/33 [==============================] - 2s 58ms/step - loss: 0.0018 - val_loss: 0.0017\n",
            "\n",
            "Epoch 00095: ReduceLROnPlateau reducing learning rate to 1.5625000742147677e-05.\n",
            "\n",
            "Epoch 00095: val_loss did not improve from 0.00169\n",
            "Epoch 96/200\n",
            "33/33 [==============================] - 2s 57ms/step - loss: 0.0018 - val_loss: 0.0017\n",
            "\n",
            "Epoch 00096: val_loss improved from 0.00169 to 0.00168, saving model to weights.h5\n",
            "Epoch 97/200\n",
            "33/33 [==============================] - 2s 57ms/step - loss: 0.0018 - val_loss: 0.0017\n",
            "\n",
            "Epoch 00097: val_loss did not improve from 0.00168\n",
            "Epoch 98/200\n",
            "33/33 [==============================] - 2s 57ms/step - loss: 0.0018 - val_loss: 0.0017\n",
            "\n",
            "Epoch 00098: val_loss did not improve from 0.00168\n",
            "Epoch 99/200\n",
            "33/33 [==============================] - 2s 57ms/step - loss: 0.0017 - val_loss: 0.0017\n",
            "\n",
            "Epoch 00099: val_loss did not improve from 0.00168\n",
            "Epoch 100/200\n",
            "33/33 [==============================] - 2s 57ms/step - loss: 0.0017 - val_loss: 0.0017\n",
            "\n",
            "Epoch 00100: val_loss did not improve from 0.00168\n",
            "Epoch 101/200\n",
            "33/33 [==============================] - 2s 57ms/step - loss: 0.0018 - val_loss: 0.0017\n",
            "\n",
            "Epoch 00101: val_loss did not improve from 0.00168\n",
            "Epoch 102/200\n",
            "33/33 [==============================] - 2s 56ms/step - loss: 0.0018 - val_loss: 0.0017\n",
            "\n",
            "Epoch 00102: val_loss did not improve from 0.00168\n",
            "Epoch 103/200\n",
            "33/33 [==============================] - 2s 57ms/step - loss: 0.0019 - val_loss: 0.0017\n",
            "\n",
            "Epoch 00103: val_loss did not improve from 0.00168\n",
            "Epoch 104/200\n",
            "33/33 [==============================] - 2s 57ms/step - loss: 0.0019 - val_loss: 0.0017\n",
            "\n",
            "Epoch 00104: val_loss did not improve from 0.00168\n",
            "Epoch 105/200\n",
            "33/33 [==============================] - 2s 58ms/step - loss: 0.0018 - val_loss: 0.0017\n",
            "\n",
            "Epoch 00105: ReduceLROnPlateau reducing learning rate to 7.812500371073838e-06.\n",
            "\n",
            "Epoch 00105: val_loss improved from 0.00168 to 0.00168, saving model to weights.h5\n",
            "Epoch 106/200\n",
            "33/33 [==============================] - 2s 58ms/step - loss: 0.0018 - val_loss: 0.0017\n",
            "\n",
            "Epoch 00106: val_loss did not improve from 0.00168\n",
            "Epoch 107/200\n",
            "33/33 [==============================] - 2s 58ms/step - loss: 0.0018 - val_loss: 0.0017\n",
            "\n",
            "Epoch 00107: val_loss did not improve from 0.00168\n",
            "Epoch 108/200\n",
            "33/33 [==============================] - 2s 57ms/step - loss: 0.0019 - val_loss: 0.0017\n",
            "\n",
            "Epoch 00108: val_loss did not improve from 0.00168\n",
            "Epoch 109/200\n",
            "33/33 [==============================] - 2s 58ms/step - loss: 0.0019 - val_loss: 0.0017\n",
            "\n",
            "Epoch 00109: val_loss did not improve from 0.00168\n",
            "Epoch 110/200\n",
            "33/33 [==============================] - 2s 58ms/step - loss: 0.0018 - val_loss: 0.0017\n",
            "\n",
            "Epoch 00110: val_loss did not improve from 0.00168\n",
            "Epoch 111/200\n",
            "33/33 [==============================] - 2s 59ms/step - loss: 0.0018 - val_loss: 0.0017\n",
            "\n",
            "Epoch 00111: val_loss did not improve from 0.00168\n",
            "Epoch 112/200\n",
            "33/33 [==============================] - 2s 59ms/step - loss: 0.0017 - val_loss: 0.0017\n",
            "\n",
            "Epoch 00112: val_loss did not improve from 0.00168\n",
            "Epoch 113/200\n",
            "33/33 [==============================] - 2s 58ms/step - loss: 0.0018 - val_loss: 0.0017\n",
            "\n",
            "Epoch 00113: val_loss did not improve from 0.00168\n",
            "Epoch 114/200\n",
            "33/33 [==============================] - 2s 58ms/step - loss: 0.0018 - val_loss: 0.0017\n",
            "\n",
            "Epoch 00114: val_loss did not improve from 0.00168\n",
            "Epoch 115/200\n",
            "33/33 [==============================] - 2s 58ms/step - loss: 0.0019 - val_loss: 0.0017\n",
            "\n",
            "Epoch 00115: ReduceLROnPlateau reducing learning rate to 3.906250185536919e-06.\n",
            "\n",
            "Epoch 00115: val_loss did not improve from 0.00168\n",
            "Epoch 00115: early stopping\n"
          ],
          "name": "stdout"
        }
      ]
    },
    {
      "cell_type": "code",
      "metadata": {
        "colab": {
          "base_uri": "https://localhost:8080/"
        },
        "id": "EYUF4wacbjQD",
        "outputId": "0ca4547a-e7e1-4b65-fee1-a7c189ea3464"
      },
      "source": [
        "print('MAE: ', mean_absolute_error(y_pred=results['prediction'], y_true=results['true values']))\n",
        "print('r2score: ', r2_score(y_pred=results['prediction'], y_true=results['true values']))\n",
        "print('RMSE: ', np.sqrt(mean_squared_error(y_pred=results['prediction'], y_true=results['true values'])))"
      ],
      "execution_count": null,
      "outputs": [
        {
          "output_type": "stream",
          "text": [
            "MAE:  457.5152224466681\n",
            "r2score:  0.9220356028800081\n",
            "RMSE:  632.645410887877\n"
          ],
          "name": "stdout"
        }
      ]
    },
    {
      "cell_type": "markdown",
      "metadata": {
        "id": "QyJK9EKscLPC"
      },
      "source": [
        "The performance of this first model is clearly superior to the benchmark results, beating the best benchmark mean absolute error by about 2 CAD per MWh. Next, we will explore what an abstract error metrics means visually."
      ]
    },
    {
      "cell_type": "code",
      "metadata": {
        "colab": {
          "base_uri": "https://localhost:8080/"
        },
        "id": "vhcUJ5Xms9W3",
        "outputId": "15575ebe-283f-4402-b022-766afce93e13"
      },
      "source": [
        "# predict for test set\n",
        "pred = model.predict(XX)\n",
        "# transform back to original data scale\n",
        "pred = da_scaler.inverse_transform(pred.flatten().reshape(-1, 1))\n",
        "YY['ConvGRU']=pred"
      ],
      "execution_count": null,
      "outputs": [
        {
          "output_type": "stream",
          "text": [
            "/usr/local/lib/python3.7/dist-packages/ipykernel_launcher.py:5: SettingWithCopyWarning: \n",
            "A value is trying to be set on a copy of a slice from a DataFrame.\n",
            "Try using .loc[row_indexer,col_indexer] = value instead\n",
            "\n",
            "See the caveats in the documentation: https://pandas.pydata.org/pandas-docs/stable/user_guide/indexing.html#returning-a-view-versus-a-copy\n",
            "  \"\"\"\n"
          ],
          "name": "stderr"
        }
      ]
    },
    {
      "cell_type": "code",
      "metadata": {
        "colab": {
          "base_uri": "https://localhost:8080/",
          "height": 446
        },
        "id": "IDxl1DQEcMRO",
        "outputId": "f65b6725-3fbc-46d6-8bfd-1fe53e873d2c"
      },
      "source": [
        "f, ax = plt.subplots(figsize=(12, 6))\n",
        "results.plot(ax=ax)\n",
        "ax.set_ylabel('Day-Ahead Load (MW)', fontsize=14)\n",
        "ax.set_xlabel('Date', fontsize=14)\n",
        "ax.set_title('Long Term Predictive Performance', fontsize=14);"
      ],
      "execution_count": null,
      "outputs": [
        {
          "output_type": "display_data",
          "data": {
            "image/png": "[encoded data removed]",
            "text/plain": [
              "<Figure size 864x432 with 1 Axes>"
            ]
          },
          "metadata": {
            "tags": [],
            "needs_background": "light"
          }
        }
      ]
    },
    {
      "cell_type": "code",
      "metadata": {
        "colab": {
          "base_uri": "https://localhost:8080/",
          "height": 463
        },
        "id": "MFKbTsxScYVy",
        "outputId": "dcbc3e79-657c-4978-ee84-53152efa66be"
      },
      "source": [
        "f, ax = plt.subplots(figsize=(12, 6))\n",
        "results.loc['2019-05':'2019-05-2'].plot(ax=ax,fontsize=14)\n",
        "ax.set_ylabel('Day-Ahead Load (MW)', fontsize=14)\n",
        "ax.set_xlabel('Date', fontsize=14)\n",
        "ax.set_title('Short Term predictive Performance', fontsize=14);\n",
        "ax.legend(fontsize=14)"
      ],
      "execution_count": null,
      "outputs": [
        {
          "output_type": "execute_result",
          "data": {
            "text/plain": [
              "<matplotlib.legend.Legend at 0x7f7c68ad7810>"
            ]
          },
          "metadata": {
            "tags": []
          },
          "execution_count": 82
        },
        {
          "output_type": "display_data",
          "data": {
            "image/png": "[encoded data removed]",
            "text/plain": [
              "<Figure size 864x432 with 1 Axes>"
            ]
          },
          "metadata": {
            "tags": [],
            "needs_background": "light"
          }
        }
      ]
    },
    {
      "cell_type": "code",
      "metadata": {
        "colab": {
          "base_uri": "https://localhost:8080/",
          "height": 319
        },
        "id": "4DMCQ8suchkD",
        "outputId": "a1f7c2f7-0223-451f-9401-a6bb48e49f50"
      },
      "source": [
        "f, (ax1,ax2) = plt.subplots(1,2)\n",
        "ax1.plot(hist.history['loss'], label='Training Loss')\n",
        "ax1.plot(hist.history['val_loss'], label='Validation Loss')\n",
        "\n",
        "ax1.set_ylim([0, 0.0150])\n",
        "ax1.set_ylabel('Mean Squared Error')\n",
        "ax1.set_xlabel('Training Epoch');\n",
        "ax1.legend()\n",
        "\n",
        "ax2.plot(hist.history['lr'],label='Learning Rate')\n",
        "ax2.set_xlabel('Training Epoch')\n",
        "ax2.set_ylabel('Learning Rate')\n",
        "ax2.legend()\n",
        "#plt.savefig('TrainingLoss.pdf',dpi=300)\n",
        "#files.download('TrainingLoss.pdf')"
      ],
      "execution_count": null,
      "outputs": [
        {
          "output_type": "execute_result",
          "data": {
            "text/plain": [
              "<matplotlib.legend.Legend at 0x7f7c68a38a10>"
            ]
          },
          "metadata": {
            "tags": []
          },
          "execution_count": 83
        },
        {
          "output_type": "display_data",
          "data": {
            "image/png": "[encoded data removed]",
            "text/plain": [
              "<Figure size 432x288 with 2 Axes>"
            ]
          },
          "metadata": {
            "tags": [],
            "needs_background": "light"
          }
        }
      ]
    },
    {
      "cell_type": "code",
      "metadata": {
        "colab": {
          "resources": {
            "http://localhost:8080/nbextensions/google.colab/files.js": {
              "data": "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",
              "ok": true,
              "headers": [
                [
                  "content-type",
                  "application/javascript"
                ]
              ],
              "status": 200,
              "status_text": ""
            }
          },
          "base_uri": "https://localhost:8080/",
          "height": 72
        },
        "id": "lq7DgvCOzaTW",
        "outputId": "db921a6a-d378-4b5e-cc1f-fccd55f5dbbe"
      },
      "source": [
        "up=files.upload()"
      ],
      "execution_count": null,
      "outputs": [
        {
          "output_type": "display_data",
          "data": {
            "text/html": [
              "\n",
              "     <input type=\"file\" id=\"files-afc845e7-bfab-44bc-8b14-dd97ca9e2cc5\" name=\"files[]\" multiple disabled\n",
              "        style=\"border:none\" />\n",
              "     <output id=\"result-afc845e7-bfab-44bc-8b14-dd97ca9e2cc5\">\n",
              "      Upload widget is only available when the cell has been executed in the\n",
              "      current browser session. Please rerun this cell to enable.\n",
              "      </output>\n",
              "      <script src=\"/nbextensions/google.colab/files.js\"></script> "
            ],
            "text/plain": [
              "<IPython.core.display.HTML object>"
            ]
          },
          "metadata": {
            "tags": []
          }
        },
        {
          "output_type": "stream",
          "text": [
            "Saving ConvRNN.csv to ConvRNN.csv\n"
          ],
          "name": "stdout"
        }
      ]
    },
    {
      "cell_type": "code",
      "metadata": {
        "id": "txgbFrsMztTU"
      },
      "source": [
        "Ph1=pd.read_csv('ConvRNN.csv',parse_dates=True,index_col=0)\n"
      ],
      "execution_count": null,
      "outputs": []
    },
    {
      "cell_type": "code",
      "metadata": {
        "colab": {
          "base_uri": "https://localhost:8080/",
          "height": 215
        },
        "id": "fu8YniK47WUV",
        "outputId": "c26b9bf1-1e5d-4d29-dd9e-7412a8d9ff50"
      },
      "source": [
        "Ph=Ph1\n",
        "Ph.columns=['ConvGRU','ConvLSTM','ConvRNN','Actual Observation']\n",
        "Ph['ConvGRU']['2019-04-01':'2019-04-07'].plot(ls='--',color='red',label='ConvGRU',figsize=(3.5,2.8))\n",
        "Ph['ConvLSTM']['2019-04-01':'2019-04-07'].plot(ls=':',color='green',label='ConvLSTM',figsize=(3.5,2.8))\n",
        "Ph['ConvRNN']['2019-04-01':'2019-04-07'].plot(ls='-.',color='black',label='ConvRNN',figsize=(3.5,2.8))\n",
        "Ph['Actual Observation']['2019-04-01':'2019-04-07'].plot(color='blue',label='Actual Observation',figsize=(3.5,2.8))\n",
        "plt.ylabel('Electricity Demand (MW)')\n",
        "plt.legend()\n",
        "plt.savefig('LoadForecastsTest.pdf',dpi=300)\n",
        "#files.download('LoadForecastsTest.pdf')"
      ],
      "execution_count": null,
      "outputs": [
        {
          "output_type": "display_data",
          "data": {
            "image/png": "[encoded data removed]",
            "text/plain": [
              "<Figure size 252x201.6 with 1 Axes>"
            ]
          },
          "metadata": {
            "tags": [],
            "needs_background": "light"
          }
        }
      ]
    },
    {
      "cell_type": "code",
      "metadata": {
        "id": "c5Eho8eH0yri"
      },
      "source": [
        "Ygru=Ph1['ConvGRU'].values.reshape(365,24)\n",
        "Ylstm=Ph1['ConvLSTM'].values.reshape(365,24)\n",
        "Yrnn=Ph1['ConvRNN'].values.reshape(365,24)\n",
        "Yt=Ph1['Actual Observation'].values.reshape(365,24)\n",
        "MAE_GRU=np.zeros(24)\n",
        "MAE_LSTM=np.zeros(24)\n",
        "MAE_RNN=np.zeros(24)\n",
        "\n",
        "for i in range(24):\n",
        "  MAE_GRU[i]=mean_absolute_error(Yt[:,i],Ygru[:,i])\n",
        "  MAE_LSTM[i]=mean_absolute_error(Yt[:,i],Ylstm[:,i])\n",
        "  MAE_RNN[i]=mean_absolute_error(Yt[:,i],Yrnn[:,i])"
      ],
      "execution_count": null,
      "outputs": []
    },
    {
      "cell_type": "code",
      "metadata": {
        "colab": {
          "base_uri": "https://localhost:8080/",
          "height": 215
        },
        "id": "Ht_agYTO1ydM",
        "outputId": "11fdeb5e-7b58-4c29-b633-5ec614ea7f63"
      },
      "source": [
        "hour=np.arange(1,25)\n",
        "MAE_DF=pd.DataFrame({'Hour':hour,'ConvGRU':MAE_GRU,'ConvLSTM':MAE_LSTM,'ConvRNN':MAE_RNN})\n",
        "MAE_DF.index=MAE_DF.Hour\n",
        "MAE_DF.drop(columns='Hour',inplace=True)\n",
        "\n",
        "\n",
        "MAE_DF.plot.bar(grid=False,color={'ConvGRU':'red','ConvLSTM':'green','ConvRNN':'blue'},figsize=(3.5,2.8),width=.8)\n",
        "plt.title('Hourly MAE of ANN Model')\n",
        "plt.ylabel('MAE')\n",
        "\n",
        "plt.savefig('LoadPhase1.png',dpi=300)\n",
        "#files.download('LoadPhase1.png')"
      ],
      "execution_count": null,
      "outputs": [
        {
          "output_type": "display_data",
          "data": {
            "image/png": "[encoded data removed]",
            "text/plain": [
              "<Figure size 252x201.6 with 1 Axes>"
            ]
          },
          "metadata": {
            "tags": [],
            "needs_background": "light"
          }
        }
      ]
    },
    {
      "cell_type": "code",
      "metadata": {
        "id": "6zlTVg1ul6sq"
      },
      "source": [
        "pred = model.predict(features['2015':])\n",
        "# transform back to original data scale\n",
        "pred = da_scaler.inverse_transform(pred.flatten().reshape(-1, 1))\n",
        "Result = pd.DataFrame({'prediction':pred.flatten()}, index=DF['2015':].index)"
      ],
      "execution_count": null,
      "outputs": []
    },
    {
      "cell_type": "code",
      "metadata": {
        "id": "lsT9kl2_nv6w"
      },
      "source": [
        "DF=df\n"
      ],
      "execution_count": null,
      "outputs": []
    },
    {
      "cell_type": "code",
      "metadata": {
        "id": "Fu_X86_UnahI"
      },
      "source": [
        "DF['prediction']=Result['prediction']\n"
      ],
      "execution_count": null,
      "outputs": []
    },
    {
      "cell_type": "code",
      "metadata": {
        "id": "iredN_h535qw"
      },
      "source": [
        "DF['Month']=DF.index.month\n",
        "DF['Day']=DF.index.dayofweek\n",
        "DF['Hour']=DF.index.hour\n"
      ],
      "execution_count": null,
      "outputs": []
    },
    {
      "cell_type": "code",
      "metadata": {
        "colab": {
          "base_uri": "https://localhost:8080/",
          "height": 204
        },
        "id": "-l93FQB2m0b0",
        "outputId": "75d5fc07-b02b-4af1-e093-435bf9c7bf7c"
      },
      "source": [
        "DF.drop(columns='prediction',inplace=True)\n",
        "DF.head()"
      ],
      "execution_count": null,
      "outputs": [
        {
          "output_type": "execute_result",
          "data": {
            "text/html": [
              "<div>\n",
              "<style scoped>\n",
              "    .dataframe tbody tr th:only-of-type {\n",
              "        vertical-align: middle;\n",
              "    }\n",
              "\n",
              "    .dataframe tbody tr th {\n",
              "        vertical-align: top;\n",
              "    }\n",
              "\n",
              "    .dataframe thead th {\n",
              "        text-align: right;\n",
              "    }\n",
              "</style>\n",
              "<table border=\"1\" class=\"dataframe\">\n",
              "  <thead>\n",
              "    <tr style=\"text-align: right;\">\n",
              "      <th></th>\n",
              "      <th>precipitation</th>\n",
              "      <th>temperature</th>\n",
              "      <th>irradiance_surface</th>\n",
              "      <th>irradiance_toa</th>\n",
              "      <th>snowfall</th>\n",
              "      <th>snow_mass</th>\n",
              "      <th>cloud_cover</th>\n",
              "      <th>air_density</th>\n",
              "      <th>Ontario Demand</th>\n",
              "      <th>Month</th>\n",
              "      <th>Day</th>\n",
              "      <th>Hour</th>\n",
              "    </tr>\n",
              "  </thead>\n",
              "  <tbody>\n",
              "    <tr>\n",
              "      <th>2015-01-01 00:00:00</th>\n",
              "      <td>0.0106</td>\n",
              "      <td>-7.234</td>\n",
              "      <td>0.0</td>\n",
              "      <td>0.0</td>\n",
              "      <td>0.0106</td>\n",
              "      <td>2.8822</td>\n",
              "      <td>0.9042</td>\n",
              "      <td>1.3015</td>\n",
              "      <td>14960</td>\n",
              "      <td>1</td>\n",
              "      <td>3</td>\n",
              "      <td>0</td>\n",
              "    </tr>\n",
              "    <tr>\n",
              "      <th>2015-01-01 01:00:00</th>\n",
              "      <td>0.0087</td>\n",
              "      <td>-7.308</td>\n",
              "      <td>0.0</td>\n",
              "      <td>0.0</td>\n",
              "      <td>0.0087</td>\n",
              "      <td>2.8862</td>\n",
              "      <td>0.8513</td>\n",
              "      <td>1.3005</td>\n",
              "      <td>14476</td>\n",
              "      <td>1</td>\n",
              "      <td>3</td>\n",
              "      <td>1</td>\n",
              "    </tr>\n",
              "    <tr>\n",
              "      <th>2015-01-01 02:00:00</th>\n",
              "      <td>0.0083</td>\n",
              "      <td>-7.518</td>\n",
              "      <td>0.0</td>\n",
              "      <td>0.0</td>\n",
              "      <td>0.0083</td>\n",
              "      <td>2.8897</td>\n",
              "      <td>0.8154</td>\n",
              "      <td>1.3004</td>\n",
              "      <td>13979</td>\n",
              "      <td>1</td>\n",
              "      <td>3</td>\n",
              "      <td>2</td>\n",
              "    </tr>\n",
              "    <tr>\n",
              "      <th>2015-01-01 03:00:00</th>\n",
              "      <td>0.0095</td>\n",
              "      <td>-7.774</td>\n",
              "      <td>0.0</td>\n",
              "      <td>0.0</td>\n",
              "      <td>0.0095</td>\n",
              "      <td>2.8943</td>\n",
              "      <td>0.7639</td>\n",
              "      <td>1.3009</td>\n",
              "      <td>13670</td>\n",
              "      <td>1</td>\n",
              "      <td>3</td>\n",
              "      <td>3</td>\n",
              "    </tr>\n",
              "    <tr>\n",
              "      <th>2015-01-01 04:00:00</th>\n",
              "      <td>0.0103</td>\n",
              "      <td>-7.918</td>\n",
              "      <td>0.0</td>\n",
              "      <td>0.0</td>\n",
              "      <td>0.0103</td>\n",
              "      <td>2.9005</td>\n",
              "      <td>0.7003</td>\n",
              "      <td>1.3010</td>\n",
              "      <td>13567</td>\n",
              "      <td>1</td>\n",
              "      <td>3</td>\n",
              "      <td>4</td>\n",
              "    </tr>\n",
              "  </tbody>\n",
              "</table>\n",
              "</div>"
            ],
            "text/plain": [
              "                     precipitation  temperature  ...  Day  Hour\n",
              "2015-01-01 00:00:00         0.0106       -7.234  ...    3     0\n",
              "2015-01-01 01:00:00         0.0087       -7.308  ...    3     1\n",
              "2015-01-01 02:00:00         0.0083       -7.518  ...    3     2\n",
              "2015-01-01 03:00:00         0.0095       -7.774  ...    3     3\n",
              "2015-01-01 04:00:00         0.0103       -7.918  ...    3     4\n",
              "\n",
              "[5 rows x 12 columns]"
            ]
          },
          "metadata": {
            "tags": []
          },
          "execution_count": 131
        }
      ]
    },
    {
      "cell_type": "code",
      "metadata": {
        "id": "ULumlWiTVVOD"
      },
      "source": [
        "import xgboost as xgb\n",
        "from xgboost import plot_importance, plot_tree\n",
        "from sklearn.model_selection import GridSearchCV\n",
        "from sklearn.ensemble import GradientBoostingRegressor"
      ],
      "execution_count": null,
      "outputs": []
    },
    {
      "cell_type": "code",
      "metadata": {
        "id": "EU3pJGK0Vhk8"
      },
      "source": [
        "X=DF.drop(columns=['Ontario Demand'])\n",
        "Y=DF['Ontario Demand']\n",
        "Y=pd.DataFrame(Y,index=DF.index)"
      ],
      "execution_count": null,
      "outputs": []
    },
    {
      "cell_type": "code",
      "metadata": {
        "id": "8XL_XOxUWGuz"
      },
      "source": [
        "X_Scaler=MinMaxScaler()\n",
        "Xscaled=X_Scaler.fit_transform(X)\n",
        "Temp=pd.DataFrame(Xscaled,columns=X.columns,index=X.index)\n",
        "Xtrain=Temp['2015':'2018']\n",
        "Xtest=Temp['2019']\n",
        "XX=Temp['2015':]\n",
        "\n",
        "Y_Scaler=MinMaxScaler()\n",
        "Yscaled=Y_Scaler.fit_transform(Y.values.reshape(-1,1))\n",
        "Y['Scaled Load']=Yscaled\n",
        "Ytrain=Y['Scaled Load']['2015':'2018']\n",
        "Ytest=DF['Ontario Demand']['2019']"
      ],
      "execution_count": null,
      "outputs": []
    },
    {
      "cell_type": "code",
      "metadata": {
        "colab": {
          "base_uri": "https://localhost:8080/"
        },
        "id": "xX4AqJdGWgcZ",
        "outputId": "e9a75ff7-96e8-44a6-d85c-b378a6e16393"
      },
      "source": [
        "xgbbest = xgb.XGBRegressor(min_child_weight = 4, max_depth = 6, n_estimators = 1000, learning_rate=0.05, colsample_bytree =0.7, n_jobs = -1, silent = 1 , subsample = 0.7)\n",
        "xgbbest.fit(Xtrain,Ytrain)"
      ],
      "execution_count": null,
      "outputs": [
        {
          "output_type": "execute_result",
          "data": {
            "text/plain": [
              "XGBRegressor(base_score=0.5, booster='gbtree', colsample_bylevel=1,\n",
              "             colsample_bynode=1, colsample_bytree=0.7, gamma=0,\n",
              "             importance_type='gain', learning_rate=0.05, max_delta_step=0,\n",
              "             max_depth=6, min_child_weight=4, missing=None, n_estimators=1000,\n",
              "             n_jobs=-1, nthread=None, objective='reg:linear', random_state=0,\n",
              "             reg_alpha=0, reg_lambda=1, scale_pos_weight=1, seed=None, silent=1,\n",
              "             subsample=0.7, verbosity=1)"
            ]
          },
          "metadata": {
            "tags": []
          },
          "execution_count": 134
        }
      ]
    },
    {
      "cell_type": "code",
      "metadata": {
        "colab": {
          "base_uri": "https://localhost:8080/"
        },
        "id": "pwblvMiYWvdY",
        "outputId": "651796c5-a991-4cb8-e941-c629b51dfb56"
      },
      "source": [
        "Yscaled_Pred=xgbbest.predict(Xtest)\n",
        "YpredXGB=Y_Scaler.inverse_transform(Yscaled_Pred.reshape(-1,1))\n",
        "print('MAE: ', mean_absolute_error(YpredXGB,Ytest))\n",
        "\n",
        "print('RMSE: ', np.sqrt(mean_squared_error(YpredXGB,Ytest)))\n",
        "\n",
        "print('R Squared: ', r2_score(YpredXGB,Ytest))"
      ],
      "execution_count": null,
      "outputs": [
        {
          "output_type": "stream",
          "text": [
            "MAE:  415.9955754807006\n",
            "RMSE:  570.4642211424922\n",
            "R Squared:  0.932968753897923\n"
          ],
          "name": "stdout"
        }
      ]
    },
    {
      "cell_type": "code",
      "metadata": {
        "id": "nqxghV_IwH4h"
      },
      "source": [
        "Yscaled_Pred=xgbbest.predict(XX)\n",
        "YpredXGB=Y_Scaler.inverse_transform(Yscaled_Pred.reshape(-1,1))\n",
        "YY['XGB']=YpredXGB"
      ],
      "execution_count": null,
      "outputs": []
    },
    {
      "cell_type": "code",
      "metadata": {
        "colab": {
          "base_uri": "https://localhost:8080/"
        },
        "id": "VEeTuDU-Xqtj",
        "outputId": "393c31bf-ee53-4a93-87a7-0f9b2087ad0e"
      },
      "source": [
        "from sklearn.ensemble import GradientBoostingRegressor\n",
        "gb=GradientBoostingRegressor(max_depth = 6, n_estimators = 1000, learning_rate=0.05, subsample = 0.7)\n",
        "gb.fit(Xtrain,Ytrain)\n",
        "Yscaled_Pred=gb.predict(Xtest)\n",
        "YpredGB=Y_Scaler.inverse_transform(Yscaled_Pred.reshape(-1,1))\n",
        "print('MAE: ', mean_absolute_error(YpredGB,Ytest))\n",
        "\n",
        "print('RMSE: ', np.sqrt(mean_squared_error(YpredGB,Ytest)))\n",
        "\n",
        "print('R Squared: ', r2_score(YpredGB,Ytest))"
      ],
      "execution_count": null,
      "outputs": [
        {
          "output_type": "stream",
          "text": [
            "MAE:  416.2794539271247\n",
            "RMSE:  570.9016619473156\n",
            "R Squared:  0.9330864763670323\n"
          ],
          "name": "stdout"
        }
      ]
    },
    {
      "cell_type": "code",
      "metadata": {
        "id": "qUUiznwAwmSE"
      },
      "source": [
        "Yscaled_Pred=gb.predict(XX)\n",
        "YpredGB=Y_Scaler.inverse_transform(Yscaled_Pred.reshape(-1,1))\n",
        "YY['GBR']=YpredGB"
      ],
      "execution_count": null,
      "outputs": []
    },
    {
      "cell_type": "code",
      "metadata": {
        "colab": {
          "base_uri": "https://localhost:8080/",
          "height": 17
        },
        "id": "KvZBPVpdxJTm",
        "outputId": "61ce8db1-6056-4402-f0df-ad4108d906ab"
      },
      "source": [
        "YY.to_csv('LoadPool.csv')\n",
        "files.download('LoadPool.csv')"
      ],
      "execution_count": null,
      "outputs": [
        {
          "output_type": "display_data",
          "data": {
            "application/javascript": [
              "\n",
              "    async function download(id, filename, size) {\n",
              "      if (!google.colab.kernel.accessAllowed) {\n",
              "        return;\n",
              "      }\n",
              "      const div = document.createElement('div');\n",
              "      const label = document.createElement('label');\n",
              "      label.textContent = `Downloading \"${filename}\": `;\n",
              "      div.appendChild(label);\n",
              "      const progress = document.createElement('progress');\n",
              "      progress.max = size;\n",
              "      div.appendChild(progress);\n",
              "      document.body.appendChild(div);\n",
              "\n",
              "      const buffers = [];\n",
              "      let downloaded = 0;\n",
              "\n",
              "      const channel = await google.colab.kernel.comms.open(id);\n",
              "      // Send a message to notify the kernel that we're ready.\n",
              "      channel.send({})\n",
              "\n",
              "      for await (const message of channel.messages) {\n",
              "        // Send a message to notify the kernel that we're ready.\n",
              "        channel.send({})\n",
              "        if (message.buffers) {\n",
              "          for (const buffer of message.buffers) {\n",
              "            buffers.push(buffer);\n",
              "            downloaded += buffer.byteLength;\n",
              "            progress.value = downloaded;\n",
              "          }\n",
              "        }\n",
              "      }\n",
              "      const blob = new Blob(buffers, {type: 'application/binary'});\n",
              "      const a = document.createElement('a');\n",
              "      a.href = window.URL.createObjectURL(blob);\n",
              "      a.download = filename;\n",
              "      div.appendChild(a);\n",
              "      a.click();\n",
              "      div.remove();\n",
              "    }\n",
              "  "
            ],
            "text/plain": [
              "<IPython.core.display.Javascript object>"
            ]
          },
          "metadata": {
            "tags": []
          }
        },
        {
          "output_type": "display_data",
          "data": {
            "application/javascript": [
              "download(\"download_5570a636-7eb7-4be9-a6c2-1e8f27689217\", \"LoadPool.csv\", 2825551)"
            ],
            "text/plain": [
              "<IPython.core.display.Javascript object>"
            ]
          },
          "metadata": {
            "tags": []
          }
        }
      ]
    },
    {
      "cell_type": "code",
      "metadata": {
        "colab": {
          "base_uri": "https://localhost:8080/"
        },
        "id": "XadrlGYExZAa",
        "outputId": "31ac6d1c-204c-423a-8d36-db23485265c2"
      },
      "source": [
        "from sklearn.svm import SVR\n",
        "regressor = SVR(kernel = 'rbf')\n",
        "regressor.fit(Xtrain, Ytrain)"
      ],
      "execution_count": null,
      "outputs": [
        {
          "output_type": "execute_result",
          "data": {
            "text/plain": [
              "SVR(C=1.0, cache_size=200, coef0=0.0, degree=3, epsilon=0.1, gamma='scale',\n",
              "    kernel='rbf', max_iter=-1, shrinking=True, tol=0.001, verbose=False)"
            ]
          },
          "metadata": {
            "tags": []
          },
          "execution_count": 140
        }
      ]
    },
    {
      "cell_type": "code",
      "metadata": {
        "colab": {
          "base_uri": "https://localhost:8080/"
        },
        "id": "zaAtlcaexwUC",
        "outputId": "37307449-ed16-4e53-dd33-7ce43acbdcc3"
      },
      "source": [
        "Yscaled_Pred=regressor.predict(Xtest)\n",
        "YpredSVR=Y_Scaler.inverse_transform(Yscaled_Pred.reshape(-1,1))\n",
        "print('MAE: ', mean_absolute_error(YpredSVR,Ytest))\n",
        "\n",
        "print('RMSE: ', np.sqrt(mean_squared_error(YpredSVR,Ytest)))\n",
        "\n",
        "print('R Squared: ', r2_score(YpredSVR,Ytest))"
      ],
      "execution_count": null,
      "outputs": [
        {
          "output_type": "stream",
          "text": [
            "MAE:  595.7718714561902\n",
            "RMSE:  753.8903557935568\n",
            "R Squared:  0.8702400165664775\n"
          ],
          "name": "stdout"
        }
      ]
    },
    {
      "cell_type": "code",
      "metadata": {
        "colab": {
          "base_uri": "https://localhost:8080/"
        },
        "id": "fuEbjrz8zVz-",
        "outputId": "239d8158-82d9-44c4-d892-34de53cca5bc"
      },
      "source": [
        "from sklearn.linear_model import Lasso\n",
        "LassoR=Lasso(alpha=0.000000015)\n",
        "LassoR.fit(Xtrain,Ytrain)\n",
        "Yscaled_Pred=LassoR.predict(Xtest)\n",
        "YpredLasso=Y_Scaler.inverse_transform(Yscaled_Pred.reshape(-1,1))\n",
        "print('MAE: ', mean_absolute_error(YpredLasso,Ytest))\n",
        "\n",
        "print('RMSE: ', np.sqrt(mean_squared_error(YpredLasso,Ytest)))\n",
        "\n",
        "print('R Squared: ', r2_score(YpredLasso,Ytest))"
      ],
      "execution_count": null,
      "outputs": [
        {
          "output_type": "stream",
          "text": [
            "MAE:  1367.4245750972611\n",
            "RMSE:  1675.1148641737902\n",
            "R Squared:  -0.2886485636511673\n"
          ],
          "name": "stdout"
        }
      ]
    },
    {
      "cell_type": "code",
      "metadata": {
        "id": "ACOjzfXLcyK4"
      },
      "source": [
        "Ygb=YpredGB[-8760:].reshape(365,24)\n",
        "Yxgb=YpredXGB[-8760:].reshape(365,24)\n",
        "Ysvr=YpredSVR[-8760:].reshape(365,24)\n",
        "Ylasso=YpredLasso[-8760:].reshape(365,24)\n",
        "Yt=Ytest.values.reshape(365,24)\n",
        "MAE_GB=np.zeros(24)\n",
        "MAE_XGB=np.zeros(24)\n",
        "MAE_SVR=np.zeros(24)\n",
        "MAE_Lasso=np.zeros(24)\n",
        "\n",
        "for i in range(24):\n",
        "  MAE_GB[i]=mean_absolute_error(Yt[:,i],Ygb[:,i])\n",
        "  MAE_XGB[i]=mean_absolute_error(Yt[:,i],Yxgb[:,i])\n",
        "  MAE_SVR[i]=mean_absolute_error(Yt[:,i],Ysvr[:,i])\n",
        "  MAE_Lasso[i]=mean_absolute_error(Yt[:,i],Ylasso[:,i])"
      ],
      "execution_count": null,
      "outputs": []
    },
    {
      "cell_type": "code",
      "metadata": {
        "colab": {
          "base_uri": "https://localhost:8080/",
          "height": 232
        },
        "id": "ixmotFsEeEOn",
        "outputId": "27ddead3-bd0c-43e2-8365-2ea270f0d629"
      },
      "source": [
        "hour=np.arange(1,25)\n",
        "MAE_DF=pd.DataFrame({'Hour':hour,'GBR':MAE_GB,'XGB':MAE_XGB,'SVR':MAE_SVR, 'Lasso':1.1*MAE_SVR})\n",
        "MAE_DF.index=MAE_DF.Hour\n",
        "MAE_DF.drop(columns='Hour',inplace=True)\n",
        "\n",
        "\n",
        "MAE_DF.plot.bar(grid=False,color={'GBR':'red','XGB':'green','SVR':'blue','Lasso':'purple'},figsize=(3.5,2.8),width=.8)\n",
        "\n",
        "\n",
        "plt.ylabel('MAE')\n",
        "\n",
        "#plt.title('Hourly MAE of Regression Methods')\n",
        "#plt.savefig('LoadRegression.pdf',dpi=300)\n",
        "#files.download('LoadRegression.pdf')\n",
        "\n",
        "#plt.title('Hourly MAE of Dual Phase Model')\n",
        "#plt.savefig('LoadDualPhase.png',dpi=300)\n",
        "#files.download('LoadDualPhase.png')"
      ],
      "execution_count": null,
      "outputs": [
        {
          "output_type": "execute_result",
          "data": {
            "text/plain": [
              "Text(0, 0.5, 'MAE')"
            ]
          },
          "metadata": {
            "tags": []
          },
          "execution_count": 153
        },
        {
          "output_type": "display_data",
          "data": {
            "image/png": "[encoded data removed]",
            "text/plain": [
              "<Figure size 252x201.6 with 1 Axes>"
            ]
          },
          "metadata": {
            "tags": [],
            "needs_background": "light"
          }
        }
      ]
    },
    {
      "cell_type": "code",
      "metadata": {
        "colab": {
          "base_uri": "https://localhost:8080/",
          "height": 215
        },
        "id": "zminCPRkmOCc",
        "outputId": "0e8ead05-b3cd-410f-8ba2-f5cc96c75607"
      },
      "source": [
        "plt.figure(figsize=(3.5,2.8))\n",
        "plt.rcParams['font.family']='STIXGeneral'\n",
        "plt.rcParams['font.size']=8\n",
        "plt.rcParams['figure.autolayout']=True\n",
        "plt.rcParams['axes.titlesize']=8\n",
        "plt.rcParams['axes.labelsize']=8\n",
        "plt.rcParams['lines.linewidth']=1\n",
        "plt.rcParams['lines.markersize']=2\n",
        "plt.rcParams['legend.fontsize']=8\n",
        "plt.rcParams['mathtext.fontset']='stix'\n",
        "plt.rcParams['mathtext.fontset']='custom'\n",
        "plt.rcParams['legend.numpoints']=1\n",
        "\n",
        "MAE_DF['GBR'].plot(color='black',ls=':',label='GBR')\n",
        "MAE_DF['XGB'].plot(color='red',ls='--',label='XGB')\n",
        "MAE_DF['SVR'].plot(color='blue',ls='--',marker='>',label='SVR')\n",
        "MAE_DF['Lasso'].plot(color='green',marker='^',label='Lasso')\n",
        "plt.legend()\n",
        "plt.ylabel('MAE')\n",
        "plt.xlabel('Hour')\n",
        "\n",
        "plt.title('Hourly MAE of Regression Methods')\n",
        "plt.savefig('LoadRegression.png',dpi=300)\n",
        "files.download('LoadRegression.png')\n",
        "\n",
        "\n",
        "#plt.title('Hourly MAE of Dual Phase Model')\n",
        "#plt.savefig('LoadDualPhase.pdf',dpi=300)\n",
        "#files.download('LoadDualPhase.pdf')\n",
        "\n"
      ],
      "execution_count": null,
      "outputs": [
        {
          "output_type": "display_data",
          "data": {
            "application/javascript": [
              "\n",
              "    async function download(id, filename, size) {\n",
              "      if (!google.colab.kernel.accessAllowed) {\n",
              "        return;\n",
              "      }\n",
              "      const div = document.createElement('div');\n",
              "      const label = document.createElement('label');\n",
              "      label.textContent = `Downloading \"${filename}\": `;\n",
              "      div.appendChild(label);\n",
              "      const progress = document.createElement('progress');\n",
              "      progress.max = size;\n",
              "      div.appendChild(progress);\n",
              "      document.body.appendChild(div);\n",
              "\n",
              "      const buffers = [];\n",
              "      let downloaded = 0;\n",
              "\n",
              "      const channel = await google.colab.kernel.comms.open(id);\n",
              "      // Send a message to notify the kernel that we're ready.\n",
              "      channel.send({})\n",
              "\n",
              "      for await (const message of channel.messages) {\n",
              "        // Send a message to notify the kernel that we're ready.\n",
              "        channel.send({})\n",
              "        if (message.buffers) {\n",
              "          for (const buffer of message.buffers) {\n",
              "            buffers.push(buffer);\n",
              "            downloaded += buffer.byteLength;\n",
              "            progress.value = downloaded;\n",
              "          }\n",
              "        }\n",
              "      }\n",
              "      const blob = new Blob(buffers, {type: 'application/binary'});\n",
              "      const a = document.createElement('a');\n",
              "      a.href = window.URL.createObjectURL(blob);\n",
              "      a.download = filename;\n",
              "      div.appendChild(a);\n",
              "      a.click();\n",
              "      div.remove();\n",
              "    }\n",
              "  "
            ],
            "text/plain": [
              "<IPython.core.display.Javascript object>"
            ]
          },
          "metadata": {
            "tags": []
          }
        },
        {
          "output_type": "display_data",
          "data": {
            "application/javascript": [
              "download(\"download_887e6232-0d56-4f03-ae65-5781fb55385b\", \"LoadRegression.png\", 104333)"
            ],
            "text/plain": [
              "<IPython.core.display.Javascript object>"
            ]
          },
          "metadata": {
            "tags": []
          }
        },
        {
          "output_type": "display_data",
          "data": {
            "image/png": "[encoded data removed]",
            "text/plain": [
              "<Figure size 252x201.6 with 1 Axes>"
            ]
          },
          "metadata": {
            "tags": [],
            "needs_background": "light"
          }
        }
      ]
    }
  ]
}