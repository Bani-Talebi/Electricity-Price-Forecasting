{
  "nbformat": 4,
  "nbformat_minor": 0,
  "metadata": {
    "colab": {
      "name": "LoadQuantile.ipynb",
      "provenance": [],
      "authorship_tag": "ABX9TyPeEhKm3Tbx5BhPrCZOVnCq",
      "include_colab_link": true
    },
    "kernelspec": {
      "name": "python3",
      "display_name": "Python 3"
    }
  },
  "cells": [
    {
      "cell_type": "markdown",
      "metadata": {
        "id": "view-in-github",
        "colab_type": "text"
      },
      "source": [
        "<a href=\"https://colab.research.google.com/github/Bani-Talebi/Electricity-Price-Forecasting/blob/master/LoadQuantile.ipynb\" target=\"_parent\"><img src=\"https://colab.research.google.com/assets/colab-badge.svg\" alt=\"Open In Colab\"/></a>"
      ]
    },
    {
      "cell_type": "code",
      "metadata": {
        "id": "8tSenkcMyCiX"
      },
      "source": [
        "import pandas as pd\n",
        "import numpy as np\n",
        "\n",
        "import matplotlib as mpl\n",
        "import matplotlib.pyplot as plt\n",
        "import seaborn as sns\n",
        "\n",
        "import statsmodels.api as sm\n",
        "\n",
        "from scipy.stats import norm\n",
        "\n",
        "from sklearn import ensemble\n",
        "\n",
        "import tensorflow as tf\n",
        "from tensorflow import keras\n",
        "from google.colab import files"
      ],
      "execution_count": null,
      "outputs": []
    },
    {
      "cell_type": "code",
      "metadata": {
        "colab": {
          "resources": {
            "http://localhost:8080/nbextensions/google.colab/files.js": {
              "data": "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",
              "ok": true,
              "headers": [
                [
                  "content-type",
                  "application/javascript"
                ]
              ],
              "status": 200,
              "status_text": ""
            }
          },
          "base_uri": "https://localhost:8080/",
          "height": 72
        },
        "id": "QPV9YwkoyKRX",
        "outputId": "3336edde-7033-4eef-a900-c36fbbbba37a"
      },
      "source": [
        "uo=files.upload()"
      ],
      "execution_count": null,
      "outputs": [
        {
          "output_type": "display_data",
          "data": {
            "text/html": [
              "\n",
              "     <input type=\"file\" id=\"files-4b945e7a-7055-4e3d-853e-7bdf0a419f73\" name=\"files[]\" multiple disabled\n",
              "        style=\"border:none\" />\n",
              "     <output id=\"result-4b945e7a-7055-4e3d-853e-7bdf0a419f73\">\n",
              "      Upload widget is only available when the cell has been executed in the\n",
              "      current browser session. Please rerun this cell to enable.\n",
              "      </output>\n",
              "      <script src=\"/nbextensions/google.colab/files.js\"></script> "
            ],
            "text/plain": [
              "<IPython.core.display.HTML object>"
            ]
          },
          "metadata": {
            "tags": []
          }
        },
        {
          "output_type": "stream",
          "text": [
            "Saving LoadPool.csv to LoadPool (1).csv\n"
          ],
          "name": "stdout"
        }
      ]
    },
    {
      "cell_type": "code",
      "metadata": {
        "id": "7inLQ2mpySmh"
      },
      "source": [
        "DF=pd.read_csv('LoadPool (1).csv',index_col=0,parse_dates=True)\n",
        "\n",
        "train_labels=DF['2015':'2018']['Ontario Demand'].values\n",
        "test_labels=DF['2019']['Ontario Demand'].values\n",
        "\n",
        "DF.drop(columns=['Ontario Demand'],inplace=True)\n",
        "\n",
        "train_data=DF['2015':'2018'].values\n",
        "test_data=DF['2019'].values\n",
        "\n",
        "#Keras and Tensorflow Settings\n",
        "EPOCHS = 200\n",
        "BATCH_SIZE = 64\n",
        "UNITS = 128\n",
        "sns.set_style('white')\n",
        "#DPI = 200\n",
        "#mpl.rc('savefig', dpi=DPI)\n",
        "#mpl.rcParams['figure.dpi'] = DPI\n",
        "mpl.rcParams['figure.figsize'] = 3.5, 2.8  # Default.\n",
        "mpl.rcParams['font.sans-serif'] = 'STIXGeneral'\n",
        "mpl.rcParams['font.family'] = 'STIXGeneral'\n",
        "\n",
        "# Set title text color to dark gray (https://material.io/color) not black.\n",
        "#TITLE_COLOR = '#212121'\n",
        "#mpl.rcParams['text.color'] = TITLE_COLOR\n",
        "\n",
        "# Axis titles and tick marks are medium gray.\n",
        "#AXIS_COLOR = '#757575'\n",
        "#mpl.rcParams['axes.labelcolor'] = AXIS_COLOR\n",
        "#mpl.rcParams['xtick.color'] = AXIS_COLOR\n",
        "#mpl.rcParams['ytick.color'] = AXIS_COLOR\n",
        "#Make DataFrames\n",
        "column_names = DF.columns\n",
        "\n",
        "train_df = pd.DataFrame(train_data, columns=column_names)\n",
        "test_df = pd.DataFrame(test_data, columns=column_names)\n",
        "#Normalize\n",
        "mean = train_df.mean(axis=0)\n",
        "std = train_df.std(axis=0)\n",
        "train_df = (train_df - mean) / std\n",
        "test_df = (test_df - mean) / std\n",
        "\n",
        "x_train = train_df.XGB\n",
        "x_test = test_df.XGB\n",
        "\n",
        "#Denormalize\n",
        "def denorm_XGB(x):\n",
        "    return x * std.XGB + mean.XGB\n",
        "\n",
        "x_train_denorm = denorm_XGB(x_train)\n",
        "x_test_denorm = denorm_XGB(x_test)\n",
        "\n",
        "#Reformat data for statsmodels.\n",
        "X_train = sm.add_constant(x_train)\n",
        "X_test = sm.add_constant(x_test)\n",
        "x_train_expanded = np.expand_dims(x_train, 1)\n",
        "x_test_expanded = np.expand_dims(x_test, 1)\n",
        "train_labels_expanded = np.expand_dims(train_labels, 1)\n",
        "\n",
        "#Initialize result\n",
        "#Dataset per method, quantile, and x value.\n",
        "#####METHODS = ['Quantile Regression', 'Gradient Boosting', 'Neural Network']\n",
        "\n",
        "METHODS = ['QRA', 'GBR']\n",
        "QUANTILES = [0.05,0.10,0.15,0.20,0.25,0.30, 0.35,0.40,0.45,0.50, 0.55,0.60,0.65, 0.70,0.75,0.80,0.85, 0.90,0.95]\n",
        "# QUANTILES.reverse()  # Test out to see if we're getting different results.\n",
        "\n",
        "quantiles_legend = [str(int(q * 100)) + 'th percentile' for q in QUANTILES]\n",
        "\n",
        "sns.set_palette(sns.color_palette('Blues', len(QUANTILES)))\n",
        "sns.set_palette(sns.color_palette('Blues'))\n",
        "# Set dots to a light gray\n",
        "#dot_color = sns.color_palette('coolwarm', 3)[1]\n",
        "\n",
        "preds = np.array([(method, q, x) \n",
        "                  for method in METHODS \n",
        "                  for q in QUANTILES\n",
        "                  for x in x_test])\n",
        "preds = pd.DataFrame(preds)\n",
        "preds.columns = ['method', 'q', 'x']\n",
        "preds = preds.apply(lambda x: pd.to_numeric(x, errors='ignore'))\n",
        "\n",
        "preds['label'] = np.resize(test_labels, preds.shape[0])\n",
        "\n",
        "#Quantile loss example\n",
        "# pandas version rather than Keras.\n",
        "def quantile_loss(q, y, f):\n",
        "    # q: Quantile to be evaluated, e.g., 0.5 for median.\n",
        "    # y: True value.\n",
        "    # f: Fitted or predicted value.\n",
        "    e = y - f\n",
        "    return np.maximum(q * e, (q - 1) * e)\n",
        "\n",
        "#QuantReg\n",
        "quantreg = sm.QuantReg(train_labels, X_train)  # Don't fit yet, since we'll fit once per quantile.\n",
        "preds.loc[preds.method == 'QRA', 'pred'] = np.concatenate([quantreg.fit(q=q).predict(X_test) for q in QUANTILES]) \n",
        "\n",
        "np.random.seed(7)\n",
        "tf.random.set_seed(7)\n"
      ],
      "execution_count": null,
      "outputs": []
    },
    {
      "cell_type": "code",
      "metadata": {
        "id": "v433iXy42ExC"
      },
      "source": [
        "#Gradient boosted trees\n",
        "def gb_quantile(X_train, train_labels, X, q):\n",
        "    gbf = ensemble.GradientBoostingRegressor(loss='quantile', alpha=q,\n",
        "                                             n_estimators=150,\n",
        "                                             max_depth=5,\n",
        "                                             learning_rate=0.045, min_samples_leaf=9,\n",
        "                                             min_samples_split=9)\n",
        "    gbf.fit(X_train, train_labels)\n",
        "    return gbf.predict(X)\n",
        "preds.loc[preds.method == 'GBR', 'pred'] = np.concatenate(\n",
        "    [gb_quantile(X_train, train_labels, X_test, q) for q in QUANTILES]) \n",
        "\n",
        "\n",
        "def tilted_loss(q, y, f):\n",
        "    e = (y - f)\n",
        "    return keras.backend.mean(keras.backend.maximum(q * e, (q - 1) * e), axis=-1)\n",
        "#optimizer = tf.train.AdamOptimizer(0.001)\n",
        "#early_stop = keras.callbacks.EarlyStopping(monitor='val_loss', patience=20)"
      ],
      "execution_count": null,
      "outputs": []
    },
    {
      "cell_type": "code",
      "metadata": {
        "id": "fItwFSFx2t3a"
      },
      "source": [
        "preds['x_denorm'] = denorm_XGB(preds.x)\n",
        "\n",
        "#Compare quantile loss\n",
        "preds['quantile_loss'] = quantile_loss(preds.q, preds.label, preds.pred)"
      ],
      "execution_count": null,
      "outputs": []
    },
    {
      "cell_type": "code",
      "metadata": {
        "colab": {
          "base_uri": "https://localhost:8080/",
          "height": 852
        },
        "id": "880XZ1vdyxDk",
        "outputId": "13d9ec80-fdfc-4a56-c0d0-8f9f0699a318"
      },
      "source": [
        "\n",
        "\n",
        "\n",
        "def plot_loss_comparison(preds):\n",
        "    overall_loss_comparison = preds[~preds.quantile_loss.isnull()].\\\n",
        "      pivot_table(index='method', values='quantile_loss').\\\n",
        "      sort_values('quantile_loss')\n",
        "    # Show overall table.\n",
        "    print(overall_loss_comparison)\n",
        "    \n",
        "    \n",
        "\n",
        "\n",
        "  \n",
        "    # Plot overall.\n",
        "    with sns.color_palette('Blues', 1):\n",
        "        ax = overall_loss_comparison.plot.barh()\n",
        "        plt.title('Total quantile loss', loc='left')\n",
        "        sns.despine(left=True, bottom=True)\n",
        "        plt.xlabel('Quantile loss')\n",
        "        plt.ylabel('')\n",
        "        ax.legend_.remove()\n",
        "        #plt.savefig('Total Quantile Loss..pdf',dpi=300)\n",
        "        #files.download('Total Quantile Loss.pdf')\n",
        "  \n",
        "    # Per quantile.\n",
        "    per_quantile_loss_comparison = preds[~preds.quantile_loss.isnull()].\\\n",
        "        pivot_table(index='q', columns='method', values='quantile_loss')\n",
        "    # Sort by overall quantile loss.\n",
        "    per_quantile_loss_comparison = \\\n",
        "        per_quantile_loss_comparison[overall_loss_comparison.index]\n",
        "    print(per_quantile_loss_comparison)\n",
        "  \n",
        "    # Plot per quantile.\n",
        "    with sns.color_palette('deep'):\n",
        "        plt.rcParams['font.size']=8\n",
        "        plt.rcParams['figure.autolayout']=True\n",
        "        plt.rcParams['axes.titlesize']=8\n",
        "        plt.rcParams['axes.labelsize']=8\n",
        "        plt.rcParams['lines.linewidth']=1\n",
        "        plt.rcParams['lines.markersize']=2\n",
        "        plt.rcParams['legend.fontsize']=8\n",
        "        plt.rcParams['mathtext.fontset']='stix'\n",
        "        plt.rcParams['mathtext.fontset']='custom'\n",
        "        plt.rcParams['legend.numpoints']=1\n",
        "\n",
        "        ax = per_quantile_loss_comparison.plot.barh()\n",
        "        plt.title('Quantile Loss per Quantile', loc='left')\n",
        "        sns.despine(left=True, bottom=True)\n",
        "        handles, labels = ax.get_legend_handles_labels()\n",
        "        plt.xlabel('Quantile Loss')\n",
        "        plt.ylabel('Quantile')\n",
        "        # Reverse legend.\n",
        "        ax.legend(reversed(handles), reversed(labels))\n",
        "        #plt.savefig('Per Quantile Loss.png',dpi=300)\n",
        "        #files.download('Per Quantile Loss.png')\n",
        "plot_loss_comparison(preds)\n",
        "\n",
        "\n"
      ],
      "execution_count": null,
      "outputs": [
        {
          "output_type": "stream",
          "text": [
            "        quantile_loss\n",
            "method               \n",
            "GBR        135.665409\n",
            "QRA        136.280881\n",
            "method         GBR         QRA\n",
            "q                             \n",
            "0.05     65.663124   68.628605\n",
            "0.10     96.517142   99.034426\n",
            "0.15    118.022806  120.436326\n",
            "0.20    134.598953  136.112328\n",
            "0.25    147.237715  148.001770\n",
            "0.30    156.551772  157.038018\n",
            "0.35    163.254367  163.428273\n",
            "0.40    167.656655  167.657144\n",
            "0.45    170.224200  169.912054\n",
            "0.50    170.605533  170.282580\n",
            "0.55    169.278009  168.790655\n",
            "0.60    165.699952  165.381001\n",
            "0.65    160.198715  160.030635\n",
            "0.70    152.484899  152.536418\n",
            "0.75    142.095021  142.640991\n",
            "0.80    129.378576  129.879546\n",
            "0.85    113.121873  113.552550\n",
            "0.90     91.855050   92.591367\n",
            "0.95     63.198407   63.402059\n"
          ],
          "name": "stdout"
        },
        {
          "output_type": "display_data",
          "data": {
            "image/png": "[encoded data removed]",
            "text/plain": [
              "<Figure size 252x201.6 with 1 Axes>"
            ]
          },
          "metadata": {
            "tags": []
          }
        },
        {
          "output_type": "display_data",
          "data": {
            "image/png": "[encoded data removed]",
            "text/plain": [
              "<Figure size 252x201.6 with 1 Axes>"
            ]
          },
          "metadata": {
            "tags": []
          }
        }
      ]
    },
    {
      "cell_type": "code",
      "metadata": {
        "colab": {
          "base_uri": "https://localhost:8080/",
          "height": 215
        },
        "id": "a1QzAqvwDO7q",
        "outputId": "a0b2be75-02b8-4818-dfcd-d4463a7d14b5"
      },
      "source": [
        "#sns.set_style('dark')\n",
        "def plot_loss_comparison(preds):\n",
        "    overall_loss_comparison = preds[~preds.quantile_loss.isnull()].\\\n",
        "      pivot_table(index='method', values='quantile_loss').\\\n",
        "      sort_values('quantile_loss')\n",
        "    # Show overall table.\n",
        "    #print(overall_loss_comparison)\n",
        "    \n",
        "    \n",
        "\n",
        "\n",
        "  \n",
        "\n",
        "  \n",
        "    # Per quantile.\n",
        "    per_quantile_loss_comparison = preds[~preds.quantile_loss.isnull()].\\\n",
        "        pivot_table(index='q', columns='method', values='quantile_loss')\n",
        "    # Sort by overall quantile loss.\n",
        "    per_quantile_loss_comparison = \\\n",
        "        per_quantile_loss_comparison[overall_loss_comparison.index]\n",
        "  \n",
        "    # Plot per quantile.\n",
        "    with sns.color_palette('deep'):\n",
        "        plt.rcParams['font.family']='STIXGeneral'\n",
        "        plt.rcParams['font.size']=8\n",
        "        plt.rcParams['figure.autolayout']=True\n",
        "        plt.rcParams['axes.titlesize']=8\n",
        "        plt.rcParams['axes.labelsize']=8\n",
        "        plt.rcParams['lines.linewidth']=1\n",
        "        plt.rcParams['lines.markersize']=2\n",
        "        plt.rcParams['legend.fontsize']=8\n",
        "        plt.rcParams['mathtext.fontset']='stix'\n",
        "        plt.rcParams['mathtext.fontset']='custom'\n",
        "        plt.rcParams['legend.numpoints']=1\n",
        "\n",
        "        ax = per_quantile_loss_comparison.plot.bar()\n",
        "        plt.title('Quantile Loss per Quantile')\n",
        "        sns.despine(left=True, bottom=True)\n",
        "        handles, labels = ax.get_legend_handles_labels()\n",
        "        plt.xlabel('Quantile Loss')\n",
        "        plt.ylabel('Quantile')\n",
        "        # Reverse legend.\n",
        "        ax.legend(reversed(handles), reversed(labels))\n",
        "        #plt.savefig('Per Quantile Loss.png',dpi=300)\n",
        "        #files.download('Per Quantile Loss.png')\n",
        "plot_loss_comparison(preds)"
      ],
      "execution_count": null,
      "outputs": [
        {
          "output_type": "display_data",
          "data": {
            "image/png": "[encoded data removed]",
            "text/plain": [
              "<Figure size 252x201.6 with 1 Axes>"
            ]
          },
          "metadata": {
            "tags": []
          }
        }
      ]
    },
    {
      "cell_type": "code",
      "metadata": {
        "colab": {
          "base_uri": "https://localhost:8080/",
          "height": 215
        },
        "id": "75Kxhy5SDQuH",
        "outputId": "67d20551-b3b4-417a-ed57-022d00cd59fa"
      },
      "source": [
        "\n",
        "overall_loss_comparison = preds[~preds.quantile_loss.isnull()].\\\n",
        "  pivot_table(index='method', values='quantile_loss').\\\n",
        "  sort_values('quantile_loss')\n",
        "# Show overall table.\n",
        "\n",
        "# Per quantile.\n",
        "per_quantile_loss_comparison = preds[~preds.quantile_loss.isnull()].\\\n",
        "    pivot_table(index='q', columns='method', values='quantile_loss')\n",
        "# Sort by overall quantile loss.\n",
        "per_quantile_loss_comparison = \\\n",
        "    per_quantile_loss_comparison[overall_loss_comparison.index]\n",
        "\n",
        "\n",
        "per_quantile_loss_comparison.plot.bar(color={'GBR':'red', 'QRA':'blue'},figsize=(3.5,2.8),width=0.8)\n",
        "plt.ylabel('Quantile Loss')\n",
        "plt.xlabel('Quantiles')\n",
        "plt.title('Total Quantile Loss per Quantile')\n",
        "#plt.savefig('Per Quantile Loss.pdf',dpi=300)\n",
        "#files.download('Per Quantile Loss.pdf')\n",
        "plt.rcParams['font.size']=8\n",
        "plt.rcParams['figure.autolayout']=True\n",
        "plt.rcParams['axes.titlesize']=8\n",
        "plt.rcParams['axes.labelsize']=8\n",
        "plt.rcParams['lines.linewidth']=1\n",
        "plt.rcParams['lines.markersize']=2\n",
        "plt.rcParams['legend.fontsize']=8\n",
        "plt.rcParams['mathtext.fontset']='stix'\n",
        "plt.rcParams['mathtext.fontset']='custom'\n",
        "plt.rcParams['legend.numpoints']=1"
      ],
      "execution_count": null,
      "outputs": [
        {
          "output_type": "display_data",
          "data": {
            "image/png": "[encoded data removed]",
            "text/plain": [
              "<Figure size 252x201.6 with 1 Axes>"
            ]
          },
          "metadata": {
            "tags": []
          }
        }
      ]
    },
    {
      "cell_type": "code",
      "metadata": {
        "id": "cjeCLbl_DfVg"
      },
      "source": [
        "L=8760\n",
        "QR=pd.DataFrame(preds['label'].iloc[0:L])\n",
        "QR.index=DF['2019'].index\n",
        "i=0\n",
        "for q in QUANTILES:\n",
        "  QR['q={}'.format(q)]=preds['pred'].iloc[i*L:(i+1)*L].values\n",
        "  i+=1\n",
        "GB=pd.DataFrame(preds['label'].iloc[0:L])\n",
        "GB.index=DF['2019'].index\n",
        "for q in QUANTILES:\n",
        "  GB['q={}'.format(q)]=preds['pred'].iloc[i*L:(i+1)*L].values\n",
        "  i+=1\n",
        "NN=pd.DataFrame(preds['label'].iloc[0:L])\n",
        "NN.index=DF['2019'].index\n",
        "for q in QUANTILES:\n",
        "  NN['q={}'.format(q)]=preds['pred'].iloc[i*L:(i+1)*L].values\n",
        "  i+=1\n"
      ],
      "execution_count": null,
      "outputs": []
    },
    {
      "cell_type": "markdown",
      "metadata": {
        "id": "RPDF5pstDkXe"
      },
      "source": [
        "# **Reliability**"
      ]
    },
    {
      "cell_type": "code",
      "metadata": {
        "colab": {
          "base_uri": "https://localhost:8080/"
        },
        "id": "nmMriI19DlZ2",
        "outputId": "cec9ca50-f9bc-4731-e16d-25ea660f4136"
      },
      "source": [
        "QR_Calibration=np.zeros(len(QUANTILES))\n",
        "col=QR.columns\n",
        "a=QR[col[0]].values\n",
        "l=len(col)\n",
        "for i in range(1,l):\n",
        "  b=QR[col[i]].values\n",
        "  QR_Calibration[i-1]=sum(b>a)/len(QR)\n",
        "\n",
        "GB_Calibration=np.zeros(len(QUANTILES))\n",
        "col=GB.columns\n",
        "a=GB[col[0]].values\n",
        "l=len(col)\n",
        "for i in range(1,l):\n",
        "  b=GB[col[i]].values\n",
        "  GB_Calibration[i-1]=sum(b>a)/len(GB)\n",
        "\n",
        "print('Reliability of QRA:',np.sqrt(sum((QR_Calibration-QUANTILES)**2)))\n",
        "print('Reliability of GBA:',np.sqrt(sum((GB_Calibration-QUANTILES)**2)))"
      ],
      "execution_count": null,
      "outputs": [
        {
          "output_type": "stream",
          "text": [
            "Reliability of QRA: 0.34461158021591065\n",
            "Reliability of GBA: 0.31056957285243425\n"
          ],
          "name": "stdout"
        }
      ]
    },
    {
      "cell_type": "code",
      "metadata": {
        "colab": {
          "base_uri": "https://localhost:8080/",
          "height": 232
        },
        "id": "7-t3HNeFDvGI",
        "outputId": "1bd1257a-e330-47b4-9309-9a573febab78"
      },
      "source": [
        "plt.plot(QUANTILES,QR_Calibration,color='black',label='QRA')\n",
        "plt.plot(QUANTILES,GB_Calibration,color='red',label='GBR')\n",
        "plt.plot(QUANTILES,QUANTILES,'bs',label='Ideal')\n",
        "plt.xlabel('Nominal')\n",
        "plt.ylabel('Emprical')\n",
        "plt.legend()\n",
        "plt.title('Reliability Assessment of Quantile Forecasting Methods')\n",
        "#plt.savefig('Reliability.png',dpi=300)\n",
        "#files.download('Reliability.png')"
      ],
      "execution_count": null,
      "outputs": [
        {
          "output_type": "execute_result",
          "data": {
            "text/plain": [
              "Text(0.5, 1.0, 'Reliability Assessment of Quantile Forecasting Methods')"
            ]
          },
          "metadata": {
            "tags": []
          },
          "execution_count": 28
        },
        {
          "output_type": "display_data",
          "data": {
            "image/png": "[encoded data removed]",
            "text/plain": [
              "<Figure size 252x201.6 with 1 Axes>"
            ]
          },
          "metadata": {
            "tags": []
          }
        }
      ]
    },
    {
      "cell_type": "markdown",
      "metadata": {
        "id": "DR2Mh8MmEA0S"
      },
      "source": [
        "# **Sharpness**"
      ]
    },
    {
      "cell_type": "code",
      "metadata": {
        "colab": {
          "base_uri": "https://localhost:8080/"
        },
        "id": "Rc3KmCgLEBxQ",
        "outputId": "bb07ce13-bba5-4830-e6d1-b8754cb3a2ff"
      },
      "source": [
        "I=np.array([90,80,70,60,50,40,30,20,10])\n",
        "#QRA\n",
        "col=QR.columns\n",
        "l=len(col)\n",
        "t=1\n",
        "for i in I:\n",
        "  QR['I={}'.format(i)]=QR[col[l-t]]-QR[col[t]]\n",
        "  t+=1\n",
        "col=QR.columns\n",
        "l1=len(col)\n",
        "l2=len(QUANTILES)+1\n",
        "col=col[l2:l1]\n",
        "#GB\n",
        "col=GB.columns\n",
        "l=len(col)\n",
        "t=1\n",
        "for i in I:\n",
        "  GB['I={}'.format(i)]=GB[col[l-t]]-GB[col[t]]\n",
        "  t+=1\n",
        "col=GB.columns\n",
        "l1=len(col)\n",
        "l2=len(QUANTILES)+1\n",
        "col=col[l2:l1]\n",
        "\n",
        "a1=GB[col].mean()\n",
        "a2=QR[col].mean()\n",
        "\n",
        "print('Sharpness of QR:',a2.mean())\n",
        "print('Sharpness of GB:',a1.mean())\n"
      ],
      "execution_count": null,
      "outputs": [
        {
          "output_type": "stream",
          "text": [
            "Sharpness of QR: 353.09800168821937\n",
            "Sharpness of GB: 384.43495697274426\n"
          ],
          "name": "stdout"
        }
      ]
    },
    {
      "cell_type": "markdown",
      "metadata": {
        "id": "TYQ8VjIKEOIT"
      },
      "source": [
        "# **CRPS**"
      ]
    },
    {
      "cell_type": "code",
      "metadata": {
        "colab": {
          "base_uri": "https://localhost:8080/"
        },
        "id": "mpdrJb5CEO09",
        "outputId": "10a11c8c-497b-46af-e84d-94f15e1af757"
      },
      "source": [
        "#QR\n",
        "col=QR.columns[1:len(QUANTILES)+1]\n",
        "s=0\n",
        "for c in col:\n",
        "  s+=(QR[c]-QR['label'])**2\n",
        "s=s*0.5\n",
        "QR['CRPS']=s\n",
        "a1=QR['CRPS'].mean()\n",
        "\n",
        "#GB\n",
        "col=GB.columns[1:len(QUANTILES)+1]\n",
        "s=0\n",
        "for c in col:\n",
        "  s+=(GB[c]-GB['label'])**2\n",
        "s=s*0.5\n",
        "GB['CRPS']=s\n",
        "a2=GB['CRPS'].mean()\n",
        "\n",
        "print('CRPS of QR:',a1)\n",
        "print('CRPS of GB:',a2)"
      ],
      "execution_count": null,
      "outputs": [
        {
          "output_type": "stream",
          "text": [
            "CRPS of QR: 2552953.4604650717\n",
            "CRPS of GB: 2672242.0117056393\n"
          ],
          "name": "stdout"
        }
      ]
    },
    {
      "cell_type": "code",
      "metadata": {
        "colab": {
          "base_uri": "https://localhost:8080/",
          "height": 217
        },
        "id": "8K1EmPBiGzuj",
        "outputId": "030de49b-fd91-4de3-ff5a-a25e48e0e605"
      },
      "source": [
        "p='2019-03-15'\n",
        "q='2019-03-19'\n",
        "a=0.1\n",
        "q1=GB[p:q]['q=0.05']\n",
        "q2=GB[p:q]['q=0.95']\n",
        "plt.fill_between(q1.index,q1,q2,color='black',alpha=a)\n",
        "\n",
        "q3=GB[p:q]['q=0.1']\n",
        "q4=GB[p:q]['q=0.9']\n",
        "plt.fill_between(q1.index,q3,q4,color='black',alpha=a)\n",
        "\n",
        "q3=GB[p:q]['q=0.15']\n",
        "q4=GB[p:q]['q=0.85']\n",
        "plt.fill_between(q1.index,q3,q4,color='black',alpha=a)\n",
        "\n",
        "q3=GB[p:q]['q=0.2']\n",
        "q4=GB[p:q]['q=0.8']\n",
        "plt.fill_between(q1.index,q3,q4,color='black',alpha=a)\n",
        "\n",
        "q3=GB[p:q]['q=0.25']\n",
        "q4=GB[p:q]['q=0.75']\n",
        "plt.fill_between(q1.index,q3,q4,color='black',alpha=a)\n",
        "\n",
        "q3=GB[p:q]['q=0.3']\n",
        "q4=GB[p:q]['q=0.7']\n",
        "plt.fill_between(q1.index,q3,q4,color='black',alpha=a)\n",
        "\n",
        "q3=GB[p:q]['q=0.35']\n",
        "q4=GB[p:q]['q=0.65']\n",
        "plt.fill_between(q1.index,q3,q4,color='black',alpha=a)\n",
        "\n",
        "q3=GB[p:q]['q=0.4']\n",
        "q4=GB[p:q]['q=0.6']\n",
        "plt.fill_between(q1.index,q3,q4,color='black',alpha=a)\n",
        "\n",
        "q3=GB[p:q]['q=0.45']\n",
        "q4=GB[p:q]['q=0.55']\n",
        "plt.fill_between(q1.index,q3,q4,color='black',alpha=a)\n",
        "\n",
        "plt.rcParams['font.size']=7\n",
        "plt.rcParams['figure.autolayout']=True\n",
        "plt.rcParams['axes.titlesize']=8\n",
        "plt.rcParams['axes.labelsize']=7\n",
        "plt.rcParams['lines.linewidth']=1\n",
        "plt.rcParams['lines.markersize']=2\n",
        "plt.rcParams['legend.fontsize']=8\n",
        "plt.rcParams['mathtext.fontset']='stix'\n",
        "plt.rcParams['mathtext.fontset']='custom'\n",
        "plt.rcParams['legend.numpoints']=1\n",
        "\n",
        "plt.plot(GB[p:q]['label'],'g^',lw=1,markersize=2,label='Actual Load')\n",
        "plt.plot(DF[p:q]['XGB'],color='red',lw=1.5,label='Load Forecasts')\n",
        "plt.legend()\n",
        "plt.ylabel('Electricity Demand (MWh)')\n",
        "plt.title('Point and Probabilistic Forecasts of Electricity Demand')\n",
        "plt.savefig('QuantileLoad.png',dpi=300)\n",
        "files.download('QuantileLoad.png')"
      ],
      "execution_count": null,
      "outputs": [
        {
          "output_type": "display_data",
          "data": {
            "application/javascript": [
              "\n",
              "    async function download(id, filename, size) {\n",
              "      if (!google.colab.kernel.accessAllowed) {\n",
              "        return;\n",
              "      }\n",
              "      const div = document.createElement('div');\n",
              "      const label = document.createElement('label');\n",
              "      label.textContent = `Downloading \"${filename}\": `;\n",
              "      div.appendChild(label);\n",
              "      const progress = document.createElement('progress');\n",
              "      progress.max = size;\n",
              "      div.appendChild(progress);\n",
              "      document.body.appendChild(div);\n",
              "\n",
              "      const buffers = [];\n",
              "      let downloaded = 0;\n",
              "\n",
              "      const channel = await google.colab.kernel.comms.open(id);\n",
              "      // Send a message to notify the kernel that we're ready.\n",
              "      channel.send({})\n",
              "\n",
              "      for await (const message of channel.messages) {\n",
              "        // Send a message to notify the kernel that we're ready.\n",
              "        channel.send({})\n",
              "        if (message.buffers) {\n",
              "          for (const buffer of message.buffers) {\n",
              "            buffers.push(buffer);\n",
              "            downloaded += buffer.byteLength;\n",
              "            progress.value = downloaded;\n",
              "          }\n",
              "        }\n",
              "      }\n",
              "      const blob = new Blob(buffers, {type: 'application/binary'});\n",
              "      const a = document.createElement('a');\n",
              "      a.href = window.URL.createObjectURL(blob);\n",
              "      a.download = filename;\n",
              "      div.appendChild(a);\n",
              "      a.click();\n",
              "      div.remove();\n",
              "    }\n",
              "  "
            ],
            "text/plain": [
              "<IPython.core.display.Javascript object>"
            ]
          },
          "metadata": {
            "tags": []
          }
        },
        {
          "output_type": "display_data",
          "data": {
            "application/javascript": [
              "download(\"download_b6e0607c-4d7b-469d-9099-465e4d1a285d\", \"QuantileLoad.png\", 196675)"
            ],
            "text/plain": [
              "<IPython.core.display.Javascript object>"
            ]
          },
          "metadata": {
            "tags": []
          }
        },
        {
          "output_type": "display_data",
          "data": {
            "image/png": "[encoded data removed]",
            "text/plain": [
              "<Figure size 252x201.6 with 1 Axes>"
            ]
          },
          "metadata": {
            "tags": []
          }
        }
      ]
    }
  ]
}