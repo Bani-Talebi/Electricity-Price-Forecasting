{
  "nbformat": 4,
  "nbformat_minor": 0,
  "metadata": {
    "colab": {
      "name": "Quantile Regression.ipynb",
      "provenance": [],
      "collapsed_sections": [],
      "authorship_tag": "ABX9TyNivgccTTs4OuTmGxM7N8M9",
      "include_colab_link": true
    },
    "kernelspec": {
      "name": "python3",
      "display_name": "Python 3"
    }
  },
  "cells": [
    {
      "cell_type": "markdown",
      "metadata": {
        "id": "view-in-github",
        "colab_type": "text"
      },
      "source": [
        "<a href=\"https://colab.research.google.com/github/Bani-Talebi/Electricity-Price-Forecasting/blob/master/Quantile_Regression.ipynb\" target=\"_parent\"><img src=\"https://colab.research.google.com/assets/colab-badge.svg\" alt=\"Open In Colab\"/></a>"
      ]
    },
    {
      "cell_type": "code",
      "metadata": {
        "id": "T-0eyfxXRr8f"
      },
      "source": [
        "import pandas as pd\n",
        "import numpy as np\n",
        "\n",
        "import matplotlib as mpl\n",
        "import matplotlib.pyplot as plt\n",
        "import seaborn as sns\n",
        "\n",
        "import statsmodels.api as sm\n",
        "\n",
        "from scipy.stats import norm\n",
        "\n",
        "from sklearn import ensemble\n",
        "\n",
        "import tensorflow as tf\n",
        "from tensorflow import keras\n",
        "from google.colab import files"
      ],
      "execution_count": null,
      "outputs": []
    },
    {
      "cell_type": "code",
      "metadata": {
        "colab": {
          "resources": {
            "http://localhost:8080/nbextensions/google.colab/files.js": {
              "data": "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",
              "ok": true,
              "headers": [
                [
                  "content-type",
                  "application/javascript"
                ]
              ],
              "status": 200,
              "status_text": ""
            }
          },
          "base_uri": "https://localhost:8080/",
          "height": 72
        },
        "id": "Yvm9MdilW8p-",
        "outputId": "ed386e80-9dae-4101-aaeb-377348037cfb"
      },
      "source": [
        "up=files.upload()"
      ],
      "execution_count": null,
      "outputs": [
        {
          "output_type": "display_data",
          "data": {
            "text/html": [
              "\n",
              "     <input type=\"file\" id=\"files-75c4d4b7-fbdf-416b-a499-ec67b9ec4926\" name=\"files[]\" multiple disabled\n",
              "        style=\"border:none\" />\n",
              "     <output id=\"result-75c4d4b7-fbdf-416b-a499-ec67b9ec4926\">\n",
              "      Upload widget is only available when the cell has been executed in the\n",
              "      current browser session. Please rerun this cell to enable.\n",
              "      </output>\n",
              "      <script src=\"/nbextensions/google.colab/files.js\"></script> "
            ],
            "text/plain": [
              "<IPython.core.display.HTML object>"
            ]
          },
          "metadata": {
            "tags": []
          }
        },
        {
          "output_type": "stream",
          "text": [
            "Saving PF_Input.csv to PF_Input.csv\n"
          ],
          "name": "stdout"
        }
      ]
    },
    {
      "cell_type": "code",
      "metadata": {
        "id": "M3tjK9u5XD1u"
      },
      "source": [
        "DF=pd.read_csv('PF_Input.csv',index_col=0,parse_dates=True)\n",
        "\n",
        "train_labels=DF['2015':'2018']['HOEP'].values\n",
        "test_labels=DF['2019']['HOEP'].values\n",
        "\n",
        "DF.drop(columns=['HOEP'],inplace=True)\n",
        "\n",
        "train_data=DF['2015':'2018'].values\n",
        "test_data=DF['2019'].values\n",
        "\n",
        "#Keras and Tensorflow Settings\n",
        "EPOCHS = 200\n",
        "BATCH_SIZE = 64\n",
        "UNITS = 128\n",
        "sns.set_style('white')\n",
        "#DPI = 200\n",
        "#mpl.rc('savefig', dpi=DPI)\n",
        "#mpl.rcParams['figure.dpi'] = DPI\n",
        "mpl.rcParams['figure.figsize'] = 3.5, 2.8  # Default.\n",
        "mpl.rcParams['font.sans-serif'] = 'STIXGeneral'\n",
        "mpl.rcParams['font.family'] = 'STIXGeneral'\n",
        "\n",
        "# Set title text color to dark gray (https://material.io/color) not black.\n",
        "#TITLE_COLOR = '#212121'\n",
        "#mpl.rcParams['text.color'] = TITLE_COLOR\n",
        "\n",
        "# Axis titles and tick marks are medium gray.\n",
        "#AXIS_COLOR = '#757575'\n",
        "#mpl.rcParams['axes.labelcolor'] = AXIS_COLOR\n",
        "#mpl.rcParams['xtick.color'] = AXIS_COLOR\n",
        "#mpl.rcParams['ytick.color'] = AXIS_COLOR\n",
        "#Make DataFrames\n",
        "column_names = DF.columns\n",
        "\n",
        "train_df = pd.DataFrame(train_data, columns=column_names)\n",
        "test_df = pd.DataFrame(test_data, columns=column_names)\n",
        "#Normalize\n",
        "mean = train_df.mean(axis=0)\n",
        "std = train_df.std(axis=0)\n",
        "train_df = (train_df - mean) / std\n",
        "test_df = (test_df - mean) / std\n",
        "\n",
        "x_train = train_df.XGB\n",
        "x_test = test_df.XGB\n",
        "\n",
        "#Denormalize\n",
        "def denorm_XGB(x):\n",
        "    return x * std.XGB + mean.XGB\n",
        "\n",
        "x_train_denorm = denorm_XGB(x_train)\n",
        "x_test_denorm = denorm_XGB(x_test)\n",
        "\n",
        "#Reformat data for statsmodels.\n",
        "X_train = sm.add_constant(x_train)\n",
        "X_test = sm.add_constant(x_test)\n",
        "x_train_expanded = np.expand_dims(x_train, 1)\n",
        "x_test_expanded = np.expand_dims(x_test, 1)\n",
        "train_labels_expanded = np.expand_dims(train_labels, 1)\n",
        "\n",
        "#Initialize result\n",
        "#Dataset per method, quantile, and x value.\n",
        "#####METHODS = ['Quantile Regression', 'Gradient Boosting', 'Neural Network']\n",
        "\n",
        "METHODS = ['QRA', 'GBR', 'NN']\n",
        "QUANTILES = [0.05,0.10,0.15,0.20,0.25,0.30, 0.35,0.40,0.45,0.50, 0.55,0.60,0.65, 0.70,0.75,0.80,0.85, 0.90,0.95]\n",
        "# QUANTILES.reverse()  # Test out to see if we're getting different results.\n",
        "\n",
        "quantiles_legend = [str(int(q * 100)) + 'th percentile' for q in QUANTILES]\n",
        "\n",
        "sns.set_palette(sns.color_palette('Blues', len(QUANTILES)))\n",
        "sns.set_palette(sns.color_palette('Blues'))\n",
        "# Set dots to a light gray\n",
        "#dot_color = sns.color_palette('coolwarm', 3)[1]\n",
        "\n",
        "preds = np.array([(method, q, x) \n",
        "                  for method in METHODS \n",
        "                  for q in QUANTILES\n",
        "                  for x in x_test])\n",
        "preds = pd.DataFrame(preds)\n",
        "preds.columns = ['method', 'q', 'x']\n",
        "preds = preds.apply(lambda x: pd.to_numeric(x, errors='ignore'))\n",
        "\n",
        "preds['label'] = np.resize(test_labels, preds.shape[0])\n",
        "\n",
        "#Quantile loss example\n",
        "# pandas version rather than Keras.\n",
        "def quantile_loss(q, y, f):\n",
        "    # q: Quantile to be evaluated, e.g., 0.5 for median.\n",
        "    # y: True value.\n",
        "    # f: Fitted or predicted value.\n",
        "    e = y - f\n",
        "    return np.maximum(q * e, (q - 1) * e)\n",
        "\n",
        "#QuantReg\n",
        "quantreg = sm.QuantReg(train_labels, X_train)  # Don't fit yet, since we'll fit once per quantile.\n",
        "preds.loc[preds.method == 'QRA', 'pred'] = np.concatenate([quantreg.fit(q=q).predict(X_test) for q in QUANTILES]) \n",
        "\n",
        "np.random.seed(7)\n",
        "tf.random.set_seed(7)\n"
      ],
      "execution_count": null,
      "outputs": []
    },
    {
      "cell_type": "code",
      "metadata": {
        "id": "I8j_yISNzmCr",
        "colab": {
          "base_uri": "https://localhost:8080/",
          "height": 1000
        },
        "outputId": "7106bffa-d0a2-421f-b528-4f9d84881d12"
      },
      "source": [
        "#Gradient boosted trees\n",
        "def gb_quantile(X_train, train_labels, X, q):\n",
        "    gbf = ensemble.GradientBoostingRegressor(loss='quantile', alpha=q,\n",
        "                                             n_estimators=150,\n",
        "                                             max_depth=5,\n",
        "                                             learning_rate=0.045, min_samples_leaf=9,\n",
        "                                             min_samples_split=9)\n",
        "    gbf.fit(X_train, train_labels)\n",
        "    return gbf.predict(X)\n",
        "preds.loc[preds.method == 'GBR', 'pred'] = np.concatenate(\n",
        "    [gb_quantile(X_train, train_labels, X_test, q) for q in QUANTILES]) \n",
        "\n",
        "\n",
        "def tilted_loss(q, y, f):\n",
        "    e = (y - f)\n",
        "    return keras.backend.mean(keras.backend.maximum(q * e, (q - 1) * e), axis=-1)\n",
        "#optimizer = tf.train.AdamOptimizer(0.001)\n",
        "#early_stop = keras.callbacks.EarlyStopping(monitor='val_loss', patience=20)\n",
        "\n",
        "from keras.callbacks import EarlyStopping, ReduceLROnPlateau, ModelCheckpoint, TensorBoard\n",
        "es = EarlyStopping(monitor='val_loss', min_delta=1e-10, patience=10)\n",
        "rlr = ReduceLROnPlateau(monitor='val_loss', factor=0.5, patience=10)\n",
        "mcp = ModelCheckpoint(filepath='weights.h5', monitor='val_loss', save_best_only=True, save_weights_only=True)\n",
        "tb = TensorBoard('logs')\n",
        "\n",
        "def keras_pred(x_train, train_labels, x_test, q):\n",
        "    print(q)\n",
        "    # Set input_dim for the number of features.\n",
        "    if len(x_train.shape) == 1:\n",
        "        input_dim = 1\n",
        "    else:\n",
        "        input_dim = x_train.shape[1]\n",
        "    model = keras.Sequential([\n",
        "      keras.layers.Dense(UNITS, activation=tf.nn.relu,\n",
        "                         input_dim=input_dim),\n",
        "      keras.layers.Dense(UNITS, activation=tf.nn.relu),\n",
        "      keras.layers.Dense(1)\n",
        "    ])\n",
        "    \n",
        "    model.compile(loss=lambda y, f: tilted_loss(q, y, f), optimizer='adam')\n",
        "    model.fit(x_train, train_labels, epochs=EPOCHS, batch_size=BATCH_SIZE, verbose=0, validation_split=0.2, callbacks=[es, rlr, mcp, tb])\n",
        "    \n",
        "    # Predict the quantile\n",
        "    return model.predict(x_test)\n",
        "preds.loc[preds.method == 'NN', 'pred'] = np.concatenate(\n",
        "    [keras_pred(x_train_expanded, train_labels, x_test_expanded, q) \n",
        "     for q in QUANTILES]) \n",
        "preds['x_denorm'] = denorm_XGB(preds.x)\n",
        "\n",
        "#Compare quantile loss\n",
        "preds['quantile_loss'] = quantile_loss(preds.q, preds.label, preds.pred)\n",
        "def plot_loss_comparison(preds):\n",
        "    overall_loss_comparison = preds[~preds.quantile_loss.isnull()].\\\n",
        "      pivot_table(index='method', values='quantile_loss').\\\n",
        "      sort_values('quantile_loss')\n",
        "    # Show overall table.\n",
        "    print(overall_loss_comparison)\n",
        "    \n",
        "    \n",
        "\n",
        "\n",
        "  \n",
        "    # Plot overall.\n",
        "    with sns.color_palette('Blues', 1):\n",
        "        ax = overall_loss_comparison.plot.barh()\n",
        "        plt.title('Total quantile loss', loc='left')\n",
        "        sns.despine(left=True, bottom=True)\n",
        "        plt.xlabel('Quantile loss')\n",
        "        plt.ylabel('')\n",
        "        ax.legend_.remove()\n",
        "        #plt.savefig('Total Quantile Loss..pdf',dpi=300)\n",
        "        #files.download('Total Quantile Loss.pdf')\n",
        "  \n",
        "    # Per quantile.\n",
        "    per_quantile_loss_comparison = preds[~preds.quantile_loss.isnull()].\\\n",
        "        pivot_table(index='q', columns='method', values='quantile_loss')\n",
        "    # Sort by overall quantile loss.\n",
        "    per_quantile_loss_comparison = \\\n",
        "        per_quantile_loss_comparison[overall_loss_comparison.index]\n",
        "    print(per_quantile_loss_comparison)\n",
        "  \n",
        "    # Plot per quantile.\n",
        "    with sns.color_palette('deep'):\n",
        "        plt.rcParams['font.size']=8\n",
        "        plt.rcParams['figure.autolayout']=True\n",
        "        plt.rcParams['axes.titlesize']=8\n",
        "        plt.rcParams['axes.labelsize']=8\n",
        "        plt.rcParams['lines.linewidth']=1\n",
        "        plt.rcParams['lines.markersize']=2\n",
        "        plt.rcParams['legend.fontsize']=8\n",
        "        plt.rcParams['mathtext.fontset']='stix'\n",
        "        plt.rcParams['mathtext.fontset']='custom'\n",
        "        plt.rcParams['legend.numpoints']=1\n",
        "\n",
        "        ax = per_quantile_loss_comparison.plot.barh()\n",
        "        plt.title('Quantile Loss per Quantile', loc='left')\n",
        "        sns.despine(left=True, bottom=True)\n",
        "        handles, labels = ax.get_legend_handles_labels()\n",
        "        plt.xlabel('Quantile Loss')\n",
        "        plt.ylabel('Quantile')\n",
        "        # Reverse legend.\n",
        "        ax.legend(reversed(handles), reversed(labels))\n",
        "        #plt.savefig('Per Quantile Loss.png',dpi=300)\n",
        "        #files.download('Per Quantile Loss.png')\n",
        "plot_loss_comparison(preds)\n",
        "\n",
        "\n"
      ],
      "execution_count": null,
      "outputs": [
        {
          "output_type": "stream",
          "text": [
            "0.05\n",
            "0.1\n",
            "0.15\n",
            "0.2\n",
            "0.25\n",
            "0.3\n",
            "0.35\n",
            "0.4\n",
            "0.45\n",
            "0.5\n",
            "0.55\n",
            "0.6\n",
            "0.65\n",
            "0.7\n",
            "0.75\n",
            "0.8\n",
            "0.85\n",
            "0.9\n",
            "0.95\n",
            "        quantile_loss\n",
            "method               \n",
            "GBR          2.788502\n",
            "QRA          2.798774\n",
            "NN           2.807859\n",
            "method       GBR       QRA        NN\n",
            "q                                   \n",
            "0.05    0.710152  0.721191  0.705290\n",
            "0.10    1.251452  1.246175  1.235085\n",
            "0.15    1.703632  1.694512  1.693053\n",
            "0.20    2.104663  2.087954  2.092043\n",
            "0.25    2.452907  2.431324  2.457256\n",
            "0.30    2.753438  2.729011  2.770924\n",
            "0.35    3.018262  2.983296  3.020794\n",
            "0.40    3.223029  3.199538  3.234750\n",
            "0.45    3.396557  3.375314  3.420363\n",
            "0.50    3.526594  3.508585  3.562258\n",
            "0.55    3.604822  3.601498  3.662465\n",
            "0.60    3.642456  3.653383  3.701840\n",
            "0.65    3.629274  3.662741  3.684965\n",
            "0.70    3.574115  3.619570  3.608296\n",
            "0.75    3.456613  3.515079  3.474184\n",
            "0.80    3.275091  3.341513  3.304398\n",
            "0.85    3.010204  3.074686  2.999706\n",
            "0.90    2.617991  2.676998  2.644680\n",
            "0.95    2.030280  2.054330  2.076980\n"
          ],
          "name": "stdout"
        },
        {
          "output_type": "display_data",
          "data": {
            "image/png": "[encoded data removed]",
            "text/plain": [
              "<Figure size 252x201.6 with 1 Axes>"
            ]
          },
          "metadata": {
            "tags": []
          }
        },
        {
          "output_type": "display_data",
          "data": {
            "image/png": "[encoded data removed]",
            "text/plain": [
              "<Figure size 252x201.6 with 1 Axes>"
            ]
          },
          "metadata": {
            "tags": []
          }
        }
      ]
    },
    {
      "cell_type": "code",
      "metadata": {
        "colab": {
          "base_uri": "https://localhost:8080/",
          "height": 215
        },
        "id": "MMRsHNOP2Xvf",
        "outputId": "cee90f4f-2117-4591-9aac-20447da95f12"
      },
      "source": [
        "#sns.set_style('dark')\n",
        "def plot_loss_comparison(preds):\n",
        "    overall_loss_comparison = preds[~preds.quantile_loss.isnull()].\\\n",
        "      pivot_table(index='method', values='quantile_loss').\\\n",
        "      sort_values('quantile_loss')\n",
        "    # Show overall table.\n",
        "    #print(overall_loss_comparison)\n",
        "    \n",
        "    \n",
        "\n",
        "\n",
        "  \n",
        "\n",
        "  \n",
        "    # Per quantile.\n",
        "    per_quantile_loss_comparison = preds[~preds.quantile_loss.isnull()].\\\n",
        "        pivot_table(index='q', columns='method', values='quantile_loss')\n",
        "    # Sort by overall quantile loss.\n",
        "    per_quantile_loss_comparison = \\\n",
        "        per_quantile_loss_comparison[overall_loss_comparison.index]\n",
        "  \n",
        "    # Plot per quantile.\n",
        "    with sns.color_palette('deep'):\n",
        "        plt.rcParams['font.family']='STIXGeneral'\n",
        "        plt.rcParams['font.size']=8\n",
        "        plt.rcParams['figure.autolayout']=True\n",
        "        plt.rcParams['axes.titlesize']=8\n",
        "        plt.rcParams['axes.labelsize']=8\n",
        "        plt.rcParams['lines.linewidth']=1\n",
        "        plt.rcParams['lines.markersize']=2\n",
        "        plt.rcParams['legend.fontsize']=8\n",
        "        plt.rcParams['mathtext.fontset']='stix'\n",
        "        plt.rcParams['mathtext.fontset']='custom'\n",
        "        plt.rcParams['legend.numpoints']=1\n",
        "\n",
        "        ax = per_quantile_loss_comparison.plot.bar()\n",
        "        plt.title('Quantile Loss per Quantile')\n",
        "        sns.despine(left=True, bottom=True)\n",
        "        handles, labels = ax.get_legend_handles_labels()\n",
        "        plt.xlabel('Quantile Loss')\n",
        "        plt.ylabel('Quantile')\n",
        "        # Reverse legend.\n",
        "        ax.legend(reversed(handles), reversed(labels))\n",
        "        #plt.savefig('Per Quantile Loss.png',dpi=300)\n",
        "        #files.download('Per Quantile Loss.png')\n",
        "plot_loss_comparison(preds)"
      ],
      "execution_count": null,
      "outputs": [
        {
          "output_type": "display_data",
          "data": {
            "image/png": "[encoded data removed]",
            "text/plain": [
              "<Figure size 252x201.6 with 1 Axes>"
            ]
          },
          "metadata": {
            "tags": []
          }
        }
      ]
    },
    {
      "cell_type": "code",
      "metadata": {
        "colab": {
          "base_uri": "https://localhost:8080/",
          "height": 215
        },
        "id": "FyaCxtEy4mC6",
        "outputId": "72f5fb80-8c5d-408b-a9ad-3b88dab15a1a"
      },
      "source": [
        "\n",
        "overall_loss_comparison = preds[~preds.quantile_loss.isnull()].\\\n",
        "  pivot_table(index='method', values='quantile_loss').\\\n",
        "  sort_values('quantile_loss')\n",
        "# Show overall table.\n",
        "\n",
        "# Per quantile.\n",
        "per_quantile_loss_comparison = preds[~preds.quantile_loss.isnull()].\\\n",
        "    pivot_table(index='q', columns='method', values='quantile_loss')\n",
        "# Sort by overall quantile loss.\n",
        "per_quantile_loss_comparison = \\\n",
        "    per_quantile_loss_comparison[overall_loss_comparison.index]\n",
        "\n",
        "\n",
        "per_quantile_loss_comparison.plot.bar(color={'GBR':'red', 'QRA':'blue', 'NN':'green'},figsize=(3.5,2.8),width=0.8)\n",
        "plt.ylabel('Quantile Loss')\n",
        "plt.xlabel('Quantiles')\n",
        "plt.title('Total Quantile Loss per Quantile')\n",
        "#plt.savefig('Per Quantile Loss.pdf',dpi=300)\n",
        "#files.download('Per Quantile Loss.pdf')\n",
        "plt.rcParams['font.size']=8\n",
        "plt.rcParams['figure.autolayout']=True\n",
        "plt.rcParams['axes.titlesize']=8\n",
        "plt.rcParams['axes.labelsize']=8\n",
        "plt.rcParams['lines.linewidth']=1\n",
        "plt.rcParams['lines.markersize']=2\n",
        "plt.rcParams['legend.fontsize']=8\n",
        "plt.rcParams['mathtext.fontset']='stix'\n",
        "plt.rcParams['mathtext.fontset']='custom'\n",
        "plt.rcParams['legend.numpoints']=1"
      ],
      "execution_count": null,
      "outputs": [
        {
          "output_type": "display_data",
          "data": {
            "image/png": "[encoded data removed]",
            "text/plain": [
              "<Figure size 252x201.6 with 1 Axes>"
            ]
          },
          "metadata": {
            "tags": []
          }
        }
      ]
    },
    {
      "cell_type": "code",
      "metadata": {
        "id": "I2Tp4C49IwGP"
      },
      "source": [
        "L=8760\n",
        "QR=pd.DataFrame(preds['label'].iloc[0:L])\n",
        "QR.index=DF['2019'].index\n",
        "i=0\n",
        "for q in QUANTILES:\n",
        "  QR['q={}'.format(q)]=preds['pred'].iloc[i*L:(i+1)*L].values\n",
        "  i+=1\n",
        "GB=pd.DataFrame(preds['label'].iloc[0:L])\n",
        "GB.index=DF['2019'].index\n",
        "for q in QUANTILES:\n",
        "  GB['q={}'.format(q)]=preds['pred'].iloc[i*L:(i+1)*L].values\n",
        "  i+=1\n",
        "NN=pd.DataFrame(preds['label'].iloc[0:L])\n",
        "NN.index=DF['2019'].index\n",
        "for q in QUANTILES:\n",
        "  NN['q={}'.format(q)]=preds['pred'].iloc[i*L:(i+1)*L].values\n",
        "  i+=1\n"
      ],
      "execution_count": null,
      "outputs": []
    },
    {
      "cell_type": "code",
      "metadata": {
        "colab": {
          "base_uri": "https://localhost:8080/",
          "height": 17
        },
        "id": "-ezLoPcVzMjF",
        "outputId": "e97e854d-d2e4-4f2e-b766-1ee54847dda5"
      },
      "source": [
        "GB.to_csv('Quantiles.csv')\n",
        "files.download('Quantiles.csv')"
      ],
      "execution_count": null,
      "outputs": [
        {
          "output_type": "display_data",
          "data": {
            "application/javascript": [
              "\n",
              "    async function download(id, filename, size) {\n",
              "      if (!google.colab.kernel.accessAllowed) {\n",
              "        return;\n",
              "      }\n",
              "      const div = document.createElement('div');\n",
              "      const label = document.createElement('label');\n",
              "      label.textContent = `Downloading \"${filename}\": `;\n",
              "      div.appendChild(label);\n",
              "      const progress = document.createElement('progress');\n",
              "      progress.max = size;\n",
              "      div.appendChild(progress);\n",
              "      document.body.appendChild(div);\n",
              "\n",
              "      const buffers = [];\n",
              "      let downloaded = 0;\n",
              "\n",
              "      const channel = await google.colab.kernel.comms.open(id);\n",
              "      // Send a message to notify the kernel that we're ready.\n",
              "      channel.send({})\n",
              "\n",
              "      for await (const message of channel.messages) {\n",
              "        // Send a message to notify the kernel that we're ready.\n",
              "        channel.send({})\n",
              "        if (message.buffers) {\n",
              "          for (const buffer of message.buffers) {\n",
              "            buffers.push(buffer);\n",
              "            downloaded += buffer.byteLength;\n",
              "            progress.value = downloaded;\n",
              "          }\n",
              "        }\n",
              "      }\n",
              "      const blob = new Blob(buffers, {type: 'application/binary'});\n",
              "      const a = document.createElement('a');\n",
              "      a.href = window.URL.createObjectURL(blob);\n",
              "      a.download = filename;\n",
              "      div.appendChild(a);\n",
              "      a.click();\n",
              "      div.remove();\n",
              "    }\n",
              "  "
            ],
            "text/plain": [
              "<IPython.core.display.Javascript object>"
            ]
          },
          "metadata": {
            "tags": []
          }
        },
        {
          "output_type": "display_data",
          "data": {
            "application/javascript": [
              "download(\"download_3c44b9ee-0fb8-4726-95d3-6c0ccefb8ae9\", \"Quantiles.csv\", 3343840)"
            ],
            "text/plain": [
              "<IPython.core.display.Javascript object>"
            ]
          },
          "metadata": {
            "tags": []
          }
        }
      ]
    },
    {
      "cell_type": "markdown",
      "metadata": {
        "id": "hsU3ik0yLvhh"
      },
      "source": [
        "# **Reliability**"
      ]
    },
    {
      "cell_type": "code",
      "metadata": {
        "id": "4gVqh2Z2Bc-_",
        "colab": {
          "base_uri": "https://localhost:8080/"
        },
        "outputId": "aa063e02-0657-4335-bd9f-7f66cec49576"
      },
      "source": [
        "QR_Calibration=np.zeros(len(QUANTILES))\n",
        "col=QR.columns\n",
        "a=QR[col[0]].values\n",
        "l=len(col)\n",
        "for i in range(1,l):\n",
        "  b=QR[col[i]].values\n",
        "  QR_Calibration[i-1]=sum(b>a)/len(QR)\n",
        "\n",
        "GB_Calibration=np.zeros(len(QUANTILES))\n",
        "col=GB.columns\n",
        "a=GB[col[0]].values\n",
        "l=len(col)\n",
        "for i in range(1,l):\n",
        "  b=GB[col[i]].values\n",
        "  GB_Calibration[i-1]=sum(b>a)/len(GB)\n",
        "\n",
        "NN_Calibration=np.zeros(len(QUANTILES))\n",
        "col=NN.columns\n",
        "a=NN[col[0]].values\n",
        "l=len(col)\n",
        "for i in range(1,l):\n",
        "  b=NN[col[i]].values\n",
        "  NN_Calibration[i-1]=sum(b>a)/len(NN)\n",
        "\n",
        "print('Reliability of QRA:',np.sqrt(sum((QR_Calibration-QUANTILES)**2)))\n",
        "print('Reliability of GBA:',np.sqrt(sum((GB_Calibration-QUANTILES)**2)))\n",
        "print('Reliability of NNA:',np.sqrt(sum((NN_Calibration-QUANTILES)**2)))"
      ],
      "execution_count": null,
      "outputs": [
        {
          "output_type": "stream",
          "text": [
            "Reliability of QRA: 0.09084126015649108\n",
            "Reliability of GBA: 0.044546444874115645\n",
            "Reliability of NNA: 0.2348144657889681\n"
          ],
          "name": "stdout"
        }
      ]
    },
    {
      "cell_type": "code",
      "metadata": {
        "colab": {
          "base_uri": "https://localhost:8080/",
          "height": 232
        },
        "id": "Kpgw49PNr4dy",
        "outputId": "0108f41a-cf2f-4f0d-cb46-96e271431e90"
      },
      "source": [
        "plt.plot(QUANTILES,QR_Calibration,color='black',label='QRA')\n",
        "plt.plot(QUANTILES,GB_Calibration,color='blue',label='GBR')\n",
        "plt.plot(QUANTILES,NN_Calibration,color='green',label='NN')\n",
        "plt.plot(QUANTILES,QUANTILES,'rs',label='Ideal')\n",
        "plt.xlabel('Nominal')\n",
        "plt.ylabel('Emprical')\n",
        "plt.legend()\n",
        "plt.title('Reliability Assessment of Quantile Forecasting Methods')\n",
        "#plt.savefig('Reliability.png',dpi=300)\n",
        "#files.download('Reliability.png')"
      ],
      "execution_count": null,
      "outputs": [
        {
          "output_type": "execute_result",
          "data": {
            "text/plain": [
              "Text(0.5, 1.0, 'Reliability Assessment of Quantile Forecasting Methods')"
            ]
          },
          "metadata": {
            "tags": []
          },
          "execution_count": 17
        },
        {
          "output_type": "display_data",
          "data": {
            "image/png": "[encoded data removed]",
            "text/plain": [
              "<Figure size 252x201.6 with 1 Axes>"
            ]
          },
          "metadata": {
            "tags": []
          }
        }
      ]
    },
    {
      "cell_type": "markdown",
      "metadata": {
        "id": "hWuFnSTTL3rR"
      },
      "source": [
        "# **Sharpness**"
      ]
    },
    {
      "cell_type": "code",
      "metadata": {
        "colab": {
          "base_uri": "https://localhost:8080/"
        },
        "id": "bdGPJa_PIAKV",
        "outputId": "1cea535a-b7c1-4334-8a7b-e4f01ee65a24"
      },
      "source": [
        "I=np.array([90,80,70,60,50,40,30,20,10])\n",
        "#QRA\n",
        "col=QR.columns\n",
        "l=len(col)\n",
        "t=1\n",
        "for i in I:\n",
        "  QR['I={}'.format(i)]=QR[col[l-t]]-QR[col[t]]\n",
        "  t+=1\n",
        "col=QR.columns\n",
        "l1=len(col)\n",
        "l2=len(QUANTILES)+1\n",
        "col=col[l2:l1]\n",
        "#GB\n",
        "col=GB.columns\n",
        "l=len(col)\n",
        "t=1\n",
        "for i in I:\n",
        "  GB['I={}'.format(i)]=GB[col[l-t]]-GB[col[t]]\n",
        "  t+=1\n",
        "col=GB.columns\n",
        "l1=len(col)\n",
        "l2=len(QUANTILES)+1\n",
        "col=col[l2:l1]\n",
        "#NN\n",
        "col=NN.columns\n",
        "l=len(col)\n",
        "t=1\n",
        "for i in I:\n",
        "  NN['I={}'.format(i)]=NN[col[l-t]]-NN[col[t]]\n",
        "  t+=1\n",
        "col=NN.columns\n",
        "l1=len(col)\n",
        "l2=len(QUANTILES)+1\n",
        "col=col[l2:l1]\n",
        "\n",
        "a1=GB[col].mean()\n",
        "a2=QR[col].mean()\n",
        "a3=NN[col].mean()\n",
        "print('Sharpness of QR:',a2.mean())\n",
        "print('Sharpness of GB:',a1.mean())\n",
        "print('Sharpness of NN:',a3.mean())\n"
      ],
      "execution_count": null,
      "outputs": [
        {
          "output_type": "stream",
          "text": [
            "Sharpness of QR: 11.302789205152134\n",
            "Sharpness of GB: 11.12306843763462\n",
            "Sharpness of NN: 11.07384093431136\n"
          ],
          "name": "stdout"
        }
      ]
    },
    {
      "cell_type": "markdown",
      "metadata": {
        "id": "w6qx9uQwT879"
      },
      "source": [
        "# **CRPS**"
      ]
    },
    {
      "cell_type": "code",
      "metadata": {
        "id": "FdjcgyDTNqkF",
        "colab": {
          "base_uri": "https://localhost:8080/",
          "height": 394
        },
        "outputId": "c6bcd210-e66e-4290-e0ed-6bf9f5351885"
      },
      "source": [
        "GB.head()"
      ],
      "execution_count": null,
      "outputs": [
        {
          "output_type": "execute_result",
          "data": {
            "text/html": [
              "<div>\n",
              "<style scoped>\n",
              "    .dataframe tbody tr th:only-of-type {\n",
              "        vertical-align: middle;\n",
              "    }\n",
              "\n",
              "    .dataframe tbody tr th {\n",
              "        vertical-align: top;\n",
              "    }\n",
              "\n",
              "    .dataframe thead th {\n",
              "        text-align: right;\n",
              "    }\n",
              "</style>\n",
              "<table border=\"1\" class=\"dataframe\">\n",
              "  <thead>\n",
              "    <tr style=\"text-align: right;\">\n",
              "      <th></th>\n",
              "      <th>label</th>\n",
              "      <th>q=0.05</th>\n",
              "      <th>q=0.1</th>\n",
              "      <th>q=0.15</th>\n",
              "      <th>q=0.2</th>\n",
              "      <th>q=0.25</th>\n",
              "      <th>q=0.3</th>\n",
              "      <th>q=0.35</th>\n",
              "      <th>q=0.4</th>\n",
              "      <th>q=0.45</th>\n",
              "      <th>q=0.5</th>\n",
              "      <th>q=0.55</th>\n",
              "      <th>q=0.6</th>\n",
              "      <th>q=0.65</th>\n",
              "      <th>q=0.7</th>\n",
              "      <th>q=0.75</th>\n",
              "      <th>q=0.8</th>\n",
              "      <th>q=0.85</th>\n",
              "      <th>q=0.9</th>\n",
              "      <th>q=0.95</th>\n",
              "      <th>I=90</th>\n",
              "      <th>I=80</th>\n",
              "      <th>I=70</th>\n",
              "      <th>I=60</th>\n",
              "      <th>I=50</th>\n",
              "      <th>I=40</th>\n",
              "      <th>I=30</th>\n",
              "      <th>I=20</th>\n",
              "      <th>I=10</th>\n",
              "    </tr>\n",
              "  </thead>\n",
              "  <tbody>\n",
              "    <tr>\n",
              "      <th>2019-01-01 00:00:00</th>\n",
              "      <td>0.00</td>\n",
              "      <td>-3.470430</td>\n",
              "      <td>-2.997247</td>\n",
              "      <td>-1.844386</td>\n",
              "      <td>-0.829184</td>\n",
              "      <td>-0.236499</td>\n",
              "      <td>0.005226</td>\n",
              "      <td>0.006488</td>\n",
              "      <td>0.009121</td>\n",
              "      <td>0.011794</td>\n",
              "      <td>0.117657</td>\n",
              "      <td>0.588252</td>\n",
              "      <td>1.305168</td>\n",
              "      <td>2.683097</td>\n",
              "      <td>3.465385</td>\n",
              "      <td>5.366748</td>\n",
              "      <td>5.867281</td>\n",
              "      <td>7.385476</td>\n",
              "      <td>9.914421</td>\n",
              "      <td>13.094358</td>\n",
              "      <td>16.564788</td>\n",
              "      <td>12.911667</td>\n",
              "      <td>9.229861</td>\n",
              "      <td>6.696465</td>\n",
              "      <td>5.603247</td>\n",
              "      <td>3.460159</td>\n",
              "      <td>2.676609</td>\n",
              "      <td>1.296047</td>\n",
              "      <td>0.576458</td>\n",
              "    </tr>\n",
              "    <tr>\n",
              "      <th>2019-01-01 01:00:00</th>\n",
              "      <td>0.00</td>\n",
              "      <td>-3.470430</td>\n",
              "      <td>-2.997247</td>\n",
              "      <td>-1.844386</td>\n",
              "      <td>-0.829184</td>\n",
              "      <td>-0.236499</td>\n",
              "      <td>0.005226</td>\n",
              "      <td>0.006488</td>\n",
              "      <td>0.009121</td>\n",
              "      <td>0.011794</td>\n",
              "      <td>0.020166</td>\n",
              "      <td>0.209228</td>\n",
              "      <td>1.010675</td>\n",
              "      <td>2.347212</td>\n",
              "      <td>3.465385</td>\n",
              "      <td>4.758637</td>\n",
              "      <td>5.867281</td>\n",
              "      <td>7.385476</td>\n",
              "      <td>9.914421</td>\n",
              "      <td>13.094358</td>\n",
              "      <td>16.564788</td>\n",
              "      <td>12.911667</td>\n",
              "      <td>9.229861</td>\n",
              "      <td>6.696465</td>\n",
              "      <td>4.995136</td>\n",
              "      <td>3.460159</td>\n",
              "      <td>2.340724</td>\n",
              "      <td>1.001555</td>\n",
              "      <td>0.197434</td>\n",
              "    </tr>\n",
              "    <tr>\n",
              "      <th>2019-01-01 02:00:00</th>\n",
              "      <td>-0.11</td>\n",
              "      <td>-3.489399</td>\n",
              "      <td>-2.997247</td>\n",
              "      <td>-1.844386</td>\n",
              "      <td>-0.856761</td>\n",
              "      <td>-0.260365</td>\n",
              "      <td>0.004776</td>\n",
              "      <td>0.006488</td>\n",
              "      <td>0.009121</td>\n",
              "      <td>0.011794</td>\n",
              "      <td>0.013406</td>\n",
              "      <td>0.017740</td>\n",
              "      <td>0.240011</td>\n",
              "      <td>1.283132</td>\n",
              "      <td>2.144162</td>\n",
              "      <td>3.035977</td>\n",
              "      <td>5.209228</td>\n",
              "      <td>6.427327</td>\n",
              "      <td>7.857094</td>\n",
              "      <td>12.025231</td>\n",
              "      <td>15.514630</td>\n",
              "      <td>10.854341</td>\n",
              "      <td>8.271713</td>\n",
              "      <td>6.065989</td>\n",
              "      <td>3.296342</td>\n",
              "      <td>2.139386</td>\n",
              "      <td>1.276644</td>\n",
              "      <td>0.230891</td>\n",
              "      <td>0.005946</td>\n",
              "    </tr>\n",
              "    <tr>\n",
              "      <th>2019-01-01 03:00:00</th>\n",
              "      <td>-1.84</td>\n",
              "      <td>-3.470430</td>\n",
              "      <td>-2.997247</td>\n",
              "      <td>-1.844386</td>\n",
              "      <td>-0.829184</td>\n",
              "      <td>-0.236499</td>\n",
              "      <td>0.005226</td>\n",
              "      <td>0.006488</td>\n",
              "      <td>0.009121</td>\n",
              "      <td>0.011794</td>\n",
              "      <td>0.020166</td>\n",
              "      <td>0.242322</td>\n",
              "      <td>1.010675</td>\n",
              "      <td>2.347212</td>\n",
              "      <td>3.465385</td>\n",
              "      <td>4.758637</td>\n",
              "      <td>5.867281</td>\n",
              "      <td>7.385476</td>\n",
              "      <td>9.914421</td>\n",
              "      <td>13.133160</td>\n",
              "      <td>16.603589</td>\n",
              "      <td>12.911667</td>\n",
              "      <td>9.229861</td>\n",
              "      <td>6.696465</td>\n",
              "      <td>4.995136</td>\n",
              "      <td>3.460159</td>\n",
              "      <td>2.340724</td>\n",
              "      <td>1.001555</td>\n",
              "      <td>0.230529</td>\n",
              "    </tr>\n",
              "    <tr>\n",
              "      <th>2019-01-01 04:00:00</th>\n",
              "      <td>-0.47</td>\n",
              "      <td>-3.489399</td>\n",
              "      <td>-2.997247</td>\n",
              "      <td>-1.844386</td>\n",
              "      <td>-0.856761</td>\n",
              "      <td>-0.260365</td>\n",
              "      <td>0.004776</td>\n",
              "      <td>0.006488</td>\n",
              "      <td>0.009121</td>\n",
              "      <td>0.011794</td>\n",
              "      <td>0.013406</td>\n",
              "      <td>0.024049</td>\n",
              "      <td>0.251076</td>\n",
              "      <td>1.283132</td>\n",
              "      <td>2.243162</td>\n",
              "      <td>3.600605</td>\n",
              "      <td>5.209228</td>\n",
              "      <td>6.427327</td>\n",
              "      <td>7.857094</td>\n",
              "      <td>12.082005</td>\n",
              "      <td>15.571404</td>\n",
              "      <td>10.854341</td>\n",
              "      <td>8.271713</td>\n",
              "      <td>6.065989</td>\n",
              "      <td>3.860969</td>\n",
              "      <td>2.238386</td>\n",
              "      <td>1.276644</td>\n",
              "      <td>0.241956</td>\n",
              "      <td>0.012256</td>\n",
              "    </tr>\n",
              "  </tbody>\n",
              "</table>\n",
              "</div>"
            ],
            "text/plain": [
              "                     label    q=0.05     q=0.1  ...      I=30      I=20      I=10\n",
              "2019-01-01 00:00:00   0.00 -3.470430 -2.997247  ...  2.676609  1.296047  0.576458\n",
              "2019-01-01 01:00:00   0.00 -3.470430 -2.997247  ...  2.340724  1.001555  0.197434\n",
              "2019-01-01 02:00:00  -0.11 -3.489399 -2.997247  ...  1.276644  0.230891  0.005946\n",
              "2019-01-01 03:00:00  -1.84 -3.470430 -2.997247  ...  2.340724  1.001555  0.230529\n",
              "2019-01-01 04:00:00  -0.47 -3.489399 -2.997247  ...  1.276644  0.241956  0.012256\n",
              "\n",
              "[5 rows x 29 columns]"
            ]
          },
          "metadata": {
            "tags": []
          },
          "execution_count": 19
        }
      ]
    },
    {
      "cell_type": "code",
      "metadata": {
        "colab": {
          "base_uri": "https://localhost:8080/"
        },
        "id": "vi75WfwMR93-",
        "outputId": "77126fa0-0799-4933-de69-f52f285b7fbe"
      },
      "source": [
        "#QR\n",
        "col=QR.columns[1:len(QUANTILES)+1]\n",
        "s=0\n",
        "for c in col:\n",
        "  s+=(QR[c]-QR['label'])**2\n",
        "s=s*0.5\n",
        "QR['CRPS']=s\n",
        "a1=QR['CRPS'].mean()\n",
        "\n",
        "#GB\n",
        "col=GB.columns[1:len(QUANTILES)+1]\n",
        "s=0\n",
        "for c in col:\n",
        "  s+=(GB[c]-GB['label'])**2\n",
        "s=s*0.5\n",
        "GB['CRPS']=s\n",
        "a2=GB['CRPS'].mean()\n",
        "\n",
        "#NN\n",
        "col=NN.columns[1:len(QUANTILES)+1]\n",
        "s=0\n",
        "for c in col:\n",
        "  s+=(NN[c]-NN['label'])**2\n",
        "s=s*0.5\n",
        "NN['CRPS']=s\n",
        "a3=NN['CRPS'].mean()\n",
        "\n",
        "print('CRPS of QR:',a1)\n",
        "print('CRPS of GB:',a2)\n",
        "print('CRPS of NN:',a3)"
      ],
      "execution_count": null,
      "outputs": [
        {
          "output_type": "stream",
          "text": [
            "CRPS of QR: 4360.669353923242\n",
            "CRPS of GB: 4341.321014395595\n",
            "CRPS of NN: 4358.223937031802\n"
          ],
          "name": "stdout"
        }
      ]
    },
    {
      "cell_type": "code",
      "metadata": {
        "colab": {
          "base_uri": "https://localhost:8080/",
          "height": 220
        },
        "id": "CyxjLQeiSJlh",
        "outputId": "6a846820-7d11-4ea5-b353-ef30cb2d0cc4"
      },
      "source": [
        "\n",
        "plt.figure(figsize=(3.5,2.8))\n",
        "plt.rcParams['font.family']='STIXGeneral'\n",
        "plt.rcParams['font.size']=6\n",
        "plt.rcParams['figure.autolayout']=True\n",
        "plt.rcParams['axes.titlesize']=8\n",
        "plt.rcParams['axes.labelsize']=6\n",
        "plt.rcParams['lines.linewidth']=1\n",
        "plt.rcParams['lines.markersize']=2\n",
        "plt.rcParams['legend.fontsize']=8\n",
        "plt.rcParams['mathtext.fontset']='stix'\n",
        "plt.rcParams['mathtext.fontset']='custom'\n",
        "plt.rcParams['legend.numpoints']=1\n",
        "p='2019-05-27'\n",
        "q='2019-06-01'\n",
        "a=0.1\n",
        "q1=GB[p:q]['q=0.05']\n",
        "q2=GB[p:q]['q=0.95']\n",
        "plt.fill_between(q1.index,q1,q2,color='black',alpha=a)\n",
        "\n",
        "q3=GB[p:q]['q=0.1']\n",
        "q4=GB[p:q]['q=0.9']\n",
        "plt.fill_between(q1.index,q3,q4,color='black',alpha=a)\n",
        "\n",
        "q3=GB[p:q]['q=0.15']\n",
        "q4=GB[p:q]['q=0.85']\n",
        "plt.fill_between(q1.index,q3,q4,color='black',alpha=a)\n",
        "\n",
        "q3=GB[p:q]['q=0.2']\n",
        "q4=GB[p:q]['q=0.8']\n",
        "plt.fill_between(q1.index,q3,q4,color='black',alpha=a)\n",
        "\n",
        "q3=GB[p:q]['q=0.25']\n",
        "q4=GB[p:q]['q=0.75']\n",
        "plt.fill_between(q1.index,q3,q4,color='black',alpha=a)\n",
        "\n",
        "q3=GB[p:q]['q=0.3']\n",
        "q4=GB[p:q]['q=0.7']\n",
        "plt.fill_between(q1.index,q3,q4,color='black',alpha=a)\n",
        "\n",
        "q3=GB[p:q]['q=0.35']\n",
        "q4=GB[p:q]['q=0.65']\n",
        "plt.fill_between(q1.index,q3,q4,color='black',alpha=a)\n",
        "\n",
        "q3=GB[p:q]['q=0.4']\n",
        "q4=GB[p:q]['q=0.6']\n",
        "plt.fill_between(q1.index,q3,q4,color='black',alpha=a)\n",
        "\n",
        "q3=GB[p:q]['q=0.45']\n",
        "q4=GB[p:q]['q=0.55']\n",
        "plt.fill_between(q1.index,q3,q4,color='black',alpha=a)\n",
        "\n",
        "plt.plot(GB[p:q]['label'],'rs',lw=1,markersize=2,label='Actual Prices')\n",
        "plt.plot(DF[p:q]['XGB'],color='blue',lw=1.5,label='Predicted Prices')\n",
        "plt.legend()\n",
        "plt.ylabel('Electricity Price (CAD/MWh)')\n",
        "plt.title('Point and Probabilistic Forecasts of HOEP')\n",
        "plt.savefig('FinalPic.pdf',dpi=300)\n",
        "files.download('FinalPic.pdf')"
      ],
      "execution_count": null,
      "outputs": [
        {
          "output_type": "display_data",
          "data": {
            "application/javascript": [
              "\n",
              "    async function download(id, filename, size) {\n",
              "      if (!google.colab.kernel.accessAllowed) {\n",
              "        return;\n",
              "      }\n",
              "      const div = document.createElement('div');\n",
              "      const label = document.createElement('label');\n",
              "      label.textContent = `Downloading \"${filename}\": `;\n",
              "      div.appendChild(label);\n",
              "      const progress = document.createElement('progress');\n",
              "      progress.max = size;\n",
              "      div.appendChild(progress);\n",
              "      document.body.appendChild(div);\n",
              "\n",
              "      const buffers = [];\n",
              "      let downloaded = 0;\n",
              "\n",
              "      const channel = await google.colab.kernel.comms.open(id);\n",
              "      // Send a message to notify the kernel that we're ready.\n",
              "      channel.send({})\n",
              "\n",
              "      for await (const message of channel.messages) {\n",
              "        // Send a message to notify the kernel that we're ready.\n",
              "        channel.send({})\n",
              "        if (message.buffers) {\n",
              "          for (const buffer of message.buffers) {\n",
              "            buffers.push(buffer);\n",
              "            downloaded += buffer.byteLength;\n",
              "            progress.value = downloaded;\n",
              "          }\n",
              "        }\n",
              "      }\n",
              "      const blob = new Blob(buffers, {type: 'application/binary'});\n",
              "      const a = document.createElement('a');\n",
              "      a.href = window.URL.createObjectURL(blob);\n",
              "      a.download = filename;\n",
              "      div.appendChild(a);\n",
              "      a.click();\n",
              "      div.remove();\n",
              "    }\n",
              "  "
            ],
            "text/plain": [
              "<IPython.core.display.Javascript object>"
            ]
          },
          "metadata": {
            "tags": []
          }
        },
        {
          "output_type": "display_data",
          "data": {
            "application/javascript": [
              "download(\"download_b04dbb50-d088-4197-8051-79af17801f55\", \"FinalPic.pdf\", 36817)"
            ],
            "text/plain": [
              "<IPython.core.display.Javascript object>"
            ]
          },
          "metadata": {
            "tags": []
          }
        },
        {
          "output_type": "display_data",
          "data": {
            "image/png": "[encoded data removed]",
            "text/plain": [
              "<Figure size 252x201.6 with 1 Axes>"
            ]
          },
          "metadata": {
            "tags": []
          }
        }
      ]
    },
    {
      "cell_type": "code",
      "metadata": {
        "colab": {
          "base_uri": "https://localhost:8080/",
          "height": 394
        },
        "id": "Zwwl7wwFdKs6",
        "outputId": "5a70d8f8-7d83-4b0e-a7eb-ab9d7f70f8f7"
      },
      "source": [
        "GB['HOEP']=test_labels.reshape(-1,1)\n",
        "GB.head()"
      ],
      "execution_count": null,
      "outputs": [
        {
          "output_type": "execute_result",
          "data": {
            "text/html": [
              "<div>\n",
              "<style scoped>\n",
              "    .dataframe tbody tr th:only-of-type {\n",
              "        vertical-align: middle;\n",
              "    }\n",
              "\n",
              "    .dataframe tbody tr th {\n",
              "        vertical-align: top;\n",
              "    }\n",
              "\n",
              "    .dataframe thead th {\n",
              "        text-align: right;\n",
              "    }\n",
              "</style>\n",
              "<table border=\"1\" class=\"dataframe\">\n",
              "  <thead>\n",
              "    <tr style=\"text-align: right;\">\n",
              "      <th></th>\n",
              "      <th>label</th>\n",
              "      <th>q=0.05</th>\n",
              "      <th>q=0.1</th>\n",
              "      <th>q=0.15</th>\n",
              "      <th>q=0.2</th>\n",
              "      <th>q=0.25</th>\n",
              "      <th>q=0.3</th>\n",
              "      <th>q=0.35</th>\n",
              "      <th>q=0.4</th>\n",
              "      <th>q=0.45</th>\n",
              "      <th>q=0.5</th>\n",
              "      <th>q=0.55</th>\n",
              "      <th>q=0.6</th>\n",
              "      <th>q=0.65</th>\n",
              "      <th>q=0.7</th>\n",
              "      <th>q=0.75</th>\n",
              "      <th>q=0.8</th>\n",
              "      <th>q=0.85</th>\n",
              "      <th>q=0.9</th>\n",
              "      <th>q=0.95</th>\n",
              "      <th>I=90</th>\n",
              "      <th>I=80</th>\n",
              "      <th>I=70</th>\n",
              "      <th>I=60</th>\n",
              "      <th>I=50</th>\n",
              "      <th>I=40</th>\n",
              "      <th>I=30</th>\n",
              "      <th>I=20</th>\n",
              "      <th>I=10</th>\n",
              "      <th>CRPS</th>\n",
              "      <th>HOEP</th>\n",
              "    </tr>\n",
              "  </thead>\n",
              "  <tbody>\n",
              "    <tr>\n",
              "      <th>2019-01-01 00:00:00</th>\n",
              "      <td>0.00</td>\n",
              "      <td>-3.470430</td>\n",
              "      <td>-2.997247</td>\n",
              "      <td>-1.844386</td>\n",
              "      <td>-0.829184</td>\n",
              "      <td>-0.236499</td>\n",
              "      <td>0.005226</td>\n",
              "      <td>0.006488</td>\n",
              "      <td>0.009121</td>\n",
              "      <td>0.011794</td>\n",
              "      <td>0.117657</td>\n",
              "      <td>0.588252</td>\n",
              "      <td>1.305168</td>\n",
              "      <td>2.683097</td>\n",
              "      <td>3.465385</td>\n",
              "      <td>5.366748</td>\n",
              "      <td>5.867281</td>\n",
              "      <td>7.385476</td>\n",
              "      <td>9.914421</td>\n",
              "      <td>13.094358</td>\n",
              "      <td>16.564788</td>\n",
              "      <td>12.911667</td>\n",
              "      <td>9.229861</td>\n",
              "      <td>6.696465</td>\n",
              "      <td>5.603247</td>\n",
              "      <td>3.460159</td>\n",
              "      <td>2.676609</td>\n",
              "      <td>1.296047</td>\n",
              "      <td>0.576458</td>\n",
              "      <td>216.987164</td>\n",
              "      <td>0.00</td>\n",
              "    </tr>\n",
              "    <tr>\n",
              "      <th>2019-01-01 01:00:00</th>\n",
              "      <td>0.00</td>\n",
              "      <td>-3.470430</td>\n",
              "      <td>-2.997247</td>\n",
              "      <td>-1.844386</td>\n",
              "      <td>-0.829184</td>\n",
              "      <td>-0.236499</td>\n",
              "      <td>0.005226</td>\n",
              "      <td>0.006488</td>\n",
              "      <td>0.009121</td>\n",
              "      <td>0.011794</td>\n",
              "      <td>0.020166</td>\n",
              "      <td>0.209228</td>\n",
              "      <td>1.010675</td>\n",
              "      <td>2.347212</td>\n",
              "      <td>3.465385</td>\n",
              "      <td>4.758637</td>\n",
              "      <td>5.867281</td>\n",
              "      <td>7.385476</td>\n",
              "      <td>9.914421</td>\n",
              "      <td>13.094358</td>\n",
              "      <td>16.564788</td>\n",
              "      <td>12.911667</td>\n",
              "      <td>9.229861</td>\n",
              "      <td>6.696465</td>\n",
              "      <td>4.995136</td>\n",
              "      <td>3.460159</td>\n",
              "      <td>2.340724</td>\n",
              "      <td>1.001555</td>\n",
              "      <td>0.197434</td>\n",
              "      <td>212.564831</td>\n",
              "      <td>0.00</td>\n",
              "    </tr>\n",
              "    <tr>\n",
              "      <th>2019-01-01 02:00:00</th>\n",
              "      <td>-0.11</td>\n",
              "      <td>-3.489399</td>\n",
              "      <td>-2.997247</td>\n",
              "      <td>-1.844386</td>\n",
              "      <td>-0.856761</td>\n",
              "      <td>-0.260365</td>\n",
              "      <td>0.004776</td>\n",
              "      <td>0.006488</td>\n",
              "      <td>0.009121</td>\n",
              "      <td>0.011794</td>\n",
              "      <td>0.013406</td>\n",
              "      <td>0.017740</td>\n",
              "      <td>0.240011</td>\n",
              "      <td>1.283132</td>\n",
              "      <td>2.144162</td>\n",
              "      <td>3.035977</td>\n",
              "      <td>5.209228</td>\n",
              "      <td>6.427327</td>\n",
              "      <td>7.857094</td>\n",
              "      <td>12.025231</td>\n",
              "      <td>15.514630</td>\n",
              "      <td>10.854341</td>\n",
              "      <td>8.271713</td>\n",
              "      <td>6.065989</td>\n",
              "      <td>3.296342</td>\n",
              "      <td>2.139386</td>\n",
              "      <td>1.276644</td>\n",
              "      <td>0.230891</td>\n",
              "      <td>0.005946</td>\n",
              "      <td>161.121598</td>\n",
              "      <td>-0.11</td>\n",
              "    </tr>\n",
              "    <tr>\n",
              "      <th>2019-01-01 03:00:00</th>\n",
              "      <td>-1.84</td>\n",
              "      <td>-3.470430</td>\n",
              "      <td>-2.997247</td>\n",
              "      <td>-1.844386</td>\n",
              "      <td>-0.829184</td>\n",
              "      <td>-0.236499</td>\n",
              "      <td>0.005226</td>\n",
              "      <td>0.006488</td>\n",
              "      <td>0.009121</td>\n",
              "      <td>0.011794</td>\n",
              "      <td>0.020166</td>\n",
              "      <td>0.242322</td>\n",
              "      <td>1.010675</td>\n",
              "      <td>2.347212</td>\n",
              "      <td>3.465385</td>\n",
              "      <td>4.758637</td>\n",
              "      <td>5.867281</td>\n",
              "      <td>7.385476</td>\n",
              "      <td>9.914421</td>\n",
              "      <td>13.133160</td>\n",
              "      <td>16.603589</td>\n",
              "      <td>12.911667</td>\n",
              "      <td>9.229861</td>\n",
              "      <td>6.696465</td>\n",
              "      <td>4.995136</td>\n",
              "      <td>3.460159</td>\n",
              "      <td>2.340724</td>\n",
              "      <td>1.001555</td>\n",
              "      <td>0.230529</td>\n",
              "      <td>316.635634</td>\n",
              "      <td>-1.84</td>\n",
              "    </tr>\n",
              "    <tr>\n",
              "      <th>2019-01-01 04:00:00</th>\n",
              "      <td>-0.47</td>\n",
              "      <td>-3.489399</td>\n",
              "      <td>-2.997247</td>\n",
              "      <td>-1.844386</td>\n",
              "      <td>-0.856761</td>\n",
              "      <td>-0.260365</td>\n",
              "      <td>0.004776</td>\n",
              "      <td>0.006488</td>\n",
              "      <td>0.009121</td>\n",
              "      <td>0.011794</td>\n",
              "      <td>0.013406</td>\n",
              "      <td>0.024049</td>\n",
              "      <td>0.251076</td>\n",
              "      <td>1.283132</td>\n",
              "      <td>2.243162</td>\n",
              "      <td>3.600605</td>\n",
              "      <td>5.209228</td>\n",
              "      <td>6.427327</td>\n",
              "      <td>7.857094</td>\n",
              "      <td>12.082005</td>\n",
              "      <td>15.571404</td>\n",
              "      <td>10.854341</td>\n",
              "      <td>8.271713</td>\n",
              "      <td>6.065989</td>\n",
              "      <td>3.860969</td>\n",
              "      <td>2.238386</td>\n",
              "      <td>1.276644</td>\n",
              "      <td>0.241956</td>\n",
              "      <td>0.012256</td>\n",
              "      <td>176.611344</td>\n",
              "      <td>-0.47</td>\n",
              "    </tr>\n",
              "  </tbody>\n",
              "</table>\n",
              "</div>"
            ],
            "text/plain": [
              "                     label    q=0.05     q=0.1  ...      I=10        CRPS  HOEP\n",
              "2019-01-01 00:00:00   0.00 -3.470430 -2.997247  ...  0.576458  216.987164  0.00\n",
              "2019-01-01 01:00:00   0.00 -3.470430 -2.997247  ...  0.197434  212.564831  0.00\n",
              "2019-01-01 02:00:00  -0.11 -3.489399 -2.997247  ...  0.005946  161.121598 -0.11\n",
              "2019-01-01 03:00:00  -1.84 -3.470430 -2.997247  ...  0.230529  316.635634 -1.84\n",
              "2019-01-01 04:00:00  -0.47 -3.489399 -2.997247  ...  0.012256  176.611344 -0.47\n",
              "\n",
              "[5 rows x 31 columns]"
            ]
          },
          "metadata": {
            "tags": []
          },
          "execution_count": 129
        }
      ]
    },
    {
      "cell_type": "code",
      "metadata": {
        "id": "ihorG-_lzlTQ",
        "colab": {
          "base_uri": "https://localhost:8080/",
          "height": 1000
        },
        "outputId": "83e67daf-0735-4e05-f0e4-35c4cde9f83e"
      },
      "source": [
        "#All features\n",
        "#Same analysis but using all x features.\n",
        "preds_full = preds[['method', 'q', 'label']].copy(deep=True)\n",
        "x_train_full = train_df.copy(deep=True)\n",
        "x_test_full = test_df.copy(deep=True)\n",
        "#Reformat data for statsmodels.\n",
        "X_train_full = sm.add_constant(x_train_full)\n",
        "X_test_full = sm.add_constant(x_test_full)\n",
        "\n",
        "#Quantreg\n",
        "# Don't fit yet, since we'll fit once per quantile.\n",
        "quantreg_full = sm.QuantReg(train_labels, X_train_full)\n",
        "preds_full.loc[preds_full.method == 'Quantile Regression', 'pred'] = np.concatenate(\n",
        "    [quantreg_full.fit(q=q).predict(X_test_full) for q in QUANTILES])\n",
        "\n",
        "#GradientBoosting\n",
        "preds_full.loc[preds_full.method == 'Gradient Boosting', 'pred'] = \\\n",
        "    np.concatenate([gb_quantile(X_train_full, train_labels, X_test_full, q) \n",
        "                    for q in QUANTILES]) \n",
        "#Neural Networks\n",
        "preds_full.loc[preds_full.method == 'Neural Network', 'pred'] = np.concatenate(\n",
        "    [keras_pred(x_train_full, train_labels, x_test_full, q) for q in QUANTILES]) \n",
        "#Compare\n",
        "preds_full['quantile_loss'] = quantile_loss(preds_full.q, preds_full.label, preds_full.pred)\n",
        "plot_loss_comparison(preds_full)"
      ],
      "execution_count": null,
      "outputs": [
        {
          "output_type": "stream",
          "text": [
            "0.1\n",
            "0.3\n",
            "0.5\n",
            "0.7\n",
            "0.9\n",
            "                     quantile_loss\n",
            "method                            \n",
            "Gradient Boosting         2.793578\n",
            "Neural Network            2.808626\n",
            "Quantile Regression       2.829791\n"
          ],
          "name": "stdout"
        },
        {
          "output_type": "display_data",
          "data": {
            "application/javascript": [
              "\n",
              "    async function download(id, filename, size) {\n",
              "      if (!google.colab.kernel.accessAllowed) {\n",
              "        return;\n",
              "      }\n",
              "      const div = document.createElement('div');\n",
              "      const label = document.createElement('label');\n",
              "      label.textContent = `Downloading \"${filename}\": `;\n",
              "      div.appendChild(label);\n",
              "      const progress = document.createElement('progress');\n",
              "      progress.max = size;\n",
              "      div.appendChild(progress);\n",
              "      document.body.appendChild(div);\n",
              "\n",
              "      const buffers = [];\n",
              "      let downloaded = 0;\n",
              "\n",
              "      const channel = await google.colab.kernel.comms.open(id);\n",
              "      // Send a message to notify the kernel that we're ready.\n",
              "      channel.send({})\n",
              "\n",
              "      for await (const message of channel.messages) {\n",
              "        // Send a message to notify the kernel that we're ready.\n",
              "        channel.send({})\n",
              "        if (message.buffers) {\n",
              "          for (const buffer of message.buffers) {\n",
              "            buffers.push(buffer);\n",
              "            downloaded += buffer.byteLength;\n",
              "            progress.value = downloaded;\n",
              "          }\n",
              "        }\n",
              "      }\n",
              "      const blob = new Blob(buffers, {type: 'application/binary'});\n",
              "      const a = document.createElement('a');\n",
              "      a.href = window.URL.createObjectURL(blob);\n",
              "      a.download = filename;\n",
              "      div.appendChild(a);\n",
              "      a.click();\n",
              "      div.remove();\n",
              "    }\n",
              "  "
            ],
            "text/plain": [
              "<IPython.core.display.Javascript object>"
            ]
          },
          "metadata": {
            "tags": []
          }
        },
        {
          "output_type": "display_data",
          "data": {
            "application/javascript": [
              "download(\"download_03e2ac28-13e7-44eb-b64c-9a7c3c7b25ed\", \"Total Quantile Loss.pdf\", 12150)"
            ],
            "text/plain": [
              "<IPython.core.display.Javascript object>"
            ]
          },
          "metadata": {
            "tags": []
          }
        },
        {
          "output_type": "stream",
          "text": [
            "method  Gradient Boosting  Neural Network  Quantile Regression\n",
            "q                                                             \n",
            "0.1              1.270637        1.242791             1.261379\n",
            "0.3              2.798806        2.797985             2.794807\n",
            "0.5              3.592012        3.632846             3.606249\n",
            "0.7              3.649492        3.700516             3.723958\n",
            "0.9              2.656942        2.668990             2.762564\n"
          ],
          "name": "stdout"
        },
        {
          "output_type": "display_data",
          "data": {
            "application/javascript": [
              "\n",
              "    async function download(id, filename, size) {\n",
              "      if (!google.colab.kernel.accessAllowed) {\n",
              "        return;\n",
              "      }\n",
              "      const div = document.createElement('div');\n",
              "      const label = document.createElement('label');\n",
              "      label.textContent = `Downloading \"${filename}\": `;\n",
              "      div.appendChild(label);\n",
              "      const progress = document.createElement('progress');\n",
              "      progress.max = size;\n",
              "      div.appendChild(progress);\n",
              "      document.body.appendChild(div);\n",
              "\n",
              "      const buffers = [];\n",
              "      let downloaded = 0;\n",
              "\n",
              "      const channel = await google.colab.kernel.comms.open(id);\n",
              "      // Send a message to notify the kernel that we're ready.\n",
              "      channel.send({})\n",
              "\n",
              "      for await (const message of channel.messages) {\n",
              "        // Send a message to notify the kernel that we're ready.\n",
              "        channel.send({})\n",
              "        if (message.buffers) {\n",
              "          for (const buffer of message.buffers) {\n",
              "            buffers.push(buffer);\n",
              "            downloaded += buffer.byteLength;\n",
              "            progress.value = downloaded;\n",
              "          }\n",
              "        }\n",
              "      }\n",
              "      const blob = new Blob(buffers, {type: 'application/binary'});\n",
              "      const a = document.createElement('a');\n",
              "      a.href = window.URL.createObjectURL(blob);\n",
              "      a.download = filename;\n",
              "      div.appendChild(a);\n",
              "      a.click();\n",
              "      div.remove();\n",
              "    }\n",
              "  "
            ],
            "text/plain": [
              "<IPython.core.display.Javascript object>"
            ]
          },
          "metadata": {
            "tags": []
          }
        },
        {
          "output_type": "display_data",
          "data": {
            "application/javascript": [
              "download(\"download_fba6fd43-7c22-413a-ab8c-c6dc68efa89b\", \"Per Quantile Loss.pdf\", 13053)"
            ],
            "text/plain": [
              "<IPython.core.display.Javascript object>"
            ]
          },
          "metadata": {
            "tags": []
          }
        },
        {
          "output_type": "display_data",
          "data": {
            "image/png": "[encoded data removed]",
            "text/plain": [
              "<Figure size 1280x960 with 1 Axes>"
            ]
          },
          "metadata": {
            "tags": []
          }
        },
        {
          "output_type": "display_data",
          "data": {
            "image/png": "[encoded data removed]",
            "text/plain": [
              "<Figure size 1280x960 with 1 Axes>"
            ]
          },
          "metadata": {
            "tags": []
          }
        }
      ]
    }
  ]
}