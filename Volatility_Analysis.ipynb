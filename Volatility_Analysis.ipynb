{
  "nbformat": 4,
  "nbformat_minor": 0,
  "metadata": {
    "colab": {
      "name": "Volatility_Analysis.ipynb",
      "provenance": [],
      "authorship_tag": "ABX9TyOanBVCDdDOO3glqP1p29kO",
      "include_colab_link": true
    },
    "kernelspec": {
      "name": "python3",
      "display_name": "Python 3"
    }
  },
  "cells": [
    {
      "cell_type": "markdown",
      "metadata": {
        "id": "view-in-github",
        "colab_type": "text"
      },
      "source": [
        "<a href=\"https://colab.research.google.com/github/Bani-Talebi/Electricity-Price-Value-at-Risk-VaR-/blob/master/Volatility_Analysis.ipynb\" target=\"_parent\"><img src=\"https://colab.research.google.com/assets/colab-badge.svg\" alt=\"Open In Colab\"/></a>"
      ]
    },
    {
      "cell_type": "code",
      "metadata": {
        "colab": {
          "resources": {
            "http://localhost:8080/nbextensions/google.colab/files.js": {
              "data": "Ly8gQ29weXJpZ2h0IDIwMTcgR29vZ2xlIExMQwovLwovLyBMaWNlbnNlZCB1bmRlciB0aGUgQXBhY2hlIExpY2Vuc2UsIFZlcnNpb24gMi4wICh0aGUgIkxpY2Vuc2UiKTsKLy8geW91IG1heSBub3QgdXNlIHRoaXMgZmlsZSBleGNlcHQgaW4gY29tcGxpYW5jZSB3aXRoIHRoZSBMaWNlbnNlLgovLyBZb3UgbWF5IG9idGFpbiBhIGNvcHkgb2YgdGhlIExpY2Vuc2UgYXQKLy8KLy8gICAgICBodHRwOi8vd3d3LmFwYWNoZS5vcmcvbGljZW5zZXMvTElDRU5TRS0yLjAKLy8KLy8gVW5sZXNzIHJlcXVpcmVkIGJ5IGFwcGxpY2FibGUgbGF3IG9yIGFncmVlZCB0byBpbiB3cml0aW5nLCBzb2Z0d2FyZQovLyBkaXN0cmlidXRlZCB1bmRlciB0aGUgTGljZW5zZSBpcyBkaXN0cmlidXRlZCBvbiBhbiAiQVMgSVMiIEJBU0lTLAovLyBXSVRIT1VUIFdBUlJBTlRJRVMgT1IgQ09ORElUSU9OUyBPRiBBTlkgS0lORCwgZWl0aGVyIGV4cHJlc3Mgb3IgaW1wbGllZC4KLy8gU2VlIHRoZSBMaWNlbnNlIGZvciB0aGUgc3BlY2lmaWMgbGFuZ3VhZ2UgZ292ZXJuaW5nIHBlcm1pc3Npb25zIGFuZAovLyBsaW1pdGF0aW9ucyB1bmRlciB0aGUgTGljZW5zZS4KCi8qKgogKiBAZmlsZW92ZXJ2aWV3IEhlbHBlcnMgZm9yIGdvb2dsZS5jb2xhYiBQeXRob24gbW9kdWxlLgogKi8KKGZ1bmN0aW9uKHNjb3BlKSB7CmZ1bmN0aW9uIHNwYW4odGV4dCwgc3R5bGVBdHRyaWJ1dGVzID0ge30pIHsKICBjb25zdCBlbGVtZW50ID0gZG9jdW1lbnQuY3JlYXRlRWxlbWVudCgnc3BhbicpOwogIGVsZW1lbnQudGV4dENvbnRlbnQgPSB0ZXh0OwogIGZvciAoY29uc3Qga2V5IG9mIE9iamVjdC5rZXlzKHN0eWxlQXR0cmlidXRlcykpIHsKICAgIGVsZW1lbnQuc3R5bGVba2V5XSA9IHN0eWxlQXR0cmlidXRlc1trZXldOwogIH0KICByZXR1cm4gZWxlbWVudDsKfQoKLy8gTWF4IG51bWJlciBvZiBieXRlcyB3aGljaCB3aWxsIGJlIHVwbG9hZGVkIGF0IGEgdGltZS4KY29uc3QgTUFYX1BBWUxPQURfU0laRSA9IDEwMCAqIDEwMjQ7CgpmdW5jdGlvbiBfdXBsb2FkRmlsZXMoaW5wdXRJZCwgb3V0cHV0SWQpIHsKICBjb25zdCBzdGVwcyA9IHVwbG9hZEZpbGVzU3RlcChpbnB1dElkLCBvdXRwdXRJZCk7CiAgY29uc3Qgb3V0cHV0RWxlbWVudCA9IGRvY3VtZW50LmdldEVsZW1lbnRCeUlkKG91dHB1dElkKTsKICAvLyBDYWNoZSBzdGVwcyBvbiB0aGUgb3V0cHV0RWxlbWVudCB0byBtYWtlIGl0IGF2YWlsYWJsZSBmb3IgdGhlIG5leHQgY2FsbAogIC8vIHRvIHVwbG9hZEZpbGVzQ29udGludWUgZnJvbSBQeXRob24uCiAgb3V0cHV0RWxlbWVudC5zdGVwcyA9IHN0ZXBzOwoKICByZXR1cm4gX3VwbG9hZEZpbGVzQ29udGludWUob3V0cHV0SWQpOwp9CgovLyBUaGlzIGlzIHJvdWdobHkgYW4gYXN5bmMgZ2VuZXJhdG9yIChub3Qgc3VwcG9ydGVkIGluIHRoZSBicm93c2VyIHlldCksCi8vIHdoZXJlIHRoZXJlIGFyZSBtdWx0aXBsZSBhc3luY2hyb25vdXMgc3RlcHMgYW5kIHRoZSBQeXRob24gc2lkZSBpcyBnb2luZwovLyB0byBwb2xsIGZvciBjb21wbGV0aW9uIG9mIGVhY2ggc3RlcC4KLy8gVGhpcyB1c2VzIGEgUHJvbWlzZSB0byBibG9jayB0aGUgcHl0aG9uIHNpZGUgb24gY29tcGxldGlvbiBvZiBlYWNoIHN0ZXAsCi8vIHRoZW4gcGFzc2VzIHRoZSByZXN1bHQgb2YgdGhlIHByZXZpb3VzIHN0ZXAgYXMgdGhlIGlucHV0IHRvIHRoZSBuZXh0IHN0ZXAuCmZ1bmN0aW9uIF91cGxvYWRGaWxlc0NvbnRpbnVlKG91dHB1dElkKSB7CiAgY29uc3Qgb3V0cHV0RWxlbWVudCA9IGRvY3VtZW50LmdldEVsZW1lbnRCeUlkKG91dHB1dElkKTsKICBjb25zdCBzdGVwcyA9IG91dHB1dEVsZW1lbnQuc3RlcHM7CgogIGNvbnN0IG5leHQgPSBzdGVwcy5uZXh0KG91dHB1dEVsZW1lbnQubGFzdFByb21pc2VWYWx1ZSk7CiAgcmV0dXJuIFByb21pc2UucmVzb2x2ZShuZXh0LnZhbHVlLnByb21pc2UpLnRoZW4oKHZhbHVlKSA9PiB7CiAgICAvLyBDYWNoZSB0aGUgbGFzdCBwcm9taXNlIHZhbHVlIHRvIG1ha2UgaXQgYXZhaWxhYmxlIHRvIHRoZSBuZXh0CiAgICAvLyBzdGVwIG9mIHRoZSBnZW5lcmF0b3IuCiAgICBvdXRwdXRFbGVtZW50Lmxhc3RQcm9taXNlVmFsdWUgPSB2YWx1ZTsKICAgIHJldHVybiBuZXh0LnZhbHVlLnJlc3BvbnNlOwogIH0pOwp9CgovKioKICogR2VuZXJhdG9yIGZ1bmN0aW9uIHdoaWNoIGlzIGNhbGxlZCBiZXR3ZWVuIGVhY2ggYXN5bmMgc3RlcCBvZiB0aGUgdXBsb2FkCiAqIHByb2Nlc3MuCiAqIEBwYXJhbSB7c3RyaW5nfSBpbnB1dElkIEVsZW1lbnQgSUQgb2YgdGhlIGlucHV0IGZpbGUgcGlja2VyIGVsZW1lbnQuCiAqIEBwYXJhbSB7c3RyaW5nfSBvdXRwdXRJZCBFbGVtZW50IElEIG9mIHRoZSBvdXRwdXQgZGlzcGxheS4KICogQHJldHVybiB7IUl0ZXJhYmxlPCFPYmplY3Q+fSBJdGVyYWJsZSBvZiBuZXh0IHN0ZXBzLgogKi8KZnVuY3Rpb24qIHVwbG9hZEZpbGVzU3RlcChpbnB1dElkLCBvdXRwdXRJZCkgewogIGNvbnN0IGlucHV0RWxlbWVudCA9IGRvY3VtZW50LmdldEVsZW1lbnRCeUlkKGlucHV0SWQpOwogIGlucHV0RWxlbWVudC5kaXNhYmxlZCA9IGZhbHNlOwoKICBjb25zdCBvdXRwdXRFbGVtZW50ID0gZG9jdW1lbnQuZ2V0RWxlbWVudEJ5SWQob3V0cHV0SWQpOwogIG91dHB1dEVsZW1lbnQuaW5uZXJIVE1MID0gJyc7CgogIGNvbnN0IHBpY2tlZFByb21pc2UgPSBuZXcgUHJvbWlzZSgocmVzb2x2ZSkgPT4gewogICAgaW5wdXRFbGVtZW50LmFkZEV2ZW50TGlzdGVuZXIoJ2NoYW5nZScsIChlKSA9PiB7CiAgICAgIHJlc29sdmUoZS50YXJnZXQuZmlsZXMpOwogICAgfSk7CiAgfSk7CgogIGNvbnN0IGNhbmNlbCA9IGRvY3VtZW50LmNyZWF0ZUVsZW1lbnQoJ2J1dHRvbicpOwogIGlucHV0RWxlbWVudC5wYXJlbnRFbGVtZW50LmFwcGVuZENoaWxkKGNhbmNlbCk7CiAgY2FuY2VsLnRleHRDb250ZW50ID0gJ0NhbmNlbCB1cGxvYWQnOwogIGNvbnN0IGNhbmNlbFByb21pc2UgPSBuZXcgUHJvbWlzZSgocmVzb2x2ZSkgPT4gewogICAgY2FuY2VsLm9uY2xpY2sgPSAoKSA9PiB7CiAgICAgIHJlc29sdmUobnVsbCk7CiAgICB9OwogIH0pOwoKICAvLyBXYWl0IGZvciB0aGUgdXNlciB0byBwaWNrIHRoZSBmaWxlcy4KICBjb25zdCBmaWxlcyA9IHlpZWxkIHsKICAgIHByb21pc2U6IFByb21pc2UucmFjZShbcGlja2VkUHJvbWlzZSwgY2FuY2VsUHJvbWlzZV0pLAogICAgcmVzcG9uc2U6IHsKICAgICAgYWN0aW9uOiAnc3RhcnRpbmcnLAogICAgfQogIH07CgogIGNhbmNlbC5yZW1vdmUoKTsKCiAgLy8gRGlzYWJsZSB0aGUgaW5wdXQgZWxlbWVudCBzaW5jZSBmdXJ0aGVyIHBpY2tzIGFyZSBub3QgYWxsb3dlZC4KICBpbnB1dEVsZW1lbnQuZGlzYWJsZWQgPSB0cnVlOwoKICBpZiAoIWZpbGVzKSB7CiAgICByZXR1cm4gewogICAgICByZXNwb25zZTogewogICAgICAgIGFjdGlvbjogJ2NvbXBsZXRlJywKICAgICAgfQogICAgfTsKICB9CgogIGZvciAoY29uc3QgZmlsZSBvZiBmaWxlcykgewogICAgY29uc3QgbGkgPSBkb2N1bWVudC5jcmVhdGVFbGVtZW50KCdsaScpOwogICAgbGkuYXBwZW5kKHNwYW4oZmlsZS5uYW1lLCB7Zm9udFdlaWdodDogJ2JvbGQnfSkpOwogICAgbGkuYXBwZW5kKHNwYW4oCiAgICAgICAgYCgke2ZpbGUudHlwZSB8fCAnbi9hJ30pIC0gJHtmaWxlLnNpemV9IGJ5dGVzLCBgICsKICAgICAgICBgbGFzdCBtb2RpZmllZDogJHsKICAgICAgICAgICAgZmlsZS5sYXN0TW9kaWZpZWREYXRlID8gZmlsZS5sYXN0TW9kaWZpZWREYXRlLnRvTG9jYWxlRGF0ZVN0cmluZygpIDoKICAgICAgICAgICAgICAgICAgICAgICAgICAgICAgICAgICAgJ24vYSd9IC0gYCkpOwogICAgY29uc3QgcGVyY2VudCA9IHNwYW4oJzAlIGRvbmUnKTsKICAgIGxpLmFwcGVuZENoaWxkKHBlcmNlbnQpOwoKICAgIG91dHB1dEVsZW1lbnQuYXBwZW5kQ2hpbGQobGkpOwoKICAgIGNvbnN0IGZpbGVEYXRhUHJvbWlzZSA9IG5ldyBQcm9taXNlKChyZXNvbHZlKSA9PiB7CiAgICAgIGNvbnN0IHJlYWRlciA9IG5ldyBGaWxlUmVhZGVyKCk7CiAgICAgIHJlYWRlci5vbmxvYWQgPSAoZSkgPT4gewogICAgICAgIHJlc29sdmUoZS50YXJnZXQucmVzdWx0KTsKICAgICAgfTsKICAgICAgcmVhZGVyLnJlYWRBc0FycmF5QnVmZmVyKGZpbGUpOwogICAgfSk7CiAgICAvLyBXYWl0IGZvciB0aGUgZGF0YSB0byBiZSByZWFkeS4KICAgIGxldCBmaWxlRGF0YSA9IHlpZWxkIHsKICAgICAgcHJvbWlzZTogZmlsZURhdGFQcm9taXNlLAogICAgICByZXNwb25zZTogewogICAgICAgIGFjdGlvbjogJ2NvbnRpbnVlJywKICAgICAgfQogICAgfTsKCiAgICAvLyBVc2UgYSBjaHVua2VkIHNlbmRpbmcgdG8gYXZvaWQgbWVzc2FnZSBzaXplIGxpbWl0cy4gU2VlIGIvNjIxMTU2NjAuCiAgICBsZXQgcG9zaXRpb24gPSAwOwogICAgd2hpbGUgKHBvc2l0aW9uIDwgZmlsZURhdGEuYnl0ZUxlbmd0aCkgewogICAgICBjb25zdCBsZW5ndGggPSBNYXRoLm1pbihmaWxlRGF0YS5ieXRlTGVuZ3RoIC0gcG9zaXRpb24sIE1BWF9QQVlMT0FEX1NJWkUpOwogICAgICBjb25zdCBjaHVuayA9IG5ldyBVaW50OEFycmF5KGZpbGVEYXRhLCBwb3NpdGlvbiwgbGVuZ3RoKTsKICAgICAgcG9zaXRpb24gKz0gbGVuZ3RoOwoKICAgICAgY29uc3QgYmFzZTY0ID0gYnRvYShTdHJpbmcuZnJvbUNoYXJDb2RlLmFwcGx5KG51bGwsIGNodW5rKSk7CiAgICAgIHlpZWxkIHsKICAgICAgICByZXNwb25zZTogewogICAgICAgICAgYWN0aW9uOiAnYXBwZW5kJywKICAgICAgICAgIGZpbGU6IGZpbGUubmFtZSwKICAgICAgICAgIGRhdGE6IGJhc2U2NCwKICAgICAgICB9LAogICAgICB9OwogICAgICBwZXJjZW50LnRleHRDb250ZW50ID0KICAgICAgICAgIGAke01hdGgucm91bmQoKHBvc2l0aW9uIC8gZmlsZURhdGEuYnl0ZUxlbmd0aCkgKiAxMDApfSUgZG9uZWA7CiAgICB9CiAgfQoKICAvLyBBbGwgZG9uZS4KICB5aWVsZCB7CiAgICByZXNwb25zZTogewogICAgICBhY3Rpb246ICdjb21wbGV0ZScsCiAgICB9CiAgfTsKfQoKc2NvcGUuZ29vZ2xlID0gc2NvcGUuZ29vZ2xlIHx8IHt9OwpzY29wZS5nb29nbGUuY29sYWIgPSBzY29wZS5nb29nbGUuY29sYWIgfHwge307CnNjb3BlLmdvb2dsZS5jb2xhYi5fZmlsZXMgPSB7CiAgX3VwbG9hZEZpbGVzLAogIF91cGxvYWRGaWxlc0NvbnRpbnVlLAp9Owp9KShzZWxmKTsK",
              "ok": true,
              "headers": [
                [
                  "content-type",
                  "application/javascript"
                ]
              ],
              "status": 200,
              "status_text": ""
            }
          },
          "base_uri": "https://localhost:8080/",
          "height": 72
        },
        "id": "NvXR0ft7WLaS",
        "outputId": "882b0794-1293-48ed-da08-78dadc953dd0"
      },
      "source": [
        "from google.colab import files\n",
        "import pandas as pd\n",
        "import numpy as np\n",
        "import matplotlib.pyplot as plt\n",
        "\n",
        "up=files.upload()\n",
        "\n"
      ],
      "execution_count": null,
      "outputs": [
        {
          "output_type": "display_data",
          "data": {
            "text/html": [
              "\n",
              "     <input type=\"file\" id=\"files-b3b5cc02-e2d6-4da6-a557-8a471521a835\" name=\"files[]\" multiple disabled\n",
              "        style=\"border:none\" />\n",
              "     <output id=\"result-b3b5cc02-e2d6-4da6-a557-8a471521a835\">\n",
              "      Upload widget is only available when the cell has been executed in the\n",
              "      current browser session. Please rerun this cell to enable.\n",
              "      </output>\n",
              "      <script src=\"/nbextensions/google.colab/files.js\"></script> "
            ],
            "text/plain": [
              "<IPython.core.display.HTML object>"
            ]
          },
          "metadata": {
            "tags": []
          }
        },
        {
          "output_type": "stream",
          "text": [
            "Saving Markets.csv to Markets.csv\n"
          ],
          "name": "stdout"
        }
      ]
    },
    {
      "cell_type": "code",
      "metadata": {
        "colab": {
          "base_uri": "https://localhost:8080/",
          "height": 419
        },
        "id": "6oqCpFgKXIeT",
        "outputId": "88238df7-7efc-4fa8-af19-48b830d726c9"
      },
      "source": [
        "df=pd.read_csv('Markets.csv')\n",
        "df.index=pd.date_range(start='2019-01-01',periods=len(df),freq='H')\n",
        "df.drop(columns=['Date','Hour'],inplace=True)\n",
        "df=df.iloc[:-1]\n",
        "df"
      ],
      "execution_count": null,
      "outputs": [
        {
          "output_type": "execute_result",
          "data": {
            "text/html": [
              "<div>\n",
              "<style scoped>\n",
              "    .dataframe tbody tr th:only-of-type {\n",
              "        vertical-align: middle;\n",
              "    }\n",
              "\n",
              "    .dataframe tbody tr th {\n",
              "        vertical-align: top;\n",
              "    }\n",
              "\n",
              "    .dataframe thead th {\n",
              "        text-align: right;\n",
              "    }\n",
              "</style>\n",
              "<table border=\"1\" class=\"dataframe\">\n",
              "  <thead>\n",
              "    <tr style=\"text-align: right;\">\n",
              "      <th></th>\n",
              "      <th>Ontario</th>\n",
              "      <th>PJM</th>\n",
              "      <th>Nord</th>\n",
              "    </tr>\n",
              "  </thead>\n",
              "  <tbody>\n",
              "    <tr>\n",
              "      <th>2019-01-01 00:00:00</th>\n",
              "      <td>0.00</td>\n",
              "      <td>18.98</td>\n",
              "      <td>44.55</td>\n",
              "    </tr>\n",
              "    <tr>\n",
              "      <th>2019-01-01 01:00:00</th>\n",
              "      <td>0.00</td>\n",
              "      <td>18.81</td>\n",
              "      <td>44.07</td>\n",
              "    </tr>\n",
              "    <tr>\n",
              "      <th>2019-01-01 02:00:00</th>\n",
              "      <td>-0.11</td>\n",
              "      <td>18.59</td>\n",
              "      <td>41.12</td>\n",
              "    </tr>\n",
              "    <tr>\n",
              "      <th>2019-01-01 03:00:00</th>\n",
              "      <td>-1.84</td>\n",
              "      <td>18.42</td>\n",
              "      <td>38.88</td>\n",
              "    </tr>\n",
              "    <tr>\n",
              "      <th>2019-01-01 04:00:00</th>\n",
              "      <td>-0.47</td>\n",
              "      <td>18.58</td>\n",
              "      <td>35.70</td>\n",
              "    </tr>\n",
              "    <tr>\n",
              "      <th>...</th>\n",
              "      <td>...</td>\n",
              "      <td>...</td>\n",
              "      <td>...</td>\n",
              "    </tr>\n",
              "    <tr>\n",
              "      <th>2019-12-31 19:00:00</th>\n",
              "      <td>0.00</td>\n",
              "      <td>25.24</td>\n",
              "      <td>34.78</td>\n",
              "    </tr>\n",
              "    <tr>\n",
              "      <th>2019-12-31 20:00:00</th>\n",
              "      <td>0.00</td>\n",
              "      <td>23.20</td>\n",
              "      <td>33.30</td>\n",
              "    </tr>\n",
              "    <tr>\n",
              "      <th>2019-12-31 21:00:00</th>\n",
              "      <td>-0.05</td>\n",
              "      <td>21.32</td>\n",
              "      <td>32.30</td>\n",
              "    </tr>\n",
              "    <tr>\n",
              "      <th>2019-12-31 22:00:00</th>\n",
              "      <td>-0.04</td>\n",
              "      <td>19.21</td>\n",
              "      <td>32.17</td>\n",
              "    </tr>\n",
              "    <tr>\n",
              "      <th>2019-12-31 23:00:00</th>\n",
              "      <td>-0.02</td>\n",
              "      <td>18.63</td>\n",
              "      <td>32.08</td>\n",
              "    </tr>\n",
              "  </tbody>\n",
              "</table>\n",
              "<p>8760 rows × 3 columns</p>\n",
              "</div>"
            ],
            "text/plain": [
              "                     Ontario    PJM   Nord\n",
              "2019-01-01 00:00:00     0.00  18.98  44.55\n",
              "2019-01-01 01:00:00     0.00  18.81  44.07\n",
              "2019-01-01 02:00:00    -0.11  18.59  41.12\n",
              "2019-01-01 03:00:00    -1.84  18.42  38.88\n",
              "2019-01-01 04:00:00    -0.47  18.58  35.70\n",
              "...                      ...    ...    ...\n",
              "2019-12-31 19:00:00     0.00  25.24  34.78\n",
              "2019-12-31 20:00:00     0.00  23.20  33.30\n",
              "2019-12-31 21:00:00    -0.05  21.32  32.30\n",
              "2019-12-31 22:00:00    -0.04  19.21  32.17\n",
              "2019-12-31 23:00:00    -0.02  18.63  32.08\n",
              "\n",
              "[8760 rows x 3 columns]"
            ]
          },
          "metadata": {
            "tags": []
          },
          "execution_count": 2
        }
      ]
    },
    {
      "cell_type": "code",
      "metadata": {
        "id": "RhwmceleD0nm"
      },
      "source": [
        "Y=df['Ontario'].values.reshape(365,24)\n",
        "Vol_Ontario=np.zeros(24)\n",
        "for i in range(24):\n",
        "  p=Y[:,i]\n",
        "  r=p[1:]-p[:-1]\n",
        "  r_bar=r.mean()\n",
        "  x1=r-r_bar\n",
        "  x2=np.sign(x1)\n",
        "  rho=np.corrcoef(x1,x2)[0,1]\n",
        "  s=np.abs(x1)/rho\n",
        "  Vol_Ontario[i]=s.mean()\n",
        "Y=df['PJM'].values.reshape(365,24)\n",
        "Vol_PJM=np.zeros(24)\n",
        "for i in range(24):\n",
        "  p=Y[:,i]\n",
        "  r=p[1:]-p[:-1]\n",
        "  r_bar=r.mean()\n",
        "  x1=r-r_bar\n",
        "  x2=np.sign(x1)\n",
        "  rho=np.corrcoef(x1,x2)[0,1]\n",
        "  s=np.abs(x1)/rho\n",
        "  Vol_PJM[i]=s.mean()\n",
        "\n",
        "Y=df['Nord'].values.reshape(365,24)\n",
        "Vol_Nord=np.zeros(24)\n",
        "for i in range(24):\n",
        "  p=Y[:,i]\n",
        "  r=p[1:]-p[:-1]\n",
        "  r_bar=r.mean()\n",
        "  x1=r-r_bar\n",
        "  x2=np.sign(x1)\n",
        "  rho=np.corrcoef(x1,x2)[0,1]\n",
        "  s=np.abs(x1)/rho\n",
        "  Vol_Nord[i]=s.mean()"
      ],
      "execution_count": null,
      "outputs": []
    },
    {
      "cell_type": "code",
      "metadata": {
        "colab": {
          "base_uri": "https://localhost:8080/",
          "height": 239
        },
        "id": "3EpThBObPaO5",
        "outputId": "048973a9-de03-42c5-ea74-cfe27e82772d"
      },
      "source": [
        "\n",
        "\n",
        "x=np.arange(0,24)\n",
        "plt.figure(figsize=(3.5,2.8))\n",
        "plt.rcParams['font.family']='STIXGeneral'\n",
        "plt.rcParams['font.size']=8\n",
        "plt.rcParams['figure.autolayout']=True\n",
        "plt.rcParams['axes.titlesize']=8\n",
        "plt.rcParams['axes.labelsize']=8\n",
        "plt.rcParams['lines.linewidth']=1\n",
        "plt.rcParams['lines.markersize']=2\n",
        "plt.rcParams['legend.fontsize']=8\n",
        "plt.rcParams['mathtext.fontset']='stix'\n",
        "plt.rcParams['mathtext.fontset']='custom'\n",
        "plt.rcParams['legend.numpoints']=1\n",
        "\n",
        "plt.step(x, Vol_Ontario, where='mid', label='Ontario',ls='-',marker='s')\n",
        "#plt.plot(x, Vol_Ontario, ls='steps',color='red' ,label='Ontario')\n",
        "\n",
        "plt.step(x, Vol_PJM, where='mid', label='PJM',color='black',ls='-',marker='>')\n",
        "#plt.plot(x, Vol_PJM, '>--', color='red', alpha=0.3)\n",
        "\n",
        "plt.step(x, Vol_Nord, where='mid', label='Nord Pool',color='red',ls=':',marker='+')\n",
        "#plt.plot(x, Vol_Nord, '>--', color='red', alpha=0.3)\n",
        "\n",
        "plt.grid(axis='x', color='0.85')\n",
        "plt.legend(title='Electricity Markets')\n",
        "plt.title('Hourly Average Volatility of Electricity Return')\n",
        "plt.xlabel('Hour')\n",
        "plt.ylabel('Volatility')\n",
        "#plt.savefig('Volatility.pdf',dpi=300)\n",
        "#files.download('Volatility.pdf')"
      ],
      "execution_count": null,
      "outputs": [
        {
          "output_type": "execute_result",
          "data": {
            "text/plain": [
              "Text(0, 0.5, 'Volatility')"
            ]
          },
          "metadata": {
            "tags": []
          },
          "execution_count": 4
        },
        {
          "output_type": "display_data",
          "data": {
            "image/png": "[encoded data removed]",
            "text/plain": [
              "<Figure size 252x201.6 with 1 Axes>"
            ]
          },
          "metadata": {
            "tags": [],
            "needs_background": "light"
          }
        }
      ]
    },
    {
      "cell_type": "code",
      "metadata": {
        "colab": {
          "base_uri": "https://localhost:8080/",
          "height": 215
        },
        "id": "0dCVsFXG0TP0",
        "outputId": "b7de74ff-43e9-41c1-9de5-d44bac213238"
      },
      "source": [
        "import seaborn as sns\n",
        "sns.set_style('white')\n",
        "plt.rcParams['font.family']='STIXGeneral'\n",
        "plt.rcParams['font.size']=8\n",
        "plt.rcParams['figure.autolayout']=True\n",
        "plt.rcParams['axes.titlesize']=8\n",
        "plt.rcParams['axes.labelsize']=8\n",
        "plt.rcParams['lines.linewidth']=1\n",
        "plt.rcParams['lines.markersize']=2\n",
        "plt.rcParams['legend.fontsize']=8\n",
        "plt.rcParams['mathtext.fontset']='stix'\n",
        "plt.rcParams['mathtext.fontset']='custom'\n",
        "plt.rcParams['legend.numpoints']=1\n",
        "hour=np.arange(0,24)\n",
        "Vol_DF=pd.DataFrame({'Hour':hour,'Ontario':Vol_Ontario,'PJM':Vol_PJM,'Nord Pool':Vol_Nord})\n",
        "Vol_DF.index=Vol_DF.Hour\n",
        "Vol_DF.drop(columns='Hour',inplace=True)\n",
        "Vol_DF.plot.bar(color={'Ontario':'blue','PJM':'red','Nord Pool':'green'},figsize=(3.5,2.8),width=0.9)\n",
        "plt.ylabel('Volatility')\n",
        "plt.title('Hourly Average Volatility of Electricity Prices')\n",
        "plt.savefig('Volatility.png',dpi=300)\n",
        "files.download('Volatility.png')"
      ],
      "execution_count": null,
      "outputs": [
        {
          "output_type": "display_data",
          "data": {
            "application/javascript": [
              "\n",
              "    async function download(id, filename, size) {\n",
              "      if (!google.colab.kernel.accessAllowed) {\n",
              "        return;\n",
              "      }\n",
              "      const div = document.createElement('div');\n",
              "      const label = document.createElement('label');\n",
              "      label.textContent = `Downloading \"${filename}\": `;\n",
              "      div.appendChild(label);\n",
              "      const progress = document.createElement('progress');\n",
              "      progress.max = size;\n",
              "      div.appendChild(progress);\n",
              "      document.body.appendChild(div);\n",
              "\n",
              "      const buffers = [];\n",
              "      let downloaded = 0;\n",
              "\n",
              "      const channel = await google.colab.kernel.comms.open(id);\n",
              "      // Send a message to notify the kernel that we're ready.\n",
              "      channel.send({})\n",
              "\n",
              "      for await (const message of channel.messages) {\n",
              "        // Send a message to notify the kernel that we're ready.\n",
              "        channel.send({})\n",
              "        if (message.buffers) {\n",
              "          for (const buffer of message.buffers) {\n",
              "            buffers.push(buffer);\n",
              "            downloaded += buffer.byteLength;\n",
              "            progress.value = downloaded;\n",
              "          }\n",
              "        }\n",
              "      }\n",
              "      const blob = new Blob(buffers, {type: 'application/binary'});\n",
              "      const a = document.createElement('a');\n",
              "      a.href = window.URL.createObjectURL(blob);\n",
              "      a.download = filename;\n",
              "      div.appendChild(a);\n",
              "      a.click();\n",
              "      div.remove();\n",
              "    }\n",
              "  "
            ],
            "text/plain": [
              "<IPython.core.display.Javascript object>"
            ]
          },
          "metadata": {
            "tags": []
          }
        },
        {
          "output_type": "display_data",
          "data": {
            "application/javascript": [
              "download(\"download_826c9000-d32a-41da-acdf-717e033bb275\", \"Volatility.png\", 57387)"
            ],
            "text/plain": [
              "<IPython.core.display.Javascript object>"
            ]
          },
          "metadata": {
            "tags": []
          }
        },
        {
          "output_type": "display_data",
          "data": {
            "image/png": "[encoded data removed]",
            "text/plain": [
              "<Figure size 252x201.6 with 1 Axes>"
            ]
          },
          "metadata": {
            "tags": []
          }
        }
      ]
    },
    {
      "cell_type": "code",
      "metadata": {
        "colab": {
          "base_uri": "https://localhost:8080/",
          "height": 35
        },
        "id": "83OJ935_PSyU",
        "outputId": "c5529e6d-0189-447a-f00b-e313a6a93f65"
      },
      "source": [
        "import matplotlib\n",
        "matplotlib.get_backend()"
      ],
      "execution_count": null,
      "outputs": [
        {
          "output_type": "execute_result",
          "data": {
            "application/vnd.google.colaboratory.intrinsic+json": {
              "type": "string"
            },
            "text/plain": [
              "'module://ipykernel.pylab.backend_inline'"
            ]
          },
          "metadata": {
            "tags": []
          },
          "execution_count": 42
        }
      ]
    },
    {
      "cell_type": "code",
      "metadata": {
        "id": "AcSvSo4dhGeb"
      },
      "source": [
        "Vol=np.zeros([52,24])\n",
        "R=np.zeros([6,24])\n",
        "for w in range(52):\n",
        "  W=df['Ontario'].iloc[w*168:(w+1)*168].values\n",
        "  W=W.reshape(7,24)\n",
        "  for i in range(6):\n",
        "    R[i,:]=W[i+1,:]-W[i,:]\n",
        "  for j in range(24):\n",
        "    Vol[w,j]=R[:,j].std()\n",
        "sigma_Ontario=np.zeros(24)\n",
        "for l in range(len(sigma_Ontario)):\n",
        "  sigma_Ontario[l]=Vol[:,l].mean()\n",
        "\n",
        "for w in range(52):\n",
        "  W=df['PJM'].iloc[w*168:(w+1)*168].values\n",
        "  W=W.reshape(7,24)\n",
        "  for i in range(6):\n",
        "    R[i,:]=W[i+1,:]-W[i,:]\n",
        "  for j in range(24):\n",
        "    Vol[w,j]=R[:,j].std()\n",
        "sigma_PJM=np.zeros(24)\n",
        "for l in range(len(sigma_PJM)):\n",
        "  sigma_PJM[l]=Vol[:,l].mean()"
      ],
      "execution_count": null,
      "outputs": []
    },
    {
      "cell_type": "code",
      "metadata": {
        "colab": {
          "base_uri": "https://localhost:8080/",
          "height": 298
        },
        "id": "aglELjrijKNd",
        "outputId": "816742b9-d419-4af9-dbab-035ba0893ce0"
      },
      "source": [
        "x=np.arange(0,24)\n",
        "\n",
        "plt.step(x, sigma_Ontario, where='mid', label='Ontario Market')\n",
        "plt.plot(x, sigma_Ontario, 'o--', color='grey', alpha=0.3)\n",
        "\n",
        "plt.step(x, sigma_PJM, where='mid', label='AEMO Market')\n",
        "plt.plot(x, sigma_PJM, 'o--', color='grey', alpha=0.3)\n",
        "\n",
        "plt.grid(axis='x', color='0.85')\n",
        "plt.legend(title='Electricity Markets')\n",
        "plt.title('Hourly Average Volatility of Electricity Return')"
      ],
      "execution_count": null,
      "outputs": [
        {
          "output_type": "execute_result",
          "data": {
            "text/plain": [
              "Text(0.5, 1.0, 'Hourly Average Volatility of Electricity Return')"
            ]
          },
          "metadata": {
            "tags": []
          },
          "execution_count": 16
        },
        {
          "output_type": "display_data",
          "data": {
            "image/png": "[encoded data removed]",
            "text/plain": [
              "<Figure size 432x288 with 1 Axes>"
            ]
          },
          "metadata": {
            "tags": [],
            "needs_background": "light"
          }
        }
      ]
    }
  ]
}